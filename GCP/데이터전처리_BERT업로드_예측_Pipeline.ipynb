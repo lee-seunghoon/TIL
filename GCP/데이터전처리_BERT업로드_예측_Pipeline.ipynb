{
  "nbformat": 4,
  "nbformat_minor": 0,
  "metadata": {
    "colab": {
      "name": "220308_데이터전처리_BERT업로드.ipynb",
      "provenance": [],
      "collapsed_sections": []
    },
    "kernelspec": {
      "name": "python3",
      "display_name": "Python 3"
    },
    "language_info": {
      "name": "python"
    },
    "accelerator": "TPU"
  },
  "cells": [
    {
      "cell_type": "markdown",
      "source": [
        "# 필요 모듈 및 라이브러리 설치"
      ],
      "metadata": {
        "id": "MuH3dDUVO3_M"
      }
    },
    {
      "cell_type": "code",
      "execution_count": null,
      "metadata": {
        "colab": {
          "base_uri": "https://localhost:8080/",
          "height": 292
        },
        "id": "8OoOkopzO0Y9",
        "outputId": "1ab179fe-83fe-4576-cd0e-6978e81ab335"
      },
      "outputs": [
        {
          "output_type": "stream",
          "name": "stdout",
          "text": [
            "Selecting previously unselected package google-drive-ocamlfuse.\n",
            "(Reading database ... 155332 files and directories currently installed.)\n",
            "Preparing to unpack .../google-drive-ocamlfuse_0.7.27-0ubuntu1~ubuntu18.04.1_amd64.deb ...\n",
            "Unpacking google-drive-ocamlfuse (0.7.27-0ubuntu1~ubuntu18.04.1) ...\n",
            "Setting up google-drive-ocamlfuse (0.7.27-0ubuntu1~ubuntu18.04.1) ...\n",
            "Processing triggers for man-db (2.8.3-2ubuntu0.1) ...\n",
            "Collecting sentencepiece\n",
            "  Downloading sentencepiece-0.1.96-cp37-cp37m-manylinux_2_17_x86_64.manylinux2014_x86_64.whl (1.2 MB)\n",
            "\u001b[K     |████████████████████████████████| 1.2 MB 5.5 MB/s \n",
            "\u001b[?25hInstalling collected packages: sentencepiece\n",
            "Successfully installed sentencepiece-0.1.96\n",
            "Requirement already satisfied: nltk in /usr/local/lib/python3.7/dist-packages (3.2.5)\n",
            "Requirement already satisfied: six in /usr/local/lib/python3.7/dist-packages (from nltk) (1.15.0)\n",
            "TensorFlow 1.x selected.\n"
          ]
        },
        {
          "output_type": "execute_result",
          "data": {
            "application/vnd.google.colaboratory.intrinsic+json": {
              "type": "string"
            },
            "text/plain": [
              "'1.15.2'"
            ]
          },
          "metadata": {},
          "execution_count": 1
        }
      ],
      "source": [
        "!add-apt-repository -y ppa:alessandro-strada/ppa 2>&1 > /dev/null\n",
        "!apt-get update -qq 2>&1 > /dev/null\n",
        "!apt-get -y install -qq google-drive-ocamlfuse fuse\n",
        "\n",
        "!pip install sentencepiece\n",
        "!pip install nltk\n",
        "\n",
        "%tensorflow_version 1.x\n",
        "\n",
        "import datetime\n",
        "import json\n",
        "import os\n",
        "import pprint\n",
        "import random\n",
        "import string\n",
        "import sys\n",
        "import tensorflow as tf\n",
        "import logging\n",
        "from tensorflow.saved_model import tag_constants\n",
        "import base64\n",
        "import json\n",
        "\n",
        "tf.__version__"
      ]
    },
    {
      "cell_type": "code",
      "source": [
        "# bert 모델 다운\n",
        "# !git clone https://github.com/google-research/bert /content/Gdrive/bert_files/bert_model\n",
        "# !git clone https://github.com/google-research/bert\n",
        "sys.path.append('bert_model')"
      ],
      "metadata": {
        "id": "ksj1KbODO5P1"
      },
      "execution_count": 13,
      "outputs": []
    },
    {
      "cell_type": "code",
      "source": [
        "# 환경변수에 bert 모델 등록돼 있는지 확인\n",
        "'bert_model' in sys.path"
      ],
      "metadata": {
        "colab": {
          "base_uri": "https://localhost:8080/"
        },
        "id": "3uBxPBzDiHKE",
        "outputId": "27fbb9c8-6e92-46af-8e7e-2099e776f41e"
      },
      "execution_count": 61,
      "outputs": [
        {
          "output_type": "execute_result",
          "data": {
            "text/plain": [
              "True"
            ]
          },
          "metadata": {},
          "execution_count": 61
        }
      ]
    },
    {
      "cell_type": "markdown",
      "source": [
        "# Google Drive와 GCP 연동"
      ],
      "metadata": {
        "id": "EF0d-1eePD99"
      }
    },
    {
      "cell_type": "code",
      "source": [
        "from google.colab import auth\n",
        "auth.authenticate_user()\n",
        "\n",
        "from oauth2client.client import GoogleCredentials\n",
        "creds = GoogleCredentials.get_application_default()\n",
        "\n",
        "import getpass\n",
        "!google-drive-ocamlfuse -headless -id={creds.client_id} -secret={creds.client_secret} < /dev/null 2>&1 | grep URL\n",
        "vcode = getpass.getpass()\n",
        "\n",
        "!echo {vcode} | google-drive-ocamlfuse -headless -id={creds.client_id} -secret={creds.client_secret}"
      ],
      "metadata": {
        "colab": {
          "base_uri": "https://localhost:8080/"
        },
        "id": "8yyTgOjBPDh9",
        "outputId": "5df8e56d-1f5f-4cd6-de05-1472431172d7"
      },
      "execution_count": null,
      "outputs": [
        {
          "output_type": "stream",
          "name": "stdout",
          "text": [
            "WARNING:tensorflow:\n",
            "The TensorFlow contrib module will not be included in TensorFlow 2.0.\n",
            "For more information, please see:\n",
            "  * https://github.com/tensorflow/community/blob/master/rfcs/20180907-contrib-sunset.md\n",
            "  * https://github.com/tensorflow/addons\n",
            "  * https://github.com/tensorflow/io (for I/O related ops)\n",
            "If you depend on functionality not listed there, please file an issue.\n",
            "\n",
            "Please, open the following URL in a web browser: https://accounts.google.com/o/oauth2/auth?client_id=32555940559.apps.googleusercontent.com&redirect_uri=urn%3Aietf%3Awg%3Aoauth%3A2.0%3Aoob&scope=https%3A%2F%2Fwww.googleapis.com%2Fauth%2Fdrive&response_type=code&access_type=offline&approval_prompt=force\n",
            "··········\n",
            "Please, open the following URL in a web browser: https://accounts.google.com/o/oauth2/auth?client_id=32555940559.apps.googleusercontent.com&redirect_uri=urn%3Aietf%3Awg%3Aoauth%3A2.0%3Aoob&scope=https%3A%2F%2Fwww.googleapis.com%2Fauth%2Fdrive&response_type=code&access_type=offline&approval_prompt=force\n",
            "Please enter the verification code: Access token retrieved correctly.\n"
          ]
        }
      ]
    },
    {
      "cell_type": "code",
      "source": [
        "# Gdrive 폴더 만들기\n",
        "!mkdir -p Gdrive\n",
        "\n",
        "# google drvie와 colab 연동시키기\n",
        "!google-drive-ocamlfuse Gdrive -o nonempty\n",
        "\n",
        "# 파일 리스트 확인\n",
        "!ls"
      ],
      "metadata": {
        "colab": {
          "base_uri": "https://localhost:8080/"
        },
        "id": "rp7cnbl_PHRy",
        "outputId": "e07a7d63-d599-4847-ad0e-dbbeea755e36"
      },
      "execution_count": null,
      "outputs": [
        {
          "output_type": "stream",
          "name": "stdout",
          "text": [
            "adc.json  Gdrive  sample_data\n"
          ]
        }
      ]
    },
    {
      "cell_type": "markdown",
      "source": [
        "# TPU Address 확인"
      ],
      "metadata": {
        "id": "LuuXmkujPSPq"
      }
    },
    {
      "cell_type": "code",
      "source": [
        "# 현재 colab 런타임 환경이 TPU로 세팅돼 있는지 확인\n",
        "assert 'COLAB_TPU_ADDR' in os.environ, 'ERROR: Not connected to a TPU runtime; please see the first cell in this notebook for instructions!'\n",
        "\n",
        "# TPU 주소 추출\n",
        "TPU_ADDRESS = 'grpc://'+os.environ['COLAB_TPU_ADDR']\n",
        "print('TPU address is', TPU_ADDRESS)\n",
        "\n",
        "# 코랩의 인증 모듈로 할당된 TPU 모델 확인하기\n",
        "from google.colab import auth\n",
        "auth.authenticate_user()\n",
        "\n",
        "with tf.Session(TPU_ADDRESS) as session:\n",
        "    print('TPU devices:')\n",
        "    pprint.pprint(session.list_devices())\n",
        "\n",
        "    # TPU에 credentials 정보 저장하기\n",
        "    with open('/content/adc.json', 'r') as f :\n",
        "        auth_info = json.load(f)\n",
        "    \n",
        "    # google cloud storage(bucket)에 현재 TPU와 인증 정보 설정하기\n",
        "    # 이 세팅을 해야 gcp bucket과 연동 가능\n",
        "    tf.contrib.cloud.configure_gcs(session, credentials=auth_info)"
      ],
      "metadata": {
        "colab": {
          "base_uri": "https://localhost:8080/"
        },
        "id": "1WPFp7dzPRpU",
        "outputId": "bc5967ee-8981-48cf-d1e6-2bcb4d3b1d00"
      },
      "execution_count": 32,
      "outputs": [
        {
          "output_type": "stream",
          "name": "stdout",
          "text": [
            "TPU address is grpc://10.37.12.98:8470\n",
            "TPU devices:\n",
            "[_DeviceAttributes(/job:tpu_worker/replica:0/task:0/device:CPU:0, CPU, -1, 1393923288021924419),\n",
            " _DeviceAttributes(/job:tpu_worker/replica:0/task:0/device:XLA_CPU:0, XLA_CPU, 17179869184, 8776013666702480619),\n",
            " _DeviceAttributes(/job:tpu_worker/replica:0/task:0/device:TPU:0, TPU, 17179869184, 6578782341962919004),\n",
            " _DeviceAttributes(/job:tpu_worker/replica:0/task:0/device:TPU:1, TPU, 17179869184, 1067138041544584425),\n",
            " _DeviceAttributes(/job:tpu_worker/replica:0/task:0/device:TPU:2, TPU, 17179869184, 10419007226085709134),\n",
            " _DeviceAttributes(/job:tpu_worker/replica:0/task:0/device:TPU:3, TPU, 17179869184, 2478460990524212225),\n",
            " _DeviceAttributes(/job:tpu_worker/replica:0/task:0/device:TPU:4, TPU, 17179869184, 6368481881512452367),\n",
            " _DeviceAttributes(/job:tpu_worker/replica:0/task:0/device:TPU:5, TPU, 17179869184, 15861108127096795405),\n",
            " _DeviceAttributes(/job:tpu_worker/replica:0/task:0/device:TPU:6, TPU, 17179869184, 2095858207276948779),\n",
            " _DeviceAttributes(/job:tpu_worker/replica:0/task:0/device:TPU:7, TPU, 17179869184, 12569130458230455331),\n",
            " _DeviceAttributes(/job:tpu_worker/replica:0/task:0/device:TPU_SYSTEM:0, TPU_SYSTEM, 8589934592, 4565749047659283754)]\n"
          ]
        }
      ]
    },
    {
      "cell_type": "markdown",
      "source": [
        "# 환경변수 세팅"
      ],
      "metadata": {
        "id": "jWxQVZF4QMHC"
      }
    },
    {
      "cell_type": "code",
      "source": [
        "# 학습할 모델 경로\n",
        "MODEL_DIR = 'gs://nlp_pretrain_model/bert_model/new_model'\n",
        "\n",
        "# 저장할 모델 경로(output)\n",
        "PROD_MODEL_DIR='gs://nlp_pretrain_model/output'\n",
        "\n",
        "# 단어사전 파일 경로\n",
        "VOCAB_FILE= 'gs://nlp_pretrain_model/bert_model/vocab.txt'\n",
        "\n",
        "# BERT 최대 길이\n",
        "MAX_SEQ_LENGTH= 128\n",
        "\n",
        "# 학습된 모델 경로\n",
        "PRE_TRAINED_MODEL_PATH='gs://nlp_pretrain_model/bert_model'\n",
        "\n",
        "# 구글 드라이브 bert 모델 경로\n",
        "GDRIVE_BERT_ROOT= 'Gdrive/bert_files'\n",
        "\n",
        "# 구글드라이브 자연어 데이터 경로\n",
        "GDRIVE_NLP_DATA_ROOT= 'Gdrive/bert_files'\n",
        "\n",
        "# BERT 환경설정\n",
        "BERT_CONFIG='gs://nlp_pretrain_model/bert_model/bert_config.json'\n",
        "\n",
        "# 배치 크기\n",
        "BATCH_SIZE=64"
      ],
      "metadata": {
        "id": "2OuIyLf9PWEa"
      },
      "execution_count": 39,
      "outputs": []
    },
    {
      "cell_type": "markdown",
      "source": [
        "# 학습 데이터 가공 및 생성"
      ],
      "metadata": {
        "id": "e179Eg_WRYk5"
      }
    },
    {
      "cell_type": "code",
      "source": [
        "import pandas as pd\n",
        "import gspread\n",
        "\n",
        "gc = gspread.authorize(GoogleCredentials.get_application_default())\n",
        "\n",
        "FILE_PATH = '/content/Gdrive/ONe/db/Q&A_개발활용가능_2020.10_sample.xlsx'\n",
        "\n",
        "df = pd.read_excel(FILE_PATH)\n"
      ],
      "metadata": {
        "id": "OQ_mlwKEReJU"
      },
      "execution_count": null,
      "outputs": []
    },
    {
      "cell_type": "code",
      "source": [
        "df.head()"
      ],
      "metadata": {
        "id": "ju3WKVEZSqY-"
      },
      "execution_count": null,
      "outputs": []
    },
    {
      "cell_type": "code",
      "source": [
        "df.tail()"
      ],
      "metadata": {
        "id": "QHP5QK28SrA3"
      },
      "execution_count": null,
      "outputs": []
    },
    {
      "cell_type": "code",
      "source": [
        "# 컬럼명 변경 (종류)\n",
        "re_columns = ['번호', '종류', '대분류', '중분류', '소분류', 'Question',\n",
        "       'Answer', 'Hashtag 2', 'Unnamed: 8', '건강/의료', '환경/생활', '교육/심리',\n",
        "       '단순문의', '반려상품', '법률', '입양/장례', 'Unnamed: 16', '총합']\n",
        "df.columns = re_columns\n",
        "\n",
        "df.head()"
      ],
      "metadata": {
        "id": "yy0yiYLYV6Il"
      },
      "execution_count": null,
      "outputs": []
    },
    {
      "cell_type": "markdown",
      "source": [
        "- 카테고리 별로 분류 파싱하여 카테고리 트리 만들기"
      ],
      "metadata": {
        "id": "SHf6eijsTK75"
      }
    },
    {
      "cell_type": "code",
      "source": [
        "category_dict = {}\n",
        "category_list = []\n",
        "\n",
        "category_list.append(0)\n",
        "idx=1\n",
        "\n",
        "for i, row in df.iterrows() :\n",
        "\n",
        "    if row['종류'] != '개' and row['종류'] != '고양이':\n",
        "        continue\n",
        "    if row['종류'] not in category_dict :\n",
        "        category_dict[row['종류']] = {}\n",
        "    if row['대분류'] not in category_dict[row['종류']]:\n",
        "        category_dict[row['종류']][row['대분류']] = {}\n",
        "    if row['중분류'] not in category_dict[row['종류']][row['대분류']]:\n",
        "        category_dict[row['종류']][row['대분류']][row['중분류']] = {}\n",
        "    if row['소분류'] not in category_dict[row['종류']][row['대분류']][row['중분류']]:\n",
        "        category_dict[row['종류']][row['대분류']][row['중분류']][row['소분류']] = idx\n",
        "\n",
        "        category_list.append(str(row['종류']) + ':' + str(row['대분류']) + ':' + str(row['중분류']) + ':' + str(row['소분류']))\n",
        "        idx += 1\n",
        "\n",
        "print(category_dict)\n",
        "print(category_list)\n",
        "print(len(category_list))"
      ],
      "metadata": {
        "colab": {
          "base_uri": "https://localhost:8080/"
        },
        "id": "cbKxRNz2SsXG",
        "outputId": "43ed3dfb-8266-4dc7-ed83-1fda0c37bb2e"
      },
      "execution_count": null,
      "outputs": [
        {
          "output_type": "stream",
          "name": "stdout",
          "text": [
            "{'개': {'건강/의료': {'기타': {nan: 1}, '치료': {'간단건강체크': 2, '구조/구호': 3, '수술': 4, '예방/약': 5, '예방접종': 6, '응급처치': 7, '중성화': 8, '질병/증상': 9, '질병/치료': 10}}, '교육/심리': {'감정/심리': {nan: 11}, '놀이/산책': {nan: 12}, '행동': {nan: 13}, '훈련/행동교정': {nan: 14}}, '단순문의': {'기타': {nan: 15}, '보호자 고민': {nan: 16}, '품종문의': {nan: 17}}, '반려상품': {'기본용품': {'목욕/미용용품': 18}, '식품': {'건강관리': 19, '사료/간식': 20}}, '법률': {'사람/동물': {nan: 21}, '의료사고': {nan: 22}}, '입양/장례': {'기타': {nan: 23}, '입양/분양': {'기타': 24, '입양 받을 때': 25, '입양 보낼 때': 26, '입양받을때': 27}, '장례': {'장례': 28}}, '환경/생활': {'교배/출산': {'교배': 29, '임신/출산': 30}, '급여/간식': {'급여방법': 31, '기타': 32}, '기타': {nan: 33}, '놀이/산책': {nan: 34}, '양육': {'기타': 35, '목욕/미용': 36, '양육': 37, nan: 38}, '환경/생활': {'기타': 39}}}, '고양이': {'건강/의료': {'기타': {nan: 40}, '치료': {'간단건강체크': 41, '구조/구호': 42, '수술': 43, '예방/약': 44, '예방접종': 45, '응급': 46, '응급처치': 47, '중성화': 48, '질병/증상': 49, '질병/치료': 50}}, '교육/심리': {'감정/심리': {nan: 51}, '기타': {nan: 52}, '놀이/산책': {nan: 53}, '행동': {nan: 54}, '훈련/행동교정': {nan: 55}}, '단순문의': {'기타': {nan: 56}, '보호자 고민': {nan: 57}, '품종문의': {nan: 58}}, '반려상품': {'기본용품': {'놀이용품': 59}, '기타': {nan: 60}, '식품': {'사료/간식': 61}}, '입양/장례': {'기타': {nan: 62}, '입양/분양': {'기타': 63, '입양 받을 때': 64, '입양 보낼 때': 65, '입양받을때': 66}}, '환경/생활': {'교배/출산': {'교배': 67, '임신/출산': 68}, '급여/간식': {'급여방법': 69, '기타': 70}, '기타': {nan: 71}, '양육': {'기타': 72, '목욕/미용': 73, nan: 74}, '환경/생활': {'기타': 75}}}}\n",
            "[0, '개:건강/의료:기타:nan', '개:건강/의료:치료:간단건강체크', '개:건강/의료:치료:구조/구호', '개:건강/의료:치료:수술', '개:건강/의료:치료:예방/약', '개:건강/의료:치료:예방접종', '개:건강/의료:치료:응급처치', '개:건강/의료:치료:중성화', '개:건강/의료:치료:질병/증상', '개:건강/의료:치료:질병/치료', '개:교육/심리:감정/심리:nan', '개:교육/심리:놀이/산책:nan', '개:교육/심리:행동:nan', '개:교육/심리:훈련/행동교정:nan', '개:단순문의:기타:nan', '개:단순문의:보호자 고민:nan', '개:단순문의:품종문의:nan', '개:반려상품:기본용품:목욕/미용용품', '개:반려상품:식품:건강관리', '개:반려상품:식품:사료/간식', '개:법률:사람/동물:nan', '개:법률:의료사고:nan', '개:입양/장례:기타:nan', '개:입양/장례:입양/분양:기타', '개:입양/장례:입양/분양:입양 받을 때', '개:입양/장례:입양/분양:입양 보낼 때', '개:입양/장례:입양/분양:입양받을때', '개:입양/장례:장례:장례', '개:환경/생활:교배/출산:교배', '개:환경/생활:교배/출산:임신/출산', '개:환경/생활:급여/간식:급여방법', '개:환경/생활:급여/간식:기타', '개:환경/생활:기타:nan', '개:환경/생활:놀이/산책:nan', '개:환경/생활:양육:기타', '개:환경/생활:양육:목욕/미용', '개:환경/생활:양육:양육', '개:환경/생활:양육:nan', '개:환경/생활:환경/생활:기타', '고양이:건강/의료:기타:nan', '고양이:건강/의료:치료:간단건강체크', '고양이:건강/의료:치료:구조/구호', '고양이:건강/의료:치료:수술', '고양이:건강/의료:치료:예방/약', '고양이:건강/의료:치료:예방접종', '고양이:건강/의료:치료:응급', '고양이:건강/의료:치료:응급처치', '고양이:건강/의료:치료:중성화', '고양이:건강/의료:치료:질병/증상', '고양이:건강/의료:치료:질병/치료', '고양이:교육/심리:감정/심리:nan', '고양이:교육/심리:기타:nan', '고양이:교육/심리:놀이/산책:nan', '고양이:교육/심리:행동:nan', '고양이:교육/심리:훈련/행동교정:nan', '고양이:단순문의:기타:nan', '고양이:단순문의:보호자 고민:nan', '고양이:단순문의:품종문의:nan', '고양이:반려상품:기본용품:놀이용품', '고양이:반려상품:기타:nan', '고양이:반려상품:식품:사료/간식', '고양이:입양/장례:기타:nan', '고양이:입양/장례:입양/분양:기타', '고양이:입양/장례:입양/분양:입양 받을 때', '고양이:입양/장례:입양/분양:입양 보낼 때', '고양이:입양/장례:입양/분양:입양받을때', '고양이:환경/생활:교배/출산:교배', '고양이:환경/생활:교배/출산:임신/출산', '고양이:환경/생활:급여/간식:급여방법', '고양이:환경/생활:급여/간식:기타', '고양이:환경/생활:기타:nan', '고양이:환경/생활:양육:기타', '고양이:환경/생활:양육:목욕/미용', '고양이:환경/생활:양육:nan', '고양이:환경/생활:환경/생활:기타']\n",
            "76\n"
          ]
        }
      ]
    },
    {
      "cell_type": "code",
      "source": [
        "# NUM_LABELS = len(category_list)\n",
        "NUM_LABELS = 76"
      ],
      "metadata": {
        "id": "r-ftOdH6lbbu"
      },
      "execution_count": 8,
      "outputs": []
    },
    {
      "cell_type": "markdown",
      "source": [
        "### 데이터 전처리"
      ],
      "metadata": {
        "id": "UJ2dF6vYq_hJ"
      }
    },
    {
      "cell_type": "code",
      "source": [
        "import re\n",
        "\n",
        "PATTERN = '[^\\w\\s]'\n",
        "PATTERN_MULTI_SPACE = ' +'\n",
        "PATTERN_LINE_BREAKER = '\\n|\\r'\n",
        "REPL = \" \"\n",
        "\n",
        "def isNaN(string):\n",
        "    return string != string\n",
        "\n",
        "train_raw = {\n",
        "    'label': [],\n",
        "    'alpha': [],\n",
        "    'text': []\n",
        "}\n",
        "\n",
        "continued_value = {\n",
        "    '종류' : [],\n",
        "    '대분류' : [],\n",
        "    '중분류' : [],\n",
        "    '소분류' : [],\n",
        "    'Question' : []\n",
        "}\n",
        "\n",
        "# Question\n",
        "for i, row in df.iterrows():\n",
        "    if isNaN(row['Question']) : row['Question'] = REPL\n",
        "    if row['종류'] != '개' and row['종류'] != '고양이' and row['Question'] != '' and row['Question'] != 'None':\n",
        "        continue\n",
        "    else:\n",
        "        try:\n",
        "            qu = re.sub(pattern=PATTERN, repl=REPL, string=str(row['Question']))\n",
        "            qu = re.sub(pattern=PATTERN_LINE_BREAKER, repl=REPL, string=qu)\n",
        "            qu = re.sub(pattern=PATTERN_MULTI_SPACE, repl=REPL, string=qu)\n",
        "\n",
        "            if(qu != REPL) : qu = qu.strip()\n",
        "            train_raw['label'].append(category_dict[row['종류']][row['대분류']][row['중분류']][row['소분류']])\n",
        "            train_raw['alpha'].append('a')\n",
        "            train_raw['text'].append(qu)\n",
        "        \n",
        "        except:\n",
        "            continued_value['종류'].append(row['종류'])\n",
        "            continued_value['대분류'].append(row['대분류'])\n",
        "            continued_value['중분류'].append(row['중분류'])\n",
        "            continued_value['소분류'].append(row['소분류'])\n",
        "            continued_value['Question'].append(row['Question'])\n",
        "\n",
        "# Answer\n",
        "for i, row in df.iterrows():\n",
        "    if isNaN(row['Answer']): \n",
        "        row['Answer'] = REPL\n",
        "    if row['종류'] != '개' and row['종류'] != '고양이' and row['Answer'] != '' and row['Answer'] != 'None':\n",
        "        continue\n",
        "    else :\n",
        "        try:\n",
        "            qu = re.sub(pattern=PATTERN, repl=REPL, string=str(row['Answer']))\n",
        "            qu = re.sub(pattern=PATTERN_LINE_BREAKER, repl=REPL, string=qu)\n",
        "            qu = re.sub(pattern=PATTERN_MULTI_SPACE, repl=REPL, string=qu)\n",
        "            if(qu != REPL) : qu = qu.strip()\n",
        "            qu = qu[:256] if len(qu) > 256 else qu \n",
        "            train_raw['label'].append(category_dict[row['종류']][row['대분류']][row['중분류']][row['소분류']])\n",
        "            train_raw['alpha'].append('a')\n",
        "            train_raw['text'].append(qu)\n",
        "        except:\n",
        "            continued_value['종류'].append(row['종류'])\n",
        "            continued_value['대분류'].append(row['대분류'])\n",
        "            continued_value['중분류'].append(row['중분류'])\n",
        "            continued_value['소분류'].append(row['소분류'])\n",
        "            continued_value['Question'].append(row['Question'])\n",
        "\n",
        "train =pd.DataFrame(train_raw)\n",
        "\n",
        "train = train.reset_index() # ==> index 재설정\n",
        "train = train.rename(columns={'index':'id'}) # index라는 column을 id로 변동\n",
        "\n",
        "# 에러 난 값들\n",
        "error_values = pd.DataFrame(continued_value)"
      ],
      "metadata": {
        "id": "sTecECbRhwbT"
      },
      "execution_count": null,
      "outputs": []
    },
    {
      "cell_type": "code",
      "source": [
        "train.head(2)"
      ],
      "metadata": {
        "colab": {
          "base_uri": "https://localhost:8080/",
          "height": 112
        },
        "id": "9uxmYXRFqz0c",
        "outputId": "b6782a18-36bf-41c0-d922-1c03ef6501f8"
      },
      "execution_count": null,
      "outputs": [
        {
          "output_type": "execute_result",
          "data": {
            "text/html": [
              "\n",
              "  <div id=\"df-af3e01ba-f0a5-4fc0-9cae-2234be82cb9c\">\n",
              "    <div class=\"colab-df-container\">\n",
              "      <div>\n",
              "<style scoped>\n",
              "    .dataframe tbody tr th:only-of-type {\n",
              "        vertical-align: middle;\n",
              "    }\n",
              "\n",
              "    .dataframe tbody tr th {\n",
              "        vertical-align: top;\n",
              "    }\n",
              "\n",
              "    .dataframe thead th {\n",
              "        text-align: right;\n",
              "    }\n",
              "</style>\n",
              "<table border=\"1\" class=\"dataframe\">\n",
              "  <thead>\n",
              "    <tr style=\"text-align: right;\">\n",
              "      <th></th>\n",
              "      <th>id</th>\n",
              "      <th>label</th>\n",
              "      <th>alpha</th>\n",
              "      <th>text</th>\n",
              "    </tr>\n",
              "  </thead>\n",
              "  <tbody>\n",
              "    <tr>\n",
              "      <th>0</th>\n",
              "      <td>0</td>\n",
              "      <td>1</td>\n",
              "      <td>a</td>\n",
              "      <td>감기 걸린 강아지도 산책을 시켜야 하나요</td>\n",
              "    </tr>\n",
              "    <tr>\n",
              "      <th>1</th>\n",
              "      <td>1</td>\n",
              "      <td>1</td>\n",
              "      <td>a</td>\n",
              "      <td>암컷 강아지의 생리와 혈뇨는 어떻게 구분하나요</td>\n",
              "    </tr>\n",
              "  </tbody>\n",
              "</table>\n",
              "</div>\n",
              "      <button class=\"colab-df-convert\" onclick=\"convertToInteractive('df-af3e01ba-f0a5-4fc0-9cae-2234be82cb9c')\"\n",
              "              title=\"Convert this dataframe to an interactive table.\"\n",
              "              style=\"display:none;\">\n",
              "        \n",
              "  <svg xmlns=\"http://www.w3.org/2000/svg\" height=\"24px\"viewBox=\"0 0 24 24\"\n",
              "       width=\"24px\">\n",
              "    <path d=\"M0 0h24v24H0V0z\" fill=\"none\"/>\n",
              "    <path d=\"M18.56 5.44l.94 2.06.94-2.06 2.06-.94-2.06-.94-.94-2.06-.94 2.06-2.06.94zm-11 1L8.5 8.5l.94-2.06 2.06-.94-2.06-.94L8.5 2.5l-.94 2.06-2.06.94zm10 10l.94 2.06.94-2.06 2.06-.94-2.06-.94-.94-2.06-.94 2.06-2.06.94z\"/><path d=\"M17.41 7.96l-1.37-1.37c-.4-.4-.92-.59-1.43-.59-.52 0-1.04.2-1.43.59L10.3 9.45l-7.72 7.72c-.78.78-.78 2.05 0 2.83L4 21.41c.39.39.9.59 1.41.59.51 0 1.02-.2 1.41-.59l7.78-7.78 2.81-2.81c.8-.78.8-2.07 0-2.86zM5.41 20L4 18.59l7.72-7.72 1.47 1.35L5.41 20z\"/>\n",
              "  </svg>\n",
              "      </button>\n",
              "      \n",
              "  <style>\n",
              "    .colab-df-container {\n",
              "      display:flex;\n",
              "      flex-wrap:wrap;\n",
              "      gap: 12px;\n",
              "    }\n",
              "\n",
              "    .colab-df-convert {\n",
              "      background-color: #E8F0FE;\n",
              "      border: none;\n",
              "      border-radius: 50%;\n",
              "      cursor: pointer;\n",
              "      display: none;\n",
              "      fill: #1967D2;\n",
              "      height: 32px;\n",
              "      padding: 0 0 0 0;\n",
              "      width: 32px;\n",
              "    }\n",
              "\n",
              "    .colab-df-convert:hover {\n",
              "      background-color: #E2EBFA;\n",
              "      box-shadow: 0px 1px 2px rgba(60, 64, 67, 0.3), 0px 1px 3px 1px rgba(60, 64, 67, 0.15);\n",
              "      fill: #174EA6;\n",
              "    }\n",
              "\n",
              "    [theme=dark] .colab-df-convert {\n",
              "      background-color: #3B4455;\n",
              "      fill: #D2E3FC;\n",
              "    }\n",
              "\n",
              "    [theme=dark] .colab-df-convert:hover {\n",
              "      background-color: #434B5C;\n",
              "      box-shadow: 0px 1px 3px 1px rgba(0, 0, 0, 0.15);\n",
              "      filter: drop-shadow(0px 1px 2px rgba(0, 0, 0, 0.3));\n",
              "      fill: #FFFFFF;\n",
              "    }\n",
              "  </style>\n",
              "\n",
              "      <script>\n",
              "        const buttonEl =\n",
              "          document.querySelector('#df-af3e01ba-f0a5-4fc0-9cae-2234be82cb9c button.colab-df-convert');\n",
              "        buttonEl.style.display =\n",
              "          google.colab.kernel.accessAllowed ? 'block' : 'none';\n",
              "\n",
              "        async function convertToInteractive(key) {\n",
              "          const element = document.querySelector('#df-af3e01ba-f0a5-4fc0-9cae-2234be82cb9c');\n",
              "          const dataTable =\n",
              "            await google.colab.kernel.invokeFunction('convertToInteractive',\n",
              "                                                     [key], {});\n",
              "          if (!dataTable) return;\n",
              "\n",
              "          const docLinkHtml = 'Like what you see? Visit the ' +\n",
              "            '<a target=\"_blank\" href=https://colab.research.google.com/notebooks/data_table.ipynb>data table notebook</a>'\n",
              "            + ' to learn more about interactive tables.';\n",
              "          element.innerHTML = '';\n",
              "          dataTable['output_type'] = 'display_data';\n",
              "          await google.colab.output.renderOutput(dataTable, element);\n",
              "          const docLink = document.createElement('div');\n",
              "          docLink.innerHTML = docLinkHtml;\n",
              "          element.appendChild(docLink);\n",
              "        }\n",
              "      </script>\n",
              "    </div>\n",
              "  </div>\n",
              "  "
            ],
            "text/plain": [
              "   id  label alpha                       text\n",
              "0   0      1     a     감기 걸린 강아지도 산책을 시켜야 하나요\n",
              "1   1      1     a  암컷 강아지의 생리와 혈뇨는 어떻게 구분하나요"
            ]
          },
          "metadata": {},
          "execution_count": 34
        }
      ]
    },
    {
      "cell_type": "code",
      "source": [
        "train.info()"
      ],
      "metadata": {
        "colab": {
          "base_uri": "https://localhost:8080/"
        },
        "id": "LWzD42sEqrzA",
        "outputId": "2112a238-c79b-4f92-91bf-0553306988e8"
      },
      "execution_count": null,
      "outputs": [
        {
          "output_type": "stream",
          "name": "stdout",
          "text": [
            "<class 'pandas.core.frame.DataFrame'>\n",
            "RangeIndex: 2136 entries, 0 to 2135\n",
            "Data columns (total 4 columns):\n",
            " #   Column  Non-Null Count  Dtype \n",
            "---  ------  --------------  ----- \n",
            " 0   id      2136 non-null   int64 \n",
            " 1   label   2136 non-null   int64 \n",
            " 2   alpha   2136 non-null   object\n",
            " 3   text    2136 non-null   object\n",
            "dtypes: int64(2), object(2)\n",
            "memory usage: 66.9+ KB\n"
          ]
        }
      ]
    },
    {
      "cell_type": "markdown",
      "source": [
        "### 데이터 분리"
      ],
      "metadata": {
        "id": "Adq4pcdlq7Qy"
      }
    },
    {
      "cell_type": "code",
      "source": [
        "from sklearn.model_selection import train_test_split\n",
        "from pandas import DataFrame\n",
        "import numpy as np\n",
        "\n",
        "df_bert_train, df_bert_dev = train_test_split(train,test_size=0.1)\n",
        "\n",
        "test = df_bert_dev[['id', 'text']]\n",
        "\n",
        "test.head()\n",
        "test.info()\n",
        "\n",
        "df_bert_test =test\n",
        "df_bert_test"
      ],
      "metadata": {
        "colab": {
          "base_uri": "https://localhost:8080/",
          "height": 592
        },
        "id": "uobK8Ihoq8x7",
        "outputId": "b99fd644-36a0-4a1d-c17b-7782b92f84a3"
      },
      "execution_count": null,
      "outputs": [
        {
          "output_type": "stream",
          "name": "stdout",
          "text": [
            "<class 'pandas.core.frame.DataFrame'>\n",
            "Int64Index: 214 entries, 126 to 969\n",
            "Data columns (total 2 columns):\n",
            " #   Column  Non-Null Count  Dtype \n",
            "---  ------  --------------  ----- \n",
            " 0   id      214 non-null    int64 \n",
            " 1   text    214 non-null    object\n",
            "dtypes: int64(1), object(1)\n",
            "memory usage: 5.0+ KB\n"
          ]
        },
        {
          "output_type": "execute_result",
          "data": {
            "text/html": [
              "\n",
              "  <div id=\"df-ad5eab7d-faa7-4489-944f-54efdbbfbb00\">\n",
              "    <div class=\"colab-df-container\">\n",
              "      <div>\n",
              "<style scoped>\n",
              "    .dataframe tbody tr th:only-of-type {\n",
              "        vertical-align: middle;\n",
              "    }\n",
              "\n",
              "    .dataframe tbody tr th {\n",
              "        vertical-align: top;\n",
              "    }\n",
              "\n",
              "    .dataframe thead th {\n",
              "        text-align: right;\n",
              "    }\n",
              "</style>\n",
              "<table border=\"1\" class=\"dataframe\">\n",
              "  <thead>\n",
              "    <tr style=\"text-align: right;\">\n",
              "      <th></th>\n",
              "      <th>id</th>\n",
              "      <th>text</th>\n",
              "    </tr>\n",
              "  </thead>\n",
              "  <tbody>\n",
              "    <tr>\n",
              "      <th>126</th>\n",
              "      <td>126</td>\n",
              "      <td>털을 밀고 기르는 중인데 일부분이 빳빳하고 누렇게 변색되었는데 왜 그럴까요</td>\n",
              "    </tr>\n",
              "    <tr>\n",
              "      <th>1755</th>\n",
              "      <td>1755</td>\n",
              "      <td>고양이 턱드름을 손으로 짜거나 칫솔로 문지르게 되면 2차 감염으로 염증을 유발 할 ...</td>\n",
              "    </tr>\n",
              "    <tr>\n",
              "      <th>594</th>\n",
              "      <td>594</td>\n",
              "      <td>강아지를 비행기에 태우려면 동물등록을 꼭 해야 하나요</td>\n",
              "    </tr>\n",
              "    <tr>\n",
              "      <th>43</th>\n",
              "      <td>43</td>\n",
              "      <td>새끼강아지 인데 예방접종 1차까지 완료했는데 산책 언제 해도 될까요</td>\n",
              "    </tr>\n",
              "    <tr>\n",
              "      <th>1763</th>\n",
              "      <td>1763</td>\n",
              "      <td>자주 다니는 길 이라면 퇴근할 때 마다 잠깐씩 들러서 찾아보세요 고양이가 다쳤다면 ...</td>\n",
              "    </tr>\n",
              "    <tr>\n",
              "      <th>...</th>\n",
              "      <td>...</td>\n",
              "      <td>...</td>\n",
              "    </tr>\n",
              "    <tr>\n",
              "      <th>1232</th>\n",
              "      <td>1232</td>\n",
              "      <td>장이 아파서 그럴 수 있어요 구토 원인으로 급성위염 기생충감염 췌장염 장폐색 장중첩...</td>\n",
              "    </tr>\n",
              "    <tr>\n",
              "      <th>629</th>\n",
              "      <td>629</td>\n",
              "      <td>새끼고양이 심장에서 그르렁 진동소리가 느껴지는데 정상인가요</td>\n",
              "    </tr>\n",
              "    <tr>\n",
              "      <th>1858</th>\n",
              "      <td>1858</td>\n",
              "      <td>고양이가 골골소리를 낼 경우는기분이 좋거나 편안할 때 내는 소리예요 일부에서 불안정...</td>\n",
              "    </tr>\n",
              "    <tr>\n",
              "      <th>708</th>\n",
              "      <td>708</td>\n",
              "      <td>고양이 중성화수술 몇개월 때 하면 될까요</td>\n",
              "    </tr>\n",
              "    <tr>\n",
              "      <th>969</th>\n",
              "      <td>969</td>\n",
              "      <td>3개월인 고양이 두마리가 있는데 사료 양을 얼만큼 줘야 하나요</td>\n",
              "    </tr>\n",
              "  </tbody>\n",
              "</table>\n",
              "<p>214 rows × 2 columns</p>\n",
              "</div>\n",
              "      <button class=\"colab-df-convert\" onclick=\"convertToInteractive('df-ad5eab7d-faa7-4489-944f-54efdbbfbb00')\"\n",
              "              title=\"Convert this dataframe to an interactive table.\"\n",
              "              style=\"display:none;\">\n",
              "        \n",
              "  <svg xmlns=\"http://www.w3.org/2000/svg\" height=\"24px\"viewBox=\"0 0 24 24\"\n",
              "       width=\"24px\">\n",
              "    <path d=\"M0 0h24v24H0V0z\" fill=\"none\"/>\n",
              "    <path d=\"M18.56 5.44l.94 2.06.94-2.06 2.06-.94-2.06-.94-.94-2.06-.94 2.06-2.06.94zm-11 1L8.5 8.5l.94-2.06 2.06-.94-2.06-.94L8.5 2.5l-.94 2.06-2.06.94zm10 10l.94 2.06.94-2.06 2.06-.94-2.06-.94-.94-2.06-.94 2.06-2.06.94z\"/><path d=\"M17.41 7.96l-1.37-1.37c-.4-.4-.92-.59-1.43-.59-.52 0-1.04.2-1.43.59L10.3 9.45l-7.72 7.72c-.78.78-.78 2.05 0 2.83L4 21.41c.39.39.9.59 1.41.59.51 0 1.02-.2 1.41-.59l7.78-7.78 2.81-2.81c.8-.78.8-2.07 0-2.86zM5.41 20L4 18.59l7.72-7.72 1.47 1.35L5.41 20z\"/>\n",
              "  </svg>\n",
              "      </button>\n",
              "      \n",
              "  <style>\n",
              "    .colab-df-container {\n",
              "      display:flex;\n",
              "      flex-wrap:wrap;\n",
              "      gap: 12px;\n",
              "    }\n",
              "\n",
              "    .colab-df-convert {\n",
              "      background-color: #E8F0FE;\n",
              "      border: none;\n",
              "      border-radius: 50%;\n",
              "      cursor: pointer;\n",
              "      display: none;\n",
              "      fill: #1967D2;\n",
              "      height: 32px;\n",
              "      padding: 0 0 0 0;\n",
              "      width: 32px;\n",
              "    }\n",
              "\n",
              "    .colab-df-convert:hover {\n",
              "      background-color: #E2EBFA;\n",
              "      box-shadow: 0px 1px 2px rgba(60, 64, 67, 0.3), 0px 1px 3px 1px rgba(60, 64, 67, 0.15);\n",
              "      fill: #174EA6;\n",
              "    }\n",
              "\n",
              "    [theme=dark] .colab-df-convert {\n",
              "      background-color: #3B4455;\n",
              "      fill: #D2E3FC;\n",
              "    }\n",
              "\n",
              "    [theme=dark] .colab-df-convert:hover {\n",
              "      background-color: #434B5C;\n",
              "      box-shadow: 0px 1px 3px 1px rgba(0, 0, 0, 0.15);\n",
              "      filter: drop-shadow(0px 1px 2px rgba(0, 0, 0, 0.3));\n",
              "      fill: #FFFFFF;\n",
              "    }\n",
              "  </style>\n",
              "\n",
              "      <script>\n",
              "        const buttonEl =\n",
              "          document.querySelector('#df-ad5eab7d-faa7-4489-944f-54efdbbfbb00 button.colab-df-convert');\n",
              "        buttonEl.style.display =\n",
              "          google.colab.kernel.accessAllowed ? 'block' : 'none';\n",
              "\n",
              "        async function convertToInteractive(key) {\n",
              "          const element = document.querySelector('#df-ad5eab7d-faa7-4489-944f-54efdbbfbb00');\n",
              "          const dataTable =\n",
              "            await google.colab.kernel.invokeFunction('convertToInteractive',\n",
              "                                                     [key], {});\n",
              "          if (!dataTable) return;\n",
              "\n",
              "          const docLinkHtml = 'Like what you see? Visit the ' +\n",
              "            '<a target=\"_blank\" href=https://colab.research.google.com/notebooks/data_table.ipynb>data table notebook</a>'\n",
              "            + ' to learn more about interactive tables.';\n",
              "          element.innerHTML = '';\n",
              "          dataTable['output_type'] = 'display_data';\n",
              "          await google.colab.output.renderOutput(dataTable, element);\n",
              "          const docLink = document.createElement('div');\n",
              "          docLink.innerHTML = docLinkHtml;\n",
              "          element.appendChild(docLink);\n",
              "        }\n",
              "      </script>\n",
              "    </div>\n",
              "  </div>\n",
              "  "
            ],
            "text/plain": [
              "        id                                               text\n",
              "126    126          털을 밀고 기르는 중인데 일부분이 빳빳하고 누렇게 변색되었는데 왜 그럴까요\n",
              "1755  1755  고양이 턱드름을 손으로 짜거나 칫솔로 문지르게 되면 2차 감염으로 염증을 유발 할 ...\n",
              "594    594                      강아지를 비행기에 태우려면 동물등록을 꼭 해야 하나요\n",
              "43      43              새끼강아지 인데 예방접종 1차까지 완료했는데 산책 언제 해도 될까요\n",
              "1763  1763  자주 다니는 길 이라면 퇴근할 때 마다 잠깐씩 들러서 찾아보세요 고양이가 다쳤다면 ...\n",
              "...    ...                                                ...\n",
              "1232  1232  장이 아파서 그럴 수 있어요 구토 원인으로 급성위염 기생충감염 췌장염 장폐색 장중첩...\n",
              "629    629                   새끼고양이 심장에서 그르렁 진동소리가 느껴지는데 정상인가요\n",
              "1858  1858  고양이가 골골소리를 낼 경우는기분이 좋거나 편안할 때 내는 소리예요 일부에서 불안정...\n",
              "708    708                             고양이 중성화수술 몇개월 때 하면 될까요\n",
              "969    969                 3개월인 고양이 두마리가 있는데 사료 양을 얼만큼 줘야 하나요\n",
              "\n",
              "[214 rows x 2 columns]"
            ]
          },
          "metadata": {},
          "execution_count": 35
        }
      ]
    },
    {
      "cell_type": "markdown",
      "source": [
        "# Generate train, dev & test file\n",
        "- test file header=True (컬럼명을 살린다는 의미)\n",
        "- other files header=false (컬럼명을 없앤다는 의미)"
      ],
      "metadata": {
        "id": "u-sidYGYszpb"
      }
    },
    {
      "cell_type": "code",
      "source": [
        "df_bert_train.to_csv(GDRIVE_BERT_ROOT + '/data/train.tsv', sep='\\t', index=False, header=False, encoding='UTF-8')\n",
        "df_bert_dev.to_csv(GDRIVE_BERT_ROOT + '/data/dev.tsv', sep='\\t', index=False, header=False, encoding='UTF-8')\n",
        "df_bert_test.to_csv(GDRIVE_BERT_ROOT + '/data/test.tsv', sep='\\t', index=False, header=True, encoding='UTF-8')\n",
        "error_values.to_csv(GDRIVE_BERT_ROOT + '/data/error_values.tsv', sep='\\t', index=False, header=True, encoding='UTF-8')\n",
        "\n",
        "with open('{}/category.json'.format(GDRIVE_BERT_ROOT + '/data'), 'w') as fo:\n",
        "    json.dump(category_list, fo, indent=2)"
      ],
      "metadata": {
        "id": "wa5WiPYftBIR"
      },
      "execution_count": null,
      "outputs": []
    },
    {
      "cell_type": "markdown",
      "source": [
        "# Classify 학습 트레이닝\n",
        "- Fine-tuning for Classifier\n",
        "- Added checkpoint"
      ],
      "metadata": {
        "id": "8C3mpAvnu3oG"
      }
    },
    {
      "cell_type": "code",
      "source": [
        "# 환경변수 세팅 (그런데 왜 하는걸까?)\n",
        "os.environ['GDRIVE_BERT_ROOT'] = GDRIVE_BERT_ROOT\n",
        "os.environ['MAX_SEQ_LENGTH'] = str(MAX_SEQ_LENGTH)\n",
        "os.environ['VOCAB_FILE'] = VOCAB_FILE\n",
        "os.environ['BERT_CONFIG'] = BERT_CONFIG\n",
        "os.environ['MODEL_DIR'] = MODEL_DIR\n",
        "os.environ['PROD_MODEL_DIR'] = PROD_MODEL_DIR\n",
        "os.environ['NUM_LABELS'] = str(NUM_LABELS)"
      ],
      "metadata": {
        "id": "XbdEuB0cvHrL"
      },
      "execution_count": 15,
      "outputs": []
    },
    {
      "cell_type": "code",
      "source": [
        "! ls $GDRIVE_BERT_ROOT/data"
      ],
      "metadata": {
        "colab": {
          "base_uri": "https://localhost:8080/"
        },
        "id": "LpQDKJYgm38W",
        "outputId": "95624f3e-1e4a-4a20-f5c8-94726b22bf4a"
      },
      "execution_count": 26,
      "outputs": [
        {
          "output_type": "stream",
          "name": "stdout",
          "text": [
            "category.json  dev.tsv\terror_values.tsv  test.tsv  train.tsv\n"
          ]
        }
      ]
    },
    {
      "cell_type": "code",
      "source": [
        "!python /content/Gdrive/bert_files/bert_model/run_classifier.py \\\n",
        "--task_name=cola \\\n",
        "--do_train=True \\\n",
        "--do_predict=False \\\n",
        "--do_eval=True \\\n",
        "--data_dir=$GDRIVE_BERT_ROOT/data \\\n",
        "--vocab_file=$VOCAB_FILE \\\n",
        "--bert_config_file=$BERT_CONFIG \\\n",
        "--output_dir=$MODEL_DIR \\\n",
        "--max_seq_length=$MAX_SEQ_LENGTH \\\n",
        "--train_batch_size=$BATCH_SIZE \\\n",
        "--learning_rate=2e-5 \\\n",
        "--num_train_epochs=3 \\\n",
        "--num_labels=$NUM_LABELS \\\n",
        "--use_tpu=True \\\n",
        "--tpu_name=$TPU_ADDRESS \\\n",
        "--do_lower_case=False"
      ],
      "metadata": {
        "id": "pQ-xnL7kvwn4"
      },
      "execution_count": null,
      "outputs": []
    },
    {
      "cell_type": "markdown",
      "source": [
        "# 저장된 모델을 Export(Save)"
      ],
      "metadata": {
        "id": "_kxC2dFVosES"
      }
    },
    {
      "cell_type": "markdown",
      "source": [
        "- 학습에 사용한 cateogory_list를 GCP Bucket에 저장"
      ],
      "metadata": {
        "id": "_zonosSEow88"
      }
    },
    {
      "cell_type": "code",
      "source": [
        "!gsutil cp $GDRIVE_BERT_ROOT/data/category.json $MODEL_DIR/"
      ],
      "metadata": {
        "colab": {
          "base_uri": "https://localhost:8080/"
        },
        "id": "RacyA4czowYi",
        "outputId": "dcd3e31f-3270-4746-9883-384ddbb31834"
      },
      "execution_count": 33,
      "outputs": [
        {
          "output_type": "stream",
          "name": "stdout",
          "text": [
            "Copying file://Gdrive/bert_files/data/category.json [Content-Type=application/json]...\n",
            "/ [1 files][  5.8 KiB/  5.8 KiB]                                                \n",
            "Operation completed over 1 objects/5.8 KiB.                                      \n"
          ]
        }
      ]
    },
    {
      "cell_type": "markdown",
      "source": [
        "- save_model.pb 파일은 model_exporter.py에서 생성 (into output폴더)"
      ],
      "metadata": {
        "id": "s041CQsGpJsm"
      }
    },
    {
      "cell_type": "code",
      "source": [
        "os.environ['PRE_TRAINED_MODEL_PATH'] = PRE_TRAINED_MODEL_PATH\n",
        "\n",
        "!python $GDRIVE_BERT_ROOT/model_exporter.py \\\n",
        "--task_name=\"classify\" \\\n",
        "--data_path=$MODEL_DIR \\\n",
        "--bert_path=$PRE_TRAINED_MODEL_PATH \\\n",
        "--labels_num=$NUM_LABELS \\\n",
        "--max_seq_length=$MAX_SEQ_LENGTH \\\n",
        "--export_path=$MODEL_DIR/output"
      ],
      "metadata": {
        "colab": {
          "base_uri": "https://localhost:8080/"
        },
        "id": "cyKmEAi1pScK",
        "outputId": "e1418b9b-c590-4475-ee35-ca481189b039"
      },
      "execution_count": 51,
      "outputs": [
        {
          "output_type": "stream",
          "name": "stdout",
          "text": [
            "WARNING:tensorflow:From Gdrive/bert_files/model_exporter.py:82: The name tf.ConfigProto is deprecated. Please use tf.compat.v1.ConfigProto instead.\n",
            "\n",
            "WARNING:tensorflow:From Gdrive/bert_files/model_exporter.py:84: The name tf.Session is deprecated. Please use tf.compat.v1.Session instead.\n",
            "\n",
            "2022-03-10 03:01:05.404750: I tensorflow/core/platform/profile_utils/cpu_utils.cc:94] CPU Frequency: 2199995000 Hz\n",
            "2022-03-10 03:01:05.404992: I tensorflow/compiler/xla/service/service.cc:168] XLA service 0x55b72b6cb2c0 initialized for platform Host (this does not guarantee that XLA will be used). Devices:\n",
            "2022-03-10 03:01:05.405029: I tensorflow/compiler/xla/service/service.cc:176]   StreamExecutor device (0): Host, Default Version\n",
            "2022-03-10 03:01:05.407620: I tensorflow/stream_executor/platform/default/dso_loader.cc:44] Successfully opened dynamic library libcuda.so.1\n",
            "2022-03-10 03:01:05.421849: E tensorflow/stream_executor/cuda/cuda_driver.cc:318] failed call to cuInit: CUDA_ERROR_NO_DEVICE: no CUDA-capable device is detected\n",
            "2022-03-10 03:01:05.421912: I tensorflow/stream_executor/cuda/cuda_diagnostics.cc:156] kernel driver does not appear to be running on this host (8cfcbb12266d): /proc/driver/nvidia/version does not exist\n",
            "going to restore checkpoint\n",
            "WARNING:tensorflow:From /content/Gdrive/bert_files/bert_model/modeling.py:93: The name tf.gfile.GFile is deprecated. Please use tf.io.gfile.GFile instead.\n",
            "\n",
            "WARNING:tensorflow:From Gdrive/bert_files/model_exporter.py:88: The name tf.placeholder is deprecated. Please use tf.compat.v1.placeholder instead.\n",
            "\n",
            "WARNING:tensorflow:From /content/Gdrive/bert_files/bert_model/modeling.py:171: The name tf.variable_scope is deprecated. Please use tf.compat.v1.variable_scope instead.\n",
            "\n",
            "WARNING:tensorflow:From /content/Gdrive/bert_files/bert_model/modeling.py:409: The name tf.get_variable is deprecated. Please use tf.compat.v1.get_variable instead.\n",
            "\n",
            "WARNING:tensorflow:From /content/Gdrive/bert_files/bert_model/modeling.py:490: The name tf.assert_less_equal is deprecated. Please use tf.compat.v1.assert_less_equal instead.\n",
            "\n",
            "WARNING:tensorflow:\n",
            "The TensorFlow contrib module will not be included in TensorFlow 2.0.\n",
            "For more information, please see:\n",
            "  * https://github.com/tensorflow/community/blob/master/rfcs/20180907-contrib-sunset.md\n",
            "  * https://github.com/tensorflow/addons\n",
            "  * https://github.com/tensorflow/io (for I/O related ops)\n",
            "If you depend on functionality not listed there, please file an issue.\n",
            "\n",
            "WARNING:tensorflow:From /content/Gdrive/bert_files/bert_model/modeling.py:671: dense (from tensorflow.python.layers.core) is deprecated and will be removed in a future version.\n",
            "Instructions for updating:\n",
            "Use keras.layers.Dense instead.\n",
            "WARNING:tensorflow:From /tensorflow-1.15.2/python3.7/tensorflow_core/python/layers/core.py:187: Layer.apply (from tensorflow.python.keras.engine.base_layer) is deprecated and will be removed in a future version.\n",
            "Instructions for updating:\n",
            "Please use `layer.__call__` method instead.\n",
            "WARNING:tensorflow:From Gdrive/bert_files/model_exporter.py:108: simple_save (from tensorflow.python.saved_model.simple_save) is deprecated and will be removed in a future version.\n",
            "Instructions for updating:\n",
            "This function will only be available through the v1 compatibility library as tf.compat.v1.saved_model.simple_save.\n",
            "WARNING:tensorflow:From /tensorflow-1.15.2/python3.7/tensorflow_core/python/saved_model/signature_def_utils_impl.py:201: build_tensor_info (from tensorflow.python.saved_model.utils_impl) is deprecated and will be removed in a future version.\n",
            "Instructions for updating:\n",
            "This function will only be available through the v1 compatibility library as tf.compat.v1.saved_model.utils.build_tensor_info or tf.compat.v1.saved_model.build_tensor_info.\n",
            "savedModel export finished\n"
          ]
        }
      ]
    },
    {
      "cell_type": "markdown",
      "source": [
        "# 데모 실행 (in Colab)\n",
        "- 전 단계에서 저장한 Saved Model 로드"
      ],
      "metadata": {
        "id": "LnMgsuBdx8yo"
      }
    },
    {
      "cell_type": "code",
      "source": [
        "!ls $GDRIVE_BERT_ROOT"
      ],
      "metadata": {
        "colab": {
          "base_uri": "https://localhost:8080/"
        },
        "id": "rbQqaOEjx_57",
        "outputId": "38d0f99f-9ea3-4208-999d-83c255cb2399"
      },
      "execution_count": 52,
      "outputs": [
        {
          "output_type": "stream",
          "name": "stdout",
          "text": [
            "bert_model\t   modeling.py\t    run_classifier.py\n",
            "data\t\t   optimization.py  run_squad.py\n",
            "model_exporter.py  __pycache__\t    tokenization.py\n"
          ]
        }
      ]
    },
    {
      "cell_type": "code",
      "source": [
        "from tensorflow.saved_model import tag_constants\n",
        "import sys\n",
        "sys.path.append(GDRIVE_BERT_ROOT+'/')\n",
        "sys.path.append(GDRIVE_BERT_ROOT+'/bert_model')\n",
        "\n",
        "from bert_model import tokenization\n",
        "from bert_model import modeling\n",
        "from bert_model import run_classifier\n",
        "import base64\n",
        "import json\n",
        "\n",
        "def load_model(model_path):\n",
        "    '''\n",
        "    Load the frozen pb file then build the graph\n",
        "    Args:\n",
        "        model_path : path of the frozen pb file\n",
        "    return:\n",
        "        sess : the session of this bert model\n",
        "    '''\n",
        "    session_config = tf.ConfigProto(allow_soft_placement=True)\n",
        "    sess = tf.Session(config=session_config)\n",
        "    tf.compat.v1.saved_model.loader.load(\n",
        "        sess, [tf.saved_model.tag_constants.SERVING], model_path)\n",
        "    print('Model loaded')\n",
        "    return sess\n",
        "\n",
        "tokenizer = tokenization.FullTokenizer(vocab_file=VOCAB_FILE, do_lower_case=False)\n",
        "processor=run_classifier.ColaProcessor()\n",
        "\n",
        "with open(GDRIVE_BERT_ROOT + '/data/category.json') as cate_f :\n",
        "    category_list = json.load(cate_f)\n",
        "\n",
        "label_list = [str(x) for x in range(len(category_list))]\n",
        "\n",
        "vocab=tokenization.load_vocab(VOCAB_FILE)\n",
        "print('Vocab Size :', len(vocab))\n",
        "\n",
        "session = load_model(MODEL_DIR + '/output')"
      ],
      "metadata": {
        "colab": {
          "base_uri": "https://localhost:8080/"
        },
        "id": "THFzJGOXyNSL",
        "outputId": "2e0fca67-33a2-4c28-8173-c9aab3ecbc33"
      },
      "execution_count": 60,
      "outputs": [
        {
          "output_type": "stream",
          "name": "stdout",
          "text": [
            "Vocab Size : 32000\n",
            "WARNING:tensorflow:From <ipython-input-60-4032897f514a>:23: load (from tensorflow.python.saved_model.loader_impl) is deprecated and will be removed in a future version.\n",
            "Instructions for updating:\n",
            "This function will only be available through the v1 compatibility library as tf.compat.v1.saved_model.loader.load or tf.compat.v1.saved_model.load. There will be a new function for importing SavedModels in Tensorflow 2.0.\n",
            "INFO:tensorflow:Restoring parameters from gs://nlp_pretrain_model/bert_model/new_model/output/variables/variables\n",
            "Model loaded\n"
          ]
        }
      ]
    },
    {
      "cell_type": "markdown",
      "source": [
        "# 샘플 쿼리로 적용"
      ],
      "metadata": {
        "id": "JeEe3x_419ol"
      }
    },
    {
      "cell_type": "code",
      "source": [
        "import numpy as np\n",
        "\n",
        "def bert_prediction(sess, s):\n",
        "    predict_example, label_list_test = processor.get_test_examples_n_labels(s)\n",
        "    frozen_input_ids = sess.graph.get_tensor_by_name('input_ids:0')\n",
        "    frozen_input_mask = sess.graph.get_tensor_by_name('input_mask:0')\n",
        "    frozen_segment_ids = sess.graph.get_tensor_by_name('segment_ids:0')\n",
        "    predict_info = sess.graph.get_tensor_by_name('loss/Softmax:0')\n",
        "\n",
        "    for (ex_index, example) in enumerate(predict_example):\n",
        "        if ex_index % 10000 == 0:\n",
        "            tf.logging.info('Writing example %d of %d' %(ex_index, len(predict_example)))\n",
        "\n",
        "        feature = run_classifier.convert_single_example(ex_index, example, label_list_test, MAX_SEQ_LENGTH, tokenizer)\n",
        "        probabilities = sess.run(predict_info,\n",
        "                                feed_dict={\n",
        "                                    frozen_input_ids: np.expand_dims(feature.input_ids, 0),\n",
        "                                    frozen_input_mask: np.expand_dims(feature.input_mask, 0),\n",
        "                                    frozen_segment_ids: np.expand_dims(feature.segment_ids, 0),\n",
        "                                })\n",
        "\n",
        "        # lebel 얻기\n",
        "        label_pob = []\n",
        "        for i in probabilities[0]:\n",
        "            label_pob.append(float(i))\n",
        "\n",
        "        # 내림차순 정렬\n",
        "        label_sorted = sorted(label_pob, reverse=True)\n",
        "\n",
        "        # 1순위, 2순위  반환 값(확률) 확인하기\n",
        "        first_index, second_index = label_pob.index(label_sorted[0]), label_pob.index(label_sorted[1])\n",
        "\n",
        "        # label 반환\n",
        "        first_label, second_label = label_list[first_index], label_list[second_index]\n",
        "\n",
        "        print('#### 원문 질의 :', s)\n",
        "        print(f'#### 자동분류 1순위 : {first_label} ({label_sorted[0]})')\n",
        "        print(f'#### 자동분류 2순위 : {second_label} ({label_sorted[1]})')\n",
        "\n",
        "        return first_label, second_label\n",
        "\n",
        "# 샘플 쿼리\n",
        "sentence = [\"저희 집에는 8개월된 푸들한마리가 제 오빠의 옷을 물다가이빨이 빠졋어요.저절로 빠진거에요 옷을 물어서 빠진거에요?\", \n",
        "             \"걍아지가 털이 자꾸 빠져요\",\"강쥐가 중심을 못 잡고 넘어져요\", \n",
        "             \"고양이가 밥을 안 먹어요.어떻게 하죠?\",\n",
        "             \"강아지가 켁켁거리면서 밥을 안먹어요\"]\n",
        "\n",
        "for s in sentence :\n",
        "    result1, result2 = bert_prediction(session, s)\n",
        "    print(f'## 자동분류명 1순위 : {category_list[int(result1)]}, ## 자동분류명 2순위 : {category_list[int(result2)]}')\n",
        "\n"
      ],
      "metadata": {
        "id": "9A_lvnH02Aqz"
      },
      "execution_count": null,
      "outputs": []
    }
  ]
}