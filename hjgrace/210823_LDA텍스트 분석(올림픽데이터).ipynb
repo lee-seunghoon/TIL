{
 "cells": [
  {
   "cell_type": "markdown",
   "id": "35faa22f",
   "metadata": {},
   "source": [
    "## 라이브러리"
   ]
  },
  {
   "cell_type": "code",
   "execution_count": 22,
   "id": "155ef53e",
   "metadata": {},
   "outputs": [],
   "source": [
    "import numpy as np\n",
    "import pandas as pd\n",
    "import re\n",
    "from konlpy.tag import Okt\n",
    "from sklearn.feature_extraction.text import CountVectorizer\n",
    "from sklearn.feature_extraction.text import TfidfVectorizer\n",
    "import nltk\n",
    "import matplotlib.pyplot as plt\n",
    "from matplotlib import font_manager, rc\n",
    "from wordcloud import WordCloud\n",
    "from collections import Counter\n",
    "\n",
    "# LDA 구현을 위한 라이브러리\n",
    "from sklearn.decomposition import LatentDirichletAllocation"
   ]
  },
  {
   "cell_type": "markdown",
   "id": "e99f6c66",
   "metadata": {},
   "source": [
    "## 폰트 설정"
   ]
  },
  {
   "cell_type": "code",
   "execution_count": 2,
   "id": "a94c4a8b",
   "metadata": {},
   "outputs": [],
   "source": [
    "# 폰트 사이즈\n",
    "plt.rcParams['font.size'] = 25\n",
    "# 폰트 설정\n",
    "plt.rcParams['font.family'] = 'Malgun Gothic'\n",
    "# 화면크기 설정\n",
    "plt.rcParams['figure.figsize'] = (16,18)"
   ]
  },
  {
   "cell_type": "markdown",
   "id": "4f4f2915",
   "metadata": {},
   "source": [
    "## 함수 모음"
   ]
  },
  {
   "cell_type": "code",
   "execution_count": 3,
   "id": "9f141e54",
   "metadata": {},
   "outputs": [],
   "source": [
    "# 나이대 분리 함수\n",
    "def age_split(age):\n",
    "    if age < 20 :\n",
    "        result = 1\n",
    "    elif age < 30 :\n",
    "        result = 2\n",
    "    elif age < 40 :\n",
    "        result = 3\n",
    "    elif age < 50 :\n",
    "        result = 4\n",
    "    elif age < 60 :\n",
    "        result = 5\n",
    "    else:\n",
    "        result = 6\n",
    "        \n",
    "    return result"
   ]
  },
  {
   "cell_type": "code",
   "execution_count": 4,
   "id": "f791e68e",
   "metadata": {},
   "outputs": [],
   "source": [
    "# 지역 분리 함수\n",
    "def location_split(location):\n",
    "    if location in [1,4,8]:\n",
    "        result = 1 # ==> 수도권\n",
    "    elif location in [6, 10, 11, 17]:\n",
    "        result = 2 # 충청권\n",
    "    elif location in [5, 12, 13]:\n",
    "        result = 3 # 전라권\n",
    "    elif location in [2, 3, 7, 14, 15]:\n",
    "        result = 4 # 경상권\n",
    "    elif location in [9]:\n",
    "        result = 5 # 강원권\n",
    "    else:\n",
    "        result = 6 # 제주\n",
    "    return result"
   ]
  },
  {
   "cell_type": "code",
   "execution_count": 5,
   "id": "1815656a",
   "metadata": {},
   "outputs": [],
   "source": [
    "# 특수기호 & 영어 제거\n",
    "# 텍스트 한글 외 다른 것들 제거 (숫자는 포함 ex.4강...)\n",
    "def text_preprocessing(text):\n",
    "    text = str(text)\n",
    "    sentence = text.split(' ')\n",
    "    prepro_sentence = []\n",
    "    for word in sentence:\n",
    "        prepro_word = re.sub(r'[^가-힣0-9]', '', word)\n",
    "        prepro_sentence.append(prepro_word)\n",
    "        \n",
    "    result = ' '.join(prepro_sentence)\n",
    "    return result"
   ]
  },
  {
   "cell_type": "code",
   "execution_count": 6,
   "id": "b19873c6",
   "metadata": {},
   "outputs": [],
   "source": [
    "# okt 형태소 분석기 토크나이징\n",
    "def tokenize(text):\n",
    "    okt = Okt()\n",
    "    tokens = okt.pos(text)\n",
    "\n",
    "#     stop_words = ['있는', '하는', '생각', '합니다', '대한', '필요', '먼저'\n",
    "#              '한다', '마음', '문제', '대통령', '위해', '않는', '의견', '나라']\n",
    "#     tokens = [(word, tag) for word, tag in tokens if word not in stop_words]\n",
    "    \n",
    "    total_words = []\n",
    "    for word, tag in tokens:\n",
    "        if tag not in ['Josa', 'Suffix']:\n",
    "            total_words.append(word)\n",
    "    result = ' '.join(total_words)\n",
    "    return result"
   ]
  },
  {
   "cell_type": "code",
   "execution_count": 7,
   "id": "2a7777c3",
   "metadata": {},
   "outputs": [],
   "source": [
    "# 빈도분석 함수\n",
    "def count_vectorize(text, vectorizer):\n",
    "    word_dict = sorted(vectorizer.vocabulary_.items())\n",
    "    idx2word = {idx:word for word, idx in word_dict}\n",
    "    \n",
    "    total_word = []\n",
    "    total_word.append((' ').join(text.values))\n",
    "    \n",
    "    count_matrix = count_vectorizer.transform(total_word)\n",
    "    \n",
    "    count_word = []\n",
    "    count_vector = []\n",
    "    \n",
    "    for i in range(20,0,-1):\n",
    "        count_word.append(idx2word[(-count_matrix.toarray()[0]).argsort()[i-1]])\n",
    "        count_vector.append(count_matrix.toarray()[0][(-count_matrix.toarray()[0]).argsort()[i-1]]) \n",
    "    \n",
    "    return count_word, count_vector"
   ]
  },
  {
   "cell_type": "code",
   "execution_count": 8,
   "id": "24b65c4c",
   "metadata": {},
   "outputs": [],
   "source": [
    "# tf-idf 분석\n",
    "def tfidf_data(text_data, stop_word, tfidf):\n",
    "    _tokeniz = text_data.map(tokenize)\n",
    "    \n",
    "    _word = []\n",
    "    for sentence in [text for text in _tokeniz.values]:\n",
    "        for word in sentence.split(' '):\n",
    "            if word not in stop_word:\n",
    "                _word.append(word)\n",
    "                \n",
    "    _total_word = []\n",
    "    _total_word.append(' '.join(_word))\n",
    "\n",
    "    _tfidf_matrix = tfidf.transform(_total_word)\n",
    "    \n",
    "    # 단어사전 정렬\n",
    "    word_dict = sorted(tfidf.vocabulary_.items())\n",
    "    idx2word = {idx:word for word, idx in word_dict}\n",
    "    \n",
    "    _tfidf_word = []\n",
    "    _tfidf = []\n",
    "    for i in range(25,0,-1):\n",
    "        _tfidf_word.append(idx2word[(-_tfidf_matrix.toarray()[0]).argsort()[i-1]])\n",
    "        _tfidf.append(_tfidf_matrix.toarray()[0][(-_tfidf_matrix.toarray()[0]).argsort()[i-1]])\n",
    "\n",
    "    return _tfidf_word, _tfidf"
   ]
  },
  {
   "cell_type": "code",
   "execution_count": 9,
   "id": "270e2bde",
   "metadata": {},
   "outputs": [],
   "source": [
    "# 가로 막대 그래프 그리기\n",
    "def count_graph(word, vector, color, title):\n",
    "    plt.barh(word, vector, label='단어 빈도', color=color)\n",
    "    plt.ylabel('단어')\n",
    "    plt.xlabel('빈도')\n",
    "    plt.legend()\n",
    "    plt.yticks(word)\n",
    "    plt.title('{} 텍스트 빈도 분석 Top20'.format(title))\n",
    "    plt.tight_layout()\n",
    "    plt.savefig('{}.png'.format(title))\n",
    "    plt.show()"
   ]
  },
  {
   "cell_type": "code",
   "execution_count": 67,
   "id": "08cd1c15",
   "metadata": {},
   "outputs": [],
   "source": [
    "# 이상한 단어 정상 단어 바꾸기\n",
    "def change_word(word):\n",
    "    for idx, val in enumerate(word):\n",
    "        word[idx] = val.replace('관왕', '3관왕')\n",
    "    for idx, val in enumerate(word):\n",
    "        word[idx] = val.replace('했지만', '못했지만')\n",
    "    for idx, val in enumerate(word):\n",
    "        word[idx] = val.replace('김제', '김제덕')\n",
    "    for idx, val in enumerate(word):\n",
    "        word[idx] = val.replace('체전', '단체전')\n",
    "    return word"
   ]
  },
  {
   "cell_type": "markdown",
   "id": "9409d4c0",
   "metadata": {},
   "source": [
    "## 데이터 불러오기"
   ]
  },
  {
   "cell_type": "code",
   "execution_count": 10,
   "id": "3c3e9149",
   "metadata": {},
   "outputs": [
    {
     "data": {
      "text/html": [
       "<div>\n",
       "<style scoped>\n",
       "    .dataframe tbody tr th:only-of-type {\n",
       "        vertical-align: middle;\n",
       "    }\n",
       "\n",
       "    .dataframe tbody tr th {\n",
       "        vertical-align: top;\n",
       "    }\n",
       "\n",
       "    .dataframe thead th {\n",
       "        text-align: right;\n",
       "    }\n",
       "</style>\n",
       "<table border=\"1\" class=\"dataframe\">\n",
       "  <thead>\n",
       "    <tr style=\"text-align: right;\">\n",
       "      <th></th>\n",
       "      <th>NO</th>\n",
       "      <th>UID</th>\n",
       "      <th>START</th>\n",
       "      <th>END</th>\n",
       "      <th>TIME</th>\n",
       "      <th>Q1</th>\n",
       "      <th>Q2t1</th>\n",
       "      <th>Q2t2</th>\n",
       "      <th>Q2_1</th>\n",
       "      <th>HQ_Q2_1</th>\n",
       "      <th>Q3t1</th>\n",
       "    </tr>\n",
       "  </thead>\n",
       "  <tbody>\n",
       "    <tr>\n",
       "      <th>0</th>\n",
       "      <td>1000006</td>\n",
       "      <td>C327036214_1-4-4-orsiuqoem97enw8npjjes5d4</td>\n",
       "      <td>2021/08/11-00:00:16</td>\n",
       "      <td>2021/08/11-00:00:49</td>\n",
       "      <td>00:00:33</td>\n",
       "      <td>2</td>\n",
       "      <td>2000</td>\n",
       "      <td>21</td>\n",
       "      <td>3</td>\n",
       "      <td>46</td>\n",
       "      <td>안산선수</td>\n",
       "    </tr>\n",
       "    <tr>\n",
       "      <th>1</th>\n",
       "      <td>1000007</td>\n",
       "      <td>C327036214_1-3-3-d94uyxnq0gtmxiylnwzph10d</td>\n",
       "      <td>2021/08/11-00:00:16</td>\n",
       "      <td>2021/08/11-00:00:52</td>\n",
       "      <td>00:00:36</td>\n",
       "      <td>1</td>\n",
       "      <td>1997</td>\n",
       "      <td>24</td>\n",
       "      <td>3</td>\n",
       "      <td>47</td>\n",
       "      <td>여자배구 4강진출</td>\n",
       "    </tr>\n",
       "    <tr>\n",
       "      <th>2</th>\n",
       "      <td>1000011</td>\n",
       "      <td>C327036214_1-8-8-1zk22sg9o22c136k0kmh29v7</td>\n",
       "      <td>2021/08/11-00:00:20</td>\n",
       "      <td>2021/08/11-00:00:58</td>\n",
       "      <td>00:00:38</td>\n",
       "      <td>2</td>\n",
       "      <td>1978</td>\n",
       "      <td>43</td>\n",
       "      <td>8</td>\n",
       "      <td>75</td>\n",
       "      <td>메달 못따도 즐거워하는것</td>\n",
       "    </tr>\n",
       "    <tr>\n",
       "      <th>3</th>\n",
       "      <td>1000010</td>\n",
       "      <td>C327036214_1-5-5-3tk4BveNZppGGFhe9xYjaUtl</td>\n",
       "      <td>2021/08/11-00:00:20</td>\n",
       "      <td>2021/08/11-00:00:59</td>\n",
       "      <td>00:00:39</td>\n",
       "      <td>1</td>\n",
       "      <td>1983</td>\n",
       "      <td>38</td>\n",
       "      <td>4</td>\n",
       "      <td>54</td>\n",
       "      <td>안봄</td>\n",
       "    </tr>\n",
       "    <tr>\n",
       "      <th>4</th>\n",
       "      <td>1000008</td>\n",
       "      <td>C327036214_1-4-4-333y69w5o6sfk85ttlaaz15z</td>\n",
       "      <td>2021/08/11-00:00:16</td>\n",
       "      <td>2021/08/11-00:01:06</td>\n",
       "      <td>00:00:50</td>\n",
       "      <td>2</td>\n",
       "      <td>2001</td>\n",
       "      <td>20</td>\n",
       "      <td>8</td>\n",
       "      <td>82</td>\n",
       "      <td>수영에서 아시아 기록 깬것</td>\n",
       "    </tr>\n",
       "    <tr>\n",
       "      <th>...</th>\n",
       "      <td>...</td>\n",
       "      <td>...</td>\n",
       "      <td>...</td>\n",
       "      <td>...</td>\n",
       "      <td>...</td>\n",
       "      <td>...</td>\n",
       "      <td>...</td>\n",
       "      <td>...</td>\n",
       "      <td>...</td>\n",
       "      <td>...</td>\n",
       "      <td>...</td>\n",
       "    </tr>\n",
       "    <tr>\n",
       "      <th>30586</th>\n",
       "      <td>1031602</td>\n",
       "      <td>C327036214_1-1-1-lii8dwyp46v1opx4q333qlrd</td>\n",
       "      <td>2021/08/13-09:11:07</td>\n",
       "      <td>2021/08/13-09:16:14</td>\n",
       "      <td>00:05:07</td>\n",
       "      <td>2</td>\n",
       "      <td>1995</td>\n",
       "      <td>26</td>\n",
       "      <td>3</td>\n",
       "      <td>48</td>\n",
       "      <td>긴장감넘치는 에페 펜싱경기와 최고의 경기력을 볼 수 있었던 여자 배구, 그리고 역시...</td>\n",
       "    </tr>\n",
       "    <tr>\n",
       "      <th>30587</th>\n",
       "      <td>1021545</td>\n",
       "      <td>C327036214_1-7-7-wxukm1vvghgg5cuqln8v904s</td>\n",
       "      <td>2021/08/11-16:41:40</td>\n",
       "      <td>2021/08/13-09:16:19</td>\n",
       "      <td>1900-01-01 16:34:39</td>\n",
       "      <td>1</td>\n",
       "      <td>1980</td>\n",
       "      <td>41</td>\n",
       "      <td>1</td>\n",
       "      <td>15</td>\n",
       "      <td>배구 사강 .안산의 양궁</td>\n",
       "    </tr>\n",
       "    <tr>\n",
       "      <th>30588</th>\n",
       "      <td>1031618</td>\n",
       "      <td>C327036214_1-7-7-jjRTZVWV4uvLUlbUlHwRONHI</td>\n",
       "      <td>2021/08/13-09:16:05</td>\n",
       "      <td>2021/08/13-09:16:38</td>\n",
       "      <td>00:00:33</td>\n",
       "      <td>1</td>\n",
       "      <td>1981</td>\n",
       "      <td>40</td>\n",
       "      <td>4</td>\n",
       "      <td>55</td>\n",
       "      <td>여자배구 한일전에서 짜릿한 역전승</td>\n",
       "    </tr>\n",
       "    <tr>\n",
       "      <th>30589</th>\n",
       "      <td>1031617</td>\n",
       "      <td>C327036214_1-5-5-18q23pc3kmyg11q0pkia4pvh</td>\n",
       "      <td>2021/08/13-09:15:50</td>\n",
       "      <td>2021/08/13-09:16:44</td>\n",
       "      <td>00:00:54</td>\n",
       "      <td>1</td>\n",
       "      <td>1990</td>\n",
       "      <td>31</td>\n",
       "      <td>8</td>\n",
       "      <td>77</td>\n",
       "      <td>양궁 결승전에서 끝! 이라는 외마디!</td>\n",
       "    </tr>\n",
       "    <tr>\n",
       "      <th>30590</th>\n",
       "      <td>1031616</td>\n",
       "      <td>C327036214_1-4-4-g9tpkxlt31mvgqshukdd3jd0</td>\n",
       "      <td>2021/08/13-09:15:45</td>\n",
       "      <td>2021/08/13-09:16:47</td>\n",
       "      <td>00:01:02</td>\n",
       "      <td>2</td>\n",
       "      <td>2001</td>\n",
       "      <td>20</td>\n",
       "      <td>13</td>\n",
       "      <td>182</td>\n",
       "      <td>양궁 선수들과 배구 선수들이 가장 기억에 남음. 양궁은 말할 것도 없이 너무너무 잘...</td>\n",
       "    </tr>\n",
       "  </tbody>\n",
       "</table>\n",
       "<p>30591 rows × 11 columns</p>\n",
       "</div>"
      ],
      "text/plain": [
       "            NO                                        UID  \\\n",
       "0      1000006  C327036214_1-4-4-orsiuqoem97enw8npjjes5d4   \n",
       "1      1000007  C327036214_1-3-3-d94uyxnq0gtmxiylnwzph10d   \n",
       "2      1000011  C327036214_1-8-8-1zk22sg9o22c136k0kmh29v7   \n",
       "3      1000010  C327036214_1-5-5-3tk4BveNZppGGFhe9xYjaUtl   \n",
       "4      1000008  C327036214_1-4-4-333y69w5o6sfk85ttlaaz15z   \n",
       "...        ...                                        ...   \n",
       "30586  1031602  C327036214_1-1-1-lii8dwyp46v1opx4q333qlrd   \n",
       "30587  1021545  C327036214_1-7-7-wxukm1vvghgg5cuqln8v904s   \n",
       "30588  1031618  C327036214_1-7-7-jjRTZVWV4uvLUlbUlHwRONHI   \n",
       "30589  1031617  C327036214_1-5-5-18q23pc3kmyg11q0pkia4pvh   \n",
       "30590  1031616  C327036214_1-4-4-g9tpkxlt31mvgqshukdd3jd0   \n",
       "\n",
       "                     START                  END                 TIME  Q1  \\\n",
       "0      2021/08/11-00:00:16  2021/08/11-00:00:49             00:00:33   2   \n",
       "1      2021/08/11-00:00:16  2021/08/11-00:00:52             00:00:36   1   \n",
       "2      2021/08/11-00:00:20  2021/08/11-00:00:58             00:00:38   2   \n",
       "3      2021/08/11-00:00:20  2021/08/11-00:00:59             00:00:39   1   \n",
       "4      2021/08/11-00:00:16  2021/08/11-00:01:06             00:00:50   2   \n",
       "...                    ...                  ...                  ...  ..   \n",
       "30586  2021/08/13-09:11:07  2021/08/13-09:16:14             00:05:07   2   \n",
       "30587  2021/08/11-16:41:40  2021/08/13-09:16:19  1900-01-01 16:34:39   1   \n",
       "30588  2021/08/13-09:16:05  2021/08/13-09:16:38             00:00:33   1   \n",
       "30589  2021/08/13-09:15:50  2021/08/13-09:16:44             00:00:54   1   \n",
       "30590  2021/08/13-09:15:45  2021/08/13-09:16:47             00:01:02   2   \n",
       "\n",
       "       Q2t1 Q2t2  Q2_1  HQ_Q2_1  \\\n",
       "0      2000   21     3       46   \n",
       "1      1997   24     3       47   \n",
       "2      1978   43     8       75   \n",
       "3      1983   38     4       54   \n",
       "4      2001   20     8       82   \n",
       "...     ...  ...   ...      ...   \n",
       "30586  1995   26     3       48   \n",
       "30587  1980   41     1       15   \n",
       "30588  1981   40     4       55   \n",
       "30589  1990   31     8       77   \n",
       "30590  2001   20    13      182   \n",
       "\n",
       "                                                    Q3t1  \n",
       "0                                                   안산선수  \n",
       "1                                              여자배구 4강진출  \n",
       "2                                          메달 못따도 즐거워하는것  \n",
       "3                                                     안봄  \n",
       "4                                         수영에서 아시아 기록 깬것  \n",
       "...                                                  ...  \n",
       "30586  긴장감넘치는 에페 펜싱경기와 최고의 경기력을 볼 수 있었던 여자 배구, 그리고 역시...  \n",
       "30587                                      배구 사강 .안산의 양궁  \n",
       "30588                                 여자배구 한일전에서 짜릿한 역전승  \n",
       "30589                               양궁 결승전에서 끝! 이라는 외마디!  \n",
       "30590  양궁 선수들과 배구 선수들이 가장 기억에 남음. 양궁은 말할 것도 없이 너무너무 잘...  \n",
       "\n",
       "[30591 rows x 11 columns]"
      ]
     },
     "execution_count": 10,
     "metadata": {},
     "output_type": "execute_result"
    }
   ],
   "source": [
    "path = './2_올림픽에서 가장 인상 깊었던 것_30591.xlsx'\n",
    "df = pd.read_excel(path, sheet_name=0)\n",
    "df"
   ]
  },
  {
   "cell_type": "code",
   "execution_count": 11,
   "id": "db0c6667",
   "metadata": {},
   "outputs": [
    {
     "data": {
      "text/html": [
       "<div>\n",
       "<style scoped>\n",
       "    .dataframe tbody tr th:only-of-type {\n",
       "        vertical-align: middle;\n",
       "    }\n",
       "\n",
       "    .dataframe tbody tr th {\n",
       "        vertical-align: top;\n",
       "    }\n",
       "\n",
       "    .dataframe thead th {\n",
       "        text-align: right;\n",
       "    }\n",
       "</style>\n",
       "<table border=\"1\" class=\"dataframe\">\n",
       "  <thead>\n",
       "    <tr style=\"text-align: right;\">\n",
       "      <th></th>\n",
       "      <th>Q1</th>\n",
       "      <th>Q2t1</th>\n",
       "      <th>Q2t2</th>\n",
       "      <th>Q2_1</th>\n",
       "      <th>HQ_Q2_1</th>\n",
       "      <th>Q3t1</th>\n",
       "    </tr>\n",
       "  </thead>\n",
       "  <tbody>\n",
       "    <tr>\n",
       "      <th>0</th>\n",
       "      <td>2</td>\n",
       "      <td>2000</td>\n",
       "      <td>21</td>\n",
       "      <td>3</td>\n",
       "      <td>46</td>\n",
       "      <td>안산선수</td>\n",
       "    </tr>\n",
       "    <tr>\n",
       "      <th>1</th>\n",
       "      <td>1</td>\n",
       "      <td>1997</td>\n",
       "      <td>24</td>\n",
       "      <td>3</td>\n",
       "      <td>47</td>\n",
       "      <td>여자배구 4강진출</td>\n",
       "    </tr>\n",
       "    <tr>\n",
       "      <th>2</th>\n",
       "      <td>2</td>\n",
       "      <td>1978</td>\n",
       "      <td>43</td>\n",
       "      <td>8</td>\n",
       "      <td>75</td>\n",
       "      <td>메달 못따도 즐거워하는것</td>\n",
       "    </tr>\n",
       "    <tr>\n",
       "      <th>3</th>\n",
       "      <td>1</td>\n",
       "      <td>1983</td>\n",
       "      <td>38</td>\n",
       "      <td>4</td>\n",
       "      <td>54</td>\n",
       "      <td>안봄</td>\n",
       "    </tr>\n",
       "    <tr>\n",
       "      <th>4</th>\n",
       "      <td>2</td>\n",
       "      <td>2001</td>\n",
       "      <td>20</td>\n",
       "      <td>8</td>\n",
       "      <td>82</td>\n",
       "      <td>수영에서 아시아 기록 깬것</td>\n",
       "    </tr>\n",
       "    <tr>\n",
       "      <th>...</th>\n",
       "      <td>...</td>\n",
       "      <td>...</td>\n",
       "      <td>...</td>\n",
       "      <td>...</td>\n",
       "      <td>...</td>\n",
       "      <td>...</td>\n",
       "    </tr>\n",
       "    <tr>\n",
       "      <th>30586</th>\n",
       "      <td>2</td>\n",
       "      <td>1995</td>\n",
       "      <td>26</td>\n",
       "      <td>3</td>\n",
       "      <td>48</td>\n",
       "      <td>긴장감넘치는 에페 펜싱경기와 최고의 경기력을 볼 수 있었던 여자 배구, 그리고 역시...</td>\n",
       "    </tr>\n",
       "    <tr>\n",
       "      <th>30587</th>\n",
       "      <td>1</td>\n",
       "      <td>1980</td>\n",
       "      <td>41</td>\n",
       "      <td>1</td>\n",
       "      <td>15</td>\n",
       "      <td>배구 사강 .안산의 양궁</td>\n",
       "    </tr>\n",
       "    <tr>\n",
       "      <th>30588</th>\n",
       "      <td>1</td>\n",
       "      <td>1981</td>\n",
       "      <td>40</td>\n",
       "      <td>4</td>\n",
       "      <td>55</td>\n",
       "      <td>여자배구 한일전에서 짜릿한 역전승</td>\n",
       "    </tr>\n",
       "    <tr>\n",
       "      <th>30589</th>\n",
       "      <td>1</td>\n",
       "      <td>1990</td>\n",
       "      <td>31</td>\n",
       "      <td>8</td>\n",
       "      <td>77</td>\n",
       "      <td>양궁 결승전에서 끝! 이라는 외마디!</td>\n",
       "    </tr>\n",
       "    <tr>\n",
       "      <th>30590</th>\n",
       "      <td>2</td>\n",
       "      <td>2001</td>\n",
       "      <td>20</td>\n",
       "      <td>13</td>\n",
       "      <td>182</td>\n",
       "      <td>양궁 선수들과 배구 선수들이 가장 기억에 남음. 양궁은 말할 것도 없이 너무너무 잘...</td>\n",
       "    </tr>\n",
       "  </tbody>\n",
       "</table>\n",
       "<p>30591 rows × 6 columns</p>\n",
       "</div>"
      ],
      "text/plain": [
       "       Q1  Q2t1 Q2t2  Q2_1  HQ_Q2_1  \\\n",
       "0       2  2000   21     3       46   \n",
       "1       1  1997   24     3       47   \n",
       "2       2  1978   43     8       75   \n",
       "3       1  1983   38     4       54   \n",
       "4       2  2001   20     8       82   \n",
       "...    ..   ...  ...   ...      ...   \n",
       "30586   2  1995   26     3       48   \n",
       "30587   1  1980   41     1       15   \n",
       "30588   1  1981   40     4       55   \n",
       "30589   1  1990   31     8       77   \n",
       "30590   2  2001   20    13      182   \n",
       "\n",
       "                                                    Q3t1  \n",
       "0                                                   안산선수  \n",
       "1                                              여자배구 4강진출  \n",
       "2                                          메달 못따도 즐거워하는것  \n",
       "3                                                     안봄  \n",
       "4                                         수영에서 아시아 기록 깬것  \n",
       "...                                                  ...  \n",
       "30586  긴장감넘치는 에페 펜싱경기와 최고의 경기력을 볼 수 있었던 여자 배구, 그리고 역시...  \n",
       "30587                                      배구 사강 .안산의 양궁  \n",
       "30588                                 여자배구 한일전에서 짜릿한 역전승  \n",
       "30589                               양궁 결승전에서 끝! 이라는 외마디!  \n",
       "30590  양궁 선수들과 배구 선수들이 가장 기억에 남음. 양궁은 말할 것도 없이 너무너무 잘...  \n",
       "\n",
       "[30591 rows x 6 columns]"
      ]
     },
     "execution_count": 11,
     "metadata": {},
     "output_type": "execute_result"
    }
   ],
   "source": [
    "new_df = df.iloc[:,5:]\n",
    "new_df"
   ]
  },
  {
   "cell_type": "markdown",
   "id": "67f349cb",
   "metadata": {},
   "source": [
    "## 데이터 전처리"
   ]
  },
  {
   "cell_type": "code",
   "execution_count": 12,
   "id": "62a68226",
   "metadata": {},
   "outputs": [],
   "source": [
    "# 연령 column에서 값이 '/NA/'인 행 제거\n",
    "new_df = new_df.drop(new_df[new_df['Q2t2'] == '/NA/'].index)"
   ]
  },
  {
   "cell_type": "code",
   "execution_count": 13,
   "id": "f285a3ec",
   "metadata": {},
   "outputs": [
    {
     "name": "stdout",
     "output_type": "stream",
     "text": [
      "<class 'pandas.core.frame.DataFrame'>\n",
      "Int64Index: 30569 entries, 0 to 30590\n",
      "Data columns (total 6 columns):\n",
      " #   Column   Non-Null Count  Dtype \n",
      "---  ------   --------------  ----- \n",
      " 0   Q1       30569 non-null  int64 \n",
      " 1   Q2t1     30569 non-null  int64 \n",
      " 2   Q2t2     30569 non-null  int64 \n",
      " 3   Q2_1     30569 non-null  int64 \n",
      " 4   HQ_Q2_1  30569 non-null  int64 \n",
      " 5   Q3t1     30566 non-null  object\n",
      "dtypes: int64(5), object(1)\n",
      "memory usage: 1.6+ MB\n"
     ]
    }
   ],
   "source": [
    "# 연령대 값 int로 바꾸기\n",
    "new_df = new_df.astype({'Q2t2':'int64'})\n",
    "# 결측값 확인\n",
    "new_df.info()"
   ]
  },
  {
   "cell_type": "code",
   "execution_count": 14,
   "id": "53a5cd9a",
   "metadata": {},
   "outputs": [
    {
     "data": {
      "text/plain": [
       "Q1         0\n",
       "Q2t1       0\n",
       "Q2t2       0\n",
       "Q2_1       0\n",
       "HQ_Q2_1    0\n",
       "Q3t1       0\n",
       "dtype: int64"
      ]
     },
     "execution_count": 14,
     "metadata": {},
     "output_type": "execute_result"
    }
   ],
   "source": [
    "# 텍스트 부분 결측치 제거 후 확인\n",
    "new_df = new_df.dropna(how='any', axis=0)\n",
    "new_df.isna().sum()"
   ]
  },
  {
   "cell_type": "code",
   "execution_count": 15,
   "id": "4aec462e",
   "metadata": {},
   "outputs": [],
   "source": [
    "# 텍스트 특수기호, 영어 제거\n",
    "new_df['prepro_text'] = new_df['Q3t1'].map(text_preprocessing)"
   ]
  },
  {
   "cell_type": "code",
   "execution_count": 16,
   "id": "108a400e",
   "metadata": {},
   "outputs": [],
   "source": [
    "# 텍스트 tokenizing\n",
    "new_df['prepro_text'] = new_df['prepro_text'].map(tokenize)"
   ]
  },
  {
   "cell_type": "markdown",
   "id": "9b9aee65",
   "metadata": {},
   "source": [
    "### 성별"
   ]
  },
  {
   "cell_type": "code",
   "execution_count": 17,
   "id": "bc4020c1",
   "metadata": {},
   "outputs": [],
   "source": [
    "# 성별 데이터\n",
    "# 남성\n",
    "male = new_df['prepro_text'][new_df['Q1'] == 1]\n",
    "# 여성\n",
    "female = new_df['prepro_text'][new_df['Q1'] == 2]"
   ]
  },
  {
   "cell_type": "code",
   "execution_count": 38,
   "id": "e431f506",
   "metadata": {},
   "outputs": [
    {
     "name": "stdout",
     "output_type": "stream",
     "text": [
      "10624\n",
      "19942\n"
     ]
    }
   ],
   "source": [
    "print(len(male))\n",
    "print(len(female))"
   ]
  },
  {
   "cell_type": "markdown",
   "id": "b37022bf",
   "metadata": {},
   "source": [
    "### 나이별"
   ]
  },
  {
   "cell_type": "code",
   "execution_count": 18,
   "id": "9f98e10e",
   "metadata": {},
   "outputs": [
    {
     "data": {
      "text/plain": [
       "3    9263\n",
       "2    8124\n",
       "4    6172\n",
       "1    3000\n",
       "5    2995\n",
       "6    1012\n",
       "Name: Q2t2, dtype: int64"
      ]
     },
     "execution_count": 18,
     "metadata": {},
     "output_type": "execute_result"
    }
   ],
   "source": [
    "# 나이 코딩 변환\n",
    "new_df['Q2t2'] = new_df['Q2t2'].map(age_split)\n",
    "new_df['Q2t2'].value_counts()"
   ]
  },
  {
   "cell_type": "code",
   "execution_count": 19,
   "id": "22ba336d",
   "metadata": {},
   "outputs": [],
   "source": [
    "# 연령대 데이터\n",
    "age10 = new_df['prepro_text'][new_df['Q2t2']==1]\n",
    "age20 = new_df['prepro_text'][new_df['Q2t2']==2]\n",
    "age30 = new_df['prepro_text'][new_df['Q2t2']==3]\n",
    "age40 = new_df['prepro_text'][new_df['Q2t2']==4]\n",
    "age50 = new_df['prepro_text'][new_df['Q2t2']==5]\n",
    "age60 = new_df['prepro_text'][new_df['Q2t2']==6]\n",
    "\n",
    "# 청년층 vs 장년층\n",
    "age1030 = new_df['prepro_text'][new_df['Q2t2']<=3]\n",
    "age4060 = new_df['prepro_text'][new_df['Q2t2']>=4]"
   ]
  },
  {
   "cell_type": "markdown",
   "id": "070dd17e",
   "metadata": {},
   "source": [
    "### 지역별"
   ]
  },
  {
   "cell_type": "code",
   "execution_count": 20,
   "id": "a1aed74c",
   "metadata": {},
   "outputs": [],
   "source": [
    "# 지역 분리 코딩 변환\n",
    "new_df['지역'] = new_df['Q2_1'].map(location_split)"
   ]
  },
  {
   "cell_type": "code",
   "execution_count": 54,
   "id": "290579ba",
   "metadata": {},
   "outputs": [
    {
     "data": {
      "text/plain": [
       "1    18033\n",
       "4     6698\n",
       "2     2707\n",
       "3     2241\n",
       "5      610\n",
       "6      277\n",
       "Name: 지역, dtype: int64"
      ]
     },
     "execution_count": 54,
     "metadata": {},
     "output_type": "execute_result"
    }
   ],
   "source": [
    "new_df['지역'].value_counts()"
   ]
  },
  {
   "cell_type": "code",
   "execution_count": 21,
   "id": "e8dbc7da",
   "metadata": {},
   "outputs": [],
   "source": [
    "# 6권역\n",
    "sudo = new_df['prepro_text'][new_df['지역']==1]\n",
    "choong = new_df['prepro_text'][new_df['지역']==2]\n",
    "junla = new_df['prepro_text'][new_df['지역']==3]\n",
    "kyungsang = new_df['prepro_text'][new_df['지역']==4]\n",
    "kangwon = new_df['prepro_text'][new_df['지역']==5]\n",
    "jeju = new_df['prepro_text'][new_df['지역']==6]\n",
    "\n",
    "# 수도권 vs 비수도권\n",
    "ok_sudo = new_df['prepro_text'][new_df['지역']==1]\n",
    "no_sudo = new_df['prepro_text'][new_df['지역']>=2]"
   ]
  },
  {
   "cell_type": "markdown",
   "id": "6ec59a7c",
   "metadata": {},
   "source": [
    "# 텍스트 분석"
   ]
  },
  {
   "cell_type": "markdown",
   "id": "dc5fc8f4",
   "metadata": {},
   "source": [
    "## 불용어 사전"
   ]
  },
  {
   "cell_type": "code",
   "execution_count": 24,
   "id": "460f080b",
   "metadata": {},
   "outputs": [],
   "source": [
    "stop_words = ['10', '선수', '배구', '경기', '모습', '제일', '이번', '인상', '기억', \n",
    "              '하는', '우상', '가장', '종목', '수의', '깊었다', '올림픽', '안산선', '수가']"
   ]
  },
  {
   "cell_type": "code",
   "execution_count": 25,
   "id": "29d67af4",
   "metadata": {},
   "outputs": [],
   "source": [
    "# 빈도분석 단어사전 정리\n",
    "count_vectorizer = CountVectorizer(max_features=1000, \n",
    "                                   min_df=100,\n",
    "                                   ngram_range =(1,2),\n",
    "                                   stop_words=stop_words).fit(new_df['prepro_text'])"
   ]
  },
  {
   "cell_type": "code",
   "execution_count": 26,
   "id": "fb908d9c",
   "metadata": {},
   "outputs": [],
   "source": [
    "# 벡터화\n",
    "feature_vec = count_vectorizer.fit_transform(male)"
   ]
  },
  {
   "cell_type": "code",
   "execution_count": 30,
   "id": "4bd10b46",
   "metadata": {},
   "outputs": [
    {
     "data": {
      "text/plain": [
       "LatentDirichletAllocation(n_components=4, random_state=0)"
      ]
     },
     "execution_count": 30,
     "metadata": {},
     "output_type": "execute_result"
    }
   ],
   "source": [
    "# 4개의 주제로 LDA\n",
    "lda = LatentDirichletAllocation(n_components=4, random_state=0)\n",
    "lda.fit(feature_vec)"
   ]
  },
  {
   "cell_type": "code",
   "execution_count": 31,
   "id": "16024ac7",
   "metadata": {
    "scrolled": true
   },
   "outputs": [
    {
     "data": {
      "text/plain": [
       "array([[2.39901704e+02, 1.43249645e+02, 1.68237488e+02, 2.52548381e-01,\n",
       "        1.35984107e+02, 1.14828117e+02, 1.99404443e+02, 2.03378312e+00,\n",
       "        2.54988579e-01, 2.55631263e-01, 1.58958975e+02, 1.94452196e+02,\n",
       "        2.56971799e-01, 2.61920241e+02, 2.12164936e+02, 2.54741739e-01,\n",
       "        1.05241322e+02, 2.56139340e-01, 3.60994551e+00, 5.21018552e-01,\n",
       "        1.58972895e+02, 6.01246382e+00, 1.13178159e+02, 1.30621077e+02,\n",
       "        5.41414816e+02, 2.88012048e-01, 1.38967233e+02, 1.49711869e+02,\n",
       "        2.67513793e-01, 2.54204659e-01, 1.06906232e+02, 7.78146824e+01,\n",
       "        1.91672098e+02, 7.59550644e+00, 3.39717959e-01, 5.89010053e-01,\n",
       "        2.56424718e-01, 1.07082811e+02, 1.62945669e+02, 2.53285731e-01,\n",
       "        2.53523304e-01, 2.51104705e-01, 1.11622145e+02, 5.59419678e-01,\n",
       "        2.56043448e-01, 9.12289894e+01, 2.52298739e-01, 2.51098598e-01,\n",
       "        2.52364381e-01, 2.52155123e-01, 8.14124447e-01, 2.52348124e-01,\n",
       "        2.73338938e+00, 2.51542768e-01, 2.50869557e-01, 1.91328728e+02,\n",
       "        2.59803024e-01, 1.83232387e+02, 2.74013029e+02, 2.55291716e-01,\n",
       "        1.53603506e+02, 1.07113908e+02, 1.71393387e+02, 3.97213388e+02,\n",
       "        1.88800188e+02, 2.43795676e+02, 9.47771275e+01, 2.93178114e-01,\n",
       "        7.69148407e-01, 1.17403610e+02, 2.53574292e-01, 4.95234826e+02,\n",
       "        1.01242067e+02, 2.55631889e-01, 1.75609454e+02, 1.23232166e+02,\n",
       "        2.16010597e+00, 2.59872779e-01, 2.54268020e-01, 1.12913677e+02,\n",
       "        2.59746014e-01, 1.25159735e+00, 2.66355746e-01, 2.60768369e-01,\n",
       "        2.89383750e+01, 2.58781295e-01, 2.50859444e-01, 2.54379734e-01,\n",
       "        7.79468728e+01, 8.52113617e+01, 2.19735892e+02, 2.11876991e+02,\n",
       "        4.27491791e+00],\n",
       "       [3.01416110e-01, 8.32983867e-01, 2.55451482e-01, 2.52064477e-01,\n",
       "        3.07022707e-01, 4.94167326e+01, 4.90376121e+01, 2.55848762e-01,\n",
       "        1.36137979e+02, 2.53617743e-01, 2.55374140e-01, 5.65929804e+01,\n",
       "        2.46849059e+02, 2.64457577e-01, 2.55367806e-01, 8.04240602e+02,\n",
       "        2.53248099e-01, 2.74203564e+02, 2.62795894e+02, 1.20968421e+02,\n",
       "        4.77225688e-01, 5.08587197e-01, 5.38455697e+00, 1.93131344e+01,\n",
       "        1.68576202e+02, 2.72594827e-01, 5.61036477e+00, 3.28207217e+00,\n",
       "        2.56137829e-01, 2.53208482e-01, 5.86240844e-01, 3.27174679e+01,\n",
       "        8.53723315e+00, 5.70393851e+01, 1.70800891e+02, 1.17861802e+02,\n",
       "        1.89156520e+02, 2.63026532e-01, 2.52720171e+00, 2.31244128e+02,\n",
       "        2.51710346e-01, 2.50764549e-01, 2.55618830e-01, 2.55457576e-01,\n",
       "        4.70198866e+02, 4.59712213e-01, 2.52436365e-01, 2.51450757e-01,\n",
       "        2.51271823e-01, 2.51002918e-01, 4.38741104e-01, 2.52099380e-01,\n",
       "        5.18291071e+01, 2.52106926e-01, 2.51958856e-01, 2.55204302e-01,\n",
       "        2.61653847e-01, 2.56681759e-01, 3.24689934e+01, 1.45240247e+02,\n",
       "        2.80480396e-01, 4.37256058e+00, 3.77188438e+01, 2.66217202e-01,\n",
       "        4.00068814e-01, 1.82617757e+00, 5.46935329e+01, 2.86935230e+01,\n",
       "        1.15299674e+02, 4.30909475e+01, 2.61876387e-01, 2.54769924e-01,\n",
       "        2.53144939e-01, 2.09237222e+02, 2.56362441e-01, 2.54759681e-01,\n",
       "        1.22648746e+02, 2.67974871e-01, 1.28689905e+02, 4.37120179e+00,\n",
       "        2.59828063e-01, 3.18039162e-01, 2.51727907e-01, 2.50938215e-01,\n",
       "        2.55257631e-01, 4.60231269e+02, 1.56247819e+02, 2.52444699e-01,\n",
       "        3.54043796e+00, 3.63514343e+01, 4.58127507e-01, 2.55866964e-01,\n",
       "        2.60328249e-01],\n",
       "       [2.56071273e-01, 2.52771741e-01, 2.52621635e-01, 3.39244225e+02,\n",
       "        2.52523726e-01, 2.62543262e-01, 3.04517131e-01, 4.91457581e+02,\n",
       "        3.54295714e-01, 2.53027246e-01, 5.06255649e-01, 5.95183611e-01,\n",
       "        3.09648421e+01, 2.54089855e-01, 2.52338292e-01, 2.52318420e-01,\n",
       "        2.51709681e-01, 2.55321380e-01, 2.57671989e-01, 2.52387751e-01,\n",
       "        2.95920903e-01, 2.54411099e-01, 2.54296951e-01, 5.28054213e+00,\n",
       "        1.39038859e+01, 1.10184928e+02, 2.54719868e-01, 2.53325962e-01,\n",
       "        1.05528559e+02, 2.52088300e-01, 2.52521017e-01, 2.53703494e-01,\n",
       "        2.56180125e-01, 1.38248432e+02, 2.52626555e-01, 2.55662043e-01,\n",
       "        3.35003195e-01, 2.54668756e-01, 2.58905199e-01, 2.51500053e-01,\n",
       "        4.82242597e+02, 1.39247285e+02, 2.51764638e-01, 2.52029665e-01,\n",
       "        2.54215733e-01, 1.48405744e+03, 1.17244480e+02, 1.62246853e+02,\n",
       "        1.23245277e+02, 1.19246045e+02, 2.11618977e+02, 2.51670841e-01,\n",
       "        1.29349733e+03, 2.51541978e-01, 1.29245952e+02, 2.53484719e-01,\n",
       "        2.52805056e-01, 2.52300056e-01, 2.57399355e-01, 2.52534864e-01,\n",
       "        2.52894697e-01, 2.54564243e-01, 8.63393776e+00, 2.54220336e-01,\n",
       "        2.67114871e-01, 2.98316330e-01, 2.58651521e-01, 2.53195822e-01,\n",
       "        2.52998422e-01, 2.50829086e-01, 3.98227021e+02, 2.52095603e-01,\n",
       "        2.51772347e-01, 2.54837641e-01, 2.54378752e-01, 2.56181448e-01,\n",
       "        2.91339665e-01, 3.31479409e+01, 2.56470507e-01, 2.54926314e-01,\n",
       "        2.55592880e-01, 8.61037109e+01, 2.50803329e-01, 2.50490613e-01,\n",
       "        2.52588184e-01, 2.54919272e-01, 2.50722114e-01, 2.54278725e-01,\n",
       "        3.08497226e-01, 2.55228246e-01, 2.63724741e-01, 2.57246161e-01,\n",
       "        1.85210189e+02],\n",
       "       [8.95408083e+01, 2.66459977e+00, 2.54438886e-01, 2.51161786e-01,\n",
       "        3.45634691e+00, 1.34926069e+01, 2.53428248e-01, 2.52786737e-01,\n",
       "        2.52736800e-01, 1.40623772e+03, 2.79395392e-01, 1.18359640e+02,\n",
       "        2.92912753e+00, 8.56121108e+00, 4.13273577e+01, 2.52337474e-01,\n",
       "        2.53720550e-01, 2.84975764e-01, 1.33648866e+00, 2.58173090e-01,\n",
       "        2.53958295e-01, 2.48224538e+02, 5.18298739e+00, 6.78524621e+00,\n",
       "        1.10509578e+00, 2.54465114e-01, 1.16768279e+00, 1.17527325e+01,\n",
       "        3.94778976e+00, 2.51240499e+02, 2.55006120e-01, 4.21414626e+00,\n",
       "        5.95344888e+01, 4.11667668e+00, 6.06764017e-01, 3.29352542e+00,\n",
       "        2.52052211e-01, 4.53994942e+01, 2.68224275e-01, 2.51085859e-01,\n",
       "        2.52169082e-01, 2.50845410e-01, 7.68704711e+01, 1.09933093e+02,\n",
       "        2.90875008e-01, 2.53855884e-01, 2.50784434e-01, 2.50597764e-01,\n",
       "        2.51087123e-01, 2.50796626e-01, 6.52128158e+02, 1.87243882e+02,\n",
       "        3.00940169e+02, 1.10244808e+02, 2.51219623e-01, 7.61625831e+01,\n",
       "        2.49225738e+02, 2.58630917e-01, 2.60578406e-01, 2.51926247e-01,\n",
       "        8.63118855e-01, 2.58967175e-01, 2.53831551e-01, 2.66174622e-01,\n",
       "        1.53262861e+00, 2.70798297e+01, 3.32706881e+01, 1.17760103e+02,\n",
       "        6.78179264e-01, 2.54613717e-01, 2.57528694e-01, 2.58308769e-01,\n",
       "        2.53016049e-01, 2.52308597e-01, 1.97879804e+02, 2.56892898e-01,\n",
       "        7.18998088e+01, 1.15324211e+02, 2.16799357e+02, 6.46019512e+00,\n",
       "        1.40224833e+02, 1.44326653e+02, 1.66231113e+02, 1.50237803e+02,\n",
       "        2.26553779e+02, 2.55030831e-01, 2.50599374e-01, 2.05238897e+02,\n",
       "        3.42041920e+01, 1.18197576e+00, 5.65422554e+01, 6.09896059e-01,\n",
       "        2.54564931e-01]])"
      ]
     },
     "execution_count": 31,
     "metadata": {},
     "output_type": "execute_result"
    }
   ],
   "source": [
    "lda.components_"
   ]
  },
  {
   "cell_type": "code",
   "execution_count": 32,
   "id": "3b4d1a49",
   "metadata": {},
   "outputs": [
    {
     "data": {
      "text/plain": [
       "(4, 93)"
      ]
     },
     "execution_count": 32,
     "metadata": {},
     "output_type": "execute_result"
    }
   ],
   "source": [
    "lda.components_.shape"
   ]
  },
  {
   "cell_type": "code",
   "execution_count": 37,
   "id": "06932afa",
   "metadata": {},
   "outputs": [
    {
     "name": "stdout",
     "output_type": "stream",
     "text": [
      "1번째 토픽\n",
      "[('메달', 541.41), ('최선', 495.23), ('일본', 397.21), ('우리나라', 274.01), ('너무', 261.92), ('장면', 243.8), ('감동', 239.9), ('화이팅', 219.74), ('노력', 212.16), ('활약', 211.88), ('근대', 199.4), ('깊었습니다', 194.45), ('생각', 191.67), ('열심히', 191.33), ('입니다', 188.8), ('우리', 183.23), ('코로나', 175.61), ('인기', 171.39), ('관심', 168.24), ('승리', 162.95)]\n",
      "2번째 토픽\n",
      "[('높이뛰기', 804.24), ('야구', 470.2), ('한국', 460.23), ('대표팀', 274.2), ('대한민국', 262.8), ('남자', 246.85), ('신기록', 231.24), ('축구', 209.24), ('수영', 189.16), ('성적', 170.8), ('메달', 168.58), ('한국 신기록', 156.25), ('육상', 145.24), ('긍정', 136.14), ('투혼', 128.69), ('터키', 122.65), ('도전', 120.97), ('세계', 117.86), ('좋은', 115.3), ('선전', 57.04)]\n",
      "3번째 토픽\n",
      "[('양궁', 1484.06), ('여자배구', 1293.5), ('금메달', 491.46), ('안산', 482.24), ('진출', 398.23), ('관왕', 339.24), ('여자', 211.62), ('획득', 185.21), ('양궁 금메달', 162.25), ('안산 관왕', 139.25), ('선전', 138.25), ('여자배구 진출', 129.25), ('양궁 안산', 123.25), ('없음', 119.25), ('양궁 관왕', 117.24), ('메달 획득', 110.18), ('무관', 105.53), ('펜싱', 86.1), ('투지', 33.15), ('남자', 30.96)]\n",
      "4번째 토픽\n",
      "[('김연경', 1406.24), ('여자', 652.13), ('여자배구', 300.94), ('배구팀', 251.24), ('열정', 249.23), ('마지막', 248.22), ('하지', 226.55), ('투혼', 216.8), ('한일전', 205.24), ('코로나', 197.88), ('여자 배구팀', 187.24), ('포기', 166.23), ('포기 하지', 150.24), ('펜싱', 144.33), ('파이팅', 140.22), ('깊었습니다', 118.36), ('정신', 117.76), ('투지', 115.32), ('여자배구 김연경', 110.24), ('않는', 109.93)]\n"
     ]
    }
   ],
   "source": [
    "feature_names = count_vectorizer.get_feature_names() \n",
    "for idx, topic in enumerate(lda.components_):\n",
    "    print('{}번째 토픽'.format(idx+1))\n",
    "    topic_word_idx = (-topic).argsort() # arsort 오름차순하고 싶을 때\n",
    "    top20_idx = topic_word_idx[:20]\n",
    "    # print(top20_idx)\n",
    "    \n",
    "    features = [(feature_names[i], round(topic[i],2)) for i in top20_idx]\n",
    "    print(features)"
   ]
  }
 ],
 "metadata": {
  "kernelspec": {
   "display_name": "Python [conda env:.conda-data_env_tf2] *",
   "language": "python",
   "name": "conda-env-.conda-data_env_tf2-py"
  },
  "language_info": {
   "codemirror_mode": {
    "name": "ipython",
    "version": 3
   },
   "file_extension": ".py",
   "mimetype": "text/x-python",
   "name": "python",
   "nbconvert_exporter": "python",
   "pygments_lexer": "ipython3",
   "version": "3.7.10"
  }
 },
 "nbformat": 4,
 "nbformat_minor": 5
}
