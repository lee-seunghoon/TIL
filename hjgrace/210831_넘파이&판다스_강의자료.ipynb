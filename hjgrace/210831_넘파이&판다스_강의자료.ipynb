{
  "nbformat": 4,
  "nbformat_minor": 0,
  "metadata": {
    "colab": {
      "name": "210831_넘파이&판다스.ipynb",
      "provenance": [],
      "collapsed_sections": [
        "PAELEdpLFxxo",
        "OMhMYMxIap7a",
        "cTAUQio3aljP",
        "mJePXFRAavIR",
        "7u86JCnTb7a7",
        "LZ1hAeeOeNy0",
        "u3XyySAKxE-h",
        "AeOuWkCuyTHO",
        "778gXDxO6TRH",
        "YQ6VSuiy-xOL",
        "RdQdDKLoAGa3",
        "YRv6D-_YAJ68",
        "02GKIBrYBgx3",
        "2Y1DkRSpCmb3",
        "8zwz8ZEUFcrL",
        "3S2kqztPFgk-",
        "s87JwXODG-oM",
        "XIwTH2S5HRkA",
        "-f2EkMDyH8pc",
        "wi6O1MWTIvYI",
        "fPIikj9mF4zD",
        "ZByjGS1uJlMa",
        "j4Lw8L3VKF4q",
        "mF-_JiHwKhyS",
        "tnSu4XbZL7F5",
        "cW3rCm9TMbvD",
        "XzPo5o5yM2aO",
        "1YX2cgL7Nk9m",
        "J1-s-lFpONyI",
        "x-GGgDxpORaY",
        "EF7MxqqvWXY6",
        "WO38cpI0XGzA",
        "ru-bws_Zj550",
        "EI3yfrzukNYv",
        "1WCj4UFBkvyd",
        "geNWaN51xmyf",
        "dAyy8L3rx5TL",
        "jOQfZoFFyHA6",
        "jnv7s_4fyPhu"
      ]
    },
    "kernelspec": {
      "name": "python3",
      "display_name": "Python 3"
    },
    "language_info": {
      "name": "python"
    }
  },
  "cells": [
    {
      "cell_type": "markdown",
      "metadata": {
        "id": "PAELEdpLFxxo"
      },
      "source": [
        "# Numpy"
      ]
    },
    {
      "cell_type": "markdown",
      "metadata": {
        "id": "OMhMYMxIap7a"
      },
      "source": [
        "## Numpy 생성"
      ]
    },
    {
      "cell_type": "code",
      "metadata": {
        "colab": {
          "base_uri": "https://localhost:8080/"
        },
        "id": "HJAZ1_kiVd6V",
        "outputId": "3b9126fd-c38b-48e6-c409-8653a1b0c783"
      },
      "source": [
        "import numpy as np\n",
        "\n",
        "a = np.array([1,2,3,4,5])\n",
        "b = [1,2,3,4,5]\n",
        "\n",
        "# print(type(a))\n",
        "# type(b)\n",
        "\n",
        "c= [1, 2.5, True, '리스트']\n",
        "print(c)\n",
        "\n",
        "d= np.array([1, 2.5, True, '리스트'])\n",
        "print(d)"
      ],
      "execution_count": 210,
      "outputs": [
        {
          "output_type": "stream",
          "name": "stdout",
          "text": [
            "[1, 2.5, True, '리스트']\n",
            "['1' '2.5' 'True' '리스트']\n"
          ]
        }
      ]
    },
    {
      "cell_type": "markdown",
      "metadata": {
        "id": "cTAUQio3aljP"
      },
      "source": [
        "## Numpy 구조 확인"
      ]
    },
    {
      "cell_type": "code",
      "metadata": {
        "colab": {
          "base_uri": "https://localhost:8080/"
        },
        "id": "9mRh8syOWqVq",
        "outputId": "393e351d-dfdf-4d52-e56d-c4f54882fddd"
      },
      "source": [
        "# 1차원\n",
        "my_list = [1,2,3,4]\n",
        "new_array = np.array(my_list)\n",
        "\n",
        "print(new_array)\n",
        "print(new_array.ndim)\n",
        "print(new_array.shape)"
      ],
      "execution_count": 213,
      "outputs": [
        {
          "output_type": "stream",
          "name": "stdout",
          "text": [
            "[1 2 3 4]\n",
            "1\n",
            "(4,)\n"
          ]
        }
      ]
    },
    {
      "cell_type": "code",
      "metadata": {
        "colab": {
          "base_uri": "https://localhost:8080/"
        },
        "id": "mUShmj_wZdac",
        "outputId": "fd7d94bb-cbd5-402b-dffd-0d18420dad05"
      },
      "source": [
        "# 2차원\n",
        "a = [[1,2,3], \n",
        "     [4,5,6]]\n",
        "n_array = np.array(a)\n",
        "\n",
        "print(n_array)\n",
        "print(n_array.ndim)\n",
        "print(n_array.shape)"
      ],
      "execution_count": 214,
      "outputs": [
        {
          "output_type": "stream",
          "name": "stdout",
          "text": [
            "[[1 2 3]\n",
            " [4 5 6]]\n",
            "2\n",
            "(2, 3)\n"
          ]
        }
      ]
    },
    {
      "cell_type": "code",
      "metadata": {
        "colab": {
          "base_uri": "https://localhost:8080/"
        },
        "id": "Id72bFXcZ9U9",
        "outputId": "d51e06ea-9217-4b7c-d3ff-8ae7860898d5"
      },
      "source": [
        "# 3차원 ==> 이미지\n",
        "b = [[[1,2,3], [4,5,6]], [[7,8,9], [10,11,12]]]\n",
        "n_array = np.array(b)\n",
        "\n",
        "print(n_array)\n",
        "print(n_array.ndim)\n",
        "print(n_array.shape)"
      ],
      "execution_count": 215,
      "outputs": [
        {
          "output_type": "stream",
          "name": "stdout",
          "text": [
            "[[[ 1  2  3]\n",
            "  [ 4  5  6]]\n",
            "\n",
            " [[ 7  8  9]\n",
            "  [10 11 12]]]\n",
            "3\n",
            "(2, 2, 3)\n"
          ]
        }
      ]
    },
    {
      "cell_type": "markdown",
      "metadata": {
        "id": "mJePXFRAavIR"
      },
      "source": [
        "## Numpy 구조 변경"
      ]
    },
    {
      "cell_type": "code",
      "metadata": {
        "colab": {
          "base_uri": "https://localhost:8080/"
        },
        "id": "ogqdVPjwbb5b",
        "outputId": "bff93e7e-eb6f-4add-daaa-8fcd17427fa5"
      },
      "source": [
        "# 1차원 ndarray\n",
        "my_list = [1,2,3,4]\n",
        "new_array = np.array(my_list)\n",
        "new_array.shape"
      ],
      "execution_count": 217,
      "outputs": [
        {
          "output_type": "execute_result",
          "data": {
            "text/plain": [
              "(4,)"
            ]
          },
          "metadata": {},
          "execution_count": 217
        }
      ]
    },
    {
      "cell_type": "code",
      "metadata": {
        "colab": {
          "base_uri": "https://localhost:8080/"
        },
        "id": "EVgK2dtWaj-j",
        "outputId": "1a94d108-12cc-4700-80d5-13690f013f7f"
      },
      "source": [
        "# 1차원 ndarray\n",
        "my_list = [1,2,3,4]\n",
        "new_array = np.array(my_list)\n",
        "\n",
        "# 1차원 --> 2차원\n",
        "new_array.shape = (2,2)\n",
        "'''\n",
        "[[1,2],\n",
        " [3,4]]\n",
        "'''\n",
        "print(new_array)\n",
        "print(new_array.shape)\n",
        "\n",
        "# 2차원 --> 3차원\n",
        "new_array.shape = (4,1,1)\n",
        "'''\n",
        "[[[1]]\n",
        " [[2]]\n",
        " [[3]]\n",
        " [[4]]]\n",
        "'''\n",
        "print(new_array)\n",
        "print(new_array.shape)"
      ],
      "execution_count": 219,
      "outputs": [
        {
          "output_type": "stream",
          "name": "stdout",
          "text": [
            "[[1 2]\n",
            " [3 4]]\n",
            "(2, 2)\n",
            "[[[1]]\n",
            "\n",
            " [[2]]\n",
            "\n",
            " [[3]]\n",
            "\n",
            " [[4]]]\n",
            "(4, 1, 1)\n"
          ]
        }
      ]
    },
    {
      "cell_type": "markdown",
      "metadata": {
        "id": "7u86JCnTb7a7"
      },
      "source": [
        "## reshape\n",
        "> - 새로운 ndarray 만들지 않고 복사본 만든다\n",
        "- -1을 사용해 계산 없이 쉽게 변경 가능"
      ]
    },
    {
      "cell_type": "code",
      "metadata": {
        "colab": {
          "base_uri": "https://localhost:8080/"
        },
        "id": "GZ9k4hlhcOkC",
        "outputId": "f384afcd-66ab-4b74-ad97-600f1e8f3fdb"
      },
      "source": [
        "my_list = [1,2,3,4]\n",
        "new_array = np.array(my_list)\n",
        "new_array.reshape(2,2)"
      ],
      "execution_count": 220,
      "outputs": [
        {
          "output_type": "execute_result",
          "data": {
            "text/plain": [
              "array([[1, 2],\n",
              "       [3, 4]])"
            ]
          },
          "metadata": {},
          "execution_count": 220
        }
      ]
    },
    {
      "cell_type": "code",
      "metadata": {
        "colab": {
          "base_uri": "https://localhost:8080/"
        },
        "id": "LtH0Zlh3cX1D",
        "outputId": "a8594634-867b-4583-b2da-6dab0fb13182"
      },
      "source": [
        "arr1 = arr.reshape(3,4)\n",
        "arr1"
      ],
      "execution_count": 222,
      "outputs": [
        {
          "output_type": "execute_result",
          "data": {
            "text/plain": [
              "array([[ 0,  1,  2,  3],\n",
              "       [ 4,  5,  6,  7],\n",
              "       [ 8,  9, 10, 11]])"
            ]
          },
          "metadata": {},
          "execution_count": 222
        }
      ]
    },
    {
      "cell_type": "code",
      "metadata": {
        "colab": {
          "base_uri": "https://localhost:8080/"
        },
        "id": "qROs9PS5coW5",
        "outputId": "d20d14cc-02c8-48ea-f453-68f428ca5f7a"
      },
      "source": [
        "arr2 = arr.reshape(3,-1)\n",
        "arr2"
      ],
      "execution_count": 223,
      "outputs": [
        {
          "output_type": "execute_result",
          "data": {
            "text/plain": [
              "array([[ 0,  1,  2,  3],\n",
              "       [ 4,  5,  6,  7],\n",
              "       [ 8,  9, 10, 11]])"
            ]
          },
          "metadata": {},
          "execution_count": 223
        }
      ]
    },
    {
      "cell_type": "code",
      "metadata": {
        "colab": {
          "base_uri": "https://localhost:8080/"
        },
        "id": "I7o2c1Q1cuKQ",
        "outputId": "12c3fd01-97c6-4cfa-cda5-c8804b0c6f54"
      },
      "source": [
        "arr3 = arr.reshape(-1,3)\n",
        "arr3"
      ],
      "execution_count": 224,
      "outputs": [
        {
          "output_type": "execute_result",
          "data": {
            "text/plain": [
              "array([[ 0,  1,  2],\n",
              "       [ 3,  4,  5],\n",
              "       [ 6,  7,  8],\n",
              "       [ 9, 10, 11]])"
            ]
          },
          "metadata": {},
          "execution_count": 224
        }
      ]
    },
    {
      "cell_type": "code",
      "metadata": {
        "colab": {
          "base_uri": "https://localhost:8080/"
        },
        "id": "MJp0cn3yb6Ma",
        "outputId": "eaff262c-a0e6-4c1e-b16c-ca09ee4487fa"
      },
      "source": [
        "my_list = [1,2,3,4]\n",
        "new_array = np.array(my_list)\n",
        "new_array.reshape(2,2)\n",
        "\n",
        "arr = np.arange(12)\n",
        "arr\n",
        "\n",
        "# 복사본\n",
        "arr1 = arr.reshape(3,4)\n",
        "arr1\n",
        "\n",
        "# -1을 활용\n",
        "# -1은 자동으로 배열하겠다\n",
        "arr2 = arr.reshape(3,-1)\n",
        "arr2\n",
        "\n",
        "arr3 = arr.reshape(-1,3)\n",
        "arr3\n",
        "\n",
        "arr4 = arr.reshape(-1,2,3)\n",
        "arr4"
      ],
      "execution_count": 33,
      "outputs": [
        {
          "output_type": "execute_result",
          "data": {
            "text/plain": [
              "array([[[ 0,  1,  2],\n",
              "        [ 3,  4,  5]],\n",
              "\n",
              "       [[ 6,  7,  8],\n",
              "        [ 9, 10, 11]]])"
            ]
          },
          "metadata": {},
          "execution_count": 33
        }
      ]
    },
    {
      "cell_type": "code",
      "metadata": {
        "colab": {
          "base_uri": "https://localhost:8080/"
        },
        "id": "vIZytt1Kc05a",
        "outputId": "9d591048-2583-4c7b-a2db-d25502b521eb"
      },
      "source": [
        "arr4 = arr.reshape(-1,2,3)\n",
        "arr4"
      ],
      "execution_count": 225,
      "outputs": [
        {
          "output_type": "execute_result",
          "data": {
            "text/plain": [
              "array([[[ 0,  1,  2],\n",
              "        [ 3,  4,  5]],\n",
              "\n",
              "       [[ 6,  7,  8],\n",
              "        [ 9, 10, 11]]])"
            ]
          },
          "metadata": {},
          "execution_count": 225
        }
      ]
    },
    {
      "cell_type": "code",
      "metadata": {
        "colab": {
          "base_uri": "https://localhost:8080/"
        },
        "id": "INAO08zoeS1g",
        "outputId": "b9280462-0852-4d53-b05d-c385e9370913"
      },
      "source": [
        "arr\n",
        "arr.reshape(2,-1)\n",
        "arr"
      ],
      "execution_count": 229,
      "outputs": [
        {
          "output_type": "execute_result",
          "data": {
            "text/plain": [
              "array([ 0,  1,  2,  3,  4,  5,  6,  7,  8,  9, 10, 11])"
            ]
          },
          "metadata": {},
          "execution_count": 229
        }
      ]
    },
    {
      "cell_type": "markdown",
      "metadata": {
        "id": "LZ1hAeeOeNy0"
      },
      "source": [
        "## resize\n",
        "> - 원본을 바꿔요\n",
        "- 새로운 변수 만들고 싶을 때는 --> np.resize(arr, (1,6))\n",
        "- reshape는 형태가 안맞으면 에러 / But! resize는 형태 안 맞아도 만들어주고 추가된 부분은 0으로 채워"
      ]
    },
    {
      "cell_type": "code",
      "metadata": {
        "colab": {
          "base_uri": "https://localhost:8080/"
        },
        "id": "aLu3u9Ymdkts",
        "outputId": "879469e1-f144-44ff-c485-f307977efb96"
      },
      "source": [
        "arr = np.arange(6)\n",
        "arr.resize(2,3)\n",
        "arr"
      ],
      "execution_count": 231,
      "outputs": [
        {
          "output_type": "execute_result",
          "data": {
            "text/plain": [
              "array([[0, 1, 2],\n",
              "       [3, 4, 5]])"
            ]
          },
          "metadata": {},
          "execution_count": 231
        }
      ]
    },
    {
      "cell_type": "code",
      "metadata": {
        "colab": {
          "base_uri": "https://localhost:8080/",
          "height": 35
        },
        "id": "C0Qf-fyTez1r",
        "outputId": "97bd7f74-6201-4fb2-e9aa-26f355de291c"
      },
      "source": [
        "arr = np.arange(6)\n",
        "arr.resize(2,3) # return 값이 없음\n",
        "arr\n",
        "\n",
        "arr1 = np.resize(arr, (3,2))\n",
        "arr1\n",
        "'''\n",
        "array([[0, 1],\n",
        "       [2, 3],\n",
        "       [4, 5]])\n",
        "'''"
      ],
      "execution_count": 232,
      "outputs": [
        {
          "output_type": "execute_result",
          "data": {
            "application/vnd.google.colaboratory.intrinsic+json": {
              "type": "string"
            },
            "text/plain": [
              "'\\narray([[0, 1],\\n       [2, 3],\\n       [4, 5]])\\n'"
            ]
          },
          "metadata": {},
          "execution_count": 232
        }
      ]
    },
    {
      "cell_type": "code",
      "metadata": {
        "colab": {
          "base_uri": "https://localhost:8080/"
        },
        "id": "qFcweuLJvvUI",
        "outputId": "16c83749-429a-4e84-ac5d-79cb0c3662a3"
      },
      "source": [
        "arr2 = np.resize(arr1, (3,4))\n",
        "arr2"
      ],
      "execution_count": 233,
      "outputs": [
        {
          "output_type": "execute_result",
          "data": {
            "text/plain": [
              "array([[0, 1, 2, 3],\n",
              "       [4, 5, 0, 1],\n",
              "       [2, 3, 4, 5]])"
            ]
          },
          "metadata": {},
          "execution_count": 233
        }
      ]
    },
    {
      "cell_type": "code",
      "metadata": {
        "colab": {
          "base_uri": "https://localhost:8080/"
        },
        "id": "JDEyN0vegnQW",
        "outputId": "cc6e899c-dc4e-4e78-c442-42c424a53f35"
      },
      "source": [
        "arr.resize(3,4)\n",
        "arr"
      ],
      "execution_count": 234,
      "outputs": [
        {
          "output_type": "execute_result",
          "data": {
            "text/plain": [
              "array([[0, 1, 2, 3],\n",
              "       [4, 5, 0, 0],\n",
              "       [0, 0, 0, 0]])"
            ]
          },
          "metadata": {},
          "execution_count": 234
        }
      ]
    },
    {
      "cell_type": "code",
      "metadata": {
        "colab": {
          "base_uri": "https://localhost:8080/"
        },
        "id": "PatMM4QVwaE-",
        "outputId": "c9f82fe4-927c-415e-c6ea-482020cbf6dd"
      },
      "source": [
        "arr3 = np.resize(arr, (2,2))\n",
        "arr3"
      ],
      "execution_count": 63,
      "outputs": [
        {
          "output_type": "execute_result",
          "data": {
            "text/plain": [
              "array([[0, 1],\n",
              "       [2, 3]])"
            ]
          },
          "metadata": {},
          "execution_count": 63
        }
      ]
    },
    {
      "cell_type": "markdown",
      "metadata": {
        "id": "u3XyySAKxE-h"
      },
      "source": [
        "## Numpy 데이터 유형"
      ]
    },
    {
      "cell_type": "code",
      "metadata": {
        "colab": {
          "base_uri": "https://localhost:8080/"
        },
        "id": "N_mxdcwWxHKR",
        "outputId": "2182337e-edc7-45b0-81d1-3e9e2c6a5105"
      },
      "source": [
        "# data type == np.float64 생성\n",
        "arr = np.array([1,2,3,4,5], dtype=np.float64)\n",
        "arr\n",
        "arr.dtype"
      ],
      "execution_count": 238,
      "outputs": [
        {
          "output_type": "execute_result",
          "data": {
            "text/plain": [
              "array([1., 2., 3., 4., 5.])"
            ]
          },
          "metadata": {},
          "execution_count": 238
        }
      ]
    },
    {
      "cell_type": "code",
      "metadata": {
        "colab": {
          "base_uri": "https://localhost:8080/"
        },
        "id": "n3qfWKqWxUgn",
        "outputId": "08f1ffd9-c7bb-4082-cef9-846d2d12db47"
      },
      "source": [
        "arr1 = np.array([1, 3.14, True, 'Hello'])\n",
        "arr1.dtype"
      ],
      "execution_count": 239,
      "outputs": [
        {
          "output_type": "execute_result",
          "data": {
            "text/plain": [
              "dtype('<U32')"
            ]
          },
          "metadata": {},
          "execution_count": 239
        }
      ]
    },
    {
      "cell_type": "code",
      "metadata": {
        "colab": {
          "base_uri": "https://localhost:8080/"
        },
        "id": "jouA0ZNnxf9L",
        "outputId": "c403ad56-2ed6-45d1-ab34-07e242ab064c"
      },
      "source": [
        "# 데이터 타입 변경\n",
        "arr2 = np.array([1.2, 3.2, 2.3, 3.5, 5.4, 4.1, 5.7])\n",
        "arr2.dtype"
      ],
      "execution_count": 240,
      "outputs": [
        {
          "output_type": "execute_result",
          "data": {
            "text/plain": [
              "dtype('float64')"
            ]
          },
          "metadata": {},
          "execution_count": 240
        }
      ]
    },
    {
      "cell_type": "code",
      "metadata": {
        "colab": {
          "base_uri": "https://localhost:8080/"
        },
        "id": "rbyilvhvxaLT",
        "outputId": "42af2459-9458-484b-c424-958d288d6c69"
      },
      "source": [
        "arr2 = arr2.astype(np.int32)\n",
        "arr2\n",
        "arr2.dtype"
      ],
      "execution_count": 242,
      "outputs": [
        {
          "output_type": "execute_result",
          "data": {
            "text/plain": [
              "dtype('int32')"
            ]
          },
          "metadata": {},
          "execution_count": 242
        }
      ]
    },
    {
      "cell_type": "markdown",
      "metadata": {
        "id": "AeOuWkCuyTHO"
      },
      "source": [
        "## Numpy 유용한 함수"
      ]
    },
    {
      "cell_type": "code",
      "metadata": {
        "id": "FxiNpFsrfJWG"
      },
      "source": [
        "new_list = [1,2,3,4]\n",
        "arr = np.array(new_list)"
      ],
      "execution_count": null,
      "outputs": []
    },
    {
      "cell_type": "code",
      "metadata": {
        "colab": {
          "base_uri": "https://localhost:8080/"
        },
        "id": "aG4Xvc7pfSWO",
        "outputId": "977daea9-efdb-4173-ee6b-939836af104a"
      },
      "source": [
        "np.arange(1,11,1)"
      ],
      "execution_count": 245,
      "outputs": [
        {
          "output_type": "execute_result",
          "data": {
            "text/plain": [
              "array([ 1,  2,  3,  4,  5,  6,  7,  8,  9, 10])"
            ]
          },
          "metadata": {},
          "execution_count": 245
        }
      ]
    },
    {
      "cell_type": "code",
      "metadata": {
        "colab": {
          "base_uri": "https://localhost:8080/"
        },
        "id": "RM8VZfX0xbDL",
        "outputId": "48127eaf-cd4b-4194-f4e7-ded8e280b71c"
      },
      "source": [
        "# np.arange()\n",
        "arr = np.arange(2,13,3)\n",
        "arr"
      ],
      "execution_count": 247,
      "outputs": [
        {
          "output_type": "execute_result",
          "data": {
            "text/plain": [
              "array([ 2,  5,  8, 11])"
            ]
          },
          "metadata": {},
          "execution_count": 247
        }
      ]
    },
    {
      "cell_type": "code",
      "metadata": {
        "colab": {
          "base_uri": "https://localhost:8080/"
        },
        "id": "dZ_ddM2mf3Vw",
        "outputId": "7087c1c3-437d-4526-e02b-628570195206"
      },
      "source": [
        "arr = np.arange(2,13,2)\n",
        "arr"
      ],
      "execution_count": 249,
      "outputs": [
        {
          "output_type": "execute_result",
          "data": {
            "text/plain": [
              "array([ 2,  4,  6,  8, 10, 12])"
            ]
          },
          "metadata": {},
          "execution_count": 249
        }
      ]
    },
    {
      "cell_type": "code",
      "metadata": {
        "colab": {
          "base_uri": "https://localhost:8080/"
        },
        "id": "Y9VNY9w8xbfS",
        "outputId": "a0665c58-fdcd-409a-b154-7cb5adbfc2a8"
      },
      "source": [
        "# arange는 기본 1차원 형식만\n",
        "arr1 = arr.reshape(2,3)\n",
        "arr1"
      ],
      "execution_count": 252,
      "outputs": [
        {
          "output_type": "execute_result",
          "data": {
            "text/plain": [
              "array([[ 2,  4,  6],\n",
              "       [ 8, 10, 12]])"
            ]
          },
          "metadata": {},
          "execution_count": 252
        }
      ]
    },
    {
      "cell_type": "code",
      "metadata": {
        "colab": {
          "base_uri": "https://localhost:8080/"
        },
        "id": "3lNCeBWYxb0k",
        "outputId": "d74768c1-f028-4837-d7eb-3e1fa727edd0"
      },
      "source": [
        "arr1 = arr1.ravel()\n",
        "arr1"
      ],
      "execution_count": 251,
      "outputs": [
        {
          "output_type": "execute_result",
          "data": {
            "text/plain": [
              "array([ 2,  4,  6,  8, 10, 12])"
            ]
          },
          "metadata": {},
          "execution_count": 251
        }
      ]
    },
    {
      "cell_type": "code",
      "metadata": {
        "colab": {
          "base_uri": "https://localhost:8080/"
        },
        "id": "EZ4PtzOPxcch",
        "outputId": "c5f85994-6d3c-40c1-fd62-6de67012e691"
      },
      "source": [
        "arr2 = np.arange(1,7,1).reshape(2,3)\n",
        "arr2"
      ],
      "execution_count": 253,
      "outputs": [
        {
          "output_type": "execute_result",
          "data": {
            "text/plain": [
              "array([[1, 2, 3],\n",
              "       [4, 5, 6]])"
            ]
          },
          "metadata": {},
          "execution_count": 253
        }
      ]
    },
    {
      "cell_type": "code",
      "metadata": {
        "colab": {
          "base_uri": "https://localhost:8080/"
        },
        "id": "ZtZpf3P3xcxa",
        "outputId": "0e7b5b7d-0278-4d25-afc4-c84b31d9fa75"
      },
      "source": [
        "# sum()\n",
        "print(np.sum(arr2))\n",
        "print(arr2.sum())\n",
        "print(arr2.sum(axis=0)) # 행\n",
        "print(arr2.sum(axis=1)) # 열"
      ],
      "execution_count": 254,
      "outputs": [
        {
          "output_type": "stream",
          "name": "stdout",
          "text": [
            "21\n",
            "21\n",
            "[5 7 9]\n",
            "[ 6 15]\n"
          ]
        }
      ]
    },
    {
      "cell_type": "code",
      "metadata": {
        "colab": {
          "base_uri": "https://localhost:8080/"
        },
        "id": "iHdc70d9xdOo",
        "outputId": "42468016-16ab-477d-a992-d2185b140104"
      },
      "source": [
        "# mean()\n",
        "print(np.mean(arr2))\n",
        "print(arr2.mean())\n",
        "print(arr2.mean(axis=0))\n",
        "print(arr2.mean(axis=1))"
      ],
      "execution_count": 83,
      "outputs": [
        {
          "output_type": "stream",
          "name": "stdout",
          "text": [
            "3.5\n",
            "3.5\n",
            "[2.5 3.5 4.5]\n",
            "[2. 5.]\n"
          ]
        }
      ]
    },
    {
      "cell_type": "code",
      "metadata": {
        "colab": {
          "base_uri": "https://localhost:8080/"
        },
        "id": "LwZUCm36xdhz",
        "outputId": "e7970724-f475-4131-c47e-660cc4157947"
      },
      "source": [
        "# min() & max()\n",
        "print(np.min(arr2))\n",
        "print(arr2.min())\n",
        "print(arr2.min(axis=0))\n",
        "print(arr2.min(axis=1))\n",
        "print()\n",
        "print(np.max(arr2))\n",
        "print(arr2.max())\n",
        "print(arr2.max(axis=0))\n",
        "print(arr2.max(axis=1))"
      ],
      "execution_count": 86,
      "outputs": [
        {
          "output_type": "stream",
          "name": "stdout",
          "text": [
            "1\n",
            "1\n",
            "[1 2 3]\n",
            "[1 4]\n",
            "\n",
            "6\n",
            "6\n",
            "[4 5 6]\n",
            "[3 6]\n"
          ]
        }
      ]
    },
    {
      "cell_type": "code",
      "metadata": {
        "colab": {
          "base_uri": "https://localhost:8080/"
        },
        "id": "nlNOepB9hPS_",
        "outputId": "2ca91def-9bca-400e-e97f-39024780f51b"
      },
      "source": [
        "arr2 = np.arange(1,7,1)\n",
        "arr2"
      ],
      "execution_count": 255,
      "outputs": [
        {
          "output_type": "execute_result",
          "data": {
            "text/plain": [
              "array([1, 2, 3, 4, 5, 6])"
            ]
          },
          "metadata": {},
          "execution_count": 255
        }
      ]
    },
    {
      "cell_type": "code",
      "metadata": {
        "colab": {
          "base_uri": "https://localhost:8080/"
        },
        "id": "uSizZXx-yXPk",
        "outputId": "704210ee-3075-4f23-954c-325f394c8870"
      },
      "source": [
        "# argmax(), argmin()\n",
        "# 최대값의 인덱스, 최소값의 인덱스\n",
        "arr\n",
        "print(np.argmax(arr2))\n",
        "print(arr.argmin())"
      ],
      "execution_count": 256,
      "outputs": [
        {
          "output_type": "stream",
          "name": "stdout",
          "text": [
            "5\n",
            "0\n"
          ]
        }
      ]
    },
    {
      "cell_type": "code",
      "metadata": {
        "colab": {
          "base_uri": "https://localhost:8080/"
        },
        "id": "hQx8XqXt50wE",
        "outputId": "3d9c1964-e90b-487b-eecc-54a7d99aad47"
      },
      "source": [
        "# 표준편차\n",
        "print(np.std(arr2))"
      ],
      "execution_count": 257,
      "outputs": [
        {
          "output_type": "stream",
          "name": "stdout",
          "text": [
            "1.707825127659933\n"
          ]
        }
      ]
    },
    {
      "cell_type": "code",
      "metadata": {
        "colab": {
          "base_uri": "https://localhost:8080/"
        },
        "id": "fkNjTqPp6CxI",
        "outputId": "e58ce2cb-ac47-450b-cb8a-ab5b8fd59a06"
      },
      "source": [
        "# 제곱근\n",
        "print(np.sqrt(arr2))"
      ],
      "execution_count": 258,
      "outputs": [
        {
          "output_type": "stream",
          "name": "stdout",
          "text": [
            "[1.         1.41421356 1.73205081 2.         2.23606798 2.44948974]\n"
          ]
        }
      ]
    },
    {
      "cell_type": "markdown",
      "metadata": {
        "id": "778gXDxO6TRH"
      },
      "source": [
        "## random ndarry"
      ]
    },
    {
      "cell_type": "code",
      "metadata": {
        "id": "efyhhTNB6S4j"
      },
      "source": [
        "# np.random.normal()\n",
        "# 정규분포에서 실수형태 난수를 추출\n",
        "\n",
        "import matplotlib.pyplot as plt\n",
        "\n",
        "my_mean = 50 # ==> 평균\n",
        "my_std = 2   # ==> 표준편차\n",
        "\n",
        "# 1차원 형태로 평균 50, 표준편차 2의 정규분포에 속한 난수를 추출\n",
        "arr = np.random.normal(my_mean, my_std, (1000,))\n",
        "arr"
      ],
      "execution_count": null,
      "outputs": []
    },
    {
      "cell_type": "code",
      "metadata": {
        "colab": {
          "base_uri": "https://localhost:8080/",
          "height": 265
        },
        "id": "BK9fXFLnyXKU",
        "outputId": "cc295fbb-0cb7-4533-bbce-822408aebcb5"
      },
      "source": [
        "# 새롭게 만든 난수를 히스토그램으로 확인\n",
        "plt.hist(arr, bins=100)\n",
        "plt.show()"
      ],
      "execution_count": 260,
      "outputs": [
        {
          "output_type": "display_data",
          "data": {
            "image/png": "[encoded data removed]",
            "text/plain": [
              "<Figure size 432x288 with 1 Axes>"
            ]
          },
          "metadata": {
            "needs_background": "light"
          }
        }
      ]
    },
    {
      "cell_type": "code",
      "metadata": {
        "id": "RHmLAceRimAj"
      },
      "source": [
        "arr = np.random.rand(10000,100)\n",
        "arr.shape"
      ],
      "execution_count": null,
      "outputs": []
    },
    {
      "cell_type": "code",
      "metadata": {
        "colab": {
          "base_uri": "https://localhost:8080/",
          "height": 265
        },
        "id": "NFCFxYiOyXEF",
        "outputId": "6330dd15-630a-4565-dc77-3d26795fc3de"
      },
      "source": [
        "# np.random.rand()\n",
        "# 0 이상 1 미만의 실수를 균등분포로 난수로 추출\n",
        "# np.random.rand(d0,d1,d2,d3 ...)\n",
        "# d0 = 1차원의 요소 개수 , d1 = 2차원의 요소 개수\n",
        "\n",
        "arr = np.random.rand(10000)\n",
        "arr.shape\n",
        "\n",
        "arr1 = np.random.rand(100,100)\n",
        "arr1.shape\n",
        "\n",
        "plt.hist(arr, bins=100)\n",
        "plt.show()"
      ],
      "execution_count": 264,
      "outputs": [
        {
          "output_type": "display_data",
          "data": {
            "image/png": "[encoded data removed]",
            "text/plain": [
              "<Figure size 432x288 with 1 Axes>"
            ]
          },
          "metadata": {
            "needs_background": "light"
          }
        }
      ]
    },
    {
      "cell_type": "code",
      "metadata": {
        "colab": {
          "base_uri": "https://localhost:8080/",
          "height": 265
        },
        "id": "Kg71l4UMyW-z",
        "outputId": "69b02001-2822-40a7-ad32-ac60d0edad12"
      },
      "source": [
        "# np.random.randn()\n",
        "# 표준 정규분포에서 실수 형태로 난수 추출\n",
        "# 표준 정규분포(평균=0, 표준편차=1)\n",
        "\n",
        "arr= np.random.randn(10000)\n",
        "arr\n",
        "plt.hist(arr, bins=100)\n",
        "plt.show()"
      ],
      "execution_count": 266,
      "outputs": [
        {
          "output_type": "display_data",
          "data": {
            "image/png": "[encoded data removed]",
            "text/plain": [
              "<Figure size 432x288 with 1 Axes>"
            ]
          },
          "metadata": {
            "needs_background": "light"
          }
        }
      ]
    },
    {
      "cell_type": "code",
      "metadata": {
        "id": "ZWNJKzhempVN"
      },
      "source": [
        "arr = np.random.randint(1,100,(1000,))\n",
        "arr"
      ],
      "execution_count": null,
      "outputs": []
    },
    {
      "cell_type": "code",
      "metadata": {
        "colab": {
          "base_uri": "https://localhost:8080/",
          "height": 265
        },
        "id": "WM14vP6CyW49",
        "outputId": "c7d65a43-75da-44af-9f86-af1f6cbb4ac3"
      },
      "source": [
        "# np.random.randint(low, high, shape)\n",
        "# 균등분포로 정수 표본 추출\n",
        "\n",
        "# 1부터 99까지 균등하게 난수로 1000개 뽑아서 1차원으로 만들어줘\n",
        "arr = np.random.randint(1,100,(1000,))\n",
        "arr\n",
        "plt.hist(arr, bins=100)\n",
        "plt.show()"
      ],
      "execution_count": 268,
      "outputs": [
        {
          "output_type": "display_data",
          "data": {
            "image/png": "[encoded data removed]",
            "text/plain": [
              "<Figure size 432x288 with 1 Axes>"
            ]
          },
          "metadata": {
            "needs_background": "light"
          }
        }
      ]
    },
    {
      "cell_type": "code",
      "metadata": {
        "colab": {
          "base_uri": "https://localhost:8080/",
          "height": 265
        },
        "id": "w2WCjNgEyWxI",
        "outputId": "d267250d-3da7-4970-e5d1-923dda51c692"
      },
      "source": [
        "# np.random.random()\n",
        "# 0 이상 1 미만의 실수를 난수로 추출\n",
        "# np.random.rand() 와 똑같은 것을 추출 But!\n",
        "# 사용 방식이 다르다\n",
        "# np.random.random((1000,))\n",
        "arr = np.random.random((1000,))\n",
        "arr\n",
        "plt.hist(arr, bins=100)\n",
        "plt.show()"
      ],
      "execution_count": 269,
      "outputs": [
        {
          "output_type": "display_data",
          "data": {
            "image/png": "[encoded data removed]",
            "text/plain": [
              "<Figure size 432x288 with 1 Axes>"
            ]
          },
          "metadata": {
            "needs_background": "light"
          }
        }
      ]
    },
    {
      "cell_type": "code",
      "metadata": {
        "colab": {
          "base_uri": "https://localhost:8080/"
        },
        "id": "XwN2BIzmnEvW",
        "outputId": "607d425d-9db2-4e2c-8714-3314d70f535a"
      },
      "source": [
        "arr = np.arange(10)\n",
        "arr"
      ],
      "execution_count": 270,
      "outputs": [
        {
          "output_type": "execute_result",
          "data": {
            "text/plain": [
              "array([0, 1, 2, 3, 4, 5, 6, 7, 8, 9])"
            ]
          },
          "metadata": {},
          "execution_count": 270
        }
      ]
    },
    {
      "cell_type": "code",
      "metadata": {
        "colab": {
          "base_uri": "https://localhost:8080/"
        },
        "id": "0VNOVThcyWpD",
        "outputId": "c986c09c-52dc-4d22-caca-96b2990fd1c8"
      },
      "source": [
        "# np.random.shuffle()\n",
        "# 이미 만들어진 ndarray 데이터 순서를 random하게 바꾸고 싶을 때 사용\n",
        "\n",
        "arr = np.arange(10)\n",
        "arr\n",
        "np.random.shuffle(arr)\n",
        "arr"
      ],
      "execution_count": 271,
      "outputs": [
        {
          "output_type": "execute_result",
          "data": {
            "text/plain": [
              "array([3, 9, 7, 5, 1, 6, 8, 4, 2, 0])"
            ]
          },
          "metadata": {},
          "execution_count": 271
        }
      ]
    },
    {
      "cell_type": "markdown",
      "metadata": {
        "id": "YQ6VSuiy-xOL"
      },
      "source": [
        "## Numpy Indexing & Slicing"
      ]
    },
    {
      "cell_type": "markdown",
      "metadata": {
        "id": "RdQdDKLoAGa3"
      },
      "source": [
        "### 넘파이 1차원"
      ]
    },
    {
      "cell_type": "code",
      "metadata": {
        "colab": {
          "base_uri": "https://localhost:8080/"
        },
        "id": "4u_FqmrQnkF-",
        "outputId": "3cef6cec-8919-4ee4-f138-04f0df9649f7"
      },
      "source": [
        "arr = np.arange(10,20,1)\n",
        "arr"
      ],
      "execution_count": 272,
      "outputs": [
        {
          "output_type": "execute_result",
          "data": {
            "text/plain": [
              "array([10, 11, 12, 13, 14, 15, 16, 17, 18, 19])"
            ]
          },
          "metadata": {},
          "execution_count": 272
        }
      ]
    },
    {
      "cell_type": "code",
      "metadata": {
        "colab": {
          "base_uri": "https://localhost:8080/"
        },
        "id": "nnUw6m-NyWhs",
        "outputId": "cfb29477-d678-4613-d1bb-63fc28ade5e2"
      },
      "source": [
        "arr = np.arange(10,20,1)\n",
        "arr\n",
        "\n",
        "for idx, val in enumerate(arr):\n",
        "    print('index={}, value={}'.format(idx, val))"
      ],
      "execution_count": 273,
      "outputs": [
        {
          "output_type": "stream",
          "name": "stdout",
          "text": [
            "index=0, value=10\n",
            "index=1, value=11\n",
            "index=2, value=12\n",
            "index=3, value=13\n",
            "index=4, value=14\n",
            "index=5, value=15\n",
            "index=6, value=16\n",
            "index=7, value=17\n",
            "index=8, value=18\n",
            "index=9, value=19\n"
          ]
        }
      ]
    },
    {
      "cell_type": "code",
      "metadata": {
        "colab": {
          "base_uri": "https://localhost:8080/"
        },
        "id": "2foR_G2Wnutk",
        "outputId": "677e615a-0271-4e7b-c977-bb26507d6da0"
      },
      "source": [
        "arr[6]"
      ],
      "execution_count": 275,
      "outputs": [
        {
          "output_type": "execute_result",
          "data": {
            "text/plain": [
              "16"
            ]
          },
          "metadata": {},
          "execution_count": 275
        }
      ]
    },
    {
      "cell_type": "code",
      "metadata": {
        "colab": {
          "base_uri": "https://localhost:8080/"
        },
        "id": "WX1Z2pkByWaH",
        "outputId": "8bfee627-1cb8-4808-a1d2-c868b4b017d6"
      },
      "source": [
        "# 인덱싱\n",
        "# 0번 값을 출력\n",
        "arr[0]\n",
        "# 5번 값을 출력\n",
        "arr[5]\n",
        "# 8번 값 출력\n",
        "arr[8]"
      ],
      "execution_count": 124,
      "outputs": [
        {
          "output_type": "execute_result",
          "data": {
            "text/plain": [
              "18"
            ]
          },
          "metadata": {},
          "execution_count": 124
        }
      ]
    },
    {
      "cell_type": "code",
      "metadata": {
        "colab": {
          "base_uri": "https://localhost:8080/"
        },
        "id": "azCmyVcJpkIo",
        "outputId": "a6c01125-efae-4d46-81d1-f9ea593de95b"
      },
      "source": [
        "arr[::1]"
      ],
      "execution_count": 292,
      "outputs": [
        {
          "output_type": "execute_result",
          "data": {
            "text/plain": [
              "array([10, 11, 12, 13, 14, 15, 16, 17, 18, 19])"
            ]
          },
          "metadata": {},
          "execution_count": 292
        }
      ]
    },
    {
      "cell_type": "code",
      "metadata": {
        "colab": {
          "base_uri": "https://localhost:8080/"
        },
        "id": "reeOSwGvn4il",
        "outputId": "ac94f690-f502-4dcb-d0a0-627031b4528b"
      },
      "source": [
        "arr[::-1]"
      ],
      "execution_count": 294,
      "outputs": [
        {
          "output_type": "execute_result",
          "data": {
            "text/plain": [
              "array([19, 18, 17, 16, 15, 14, 13, 12, 11, 10])"
            ]
          },
          "metadata": {},
          "execution_count": 294
        }
      ]
    },
    {
      "cell_type": "code",
      "metadata": {
        "colab": {
          "base_uri": "https://localhost:8080/"
        },
        "id": "wMiwqZvWyWSZ",
        "outputId": "fa05ce59-2fe5-4861-89d2-6941eab8de63"
      },
      "source": [
        "# 슬라이싱\n",
        "# 0번~1번 슬라이싱\n",
        "arr[0:2]\n",
        "# 맨 처음부터 끝까지\n",
        "arr[:]\n",
        "# 맨 끝에꺼는 빼자\n",
        "arr[:-1]\n",
        "# 1부터 3까지 2칸 건너뛰면서\n",
        "arr[1:4:2]\n",
        "# 거꾸로\n",
        "arr[::-1]"
      ],
      "execution_count": 129,
      "outputs": [
        {
          "output_type": "execute_result",
          "data": {
            "text/plain": [
              "array([19, 18, 17, 16, 15, 14, 13, 12, 11, 10])"
            ]
          },
          "metadata": {},
          "execution_count": 129
        }
      ]
    },
    {
      "cell_type": "markdown",
      "metadata": {
        "id": "YRv6D-_YAJ68"
      },
      "source": [
        "### 넘파이 2차원"
      ]
    },
    {
      "cell_type": "code",
      "metadata": {
        "colab": {
          "base_uri": "https://localhost:8080/"
        },
        "id": "bxNAiHdLyWIw",
        "outputId": "f7e1a193-26d4-4354-8770-6505b39cc875"
      },
      "source": [
        "arr = np.arange(1,17,1)\n",
        "arr.resize((4,4))\n",
        "arr"
      ],
      "execution_count": 295,
      "outputs": [
        {
          "output_type": "execute_result",
          "data": {
            "text/plain": [
              "array([[ 1,  2,  3,  4],\n",
              "       [ 5,  6,  7,  8],\n",
              "       [ 9, 10, 11, 12],\n",
              "       [13, 14, 15, 16]])"
            ]
          },
          "metadata": {},
          "execution_count": 295
        }
      ]
    },
    {
      "cell_type": "code",
      "metadata": {
        "colab": {
          "base_uri": "https://localhost:8080/"
        },
        "id": "sOiez-qKp9E-",
        "outputId": "da207f1e-73c1-43b0-c3ab-2c5b365d1376"
      },
      "source": [
        "arr[2,:]"
      ],
      "execution_count": 300,
      "outputs": [
        {
          "output_type": "execute_result",
          "data": {
            "text/plain": [
              "array([ 9, 10, 11, 12])"
            ]
          },
          "metadata": {},
          "execution_count": 300
        }
      ]
    },
    {
      "cell_type": "code",
      "metadata": {
        "colab": {
          "base_uri": "https://localhost:8080/"
        },
        "id": "0xqhxXUpAape",
        "outputId": "bb357f15-db6d-4b4f-9605-0647d814be96"
      },
      "source": [
        "# 2차원 인덱싱\n",
        "arr[1,1]\n",
        "# 2행 모든 열의 값\n",
        "arr[1,:]"
      ],
      "execution_count": 132,
      "outputs": [
        {
          "output_type": "execute_result",
          "data": {
            "text/plain": [
              "array([5, 6, 7, 8])"
            ]
          },
          "metadata": {},
          "execution_count": 132
        }
      ]
    },
    {
      "cell_type": "code",
      "metadata": {
        "colab": {
          "base_uri": "https://localhost:8080/"
        },
        "id": "7pXEsXMPqmc7",
        "outputId": "ff387f2c-cf0d-4fdf-e27d-5b1a507ad0dc"
      },
      "source": [
        "arr[1:3,1:3]"
      ],
      "execution_count": 302,
      "outputs": [
        {
          "output_type": "execute_result",
          "data": {
            "text/plain": [
              "array([[ 6,  7],\n",
              "       [10, 11]])"
            ]
          },
          "metadata": {},
          "execution_count": 302
        }
      ]
    },
    {
      "cell_type": "code",
      "metadata": {
        "colab": {
          "base_uri": "https://localhost:8080/"
        },
        "id": "X7KJswzFAyGo",
        "outputId": "cb6928d7-7de9-477f-c8d6-f5cca6c27d3a"
      },
      "source": [
        "# 2차원 슬라이싱\n",
        "arr[1:3,:]\n",
        "\n",
        "# 2차원에서 1차원 인덱싱처럼 사용하면 행이 출력\n",
        "# 열만 따로 인덱실 할 수는 없다\n",
        "arr[2]\n",
        "\n",
        "# 2열에 있는 모든 값 가져오고 싶다\n",
        "arr[:,2]"
      ],
      "execution_count": 135,
      "outputs": [
        {
          "output_type": "execute_result",
          "data": {
            "text/plain": [
              "array([ 3,  7, 11, 15])"
            ]
          },
          "metadata": {},
          "execution_count": 135
        }
      ]
    },
    {
      "cell_type": "code",
      "metadata": {
        "colab": {
          "base_uri": "https://localhost:8080/"
        },
        "id": "UsbQDokIq9jD",
        "outputId": "28b06bf3-1e0a-43ce-b34b-5698d22acbea"
      },
      "source": [
        "arr[:,1]"
      ],
      "execution_count": 307,
      "outputs": [
        {
          "output_type": "execute_result",
          "data": {
            "text/plain": [
              "array([ 2,  6, 10, 14])"
            ]
          },
          "metadata": {},
          "execution_count": 307
        }
      ]
    },
    {
      "cell_type": "markdown",
      "metadata": {
        "id": "02GKIBrYBgx3"
      },
      "source": [
        "### Boolean Mask"
      ]
    },
    {
      "cell_type": "code",
      "metadata": {
        "colab": {
          "base_uri": "https://localhost:8080/"
        },
        "id": "oZr_WWQLBn-H",
        "outputId": "d79d2820-8285-4902-c937-d827f7c7d076"
      },
      "source": [
        "# 원본 ndarray와 shape이 같다.\n",
        "# 요소 값을 모두 boolean(True, False) 값으로 구성\n",
        "# boolean mask를 이용 해서 indexing\n",
        "# 형태 : [ True True False False True]\n",
        "\n",
        "arr = np.arange(1,11,1)\n",
        "arr"
      ],
      "execution_count": 308,
      "outputs": [
        {
          "output_type": "execute_result",
          "data": {
            "text/plain": [
              "array([ 1,  2,  3,  4,  5,  6,  7,  8,  9, 10])"
            ]
          },
          "metadata": {},
          "execution_count": 308
        }
      ]
    },
    {
      "cell_type": "code",
      "metadata": {
        "colab": {
          "base_uri": "https://localhost:8080/"
        },
        "id": "L9I-u8O2BpOr",
        "outputId": "d152abd7-79fe-4162-a930-27e3ef58008d"
      },
      "source": [
        "# 각 값을 2로 나눈 나머지\n",
        "print(arr % 2)\n",
        "\n",
        "# 그 값이 0과 같니?\n",
        "print(arr % 2 == 0)"
      ],
      "execution_count": 309,
      "outputs": [
        {
          "output_type": "stream",
          "name": "stdout",
          "text": [
            "[1 0 1 0 1 0 1 0 1 0]\n",
            "[False  True False  True False  True False  True False  True]\n"
          ]
        }
      ]
    },
    {
      "cell_type": "code",
      "metadata": {
        "colab": {
          "base_uri": "https://localhost:8080/"
        },
        "id": "ITR3jI1ABpMQ",
        "outputId": "0a2803dd-b0be-4e7b-86d9-21c8218ca07e"
      },
      "source": [
        "# 짝수만 뽑아주기\n",
        "print(arr[arr%2==0])"
      ],
      "execution_count": 310,
      "outputs": [
        {
          "output_type": "stream",
          "name": "stdout",
          "text": [
            "[ 2  4  6  8 10]\n"
          ]
        }
      ]
    },
    {
      "cell_type": "code",
      "metadata": {
        "colab": {
          "base_uri": "https://localhost:8080/"
        },
        "id": "kmCheLAOBpJd",
        "outputId": "3e2b08ce-ae93-4b5f-9b9d-6d6cdac9544e"
      },
      "source": [
        "# 홀수만 뽑아주기\n",
        "print(arr[arr%2==1])"
      ],
      "execution_count": 311,
      "outputs": [
        {
          "output_type": "stream",
          "name": "stdout",
          "text": [
            "[1 3 5 7 9]\n"
          ]
        }
      ]
    },
    {
      "cell_type": "code",
      "metadata": {
        "colab": {
          "base_uri": "https://localhost:8080/"
        },
        "id": "FIoe-nTcs-mK",
        "outputId": "7c8c436a-30a3-40fc-f446-34304bdaae8d"
      },
      "source": [
        "arr>=5"
      ],
      "execution_count": 312,
      "outputs": [
        {
          "output_type": "execute_result",
          "data": {
            "text/plain": [
              "array([False, False, False, False,  True,  True,  True,  True,  True,\n",
              "        True])"
            ]
          },
          "metadata": {},
          "execution_count": 312
        }
      ]
    },
    {
      "cell_type": "code",
      "metadata": {
        "colab": {
          "base_uri": "https://localhost:8080/"
        },
        "id": "MAqXoj9ks4r4",
        "outputId": "7589e1cb-c151-4cdb-9b5a-f6895dfc4ee5"
      },
      "source": [
        "# 5 이상 숫자만 \n",
        "arr[arr>=5]"
      ],
      "execution_count": 313,
      "outputs": [
        {
          "output_type": "execute_result",
          "data": {
            "text/plain": [
              "array([ 5,  6,  7,  8,  9, 10])"
            ]
          },
          "metadata": {},
          "execution_count": 313
        }
      ]
    },
    {
      "cell_type": "markdown",
      "metadata": {
        "id": "2Y1DkRSpCmb3"
      },
      "source": [
        "### Fancy 인덱싱"
      ]
    },
    {
      "cell_type": "code",
      "metadata": {
        "colab": {
          "base_uri": "https://localhost:8080/"
        },
        "id": "OGP2iy5XBpGs",
        "outputId": "2e489a63-6a1f-4687-cb0e-22356cd518a2"
      },
      "source": [
        "# ndarray 요소중 규칙성 없고, 연속성 없이 원하는 것만 뽑고싶을 때\n",
        "# 즉, [1 2 3 4 5] 에서 2, 4, 5 뽑고 싶을 때\n",
        "\n",
        "arr = np.arange(1,10,1)\n",
        "arr"
      ],
      "execution_count": 318,
      "outputs": [
        {
          "output_type": "execute_result",
          "data": {
            "text/plain": [
              "array([1, 2, 3, 4, 5, 6, 7, 8, 9])"
            ]
          },
          "metadata": {},
          "execution_count": 318
        }
      ]
    },
    {
      "cell_type": "code",
      "metadata": {
        "colab": {
          "base_uri": "https://localhost:8080/"
        },
        "id": "GxPHJXNatWQi",
        "outputId": "c5ddb7f3-aadd-4e4b-f440-413e3894d464"
      },
      "source": [
        "# 2, 5, 9\n",
        "arr[[1,4,8]]"
      ],
      "execution_count": 316,
      "outputs": [
        {
          "output_type": "execute_result",
          "data": {
            "text/plain": [
              "array([2, 5, 9])"
            ]
          },
          "metadata": {},
          "execution_count": 316
        }
      ]
    },
    {
      "cell_type": "code",
      "metadata": {
        "colab": {
          "base_uri": "https://localhost:8080/"
        },
        "id": "IcOmWhapBpEM",
        "outputId": "8c65a334-64b3-4a66-8785-5c82338cbee5"
      },
      "source": [
        "# arr ndarray에서 2, 4, 5 뽑고싶다. 규칙성, 연속성 없이\n",
        "print(arr[[1,3,4]])"
      ],
      "execution_count": 145,
      "outputs": [
        {
          "output_type": "stream",
          "name": "stdout",
          "text": [
            "[2 4 5]\n"
          ]
        }
      ]
    },
    {
      "cell_type": "code",
      "metadata": {
        "colab": {
          "base_uri": "https://localhost:8080/"
        },
        "id": "FLlqd8lWBpBk",
        "outputId": "d86f8488-9854-4cd3-a6df-b9f83511ab0f"
      },
      "source": [
        "# 2차원으로 바꾸기\n",
        "arr.resize(3,3)\n",
        "arr"
      ],
      "execution_count": 319,
      "outputs": [
        {
          "output_type": "execute_result",
          "data": {
            "text/plain": [
              "array([[1, 2, 3],\n",
              "       [4, 5, 6],\n",
              "       [7, 8, 9]])"
            ]
          },
          "metadata": {},
          "execution_count": 319
        }
      ]
    },
    {
      "cell_type": "code",
      "metadata": {
        "colab": {
          "base_uri": "https://localhost:8080/"
        },
        "id": "Ond3tpx_Bo_F",
        "outputId": "38483648-aa05-4427-de54-79cf0bebdc16"
      },
      "source": [
        "# 1행의 0번째와 2번째 값만 가져오고 싶어\n",
        "print(arr[1,[0,2]])\n",
        "\n",
        "# 0행과 2행의 1열 값만 가져오고 싶어\n",
        "print(arr[[0,2],1])\n",
        "\n",
        "# 0~1행에서 0열, 2열 값을 가져오고 싶어\n",
        "print(arr[0:2,[0,2]])"
      ],
      "execution_count": 320,
      "outputs": [
        {
          "output_type": "stream",
          "name": "stdout",
          "text": [
            "[4 6]\n",
            "[2 8]\n",
            "[[1 3]\n",
            " [4 6]]\n"
          ]
        }
      ]
    },
    {
      "cell_type": "code",
      "metadata": {
        "colab": {
          "base_uri": "https://localhost:8080/"
        },
        "id": "GGdoBbsEBo8m",
        "outputId": "7efa3651-38bc-4357-f216-cd6e82c69bb3"
      },
      "source": [
        "# fancy indexing 중복 사용 오류\n",
        "# ==> 0,2행의 0,2열 data를 가져오고 싶은데...\n",
        "# 다차원에서 fancy indexing 적용이 안돼...\n",
        "print(arr[[0,2],[0,2]])"
      ],
      "execution_count": 321,
      "outputs": [
        {
          "output_type": "stream",
          "name": "stdout",
          "text": [
            "[1 9]\n"
          ]
        }
      ]
    },
    {
      "cell_type": "code",
      "metadata": {
        "colab": {
          "base_uri": "https://localhost:8080/"
        },
        "id": "JIPIGYIhBo6i",
        "outputId": "e9426a95-53b6-47f3-ec42-fc7f1c1d17a0"
      },
      "source": [
        "# 다차원에서 fancy indexing 적용 가능하게끔\n",
        "print(arr[np.ix_([0,2], [0,2])])"
      ],
      "execution_count": 322,
      "outputs": [
        {
          "output_type": "stream",
          "name": "stdout",
          "text": [
            "[[1 3]\n",
            " [7 9]]\n"
          ]
        }
      ]
    },
    {
      "cell_type": "markdown",
      "metadata": {
        "id": "8zwz8ZEUFcrL"
      },
      "source": [
        "# Pandas"
      ]
    },
    {
      "cell_type": "markdown",
      "metadata": {
        "id": "3S2kqztPFgk-"
      },
      "source": [
        "## 시리즈(Series)"
      ]
    },
    {
      "cell_type": "code",
      "metadata": {
        "colab": {
          "base_uri": "https://localhost:8080/"
        },
        "id": "PM0lHbcjuyh4",
        "outputId": "cd8d2b3a-c0e6-490d-a52d-f1cb2136dc81"
      },
      "source": [
        "np.array([1,2,3,4,5,6], dtype = np.float64)"
      ],
      "execution_count": 324,
      "outputs": [
        {
          "output_type": "execute_result",
          "data": {
            "text/plain": [
              "array([1., 2., 3., 4., 5., 6.])"
            ]
          },
          "metadata": {},
          "execution_count": 324
        }
      ]
    },
    {
      "cell_type": "code",
      "metadata": {
        "colab": {
          "base_uri": "https://localhost:8080/"
        },
        "id": "7qVfLc01Bo3f",
        "outputId": "d6c53249-8b0b-4030-e10d-d677d9e6f74d"
      },
      "source": [
        "import numpy as np\n",
        "import pandas as pd\n",
        "\n",
        "s = pd.Series([1,2,3,4,5,6], dtype = np.float64)  # ==> pandas의 series를 만듦 \n",
        "print(s)  # ==> ndarray의 vector 즉, 1차원"
      ],
      "execution_count": 323,
      "outputs": [
        {
          "output_type": "stream",
          "name": "stdout",
          "text": [
            "0    1.0\n",
            "1    2.0\n",
            "2    3.0\n",
            "3    4.0\n",
            "4    5.0\n",
            "5    6.0\n",
            "dtype: float64\n"
          ]
        }
      ]
    },
    {
      "cell_type": "code",
      "metadata": {
        "colab": {
          "base_uri": "https://localhost:8080/"
        },
        "id": "HE_zLOa1Bo1A",
        "outputId": "d86f2dd2-be08-4884-d91a-cf6b5fd42efe"
      },
      "source": [
        "# Series의 값만 가져오고 싶을 때\n",
        "print('값 : {}'.format(s.values))\n",
        "\n",
        "# Series의 index만 가져오고 싶을 때\n",
        "# ==> RangeIndex 라는 class type의 객체를 return해줌.\n",
        "print('index : {}'.format(s.index))"
      ],
      "execution_count": 325,
      "outputs": [
        {
          "output_type": "stream",
          "name": "stdout",
          "text": [
            "값 : [1. 2. 3. 4. 5. 6.]\n",
            "index : RangeIndex(start=0, stop=6, step=1)\n"
          ]
        }
      ]
    },
    {
      "cell_type": "markdown",
      "metadata": {
        "id": "s87JwXODG-oM"
      },
      "source": [
        "### 시리즈 index 설정"
      ]
    },
    {
      "cell_type": "code",
      "metadata": {
        "colab": {
          "base_uri": "https://localhost:8080/"
        },
        "id": "XJ2NsLGnBoyQ",
        "outputId": "d6fd6331-aadb-44b3-87fc-79c4fb8e21c8"
      },
      "source": [
        "# Series index 직접 지정\n",
        "s = pd.Series([1,5,8,10],\n",
        "             dtype=np.int32,\n",
        "             index=['a','b','c','d']) # ==> 문자열로 index 지정\n",
        "print(s)"
      ],
      "execution_count": 327,
      "outputs": [
        {
          "output_type": "stream",
          "name": "stdout",
          "text": [
            "a     1\n",
            "b     5\n",
            "c     8\n",
            "d    10\n",
            "dtype: int32\n"
          ]
        }
      ]
    },
    {
      "cell_type": "code",
      "metadata": {
        "colab": {
          "base_uri": "https://localhost:8080/"
        },
        "id": "fyWNp9SLBovh",
        "outputId": "097d7400-3514-4f9d-8cdc-4ae39e5092ed"
      },
      "source": [
        "# 5라는 값을 출력하고 싶을 때\n",
        "print(s['d'])\n",
        "\n",
        "# 숫자 index로도 가능\n",
        "print(s[3])"
      ],
      "execution_count": 329,
      "outputs": [
        {
          "output_type": "stream",
          "name": "stdout",
          "text": [
            "10\n",
            "10\n"
          ]
        }
      ]
    },
    {
      "cell_type": "markdown",
      "metadata": {
        "id": "XIwTH2S5HRkA"
      },
      "source": [
        "### 시리즈 정렬"
      ]
    },
    {
      "cell_type": "code",
      "metadata": {
        "colab": {
          "base_uri": "https://localhost:8080/"
        },
        "id": "fpD_myQLGCAo",
        "outputId": "9b34a48d-2faa-4869-9939-a8c2b43b57da"
      },
      "source": [
        "# 인덱스을 기준으로 오름차순 정렬 방법\n",
        "s = pd.Series([11,21,33,True,'55'], \n",
        "              dtype=np.object, \n",
        "              index=['a','e','c','b','d'])\n",
        "s\n",
        "print(s.sort_index(ascending=True))"
      ],
      "execution_count": 333,
      "outputs": [
        {
          "output_type": "stream",
          "name": "stdout",
          "text": [
            "a      11\n",
            "b    True\n",
            "c      33\n",
            "d      55\n",
            "e      21\n",
            "dtype: object\n"
          ]
        }
      ]
    },
    {
      "cell_type": "code",
      "metadata": {
        "colab": {
          "base_uri": "https://localhost:8080/"
        },
        "id": "HIFFqc3EGB45",
        "outputId": "2d6c10bc-90b3-4dd6-ac64-b2e7c206c0f0"
      },
      "source": [
        "# 값(vlaues)을 기준을 내림차순 정렬방법\n",
        "s1 = pd.Series([2,1,9,7,3,5], \n",
        "               dtype = np.int32 , \n",
        "               index = ['audi','honda','ford','huyndai','porche','benz'])\n",
        "s1\n",
        "print(s1.sort_values(ascending = False))"
      ],
      "execution_count": 335,
      "outputs": [
        {
          "output_type": "stream",
          "name": "stdout",
          "text": [
            "ford       9\n",
            "huyndai    7\n",
            "benz       5\n",
            "porche     3\n",
            "audi       2\n",
            "honda      1\n",
            "dtype: int32\n"
          ]
        }
      ]
    },
    {
      "cell_type": "markdown",
      "metadata": {
        "id": "-f2EkMDyH8pc"
      },
      "source": [
        "### 시리즈 슬라이싱"
      ]
    },
    {
      "cell_type": "code",
      "metadata": {
        "id": "elRPcnxLzEPY"
      },
      "source": [
        "import numpy as np\n",
        "import pandas as pd\n"
      ],
      "execution_count": 2,
      "outputs": []
    },
    {
      "cell_type": "code",
      "metadata": {
        "colab": {
          "base_uri": "https://localhost:8080/"
        },
        "id": "wmJNxGEky--d",
        "outputId": "84e8f02f-b6cb-4d9c-84db-0acfd1bc7f3e"
      },
      "source": [
        "s = pd.Series([1,5,8,10],\n",
        "             dtype=np.int32,\n",
        "             index=['a','b','c','d'])\n",
        "s"
      ],
      "execution_count": 4,
      "outputs": [
        {
          "output_type": "execute_result",
          "data": {
            "text/plain": [
              "a     1\n",
              "b     5\n",
              "c     8\n",
              "d    10\n",
              "dtype: int32"
            ]
          },
          "metadata": {},
          "execution_count": 4
        }
      ]
    },
    {
      "cell_type": "code",
      "metadata": {
        "colab": {
          "base_uri": "https://localhost:8080/"
        },
        "id": "_HQbo-tdGBzF",
        "outputId": "9fc623dc-bdaa-4d62-e3f1-8f670a4523e8"
      },
      "source": [
        "# 지정한 index로 slicing할 때 ==> 끝에 준 index가 포함되서 슬라이싱 된다.\n",
        "# 기본 숫자로 slicing 할 때는 기존대로 끝 숫가자 포함 안된다\n",
        "\n",
        "s = pd.Series([1,5,8,10],\n",
        "             dtype=np.int32,\n",
        "             index=['a','b','c','d'])\n",
        "\n",
        "# 기존 방법대로 슬라이싱 한 경우\n",
        "print(s[0:2])\n",
        "print()\n",
        "\n",
        "# 지정한 index로 슬라이싱 한 경우\n",
        "print(s['a':'c'])"
      ],
      "execution_count": 5,
      "outputs": [
        {
          "output_type": "stream",
          "name": "stdout",
          "text": [
            "a    1\n",
            "b    5\n",
            "dtype: int32\n",
            "\n",
            "a    1\n",
            "b    5\n",
            "c    8\n",
            "dtype: int32\n"
          ]
        }
      ]
    },
    {
      "cell_type": "markdown",
      "metadata": {
        "id": "wi6O1MWTIvYI"
      },
      "source": [
        "### 시리즈 boolean & Fancy 인덱싱"
      ]
    },
    {
      "cell_type": "code",
      "metadata": {
        "colab": {
          "base_uri": "https://localhost:8080/"
        },
        "id": "KZJfCXonz0CM",
        "outputId": "2c0c8b2b-8540-4410-a03a-aa87fe9290d0"
      },
      "source": [
        "s%2==0"
      ],
      "execution_count": 6,
      "outputs": [
        {
          "output_type": "execute_result",
          "data": {
            "text/plain": [
              "a    False\n",
              "b    False\n",
              "c     True\n",
              "d     True\n",
              "dtype: bool"
            ]
          },
          "metadata": {},
          "execution_count": 6
        }
      ]
    },
    {
      "cell_type": "code",
      "metadata": {
        "colab": {
          "base_uri": "https://localhost:8080/"
        },
        "id": "MxbDwkvnGBsM",
        "outputId": "3d222c99-b54a-4c8b-ed2f-96bc03379b2e"
      },
      "source": [
        "s = pd.Series([1,5,8,10],\n",
        "             dtype=np.int32,\n",
        "             index=['a','b','c','d'])\n",
        "\n",
        "# Fancy indexing 가능\n",
        "print(s[[1,3]]) \n",
        "print()\n",
        "\n",
        "# 순서 뒤바껴서도 가능\n",
        "print(s[['d','a']])\n",
        "print()\n",
        "\n",
        "# boolean indexing 가능\n",
        "print(s[s%2==0])"
      ],
      "execution_count": 172,
      "outputs": [
        {
          "output_type": "stream",
          "name": "stdout",
          "text": [
            "b     5\n",
            "d    10\n",
            "dtype: int32\n",
            "\n",
            "d    10\n",
            "a     1\n",
            "dtype: int32\n",
            "\n",
            "c     8\n",
            "d    10\n",
            "dtype: int32\n"
          ]
        }
      ]
    },
    {
      "cell_type": "markdown",
      "metadata": {
        "id": "fPIikj9mF4zD"
      },
      "source": [
        "## 데이터프레임(DataFrame)"
      ]
    },
    {
      "cell_type": "markdown",
      "metadata": {
        "id": "ZByjGS1uJlMa"
      },
      "source": [
        "### `DataFrame` 생성"
      ]
    },
    {
      "cell_type": "code",
      "metadata": {
        "colab": {
          "base_uri": "https://localhost:8080/",
          "height": 375
        },
        "id": "uEm_fVQ8GD4j",
        "outputId": "687d6b82-fa9a-4ff1-d2b0-0682552ed1aa"
      },
      "source": [
        "import numpy as np\n",
        "import pandas as pd\n",
        "\n",
        "my_dict = {'name':['강감찬', '신사임당', '홍길동', '이순신'],\n",
        "           'year':[2011, 2012, 2015, 2008],\n",
        "           'score':[4.5, 2.5, 3.1, 3.7]}\n",
        "\n",
        "# Series 만들기\n",
        "s = pd.Series(my_dict)\n",
        "print(s)\n",
        "print()\n",
        "\n",
        "# 시리즈와 비교해서 데이터프레임 보기\n",
        "df = pd.DataFrame(my_dict)\n",
        "print(df)\n",
        "print()\n",
        "\n",
        "# ==> print는 삐뚤삐뚤 보기 불편 so, display 사용\n",
        "display(df)"
      ],
      "execution_count": 8,
      "outputs": [
        {
          "output_type": "stream",
          "name": "stdout",
          "text": [
            "name        [강감찬, 신사임당, 홍길동, 이순신]\n",
            "year     [2011, 2012, 2015, 2008]\n",
            "score        [4.5, 2.5, 3.1, 3.7]\n",
            "dtype: object\n",
            "\n",
            "   name  year  score\n",
            "0   강감찬  2011    4.5\n",
            "1  신사임당  2012    2.5\n",
            "2   홍길동  2015    3.1\n",
            "3   이순신  2008    3.7\n",
            "\n"
          ]
        },
        {
          "output_type": "display_data",
          "data": {
            "text/html": [
              "<div>\n",
              "<style scoped>\n",
              "    .dataframe tbody tr th:only-of-type {\n",
              "        vertical-align: middle;\n",
              "    }\n",
              "\n",
              "    .dataframe tbody tr th {\n",
              "        vertical-align: top;\n",
              "    }\n",
              "\n",
              "    .dataframe thead th {\n",
              "        text-align: right;\n",
              "    }\n",
              "</style>\n",
              "<table border=\"1\" class=\"dataframe\">\n",
              "  <thead>\n",
              "    <tr style=\"text-align: right;\">\n",
              "      <th></th>\n",
              "      <th>name</th>\n",
              "      <th>year</th>\n",
              "      <th>score</th>\n",
              "    </tr>\n",
              "  </thead>\n",
              "  <tbody>\n",
              "    <tr>\n",
              "      <th>0</th>\n",
              "      <td>강감찬</td>\n",
              "      <td>2011</td>\n",
              "      <td>4.5</td>\n",
              "    </tr>\n",
              "    <tr>\n",
              "      <th>1</th>\n",
              "      <td>신사임당</td>\n",
              "      <td>2012</td>\n",
              "      <td>2.5</td>\n",
              "    </tr>\n",
              "    <tr>\n",
              "      <th>2</th>\n",
              "      <td>홍길동</td>\n",
              "      <td>2015</td>\n",
              "      <td>3.1</td>\n",
              "    </tr>\n",
              "    <tr>\n",
              "      <th>3</th>\n",
              "      <td>이순신</td>\n",
              "      <td>2008</td>\n",
              "      <td>3.7</td>\n",
              "    </tr>\n",
              "  </tbody>\n",
              "</table>\n",
              "</div>"
            ],
            "text/plain": [
              "   name  year  score\n",
              "0   강감찬  2011    4.5\n",
              "1  신사임당  2012    2.5\n",
              "2   홍길동  2015    3.1\n",
              "3   이순신  2008    3.7"
            ]
          },
          "metadata": {}
        }
      ]
    },
    {
      "cell_type": "code",
      "metadata": {
        "colab": {
          "base_uri": "https://localhost:8080/",
          "height": 175
        },
        "id": "kxgqWIlX03tx",
        "outputId": "474e23fb-2e62-454e-b476-444aaf9cabd6"
      },
      "source": [
        "df"
      ],
      "execution_count": 9,
      "outputs": [
        {
          "output_type": "execute_result",
          "data": {
            "text/html": [
              "<div>\n",
              "<style scoped>\n",
              "    .dataframe tbody tr th:only-of-type {\n",
              "        vertical-align: middle;\n",
              "    }\n",
              "\n",
              "    .dataframe tbody tr th {\n",
              "        vertical-align: top;\n",
              "    }\n",
              "\n",
              "    .dataframe thead th {\n",
              "        text-align: right;\n",
              "    }\n",
              "</style>\n",
              "<table border=\"1\" class=\"dataframe\">\n",
              "  <thead>\n",
              "    <tr style=\"text-align: right;\">\n",
              "      <th></th>\n",
              "      <th>name</th>\n",
              "      <th>year</th>\n",
              "      <th>score</th>\n",
              "    </tr>\n",
              "  </thead>\n",
              "  <tbody>\n",
              "    <tr>\n",
              "      <th>0</th>\n",
              "      <td>강감찬</td>\n",
              "      <td>2011</td>\n",
              "      <td>4.5</td>\n",
              "    </tr>\n",
              "    <tr>\n",
              "      <th>1</th>\n",
              "      <td>신사임당</td>\n",
              "      <td>2012</td>\n",
              "      <td>2.5</td>\n",
              "    </tr>\n",
              "    <tr>\n",
              "      <th>2</th>\n",
              "      <td>홍길동</td>\n",
              "      <td>2015</td>\n",
              "      <td>3.1</td>\n",
              "    </tr>\n",
              "    <tr>\n",
              "      <th>3</th>\n",
              "      <td>이순신</td>\n",
              "      <td>2008</td>\n",
              "      <td>3.7</td>\n",
              "    </tr>\n",
              "  </tbody>\n",
              "</table>\n",
              "</div>"
            ],
            "text/plain": [
              "   name  year  score\n",
              "0   강감찬  2011    4.5\n",
              "1  신사임당  2012    2.5\n",
              "2   홍길동  2015    3.1\n",
              "3   이순신  2008    3.7"
            ]
          },
          "metadata": {},
          "execution_count": 9
        }
      ]
    },
    {
      "cell_type": "code",
      "metadata": {
        "colab": {
          "base_uri": "https://localhost:8080/"
        },
        "id": "DZfDQB5n06qK",
        "outputId": "77aa3ad8-99c1-485c-d9db-d07b23bed07c"
      },
      "source": [
        "df['name'].values"
      ],
      "execution_count": 11,
      "outputs": [
        {
          "output_type": "execute_result",
          "data": {
            "text/plain": [
              "array(['강감찬', '신사임당', '홍길동', '이순신'], dtype=object)"
            ]
          },
          "metadata": {},
          "execution_count": 11
        }
      ]
    },
    {
      "cell_type": "markdown",
      "metadata": {
        "id": "j4Lw8L3VKF4q"
      },
      "source": [
        "### `DataFrame` 정보 확인"
      ]
    },
    {
      "cell_type": "code",
      "metadata": {
        "colab": {
          "base_uri": "https://localhost:8080/"
        },
        "id": "c2X7rPKCGD18",
        "outputId": "10527240-c83d-40fc-bc04-413f08ef3301"
      },
      "source": [
        "print(df.shape) # ==> (4, 3)\n",
        "print(df.size)  # ==> 12 (이 dataframe의 값이 몇개 들어 있는지)\n",
        "print(df.ndim)  # ==> 2 (dataframe은 무조건 2차원이다!)\n",
        "print(df.index) # ==> RangeIndex(start=0, stop=4, step=1)\n",
        "print(df.columns) # ==> 현재 data의 column 명을 ... \n",
        "                  # ==> Index(['name', 'year', 'score'], dtype='object')\n",
        "print(df.values) # ==> 값들만 2차원 ndarray로 출력해준다."
      ],
      "execution_count": 12,
      "outputs": [
        {
          "output_type": "stream",
          "name": "stdout",
          "text": [
            "(4, 3)\n",
            "12\n",
            "2\n",
            "RangeIndex(start=0, stop=4, step=1)\n",
            "Index(['name', 'year', 'score'], dtype='object')\n",
            "[['강감찬' 2011 4.5]\n",
            " ['신사임당' 2012 2.5]\n",
            " ['홍길동' 2015 3.1]\n",
            " ['이순신' 2008 3.7]]\n"
          ]
        }
      ]
    },
    {
      "cell_type": "code",
      "metadata": {
        "colab": {
          "base_uri": "https://localhost:8080/"
        },
        "id": "tlRDcRbeGDuW",
        "outputId": "43387e37-06d8-4939-8d74-895225242232"
      },
      "source": [
        "# 데이터 전반적인 정보\n",
        "print(df.info())\n",
        "print()\n",
        "\n",
        "print(df.describe())"
      ],
      "execution_count": 176,
      "outputs": [
        {
          "output_type": "stream",
          "name": "stdout",
          "text": [
            "<class 'pandas.core.frame.DataFrame'>\n",
            "RangeIndex: 4 entries, 0 to 3\n",
            "Data columns (total 3 columns):\n",
            " #   Column  Non-Null Count  Dtype  \n",
            "---  ------  --------------  -----  \n",
            " 0   name    4 non-null      object \n",
            " 1   year    4 non-null      int64  \n",
            " 2   score   4 non-null      float64\n",
            "dtypes: float64(1), int64(1), object(1)\n",
            "memory usage: 224.0+ bytes\n",
            "None\n",
            "\n",
            "              year   score\n",
            "count     4.000000  4.0000\n",
            "mean   2011.500000  3.4500\n",
            "std       2.886751  0.8544\n",
            "min    2008.000000  2.5000\n",
            "25%    2010.250000  2.9500\n",
            "50%    2011.500000  3.4000\n",
            "75%    2012.750000  3.9000\n",
            "max    2015.000000  4.5000\n"
          ]
        }
      ]
    },
    {
      "cell_type": "markdown",
      "metadata": {
        "id": "mF-_JiHwKhyS"
      },
      "source": [
        "### DataFrame `Indexing` & `Slicing`\n",
        "> - column(열)은 `Indexing` 과 `Fancy indexing` 만 가능\n",
        "- row(행)은 `slicing` 만 가능"
      ]
    },
    {
      "cell_type": "code",
      "metadata": {
        "colab": {
          "base_uri": "https://localhost:8080/",
          "height": 205
        },
        "id": "tecdQ6as3hWy",
        "outputId": "5551823f-37d3-4932-bc96-d994225ac1f9"
      },
      "source": [
        "df"
      ],
      "execution_count": 19,
      "outputs": [
        {
          "output_type": "execute_result",
          "data": {
            "text/html": [
              "<div>\n",
              "<style scoped>\n",
              "    .dataframe tbody tr th:only-of-type {\n",
              "        vertical-align: middle;\n",
              "    }\n",
              "\n",
              "    .dataframe tbody tr th {\n",
              "        vertical-align: top;\n",
              "    }\n",
              "\n",
              "    .dataframe thead th {\n",
              "        text-align: right;\n",
              "    }\n",
              "</style>\n",
              "<table border=\"1\" class=\"dataframe\">\n",
              "  <thead>\n",
              "    <tr style=\"text-align: right;\">\n",
              "      <th></th>\n",
              "      <th>학과</th>\n",
              "      <th>이름</th>\n",
              "      <th>학년</th>\n",
              "      <th>학점</th>\n",
              "    </tr>\n",
              "  </thead>\n",
              "  <tbody>\n",
              "    <tr>\n",
              "      <th>1번</th>\n",
              "      <td>컴퓨터</td>\n",
              "      <td>홍길동</td>\n",
              "      <td>1</td>\n",
              "      <td>1.3</td>\n",
              "    </tr>\n",
              "    <tr>\n",
              "      <th>2번</th>\n",
              "      <td>철학</td>\n",
              "      <td>신사임당</td>\n",
              "      <td>2</td>\n",
              "      <td>2.4</td>\n",
              "    </tr>\n",
              "    <tr>\n",
              "      <th>3번</th>\n",
              "      <td>경영</td>\n",
              "      <td>강감찬</td>\n",
              "      <td>2</td>\n",
              "      <td>3.5</td>\n",
              "    </tr>\n",
              "    <tr>\n",
              "      <th>4번</th>\n",
              "      <td>영어영문</td>\n",
              "      <td>이순신</td>\n",
              "      <td>4</td>\n",
              "      <td>2.7</td>\n",
              "    </tr>\n",
              "    <tr>\n",
              "      <th>5번</th>\n",
              "      <td>스포츠과학</td>\n",
              "      <td>정약용</td>\n",
              "      <td>3</td>\n",
              "      <td>4.1</td>\n",
              "    </tr>\n",
              "  </tbody>\n",
              "</table>\n",
              "</div>"
            ],
            "text/plain": [
              "       학과    이름  학년   학점\n",
              "1번    컴퓨터   홍길동   1  1.3\n",
              "2번     철학  신사임당   2  2.4\n",
              "3번     경영   강감찬   2  3.5\n",
              "4번   영어영문   이순신   4  2.7\n",
              "5번  스포츠과학   정약용   3  4.1"
            ]
          },
          "metadata": {},
          "execution_count": 19
        }
      ]
    },
    {
      "cell_type": "code",
      "metadata": {
        "colab": {
          "base_uri": "https://localhost:8080/",
          "height": 333
        },
        "id": "wkNTV7L4GDrB",
        "outputId": "3af4bfa7-4167-4ebb-97d3-365a14067862"
      },
      "source": [
        "data = {'이름':['홍길동', '신사임당', '강감찬', '이순신','정약용'],\n",
        "        '학과':['컴퓨터', '철학', '경영', '영어영문','스포츠과학'],\n",
        "        '학년':[1,2,2,4,3],\n",
        "        '학점':[1.3,2.4,3.5,2.7,4.1]}\n",
        "df = pd.DataFrame(data,\n",
        "                  columns = ['학과','이름','학년','학점'],   # ==> 컬럼 순서를 지정해 줄 수 있다\n",
        "                  index = ['1번','2번','3번','4번','5번'])  # ==> 인덱스를 지정할 수 있다.\n",
        "\n",
        "# 특정 column 가져오기\n",
        "print(df['이름']) # ==> 시리즈로 가져온다.\n",
        "print()\n",
        "\n",
        "# fancy indexing 기번을 사용하면 컬럼을 기준으로 가져온다\n",
        "display(df[['이름','학점']])"
      ],
      "execution_count": 177,
      "outputs": [
        {
          "output_type": "stream",
          "name": "stdout",
          "text": [
            "1번     홍길동\n",
            "2번    신사임당\n",
            "3번     강감찬\n",
            "4번     이순신\n",
            "5번     정약용\n",
            "Name: 이름, dtype: object\n",
            "\n"
          ]
        },
        {
          "output_type": "display_data",
          "data": {
            "text/html": [
              "<div>\n",
              "<style scoped>\n",
              "    .dataframe tbody tr th:only-of-type {\n",
              "        vertical-align: middle;\n",
              "    }\n",
              "\n",
              "    .dataframe tbody tr th {\n",
              "        vertical-align: top;\n",
              "    }\n",
              "\n",
              "    .dataframe thead th {\n",
              "        text-align: right;\n",
              "    }\n",
              "</style>\n",
              "<table border=\"1\" class=\"dataframe\">\n",
              "  <thead>\n",
              "    <tr style=\"text-align: right;\">\n",
              "      <th></th>\n",
              "      <th>이름</th>\n",
              "      <th>학점</th>\n",
              "    </tr>\n",
              "  </thead>\n",
              "  <tbody>\n",
              "    <tr>\n",
              "      <th>1번</th>\n",
              "      <td>홍길동</td>\n",
              "      <td>1.3</td>\n",
              "    </tr>\n",
              "    <tr>\n",
              "      <th>2번</th>\n",
              "      <td>신사임당</td>\n",
              "      <td>2.4</td>\n",
              "    </tr>\n",
              "    <tr>\n",
              "      <th>3번</th>\n",
              "      <td>강감찬</td>\n",
              "      <td>3.5</td>\n",
              "    </tr>\n",
              "    <tr>\n",
              "      <th>4번</th>\n",
              "      <td>이순신</td>\n",
              "      <td>2.7</td>\n",
              "    </tr>\n",
              "    <tr>\n",
              "      <th>5번</th>\n",
              "      <td>정약용</td>\n",
              "      <td>4.1</td>\n",
              "    </tr>\n",
              "  </tbody>\n",
              "</table>\n",
              "</div>"
            ],
            "text/plain": [
              "      이름   학점\n",
              "1번   홍길동  1.3\n",
              "2번  신사임당  2.4\n",
              "3번   강감찬  3.5\n",
              "4번   이순신  2.7\n",
              "5번   정약용  4.1"
            ]
          },
          "metadata": {}
        }
      ]
    },
    {
      "cell_type": "code",
      "metadata": {
        "colab": {
          "base_uri": "https://localhost:8080/",
          "height": 205
        },
        "id": "OW4vkoTY4nm_",
        "outputId": "f101dc1c-9e45-401e-df4b-f2510cc9ff94"
      },
      "source": [
        "df"
      ],
      "execution_count": 20,
      "outputs": [
        {
          "output_type": "execute_result",
          "data": {
            "text/html": [
              "<div>\n",
              "<style scoped>\n",
              "    .dataframe tbody tr th:only-of-type {\n",
              "        vertical-align: middle;\n",
              "    }\n",
              "\n",
              "    .dataframe tbody tr th {\n",
              "        vertical-align: top;\n",
              "    }\n",
              "\n",
              "    .dataframe thead th {\n",
              "        text-align: right;\n",
              "    }\n",
              "</style>\n",
              "<table border=\"1\" class=\"dataframe\">\n",
              "  <thead>\n",
              "    <tr style=\"text-align: right;\">\n",
              "      <th></th>\n",
              "      <th>학과</th>\n",
              "      <th>이름</th>\n",
              "      <th>학년</th>\n",
              "      <th>학점</th>\n",
              "    </tr>\n",
              "  </thead>\n",
              "  <tbody>\n",
              "    <tr>\n",
              "      <th>1번</th>\n",
              "      <td>컴퓨터</td>\n",
              "      <td>홍길동</td>\n",
              "      <td>1</td>\n",
              "      <td>1.3</td>\n",
              "    </tr>\n",
              "    <tr>\n",
              "      <th>2번</th>\n",
              "      <td>철학</td>\n",
              "      <td>신사임당</td>\n",
              "      <td>2</td>\n",
              "      <td>2.4</td>\n",
              "    </tr>\n",
              "    <tr>\n",
              "      <th>3번</th>\n",
              "      <td>경영</td>\n",
              "      <td>강감찬</td>\n",
              "      <td>2</td>\n",
              "      <td>3.5</td>\n",
              "    </tr>\n",
              "    <tr>\n",
              "      <th>4번</th>\n",
              "      <td>영어영문</td>\n",
              "      <td>이순신</td>\n",
              "      <td>4</td>\n",
              "      <td>2.7</td>\n",
              "    </tr>\n",
              "    <tr>\n",
              "      <th>5번</th>\n",
              "      <td>스포츠과학</td>\n",
              "      <td>정약용</td>\n",
              "      <td>3</td>\n",
              "      <td>4.1</td>\n",
              "    </tr>\n",
              "  </tbody>\n",
              "</table>\n",
              "</div>"
            ],
            "text/plain": [
              "       학과    이름  학년   학점\n",
              "1번    컴퓨터   홍길동   1  1.3\n",
              "2번     철학  신사임당   2  2.4\n",
              "3번     경영   강감찬   2  3.5\n",
              "4번   영어영문   이순신   4  2.7\n",
              "5번  스포츠과학   정약용   3  4.1"
            ]
          },
          "metadata": {},
          "execution_count": 20
        }
      ]
    },
    {
      "cell_type": "code",
      "metadata": {
        "colab": {
          "base_uri": "https://localhost:8080/",
          "height": 205
        },
        "id": "Gi47agpi4p3X",
        "outputId": "0712b1ca-20e7-4ecd-b0d9-15d3cf25e167"
      },
      "source": [
        "df['이름'] = '이승훈'\n",
        "df"
      ],
      "execution_count": 25,
      "outputs": [
        {
          "output_type": "execute_result",
          "data": {
            "text/html": [
              "<div>\n",
              "<style scoped>\n",
              "    .dataframe tbody tr th:only-of-type {\n",
              "        vertical-align: middle;\n",
              "    }\n",
              "\n",
              "    .dataframe tbody tr th {\n",
              "        vertical-align: top;\n",
              "    }\n",
              "\n",
              "    .dataframe thead th {\n",
              "        text-align: right;\n",
              "    }\n",
              "</style>\n",
              "<table border=\"1\" class=\"dataframe\">\n",
              "  <thead>\n",
              "    <tr style=\"text-align: right;\">\n",
              "      <th></th>\n",
              "      <th>학과</th>\n",
              "      <th>이름</th>\n",
              "      <th>학년</th>\n",
              "      <th>학점</th>\n",
              "      <th>등급</th>\n",
              "    </tr>\n",
              "  </thead>\n",
              "  <tbody>\n",
              "    <tr>\n",
              "      <th>1번</th>\n",
              "      <td>컴퓨터</td>\n",
              "      <td>이승훈</td>\n",
              "      <td>1</td>\n",
              "      <td>1.3</td>\n",
              "      <td>A</td>\n",
              "    </tr>\n",
              "    <tr>\n",
              "      <th>2번</th>\n",
              "      <td>철학</td>\n",
              "      <td>이승훈</td>\n",
              "      <td>2</td>\n",
              "      <td>2.4</td>\n",
              "      <td>A</td>\n",
              "    </tr>\n",
              "    <tr>\n",
              "      <th>3번</th>\n",
              "      <td>경영</td>\n",
              "      <td>이승훈</td>\n",
              "      <td>2</td>\n",
              "      <td>3.5</td>\n",
              "      <td>A</td>\n",
              "    </tr>\n",
              "    <tr>\n",
              "      <th>4번</th>\n",
              "      <td>영어영문</td>\n",
              "      <td>이승훈</td>\n",
              "      <td>4</td>\n",
              "      <td>2.7</td>\n",
              "      <td>A</td>\n",
              "    </tr>\n",
              "    <tr>\n",
              "      <th>5번</th>\n",
              "      <td>스포츠과학</td>\n",
              "      <td>이승훈</td>\n",
              "      <td>3</td>\n",
              "      <td>4.1</td>\n",
              "      <td>A</td>\n",
              "    </tr>\n",
              "  </tbody>\n",
              "</table>\n",
              "</div>"
            ],
            "text/plain": [
              "       학과   이름  학년   학점 등급\n",
              "1번    컴퓨터  이승훈   1  1.3  A\n",
              "2번     철학  이승훈   2  2.4  A\n",
              "3번     경영  이승훈   2  3.5  A\n",
              "4번   영어영문  이승훈   4  2.7  A\n",
              "5번  스포츠과학  이승훈   3  4.1  A"
            ]
          },
          "metadata": {},
          "execution_count": 25
        }
      ]
    },
    {
      "cell_type": "code",
      "metadata": {
        "colab": {
          "base_uri": "https://localhost:8080/",
          "height": 394
        },
        "id": "ZxJZsm_3GDmx",
        "outputId": "6f547448-0d8e-4b4c-951a-1ae4d440084a"
      },
      "source": [
        "# 새로운 column을 생성하고, 새로운 값을 넣고 싶을 때\n",
        "df['등급'] = 'A' \n",
        "display(df)\n",
        "\n",
        "# 값들을 직접 줄 수도 있고, 결측값을 줄 수도 있다.\n",
        "df['등급'] = ['A', 'B','C','D',np.nan]\n",
        "display(df)"
      ],
      "execution_count": 26,
      "outputs": [
        {
          "output_type": "display_data",
          "data": {
            "text/html": [
              "<div>\n",
              "<style scoped>\n",
              "    .dataframe tbody tr th:only-of-type {\n",
              "        vertical-align: middle;\n",
              "    }\n",
              "\n",
              "    .dataframe tbody tr th {\n",
              "        vertical-align: top;\n",
              "    }\n",
              "\n",
              "    .dataframe thead th {\n",
              "        text-align: right;\n",
              "    }\n",
              "</style>\n",
              "<table border=\"1\" class=\"dataframe\">\n",
              "  <thead>\n",
              "    <tr style=\"text-align: right;\">\n",
              "      <th></th>\n",
              "      <th>학과</th>\n",
              "      <th>이름</th>\n",
              "      <th>학년</th>\n",
              "      <th>학점</th>\n",
              "      <th>등급</th>\n",
              "    </tr>\n",
              "  </thead>\n",
              "  <tbody>\n",
              "    <tr>\n",
              "      <th>1번</th>\n",
              "      <td>컴퓨터</td>\n",
              "      <td>이승훈</td>\n",
              "      <td>1</td>\n",
              "      <td>1.3</td>\n",
              "      <td>A</td>\n",
              "    </tr>\n",
              "    <tr>\n",
              "      <th>2번</th>\n",
              "      <td>철학</td>\n",
              "      <td>이승훈</td>\n",
              "      <td>2</td>\n",
              "      <td>2.4</td>\n",
              "      <td>A</td>\n",
              "    </tr>\n",
              "    <tr>\n",
              "      <th>3번</th>\n",
              "      <td>경영</td>\n",
              "      <td>이승훈</td>\n",
              "      <td>2</td>\n",
              "      <td>3.5</td>\n",
              "      <td>A</td>\n",
              "    </tr>\n",
              "    <tr>\n",
              "      <th>4번</th>\n",
              "      <td>영어영문</td>\n",
              "      <td>이승훈</td>\n",
              "      <td>4</td>\n",
              "      <td>2.7</td>\n",
              "      <td>A</td>\n",
              "    </tr>\n",
              "    <tr>\n",
              "      <th>5번</th>\n",
              "      <td>스포츠과학</td>\n",
              "      <td>이승훈</td>\n",
              "      <td>3</td>\n",
              "      <td>4.1</td>\n",
              "      <td>A</td>\n",
              "    </tr>\n",
              "  </tbody>\n",
              "</table>\n",
              "</div>"
            ],
            "text/plain": [
              "       학과   이름  학년   학점 등급\n",
              "1번    컴퓨터  이승훈   1  1.3  A\n",
              "2번     철학  이승훈   2  2.4  A\n",
              "3번     경영  이승훈   2  3.5  A\n",
              "4번   영어영문  이승훈   4  2.7  A\n",
              "5번  스포츠과학  이승훈   3  4.1  A"
            ]
          },
          "metadata": {}
        },
        {
          "output_type": "display_data",
          "data": {
            "text/html": [
              "<div>\n",
              "<style scoped>\n",
              "    .dataframe tbody tr th:only-of-type {\n",
              "        vertical-align: middle;\n",
              "    }\n",
              "\n",
              "    .dataframe tbody tr th {\n",
              "        vertical-align: top;\n",
              "    }\n",
              "\n",
              "    .dataframe thead th {\n",
              "        text-align: right;\n",
              "    }\n",
              "</style>\n",
              "<table border=\"1\" class=\"dataframe\">\n",
              "  <thead>\n",
              "    <tr style=\"text-align: right;\">\n",
              "      <th></th>\n",
              "      <th>학과</th>\n",
              "      <th>이름</th>\n",
              "      <th>학년</th>\n",
              "      <th>학점</th>\n",
              "      <th>등급</th>\n",
              "    </tr>\n",
              "  </thead>\n",
              "  <tbody>\n",
              "    <tr>\n",
              "      <th>1번</th>\n",
              "      <td>컴퓨터</td>\n",
              "      <td>이승훈</td>\n",
              "      <td>1</td>\n",
              "      <td>1.3</td>\n",
              "      <td>A</td>\n",
              "    </tr>\n",
              "    <tr>\n",
              "      <th>2번</th>\n",
              "      <td>철학</td>\n",
              "      <td>이승훈</td>\n",
              "      <td>2</td>\n",
              "      <td>2.4</td>\n",
              "      <td>B</td>\n",
              "    </tr>\n",
              "    <tr>\n",
              "      <th>3번</th>\n",
              "      <td>경영</td>\n",
              "      <td>이승훈</td>\n",
              "      <td>2</td>\n",
              "      <td>3.5</td>\n",
              "      <td>C</td>\n",
              "    </tr>\n",
              "    <tr>\n",
              "      <th>4번</th>\n",
              "      <td>영어영문</td>\n",
              "      <td>이승훈</td>\n",
              "      <td>4</td>\n",
              "      <td>2.7</td>\n",
              "      <td>D</td>\n",
              "    </tr>\n",
              "    <tr>\n",
              "      <th>5번</th>\n",
              "      <td>스포츠과학</td>\n",
              "      <td>이승훈</td>\n",
              "      <td>3</td>\n",
              "      <td>4.1</td>\n",
              "      <td>NaN</td>\n",
              "    </tr>\n",
              "  </tbody>\n",
              "</table>\n",
              "</div>"
            ],
            "text/plain": [
              "       학과   이름  학년   학점   등급\n",
              "1번    컴퓨터  이승훈   1  1.3    A\n",
              "2번     철학  이승훈   2  2.4    B\n",
              "3번     경영  이승훈   2  3.5    C\n",
              "4번   영어영문  이승훈   4  2.7    D\n",
              "5번  스포츠과학  이승훈   3  4.1  NaN"
            ]
          },
          "metadata": {}
        }
      ]
    },
    {
      "cell_type": "code",
      "metadata": {
        "colab": {
          "base_uri": "https://localhost:8080/",
          "height": 269
        },
        "id": "eP3iDwXMGDjx",
        "outputId": "17bd75c1-c516-4442-bfad-da7be9a71233"
      },
      "source": [
        "# 슬라이싱은 row(행)을 기준으로 가져온다.\n",
        "display(df[1:3])\n",
        "\n",
        "# 1행부터 끝까지\n",
        "display(df[1:])"
      ],
      "execution_count": 27,
      "outputs": [
        {
          "output_type": "display_data",
          "data": {
            "text/html": [
              "<div>\n",
              "<style scoped>\n",
              "    .dataframe tbody tr th:only-of-type {\n",
              "        vertical-align: middle;\n",
              "    }\n",
              "\n",
              "    .dataframe tbody tr th {\n",
              "        vertical-align: top;\n",
              "    }\n",
              "\n",
              "    .dataframe thead th {\n",
              "        text-align: right;\n",
              "    }\n",
              "</style>\n",
              "<table border=\"1\" class=\"dataframe\">\n",
              "  <thead>\n",
              "    <tr style=\"text-align: right;\">\n",
              "      <th></th>\n",
              "      <th>학과</th>\n",
              "      <th>이름</th>\n",
              "      <th>학년</th>\n",
              "      <th>학점</th>\n",
              "      <th>등급</th>\n",
              "    </tr>\n",
              "  </thead>\n",
              "  <tbody>\n",
              "    <tr>\n",
              "      <th>2번</th>\n",
              "      <td>철학</td>\n",
              "      <td>이승훈</td>\n",
              "      <td>2</td>\n",
              "      <td>2.4</td>\n",
              "      <td>B</td>\n",
              "    </tr>\n",
              "    <tr>\n",
              "      <th>3번</th>\n",
              "      <td>경영</td>\n",
              "      <td>이승훈</td>\n",
              "      <td>2</td>\n",
              "      <td>3.5</td>\n",
              "      <td>C</td>\n",
              "    </tr>\n",
              "  </tbody>\n",
              "</table>\n",
              "</div>"
            ],
            "text/plain": [
              "    학과   이름  학년   학점 등급\n",
              "2번  철학  이승훈   2  2.4  B\n",
              "3번  경영  이승훈   2  3.5  C"
            ]
          },
          "metadata": {}
        },
        {
          "output_type": "display_data",
          "data": {
            "text/html": [
              "<div>\n",
              "<style scoped>\n",
              "    .dataframe tbody tr th:only-of-type {\n",
              "        vertical-align: middle;\n",
              "    }\n",
              "\n",
              "    .dataframe tbody tr th {\n",
              "        vertical-align: top;\n",
              "    }\n",
              "\n",
              "    .dataframe thead th {\n",
              "        text-align: right;\n",
              "    }\n",
              "</style>\n",
              "<table border=\"1\" class=\"dataframe\">\n",
              "  <thead>\n",
              "    <tr style=\"text-align: right;\">\n",
              "      <th></th>\n",
              "      <th>학과</th>\n",
              "      <th>이름</th>\n",
              "      <th>학년</th>\n",
              "      <th>학점</th>\n",
              "      <th>등급</th>\n",
              "    </tr>\n",
              "  </thead>\n",
              "  <tbody>\n",
              "    <tr>\n",
              "      <th>2번</th>\n",
              "      <td>철학</td>\n",
              "      <td>이승훈</td>\n",
              "      <td>2</td>\n",
              "      <td>2.4</td>\n",
              "      <td>B</td>\n",
              "    </tr>\n",
              "    <tr>\n",
              "      <th>3번</th>\n",
              "      <td>경영</td>\n",
              "      <td>이승훈</td>\n",
              "      <td>2</td>\n",
              "      <td>3.5</td>\n",
              "      <td>C</td>\n",
              "    </tr>\n",
              "    <tr>\n",
              "      <th>4번</th>\n",
              "      <td>영어영문</td>\n",
              "      <td>이승훈</td>\n",
              "      <td>4</td>\n",
              "      <td>2.7</td>\n",
              "      <td>D</td>\n",
              "    </tr>\n",
              "    <tr>\n",
              "      <th>5번</th>\n",
              "      <td>스포츠과학</td>\n",
              "      <td>이승훈</td>\n",
              "      <td>3</td>\n",
              "      <td>4.1</td>\n",
              "      <td>NaN</td>\n",
              "    </tr>\n",
              "  </tbody>\n",
              "</table>\n",
              "</div>"
            ],
            "text/plain": [
              "       학과   이름  학년   학점   등급\n",
              "2번     철학  이승훈   2  2.4    B\n",
              "3번     경영  이승훈   2  3.5    C\n",
              "4번   영어영문  이승훈   4  2.7    D\n",
              "5번  스포츠과학  이승훈   3  4.1  NaN"
            ]
          },
          "metadata": {}
        }
      ]
    },
    {
      "cell_type": "code",
      "metadata": {
        "colab": {
          "base_uri": "https://localhost:8080/",
          "height": 143
        },
        "id": "BbldhkloGDbe",
        "outputId": "028152a2-4dd5-43fb-ba95-e17d8187fbe7"
      },
      "source": [
        "display(df[0:3]) \n",
        "# err==> record에 대한 fancy indexing 안된다! (column에서는 됐는데...)"
      ],
      "execution_count": 31,
      "outputs": [
        {
          "output_type": "display_data",
          "data": {
            "text/html": [
              "<div>\n",
              "<style scoped>\n",
              "    .dataframe tbody tr th:only-of-type {\n",
              "        vertical-align: middle;\n",
              "    }\n",
              "\n",
              "    .dataframe tbody tr th {\n",
              "        vertical-align: top;\n",
              "    }\n",
              "\n",
              "    .dataframe thead th {\n",
              "        text-align: right;\n",
              "    }\n",
              "</style>\n",
              "<table border=\"1\" class=\"dataframe\">\n",
              "  <thead>\n",
              "    <tr style=\"text-align: right;\">\n",
              "      <th></th>\n",
              "      <th>학과</th>\n",
              "      <th>이름</th>\n",
              "      <th>학년</th>\n",
              "      <th>학점</th>\n",
              "      <th>등급</th>\n",
              "    </tr>\n",
              "  </thead>\n",
              "  <tbody>\n",
              "    <tr>\n",
              "      <th>1번</th>\n",
              "      <td>컴퓨터</td>\n",
              "      <td>이승훈</td>\n",
              "      <td>1</td>\n",
              "      <td>1.3</td>\n",
              "      <td>A</td>\n",
              "    </tr>\n",
              "    <tr>\n",
              "      <th>2번</th>\n",
              "      <td>철학</td>\n",
              "      <td>이승훈</td>\n",
              "      <td>2</td>\n",
              "      <td>2.4</td>\n",
              "      <td>B</td>\n",
              "    </tr>\n",
              "    <tr>\n",
              "      <th>3번</th>\n",
              "      <td>경영</td>\n",
              "      <td>이승훈</td>\n",
              "      <td>2</td>\n",
              "      <td>3.5</td>\n",
              "      <td>C</td>\n",
              "    </tr>\n",
              "  </tbody>\n",
              "</table>\n",
              "</div>"
            ],
            "text/plain": [
              "     학과   이름  학년   학점 등급\n",
              "1번  컴퓨터  이승훈   1  1.3  A\n",
              "2번   철학  이승훈   2  2.4  B\n",
              "3번   경영  이승훈   2  3.5  C"
            ]
          },
          "metadata": {}
        }
      ]
    },
    {
      "cell_type": "code",
      "metadata": {
        "colab": {
          "base_uri": "https://localhost:8080/",
          "height": 81
        },
        "id": "WPD6pB7y6E89",
        "outputId": "ae3a855a-2034-48cb-f0e5-f6f7b7931bc6"
      },
      "source": [
        "df['1번':'1번']"
      ],
      "execution_count": 34,
      "outputs": [
        {
          "output_type": "execute_result",
          "data": {
            "text/html": [
              "<div>\n",
              "<style scoped>\n",
              "    .dataframe tbody tr th:only-of-type {\n",
              "        vertical-align: middle;\n",
              "    }\n",
              "\n",
              "    .dataframe tbody tr th {\n",
              "        vertical-align: top;\n",
              "    }\n",
              "\n",
              "    .dataframe thead th {\n",
              "        text-align: right;\n",
              "    }\n",
              "</style>\n",
              "<table border=\"1\" class=\"dataframe\">\n",
              "  <thead>\n",
              "    <tr style=\"text-align: right;\">\n",
              "      <th></th>\n",
              "      <th>학과</th>\n",
              "      <th>이름</th>\n",
              "      <th>학년</th>\n",
              "      <th>학점</th>\n",
              "      <th>등급</th>\n",
              "    </tr>\n",
              "  </thead>\n",
              "  <tbody>\n",
              "    <tr>\n",
              "      <th>1번</th>\n",
              "      <td>컴퓨터</td>\n",
              "      <td>이승훈</td>\n",
              "      <td>1</td>\n",
              "      <td>1.3</td>\n",
              "      <td>A</td>\n",
              "    </tr>\n",
              "  </tbody>\n",
              "</table>\n",
              "</div>"
            ],
            "text/plain": [
              "     학과   이름  학년   학점 등급\n",
              "1번  컴퓨터  이승훈   1  1.3  A"
            ]
          },
          "metadata": {},
          "execution_count": 34
        }
      ]
    },
    {
      "cell_type": "code",
      "metadata": {
        "colab": {
          "base_uri": "https://localhost:8080/",
          "height": 364
        },
        "id": "7PH_j3J9Lmvt",
        "outputId": "b875e5be-ca06-4425-adcc-8e1f1993247a"
      },
      "source": [
        "# row(행) indexing 진짜 안될까?\n",
        "print(df['1번']) # <== 이것도 안된다! column에 관한 거였으니깐(단일 indexing)\n",
        "display(df['2번':'5번']) # ==> slicing을 이용해서 record slice 가능하다.\n",
        "display(df['3번':])\n",
        "display(df['1번':'1번'])"
      ],
      "execution_count": 185,
      "outputs": [
        {
          "output_type": "display_data",
          "data": {
            "text/html": [
              "<div>\n",
              "<style scoped>\n",
              "    .dataframe tbody tr th:only-of-type {\n",
              "        vertical-align: middle;\n",
              "    }\n",
              "\n",
              "    .dataframe tbody tr th {\n",
              "        vertical-align: top;\n",
              "    }\n",
              "\n",
              "    .dataframe thead th {\n",
              "        text-align: right;\n",
              "    }\n",
              "</style>\n",
              "<table border=\"1\" class=\"dataframe\">\n",
              "  <thead>\n",
              "    <tr style=\"text-align: right;\">\n",
              "      <th></th>\n",
              "      <th>학과</th>\n",
              "      <th>이름</th>\n",
              "      <th>학년</th>\n",
              "      <th>학점</th>\n",
              "      <th>등급</th>\n",
              "    </tr>\n",
              "  </thead>\n",
              "  <tbody>\n",
              "    <tr>\n",
              "      <th>2번</th>\n",
              "      <td>철학</td>\n",
              "      <td>신사임당</td>\n",
              "      <td>2</td>\n",
              "      <td>2.4</td>\n",
              "      <td>B</td>\n",
              "    </tr>\n",
              "    <tr>\n",
              "      <th>3번</th>\n",
              "      <td>경영</td>\n",
              "      <td>강감찬</td>\n",
              "      <td>2</td>\n",
              "      <td>3.5</td>\n",
              "      <td>C</td>\n",
              "    </tr>\n",
              "    <tr>\n",
              "      <th>4번</th>\n",
              "      <td>영어영문</td>\n",
              "      <td>이순신</td>\n",
              "      <td>4</td>\n",
              "      <td>2.7</td>\n",
              "      <td>D</td>\n",
              "    </tr>\n",
              "    <tr>\n",
              "      <th>5번</th>\n",
              "      <td>스포츠과학</td>\n",
              "      <td>정약용</td>\n",
              "      <td>3</td>\n",
              "      <td>4.1</td>\n",
              "      <td>NaN</td>\n",
              "    </tr>\n",
              "  </tbody>\n",
              "</table>\n",
              "</div>"
            ],
            "text/plain": [
              "       학과    이름  학년   학점   등급\n",
              "2번     철학  신사임당   2  2.4    B\n",
              "3번     경영   강감찬   2  3.5    C\n",
              "4번   영어영문   이순신   4  2.7    D\n",
              "5번  스포츠과학   정약용   3  4.1  NaN"
            ]
          },
          "metadata": {}
        },
        {
          "output_type": "display_data",
          "data": {
            "text/html": [
              "<div>\n",
              "<style scoped>\n",
              "    .dataframe tbody tr th:only-of-type {\n",
              "        vertical-align: middle;\n",
              "    }\n",
              "\n",
              "    .dataframe tbody tr th {\n",
              "        vertical-align: top;\n",
              "    }\n",
              "\n",
              "    .dataframe thead th {\n",
              "        text-align: right;\n",
              "    }\n",
              "</style>\n",
              "<table border=\"1\" class=\"dataframe\">\n",
              "  <thead>\n",
              "    <tr style=\"text-align: right;\">\n",
              "      <th></th>\n",
              "      <th>학과</th>\n",
              "      <th>이름</th>\n",
              "      <th>학년</th>\n",
              "      <th>학점</th>\n",
              "      <th>등급</th>\n",
              "    </tr>\n",
              "  </thead>\n",
              "  <tbody>\n",
              "    <tr>\n",
              "      <th>3번</th>\n",
              "      <td>경영</td>\n",
              "      <td>강감찬</td>\n",
              "      <td>2</td>\n",
              "      <td>3.5</td>\n",
              "      <td>C</td>\n",
              "    </tr>\n",
              "    <tr>\n",
              "      <th>4번</th>\n",
              "      <td>영어영문</td>\n",
              "      <td>이순신</td>\n",
              "      <td>4</td>\n",
              "      <td>2.7</td>\n",
              "      <td>D</td>\n",
              "    </tr>\n",
              "    <tr>\n",
              "      <th>5번</th>\n",
              "      <td>스포츠과학</td>\n",
              "      <td>정약용</td>\n",
              "      <td>3</td>\n",
              "      <td>4.1</td>\n",
              "      <td>NaN</td>\n",
              "    </tr>\n",
              "  </tbody>\n",
              "</table>\n",
              "</div>"
            ],
            "text/plain": [
              "       학과   이름  학년   학점   등급\n",
              "3번     경영  강감찬   2  3.5    C\n",
              "4번   영어영문  이순신   4  2.7    D\n",
              "5번  스포츠과학  정약용   3  4.1  NaN"
            ]
          },
          "metadata": {}
        },
        {
          "output_type": "display_data",
          "data": {
            "text/html": [
              "<div>\n",
              "<style scoped>\n",
              "    .dataframe tbody tr th:only-of-type {\n",
              "        vertical-align: middle;\n",
              "    }\n",
              "\n",
              "    .dataframe tbody tr th {\n",
              "        vertical-align: top;\n",
              "    }\n",
              "\n",
              "    .dataframe thead th {\n",
              "        text-align: right;\n",
              "    }\n",
              "</style>\n",
              "<table border=\"1\" class=\"dataframe\">\n",
              "  <thead>\n",
              "    <tr style=\"text-align: right;\">\n",
              "      <th></th>\n",
              "      <th>학과</th>\n",
              "      <th>이름</th>\n",
              "      <th>학년</th>\n",
              "      <th>학점</th>\n",
              "      <th>등급</th>\n",
              "    </tr>\n",
              "  </thead>\n",
              "  <tbody>\n",
              "    <tr>\n",
              "      <th>1번</th>\n",
              "      <td>컴퓨터</td>\n",
              "      <td>홍길동</td>\n",
              "      <td>1</td>\n",
              "      <td>1.3</td>\n",
              "      <td>A</td>\n",
              "    </tr>\n",
              "  </tbody>\n",
              "</table>\n",
              "</div>"
            ],
            "text/plain": [
              "     학과   이름  학년   학점 등급\n",
              "1번  컴퓨터  홍길동   1  1.3  A"
            ]
          },
          "metadata": {}
        }
      ]
    },
    {
      "cell_type": "code",
      "metadata": {
        "id": "kTuyB4ZDL1rh"
      },
      "source": [
        "display(df['2번':-1]) # err ==> 숫자 index와 지정 index를 혼용해서 사용 불가\n",
        "display(df[['1번','2번']]) # err ==> 당연 fancy indexing도 안된다!"
      ],
      "execution_count": null,
      "outputs": []
    },
    {
      "cell_type": "markdown",
      "metadata": {
        "id": "tnSu4XbZL7F5"
      },
      "source": [
        "### DataFrame `boolean indexing`"
      ]
    },
    {
      "cell_type": "code",
      "metadata": {
        "colab": {
          "base_uri": "https://localhost:8080/",
          "height": 205
        },
        "id": "PC8v8SSh6yFZ",
        "outputId": "e85399aa-c04c-47ab-c3d1-c42894ad41e1"
      },
      "source": [
        "data = {'이름':['홍길동', '신사임당', '강감찬', '이순신','정약용'],\n",
        "        '학과':['컴퓨터', '철학', '경영', '영어영문','스포츠과학'],\n",
        "        '학년':[1,2,2,4,3],\n",
        "        '학점':[1.3,2.4,3.5,2.7,4.1]}\n",
        "df = pd.DataFrame(data,\n",
        "                  columns = ['학과','이름','학년','학점'],\n",
        "                  index = ['1번','2번','3번','4번','5번'])\n",
        "\n",
        "display(df)"
      ],
      "execution_count": 38,
      "outputs": [
        {
          "output_type": "display_data",
          "data": {
            "text/html": [
              "<div>\n",
              "<style scoped>\n",
              "    .dataframe tbody tr th:only-of-type {\n",
              "        vertical-align: middle;\n",
              "    }\n",
              "\n",
              "    .dataframe tbody tr th {\n",
              "        vertical-align: top;\n",
              "    }\n",
              "\n",
              "    .dataframe thead th {\n",
              "        text-align: right;\n",
              "    }\n",
              "</style>\n",
              "<table border=\"1\" class=\"dataframe\">\n",
              "  <thead>\n",
              "    <tr style=\"text-align: right;\">\n",
              "      <th></th>\n",
              "      <th>학과</th>\n",
              "      <th>이름</th>\n",
              "      <th>학년</th>\n",
              "      <th>학점</th>\n",
              "    </tr>\n",
              "  </thead>\n",
              "  <tbody>\n",
              "    <tr>\n",
              "      <th>1번</th>\n",
              "      <td>컴퓨터</td>\n",
              "      <td>홍길동</td>\n",
              "      <td>1</td>\n",
              "      <td>1.3</td>\n",
              "    </tr>\n",
              "    <tr>\n",
              "      <th>2번</th>\n",
              "      <td>철학</td>\n",
              "      <td>신사임당</td>\n",
              "      <td>2</td>\n",
              "      <td>2.4</td>\n",
              "    </tr>\n",
              "    <tr>\n",
              "      <th>3번</th>\n",
              "      <td>경영</td>\n",
              "      <td>강감찬</td>\n",
              "      <td>2</td>\n",
              "      <td>3.5</td>\n",
              "    </tr>\n",
              "    <tr>\n",
              "      <th>4번</th>\n",
              "      <td>영어영문</td>\n",
              "      <td>이순신</td>\n",
              "      <td>4</td>\n",
              "      <td>2.7</td>\n",
              "    </tr>\n",
              "    <tr>\n",
              "      <th>5번</th>\n",
              "      <td>스포츠과학</td>\n",
              "      <td>정약용</td>\n",
              "      <td>3</td>\n",
              "      <td>4.1</td>\n",
              "    </tr>\n",
              "  </tbody>\n",
              "</table>\n",
              "</div>"
            ],
            "text/plain": [
              "       학과    이름  학년   학점\n",
              "1번    컴퓨터   홍길동   1  1.3\n",
              "2번     철학  신사임당   2  2.4\n",
              "3번     경영   강감찬   2  3.5\n",
              "4번   영어영문   이순신   4  2.7\n",
              "5번  스포츠과학   정약용   3  4.1"
            ]
          },
          "metadata": {}
        }
      ]
    },
    {
      "cell_type": "code",
      "metadata": {
        "colab": {
          "base_uri": "https://localhost:8080/"
        },
        "id": "gi5zNHR664Z6",
        "outputId": "82fe5e5a-ef6e-4dbb-9cff-4215c365ba57"
      },
      "source": [
        "df['학점']>=3.0"
      ],
      "execution_count": 40,
      "outputs": [
        {
          "output_type": "execute_result",
          "data": {
            "text/plain": [
              "1번    False\n",
              "2번    False\n",
              "3번     True\n",
              "4번    False\n",
              "5번     True\n",
              "Name: 학점, dtype: bool"
            ]
          },
          "metadata": {},
          "execution_count": 40
        }
      ]
    },
    {
      "cell_type": "code",
      "metadata": {
        "colab": {
          "base_uri": "https://localhost:8080/"
        },
        "id": "BS6Gt7KY7k6P",
        "outputId": "c865e105-903d-4a87-a0bd-37d1f90b2354"
      },
      "source": [
        "mask = df['학점']>=3.0\n",
        "mask"
      ],
      "execution_count": 44,
      "outputs": [
        {
          "output_type": "execute_result",
          "data": {
            "text/plain": [
              "1번    False\n",
              "2번    False\n",
              "3번     True\n",
              "4번    False\n",
              "5번     True\n",
              "Name: 학점, dtype: bool"
            ]
          },
          "metadata": {},
          "execution_count": 44
        }
      ]
    },
    {
      "cell_type": "code",
      "metadata": {
        "colab": {
          "base_uri": "https://localhost:8080/",
          "height": 112
        },
        "id": "yFSh6Rb87bay",
        "outputId": "ac6d30ba-499c-4a35-dafe-8022563ed6a9"
      },
      "source": [
        "df[['이름','학점']][mask]"
      ],
      "execution_count": 45,
      "outputs": [
        {
          "output_type": "execute_result",
          "data": {
            "text/html": [
              "<div>\n",
              "<style scoped>\n",
              "    .dataframe tbody tr th:only-of-type {\n",
              "        vertical-align: middle;\n",
              "    }\n",
              "\n",
              "    .dataframe tbody tr th {\n",
              "        vertical-align: top;\n",
              "    }\n",
              "\n",
              "    .dataframe thead th {\n",
              "        text-align: right;\n",
              "    }\n",
              "</style>\n",
              "<table border=\"1\" class=\"dataframe\">\n",
              "  <thead>\n",
              "    <tr style=\"text-align: right;\">\n",
              "      <th></th>\n",
              "      <th>이름</th>\n",
              "      <th>학점</th>\n",
              "    </tr>\n",
              "  </thead>\n",
              "  <tbody>\n",
              "    <tr>\n",
              "      <th>3번</th>\n",
              "      <td>강감찬</td>\n",
              "      <td>3.5</td>\n",
              "    </tr>\n",
              "    <tr>\n",
              "      <th>5번</th>\n",
              "      <td>정약용</td>\n",
              "      <td>4.1</td>\n",
              "    </tr>\n",
              "  </tbody>\n",
              "</table>\n",
              "</div>"
            ],
            "text/plain": [
              "     이름   학점\n",
              "3번  강감찬  3.5\n",
              "5번  정약용  4.1"
            ]
          },
          "metadata": {},
          "execution_count": 45
        }
      ]
    },
    {
      "cell_type": "code",
      "metadata": {
        "colab": {
          "base_uri": "https://localhost:8080/",
          "height": 112
        },
        "id": "GJ-brbH77K7I",
        "outputId": "3d3065ed-36f9-42f9-e624-22d0044f899d"
      },
      "source": [
        "df[][df['학점']>=3.0]"
      ],
      "execution_count": 41,
      "outputs": [
        {
          "output_type": "execute_result",
          "data": {
            "text/html": [
              "<div>\n",
              "<style scoped>\n",
              "    .dataframe tbody tr th:only-of-type {\n",
              "        vertical-align: middle;\n",
              "    }\n",
              "\n",
              "    .dataframe tbody tr th {\n",
              "        vertical-align: top;\n",
              "    }\n",
              "\n",
              "    .dataframe thead th {\n",
              "        text-align: right;\n",
              "    }\n",
              "</style>\n",
              "<table border=\"1\" class=\"dataframe\">\n",
              "  <thead>\n",
              "    <tr style=\"text-align: right;\">\n",
              "      <th></th>\n",
              "      <th>학과</th>\n",
              "      <th>이름</th>\n",
              "      <th>학년</th>\n",
              "      <th>학점</th>\n",
              "    </tr>\n",
              "  </thead>\n",
              "  <tbody>\n",
              "    <tr>\n",
              "      <th>3번</th>\n",
              "      <td>경영</td>\n",
              "      <td>강감찬</td>\n",
              "      <td>2</td>\n",
              "      <td>3.5</td>\n",
              "    </tr>\n",
              "    <tr>\n",
              "      <th>5번</th>\n",
              "      <td>스포츠과학</td>\n",
              "      <td>정약용</td>\n",
              "      <td>3</td>\n",
              "      <td>4.1</td>\n",
              "    </tr>\n",
              "  </tbody>\n",
              "</table>\n",
              "</div>"
            ],
            "text/plain": [
              "       학과   이름  학년   학점\n",
              "3번     경영  강감찬   2  3.5\n",
              "5번  스포츠과학  정약용   3  4.1"
            ]
          },
          "metadata": {},
          "execution_count": 41
        }
      ]
    },
    {
      "cell_type": "code",
      "metadata": {
        "colab": {
          "base_uri": "https://localhost:8080/",
          "height": 333
        },
        "id": "e7grjC23L7vH",
        "outputId": "c8c5f98a-9b54-462f-c715-a51488f20e6a"
      },
      "source": [
        "data = {'이름':['홍길동', '신사임당', '강감찬', '이순신','정약용'],\n",
        "        '학과':['컴퓨터', '철학', '경영', '영어영문','스포츠과학'],\n",
        "        '학년':[1,2,2,4,3],\n",
        "        '학점':[1.3,2.4,3.5,2.7,4.1]}\n",
        "df = pd.DataFrame(data,\n",
        "                  columns = ['학과','이름','학년','학점'],\n",
        "                  index = ['1번','2번','3번','4번','5번'])\n",
        "\n",
        "display(df)\n",
        "print()\n",
        "\n",
        "display(df['학점']>4.0)"
      ],
      "execution_count": 186,
      "outputs": [
        {
          "output_type": "display_data",
          "data": {
            "text/html": [
              "<div>\n",
              "<style scoped>\n",
              "    .dataframe tbody tr th:only-of-type {\n",
              "        vertical-align: middle;\n",
              "    }\n",
              "\n",
              "    .dataframe tbody tr th {\n",
              "        vertical-align: top;\n",
              "    }\n",
              "\n",
              "    .dataframe thead th {\n",
              "        text-align: right;\n",
              "    }\n",
              "</style>\n",
              "<table border=\"1\" class=\"dataframe\">\n",
              "  <thead>\n",
              "    <tr style=\"text-align: right;\">\n",
              "      <th></th>\n",
              "      <th>학과</th>\n",
              "      <th>이름</th>\n",
              "      <th>학년</th>\n",
              "      <th>학점</th>\n",
              "    </tr>\n",
              "  </thead>\n",
              "  <tbody>\n",
              "    <tr>\n",
              "      <th>1번</th>\n",
              "      <td>컴퓨터</td>\n",
              "      <td>홍길동</td>\n",
              "      <td>1</td>\n",
              "      <td>1.3</td>\n",
              "    </tr>\n",
              "    <tr>\n",
              "      <th>2번</th>\n",
              "      <td>철학</td>\n",
              "      <td>신사임당</td>\n",
              "      <td>2</td>\n",
              "      <td>2.4</td>\n",
              "    </tr>\n",
              "    <tr>\n",
              "      <th>3번</th>\n",
              "      <td>경영</td>\n",
              "      <td>강감찬</td>\n",
              "      <td>2</td>\n",
              "      <td>3.5</td>\n",
              "    </tr>\n",
              "    <tr>\n",
              "      <th>4번</th>\n",
              "      <td>영어영문</td>\n",
              "      <td>이순신</td>\n",
              "      <td>4</td>\n",
              "      <td>2.7</td>\n",
              "    </tr>\n",
              "    <tr>\n",
              "      <th>5번</th>\n",
              "      <td>스포츠과학</td>\n",
              "      <td>정약용</td>\n",
              "      <td>3</td>\n",
              "      <td>4.1</td>\n",
              "    </tr>\n",
              "  </tbody>\n",
              "</table>\n",
              "</div>"
            ],
            "text/plain": [
              "       학과    이름  학년   학점\n",
              "1번    컴퓨터   홍길동   1  1.3\n",
              "2번     철학  신사임당   2  2.4\n",
              "3번     경영   강감찬   2  3.5\n",
              "4번   영어영문   이순신   4  2.7\n",
              "5번  스포츠과학   정약용   3  4.1"
            ]
          },
          "metadata": {}
        },
        {
          "output_type": "stream",
          "name": "stdout",
          "text": [
            "\n"
          ]
        },
        {
          "output_type": "display_data",
          "data": {
            "text/plain": [
              "1번    False\n",
              "2번    False\n",
              "3번    False\n",
              "4번    False\n",
              "5번     True\n",
              "Name: 학점, dtype: bool"
            ]
          },
          "metadata": {}
        }
      ]
    },
    {
      "cell_type": "code",
      "metadata": {
        "colab": {
          "base_uri": "https://localhost:8080/",
          "height": 216
        },
        "id": "vC9ptk92MOvy",
        "outputId": "4a4dd7f7-3c84-42c3-9e79-b316d6473599"
      },
      "source": [
        "# boolean indexing\n",
        "# 전체 column\n",
        "display(df[df['학점']>4.0])\n",
        "print()\n",
        "\n",
        "# 특정 column\n",
        "display(df['이름'][df['학점']>4.0])\n",
        "print()\n",
        "\n",
        "display(df[['이름', '학과']][df['학점']>4.0])"
      ],
      "execution_count": 187,
      "outputs": [
        {
          "output_type": "display_data",
          "data": {
            "text/html": [
              "<div>\n",
              "<style scoped>\n",
              "    .dataframe tbody tr th:only-of-type {\n",
              "        vertical-align: middle;\n",
              "    }\n",
              "\n",
              "    .dataframe tbody tr th {\n",
              "        vertical-align: top;\n",
              "    }\n",
              "\n",
              "    .dataframe thead th {\n",
              "        text-align: right;\n",
              "    }\n",
              "</style>\n",
              "<table border=\"1\" class=\"dataframe\">\n",
              "  <thead>\n",
              "    <tr style=\"text-align: right;\">\n",
              "      <th></th>\n",
              "      <th>학과</th>\n",
              "      <th>이름</th>\n",
              "      <th>학년</th>\n",
              "      <th>학점</th>\n",
              "    </tr>\n",
              "  </thead>\n",
              "  <tbody>\n",
              "    <tr>\n",
              "      <th>5번</th>\n",
              "      <td>스포츠과학</td>\n",
              "      <td>정약용</td>\n",
              "      <td>3</td>\n",
              "      <td>4.1</td>\n",
              "    </tr>\n",
              "  </tbody>\n",
              "</table>\n",
              "</div>"
            ],
            "text/plain": [
              "       학과   이름  학년   학점\n",
              "5번  스포츠과학  정약용   3  4.1"
            ]
          },
          "metadata": {}
        },
        {
          "output_type": "stream",
          "name": "stdout",
          "text": [
            "\n"
          ]
        },
        {
          "output_type": "display_data",
          "data": {
            "text/plain": [
              "5번    정약용\n",
              "Name: 이름, dtype: object"
            ]
          },
          "metadata": {}
        },
        {
          "output_type": "stream",
          "name": "stdout",
          "text": [
            "\n"
          ]
        },
        {
          "output_type": "display_data",
          "data": {
            "text/html": [
              "<div>\n",
              "<style scoped>\n",
              "    .dataframe tbody tr th:only-of-type {\n",
              "        vertical-align: middle;\n",
              "    }\n",
              "\n",
              "    .dataframe tbody tr th {\n",
              "        vertical-align: top;\n",
              "    }\n",
              "\n",
              "    .dataframe thead th {\n",
              "        text-align: right;\n",
              "    }\n",
              "</style>\n",
              "<table border=\"1\" class=\"dataframe\">\n",
              "  <thead>\n",
              "    <tr style=\"text-align: right;\">\n",
              "      <th></th>\n",
              "      <th>이름</th>\n",
              "      <th>학과</th>\n",
              "    </tr>\n",
              "  </thead>\n",
              "  <tbody>\n",
              "    <tr>\n",
              "      <th>5번</th>\n",
              "      <td>정약용</td>\n",
              "      <td>스포츠과학</td>\n",
              "    </tr>\n",
              "  </tbody>\n",
              "</table>\n",
              "</div>"
            ],
            "text/plain": [
              "     이름     학과\n",
              "5번  정약용  스포츠과학"
            ]
          },
          "metadata": {}
        }
      ]
    },
    {
      "cell_type": "code",
      "metadata": {
        "colab": {
          "base_uri": "https://localhost:8080/",
          "height": 205
        },
        "id": "qeQUOd1B8Fn5",
        "outputId": "aefad6a8-5073-42c6-e44c-ad6b4c2767f7"
      },
      "source": [
        "df"
      ],
      "execution_count": 46,
      "outputs": [
        {
          "output_type": "execute_result",
          "data": {
            "text/html": [
              "<div>\n",
              "<style scoped>\n",
              "    .dataframe tbody tr th:only-of-type {\n",
              "        vertical-align: middle;\n",
              "    }\n",
              "\n",
              "    .dataframe tbody tr th {\n",
              "        vertical-align: top;\n",
              "    }\n",
              "\n",
              "    .dataframe thead th {\n",
              "        text-align: right;\n",
              "    }\n",
              "</style>\n",
              "<table border=\"1\" class=\"dataframe\">\n",
              "  <thead>\n",
              "    <tr style=\"text-align: right;\">\n",
              "      <th></th>\n",
              "      <th>학과</th>\n",
              "      <th>이름</th>\n",
              "      <th>학년</th>\n",
              "      <th>학점</th>\n",
              "    </tr>\n",
              "  </thead>\n",
              "  <tbody>\n",
              "    <tr>\n",
              "      <th>1번</th>\n",
              "      <td>컴퓨터</td>\n",
              "      <td>홍길동</td>\n",
              "      <td>1</td>\n",
              "      <td>1.3</td>\n",
              "    </tr>\n",
              "    <tr>\n",
              "      <th>2번</th>\n",
              "      <td>철학</td>\n",
              "      <td>신사임당</td>\n",
              "      <td>2</td>\n",
              "      <td>2.4</td>\n",
              "    </tr>\n",
              "    <tr>\n",
              "      <th>3번</th>\n",
              "      <td>경영</td>\n",
              "      <td>강감찬</td>\n",
              "      <td>2</td>\n",
              "      <td>3.5</td>\n",
              "    </tr>\n",
              "    <tr>\n",
              "      <th>4번</th>\n",
              "      <td>영어영문</td>\n",
              "      <td>이순신</td>\n",
              "      <td>4</td>\n",
              "      <td>2.7</td>\n",
              "    </tr>\n",
              "    <tr>\n",
              "      <th>5번</th>\n",
              "      <td>스포츠과학</td>\n",
              "      <td>정약용</td>\n",
              "      <td>3</td>\n",
              "      <td>4.1</td>\n",
              "    </tr>\n",
              "  </tbody>\n",
              "</table>\n",
              "</div>"
            ],
            "text/plain": [
              "       학과    이름  학년   학점\n",
              "1번    컴퓨터   홍길동   1  1.3\n",
              "2번     철학  신사임당   2  2.4\n",
              "3번     경영   강감찬   2  3.5\n",
              "4번   영어영문   이순신   4  2.7\n",
              "5번  스포츠과학   정약용   3  4.1"
            ]
          },
          "metadata": {},
          "execution_count": 46
        }
      ]
    },
    {
      "cell_type": "markdown",
      "metadata": {
        "id": "cW3rCm9TMbvD"
      },
      "source": [
        "### DataFrame `.loc[]` & `.iloc[]`"
      ]
    },
    {
      "cell_type": "code",
      "metadata": {
        "colab": {
          "base_uri": "https://localhost:8080/"
        },
        "id": "Y7PIOYFM8HdP",
        "outputId": "a963d156-9b0f-4f13-c784-781b224b4de3"
      },
      "source": [
        "# df.loc[행, 열]\n",
        "df.loc['1번',:]"
      ],
      "execution_count": 48,
      "outputs": [
        {
          "output_type": "execute_result",
          "data": {
            "text/plain": [
              "학과    컴퓨터\n",
              "이름    홍길동\n",
              "학년      1\n",
              "학점    1.3\n",
              "Name: 1번, dtype: object"
            ]
          },
          "metadata": {},
          "execution_count": 48
        }
      ]
    },
    {
      "cell_type": "code",
      "metadata": {
        "colab": {
          "base_uri": "https://localhost:8080/"
        },
        "id": "KRR_EOSL8_HH",
        "outputId": "f9b87804-8452-44cc-c7db-e235e1f070e0"
      },
      "source": [
        "df.loc['3번','이름':'학점']"
      ],
      "execution_count": 50,
      "outputs": [
        {
          "output_type": "execute_result",
          "data": {
            "text/plain": [
              "이름    강감찬\n",
              "학년      2\n",
              "학점    3.5\n",
              "Name: 3번, dtype: object"
            ]
          },
          "metadata": {},
          "execution_count": 50
        }
      ]
    },
    {
      "cell_type": "code",
      "metadata": {
        "colab": {
          "base_uri": "https://localhost:8080/",
          "height": 112
        },
        "id": "ww7OH8JO9fH5",
        "outputId": "cabd4d3b-683b-4b59-8999-4e0b3223c5b3"
      },
      "source": [
        "display(df.loc[['1번', '3번'], ['이름', '학점']])"
      ],
      "execution_count": 52,
      "outputs": [
        {
          "output_type": "display_data",
          "data": {
            "text/html": [
              "<div>\n",
              "<style scoped>\n",
              "    .dataframe tbody tr th:only-of-type {\n",
              "        vertical-align: middle;\n",
              "    }\n",
              "\n",
              "    .dataframe tbody tr th {\n",
              "        vertical-align: top;\n",
              "    }\n",
              "\n",
              "    .dataframe thead th {\n",
              "        text-align: right;\n",
              "    }\n",
              "</style>\n",
              "<table border=\"1\" class=\"dataframe\">\n",
              "  <thead>\n",
              "    <tr style=\"text-align: right;\">\n",
              "      <th></th>\n",
              "      <th>이름</th>\n",
              "      <th>학점</th>\n",
              "    </tr>\n",
              "  </thead>\n",
              "  <tbody>\n",
              "    <tr>\n",
              "      <th>1번</th>\n",
              "      <td>홍길동</td>\n",
              "      <td>1.3</td>\n",
              "    </tr>\n",
              "    <tr>\n",
              "      <th>3번</th>\n",
              "      <td>강감찬</td>\n",
              "      <td>3.5</td>\n",
              "    </tr>\n",
              "  </tbody>\n",
              "</table>\n",
              "</div>"
            ],
            "text/plain": [
              "     이름   학점\n",
              "1번  홍길동  1.3\n",
              "3번  강감찬  3.5"
            ]
          },
          "metadata": {}
        }
      ]
    },
    {
      "cell_type": "code",
      "metadata": {
        "colab": {
          "base_uri": "https://localhost:8080/",
          "height": 531
        },
        "id": "LPn98BxkMd_l",
        "outputId": "31f808f0-699d-43f8-cd75-b34e9f18f5ed"
      },
      "source": [
        "# loc[행, 열]\n",
        "display(df.loc['1번':'3번','이름']) # ==> 1번에서 3번 행의 이름 column만\n",
        "\n",
        "display(df.loc['1번':'3번','이름':'학년']) # df.loc[행,열] \n",
        "\n",
        "display(df.loc['1번':'3번',['이름','학점']])\n",
        "# ==> fancy indexing도 가능\n",
        "\n",
        "# 행,열 모두 fancy 가능\n",
        "display(df.loc[['1번', '3번'], ['이름', '학점']])\n",
        "\n",
        "# 행만 fancy 열은 slicing 가능\n",
        "df.loc[['1번', '3번'], '이름':'학점']"
      ],
      "execution_count": 189,
      "outputs": [
        {
          "output_type": "display_data",
          "data": {
            "text/plain": [
              "1번     홍길동\n",
              "2번    신사임당\n",
              "3번     강감찬\n",
              "Name: 이름, dtype: object"
            ]
          },
          "metadata": {}
        },
        {
          "output_type": "display_data",
          "data": {
            "text/html": [
              "<div>\n",
              "<style scoped>\n",
              "    .dataframe tbody tr th:only-of-type {\n",
              "        vertical-align: middle;\n",
              "    }\n",
              "\n",
              "    .dataframe tbody tr th {\n",
              "        vertical-align: top;\n",
              "    }\n",
              "\n",
              "    .dataframe thead th {\n",
              "        text-align: right;\n",
              "    }\n",
              "</style>\n",
              "<table border=\"1\" class=\"dataframe\">\n",
              "  <thead>\n",
              "    <tr style=\"text-align: right;\">\n",
              "      <th></th>\n",
              "      <th>이름</th>\n",
              "      <th>학년</th>\n",
              "    </tr>\n",
              "  </thead>\n",
              "  <tbody>\n",
              "    <tr>\n",
              "      <th>1번</th>\n",
              "      <td>홍길동</td>\n",
              "      <td>1</td>\n",
              "    </tr>\n",
              "    <tr>\n",
              "      <th>2번</th>\n",
              "      <td>신사임당</td>\n",
              "      <td>2</td>\n",
              "    </tr>\n",
              "    <tr>\n",
              "      <th>3번</th>\n",
              "      <td>강감찬</td>\n",
              "      <td>2</td>\n",
              "    </tr>\n",
              "  </tbody>\n",
              "</table>\n",
              "</div>"
            ],
            "text/plain": [
              "      이름  학년\n",
              "1번   홍길동   1\n",
              "2번  신사임당   2\n",
              "3번   강감찬   2"
            ]
          },
          "metadata": {}
        },
        {
          "output_type": "display_data",
          "data": {
            "text/html": [
              "<div>\n",
              "<style scoped>\n",
              "    .dataframe tbody tr th:only-of-type {\n",
              "        vertical-align: middle;\n",
              "    }\n",
              "\n",
              "    .dataframe tbody tr th {\n",
              "        vertical-align: top;\n",
              "    }\n",
              "\n",
              "    .dataframe thead th {\n",
              "        text-align: right;\n",
              "    }\n",
              "</style>\n",
              "<table border=\"1\" class=\"dataframe\">\n",
              "  <thead>\n",
              "    <tr style=\"text-align: right;\">\n",
              "      <th></th>\n",
              "      <th>이름</th>\n",
              "      <th>학점</th>\n",
              "    </tr>\n",
              "  </thead>\n",
              "  <tbody>\n",
              "    <tr>\n",
              "      <th>1번</th>\n",
              "      <td>홍길동</td>\n",
              "      <td>1.3</td>\n",
              "    </tr>\n",
              "    <tr>\n",
              "      <th>2번</th>\n",
              "      <td>신사임당</td>\n",
              "      <td>2.4</td>\n",
              "    </tr>\n",
              "    <tr>\n",
              "      <th>3번</th>\n",
              "      <td>강감찬</td>\n",
              "      <td>3.5</td>\n",
              "    </tr>\n",
              "  </tbody>\n",
              "</table>\n",
              "</div>"
            ],
            "text/plain": [
              "      이름   학점\n",
              "1번   홍길동  1.3\n",
              "2번  신사임당  2.4\n",
              "3번   강감찬  3.5"
            ]
          },
          "metadata": {}
        },
        {
          "output_type": "display_data",
          "data": {
            "text/html": [
              "<div>\n",
              "<style scoped>\n",
              "    .dataframe tbody tr th:only-of-type {\n",
              "        vertical-align: middle;\n",
              "    }\n",
              "\n",
              "    .dataframe tbody tr th {\n",
              "        vertical-align: top;\n",
              "    }\n",
              "\n",
              "    .dataframe thead th {\n",
              "        text-align: right;\n",
              "    }\n",
              "</style>\n",
              "<table border=\"1\" class=\"dataframe\">\n",
              "  <thead>\n",
              "    <tr style=\"text-align: right;\">\n",
              "      <th></th>\n",
              "      <th>이름</th>\n",
              "      <th>학점</th>\n",
              "    </tr>\n",
              "  </thead>\n",
              "  <tbody>\n",
              "    <tr>\n",
              "      <th>1번</th>\n",
              "      <td>홍길동</td>\n",
              "      <td>1.3</td>\n",
              "    </tr>\n",
              "    <tr>\n",
              "      <th>3번</th>\n",
              "      <td>강감찬</td>\n",
              "      <td>3.5</td>\n",
              "    </tr>\n",
              "  </tbody>\n",
              "</table>\n",
              "</div>"
            ],
            "text/plain": [
              "     이름   학점\n",
              "1번  홍길동  1.3\n",
              "3번  강감찬  3.5"
            ]
          },
          "metadata": {}
        },
        {
          "output_type": "execute_result",
          "data": {
            "text/html": [
              "<div>\n",
              "<style scoped>\n",
              "    .dataframe tbody tr th:only-of-type {\n",
              "        vertical-align: middle;\n",
              "    }\n",
              "\n",
              "    .dataframe tbody tr th {\n",
              "        vertical-align: top;\n",
              "    }\n",
              "\n",
              "    .dataframe thead th {\n",
              "        text-align: right;\n",
              "    }\n",
              "</style>\n",
              "<table border=\"1\" class=\"dataframe\">\n",
              "  <thead>\n",
              "    <tr style=\"text-align: right;\">\n",
              "      <th></th>\n",
              "      <th>이름</th>\n",
              "      <th>학년</th>\n",
              "      <th>학점</th>\n",
              "    </tr>\n",
              "  </thead>\n",
              "  <tbody>\n",
              "    <tr>\n",
              "      <th>1번</th>\n",
              "      <td>홍길동</td>\n",
              "      <td>1</td>\n",
              "      <td>1.3</td>\n",
              "    </tr>\n",
              "    <tr>\n",
              "      <th>3번</th>\n",
              "      <td>강감찬</td>\n",
              "      <td>2</td>\n",
              "      <td>3.5</td>\n",
              "    </tr>\n",
              "  </tbody>\n",
              "</table>\n",
              "</div>"
            ],
            "text/plain": [
              "     이름  학년   학점\n",
              "1번  홍길동   1  1.3\n",
              "3번  강감찬   2  3.5"
            ]
          },
          "metadata": {},
          "execution_count": 189
        }
      ]
    },
    {
      "cell_type": "code",
      "metadata": {
        "colab": {
          "base_uri": "https://localhost:8080/",
          "height": 205
        },
        "id": "Z7wzN9iz9tNV",
        "outputId": "46d62960-9b0e-489e-a36f-e352804a1a5f"
      },
      "source": [
        "df"
      ],
      "execution_count": 53,
      "outputs": [
        {
          "output_type": "execute_result",
          "data": {
            "text/html": [
              "<div>\n",
              "<style scoped>\n",
              "    .dataframe tbody tr th:only-of-type {\n",
              "        vertical-align: middle;\n",
              "    }\n",
              "\n",
              "    .dataframe tbody tr th {\n",
              "        vertical-align: top;\n",
              "    }\n",
              "\n",
              "    .dataframe thead th {\n",
              "        text-align: right;\n",
              "    }\n",
              "</style>\n",
              "<table border=\"1\" class=\"dataframe\">\n",
              "  <thead>\n",
              "    <tr style=\"text-align: right;\">\n",
              "      <th></th>\n",
              "      <th>학과</th>\n",
              "      <th>이름</th>\n",
              "      <th>학년</th>\n",
              "      <th>학점</th>\n",
              "    </tr>\n",
              "  </thead>\n",
              "  <tbody>\n",
              "    <tr>\n",
              "      <th>1번</th>\n",
              "      <td>컴퓨터</td>\n",
              "      <td>홍길동</td>\n",
              "      <td>1</td>\n",
              "      <td>1.3</td>\n",
              "    </tr>\n",
              "    <tr>\n",
              "      <th>2번</th>\n",
              "      <td>철학</td>\n",
              "      <td>신사임당</td>\n",
              "      <td>2</td>\n",
              "      <td>2.4</td>\n",
              "    </tr>\n",
              "    <tr>\n",
              "      <th>3번</th>\n",
              "      <td>경영</td>\n",
              "      <td>강감찬</td>\n",
              "      <td>2</td>\n",
              "      <td>3.5</td>\n",
              "    </tr>\n",
              "    <tr>\n",
              "      <th>4번</th>\n",
              "      <td>영어영문</td>\n",
              "      <td>이순신</td>\n",
              "      <td>4</td>\n",
              "      <td>2.7</td>\n",
              "    </tr>\n",
              "    <tr>\n",
              "      <th>5번</th>\n",
              "      <td>스포츠과학</td>\n",
              "      <td>정약용</td>\n",
              "      <td>3</td>\n",
              "      <td>4.1</td>\n",
              "    </tr>\n",
              "  </tbody>\n",
              "</table>\n",
              "</div>"
            ],
            "text/plain": [
              "       학과    이름  학년   학점\n",
              "1번    컴퓨터   홍길동   1  1.3\n",
              "2번     철학  신사임당   2  2.4\n",
              "3번     경영   강감찬   2  3.5\n",
              "4번   영어영문   이순신   4  2.7\n",
              "5번  스포츠과학   정약용   3  4.1"
            ]
          },
          "metadata": {},
          "execution_count": 53
        }
      ]
    },
    {
      "cell_type": "code",
      "metadata": {
        "colab": {
          "base_uri": "https://localhost:8080/",
          "height": 112
        },
        "id": "TSO9FbyH9124",
        "outputId": "faec5742-7aa3-46a8-9804-faf910d2f6df"
      },
      "source": [
        "df.iloc[[1,4],[1,3]]"
      ],
      "execution_count": 57,
      "outputs": [
        {
          "output_type": "execute_result",
          "data": {
            "text/html": [
              "<div>\n",
              "<style scoped>\n",
              "    .dataframe tbody tr th:only-of-type {\n",
              "        vertical-align: middle;\n",
              "    }\n",
              "\n",
              "    .dataframe tbody tr th {\n",
              "        vertical-align: top;\n",
              "    }\n",
              "\n",
              "    .dataframe thead th {\n",
              "        text-align: right;\n",
              "    }\n",
              "</style>\n",
              "<table border=\"1\" class=\"dataframe\">\n",
              "  <thead>\n",
              "    <tr style=\"text-align: right;\">\n",
              "      <th></th>\n",
              "      <th>이름</th>\n",
              "      <th>학점</th>\n",
              "    </tr>\n",
              "  </thead>\n",
              "  <tbody>\n",
              "    <tr>\n",
              "      <th>2번</th>\n",
              "      <td>신사임당</td>\n",
              "      <td>2.4</td>\n",
              "    </tr>\n",
              "    <tr>\n",
              "      <th>5번</th>\n",
              "      <td>정약용</td>\n",
              "      <td>4.1</td>\n",
              "    </tr>\n",
              "  </tbody>\n",
              "</table>\n",
              "</div>"
            ],
            "text/plain": [
              "      이름   학점\n",
              "2번  신사임당  2.4\n",
              "5번   정약용  4.1"
            ]
          },
          "metadata": {},
          "execution_count": 57
        }
      ]
    },
    {
      "cell_type": "code",
      "metadata": {
        "colab": {
          "base_uri": "https://localhost:8080/",
          "height": 531
        },
        "id": "TT4RQrvjMd8X",
        "outputId": "c13207e3-57b3-4bdb-8b2a-f3b19fb23ac6"
      },
      "source": [
        "# iloc[행, 열]\n",
        "display(df.iloc[0:3,1])\n",
        "\n",
        "display(df.iloc[0:3,1:])\n",
        "\n",
        "display(df.iloc[0:3,[1,3]])\n",
        "\n",
        "display(df.iloc[[0,2],[1,3]])\n",
        "\n",
        "display(df.iloc[[0,2],1:])"
      ],
      "execution_count": 190,
      "outputs": [
        {
          "output_type": "display_data",
          "data": {
            "text/plain": [
              "1번     홍길동\n",
              "2번    신사임당\n",
              "3번     강감찬\n",
              "Name: 이름, dtype: object"
            ]
          },
          "metadata": {}
        },
        {
          "output_type": "display_data",
          "data": {
            "text/html": [
              "<div>\n",
              "<style scoped>\n",
              "    .dataframe tbody tr th:only-of-type {\n",
              "        vertical-align: middle;\n",
              "    }\n",
              "\n",
              "    .dataframe tbody tr th {\n",
              "        vertical-align: top;\n",
              "    }\n",
              "\n",
              "    .dataframe thead th {\n",
              "        text-align: right;\n",
              "    }\n",
              "</style>\n",
              "<table border=\"1\" class=\"dataframe\">\n",
              "  <thead>\n",
              "    <tr style=\"text-align: right;\">\n",
              "      <th></th>\n",
              "      <th>이름</th>\n",
              "      <th>학년</th>\n",
              "      <th>학점</th>\n",
              "    </tr>\n",
              "  </thead>\n",
              "  <tbody>\n",
              "    <tr>\n",
              "      <th>1번</th>\n",
              "      <td>홍길동</td>\n",
              "      <td>1</td>\n",
              "      <td>1.3</td>\n",
              "    </tr>\n",
              "    <tr>\n",
              "      <th>2번</th>\n",
              "      <td>신사임당</td>\n",
              "      <td>2</td>\n",
              "      <td>2.4</td>\n",
              "    </tr>\n",
              "    <tr>\n",
              "      <th>3번</th>\n",
              "      <td>강감찬</td>\n",
              "      <td>2</td>\n",
              "      <td>3.5</td>\n",
              "    </tr>\n",
              "  </tbody>\n",
              "</table>\n",
              "</div>"
            ],
            "text/plain": [
              "      이름  학년   학점\n",
              "1번   홍길동   1  1.3\n",
              "2번  신사임당   2  2.4\n",
              "3번   강감찬   2  3.5"
            ]
          },
          "metadata": {}
        },
        {
          "output_type": "display_data",
          "data": {
            "text/html": [
              "<div>\n",
              "<style scoped>\n",
              "    .dataframe tbody tr th:only-of-type {\n",
              "        vertical-align: middle;\n",
              "    }\n",
              "\n",
              "    .dataframe tbody tr th {\n",
              "        vertical-align: top;\n",
              "    }\n",
              "\n",
              "    .dataframe thead th {\n",
              "        text-align: right;\n",
              "    }\n",
              "</style>\n",
              "<table border=\"1\" class=\"dataframe\">\n",
              "  <thead>\n",
              "    <tr style=\"text-align: right;\">\n",
              "      <th></th>\n",
              "      <th>이름</th>\n",
              "      <th>학점</th>\n",
              "    </tr>\n",
              "  </thead>\n",
              "  <tbody>\n",
              "    <tr>\n",
              "      <th>1번</th>\n",
              "      <td>홍길동</td>\n",
              "      <td>1.3</td>\n",
              "    </tr>\n",
              "    <tr>\n",
              "      <th>2번</th>\n",
              "      <td>신사임당</td>\n",
              "      <td>2.4</td>\n",
              "    </tr>\n",
              "    <tr>\n",
              "      <th>3번</th>\n",
              "      <td>강감찬</td>\n",
              "      <td>3.5</td>\n",
              "    </tr>\n",
              "  </tbody>\n",
              "</table>\n",
              "</div>"
            ],
            "text/plain": [
              "      이름   학점\n",
              "1번   홍길동  1.3\n",
              "2번  신사임당  2.4\n",
              "3번   강감찬  3.5"
            ]
          },
          "metadata": {}
        },
        {
          "output_type": "display_data",
          "data": {
            "text/html": [
              "<div>\n",
              "<style scoped>\n",
              "    .dataframe tbody tr th:only-of-type {\n",
              "        vertical-align: middle;\n",
              "    }\n",
              "\n",
              "    .dataframe tbody tr th {\n",
              "        vertical-align: top;\n",
              "    }\n",
              "\n",
              "    .dataframe thead th {\n",
              "        text-align: right;\n",
              "    }\n",
              "</style>\n",
              "<table border=\"1\" class=\"dataframe\">\n",
              "  <thead>\n",
              "    <tr style=\"text-align: right;\">\n",
              "      <th></th>\n",
              "      <th>이름</th>\n",
              "      <th>학점</th>\n",
              "    </tr>\n",
              "  </thead>\n",
              "  <tbody>\n",
              "    <tr>\n",
              "      <th>1번</th>\n",
              "      <td>홍길동</td>\n",
              "      <td>1.3</td>\n",
              "    </tr>\n",
              "    <tr>\n",
              "      <th>3번</th>\n",
              "      <td>강감찬</td>\n",
              "      <td>3.5</td>\n",
              "    </tr>\n",
              "  </tbody>\n",
              "</table>\n",
              "</div>"
            ],
            "text/plain": [
              "     이름   학점\n",
              "1번  홍길동  1.3\n",
              "3번  강감찬  3.5"
            ]
          },
          "metadata": {}
        },
        {
          "output_type": "display_data",
          "data": {
            "text/html": [
              "<div>\n",
              "<style scoped>\n",
              "    .dataframe tbody tr th:only-of-type {\n",
              "        vertical-align: middle;\n",
              "    }\n",
              "\n",
              "    .dataframe tbody tr th {\n",
              "        vertical-align: top;\n",
              "    }\n",
              "\n",
              "    .dataframe thead th {\n",
              "        text-align: right;\n",
              "    }\n",
              "</style>\n",
              "<table border=\"1\" class=\"dataframe\">\n",
              "  <thead>\n",
              "    <tr style=\"text-align: right;\">\n",
              "      <th></th>\n",
              "      <th>이름</th>\n",
              "      <th>학년</th>\n",
              "      <th>학점</th>\n",
              "    </tr>\n",
              "  </thead>\n",
              "  <tbody>\n",
              "    <tr>\n",
              "      <th>1번</th>\n",
              "      <td>홍길동</td>\n",
              "      <td>1</td>\n",
              "      <td>1.3</td>\n",
              "    </tr>\n",
              "    <tr>\n",
              "      <th>3번</th>\n",
              "      <td>강감찬</td>\n",
              "      <td>2</td>\n",
              "      <td>3.5</td>\n",
              "    </tr>\n",
              "  </tbody>\n",
              "</table>\n",
              "</div>"
            ],
            "text/plain": [
              "     이름  학년   학점\n",
              "1번  홍길동   1  1.3\n",
              "3번  강감찬   2  3.5"
            ]
          },
          "metadata": {}
        }
      ]
    },
    {
      "cell_type": "code",
      "metadata": {
        "colab": {
          "base_uri": "https://localhost:8080/",
          "height": 112
        },
        "id": "Eq7k9Jnk_7p2",
        "outputId": "5dd54d79-60b8-4007-8415-fc79fc8626cf"
      },
      "source": [
        "new = sorted(df.columns, reverse=True)\n",
        "df.columns = new\n",
        "df"
      ],
      "execution_count": 70,
      "outputs": [
        {
          "output_type": "execute_result",
          "data": {
            "text/html": [
              "<div>\n",
              "<style scoped>\n",
              "    .dataframe tbody tr th:only-of-type {\n",
              "        vertical-align: middle;\n",
              "    }\n",
              "\n",
              "    .dataframe tbody tr th {\n",
              "        vertical-align: top;\n",
              "    }\n",
              "\n",
              "    .dataframe thead th {\n",
              "        text-align: right;\n",
              "    }\n",
              "</style>\n",
              "<table border=\"1\" class=\"dataframe\">\n",
              "  <thead>\n",
              "    <tr style=\"text-align: right;\">\n",
              "      <th></th>\n",
              "      <th>학점</th>\n",
              "      <th>학과</th>\n",
              "      <th>이름</th>\n",
              "    </tr>\n",
              "  </thead>\n",
              "  <tbody>\n",
              "    <tr>\n",
              "      <th>4번</th>\n",
              "      <td>영어영문</td>\n",
              "      <td>이순신</td>\n",
              "      <td>2.7</td>\n",
              "    </tr>\n",
              "    <tr>\n",
              "      <th>5번</th>\n",
              "      <td>스포츠과학</td>\n",
              "      <td>정약용</td>\n",
              "      <td>4.1</td>\n",
              "    </tr>\n",
              "  </tbody>\n",
              "</table>\n",
              "</div>"
            ],
            "text/plain": [
              "       학점   학과   이름\n",
              "4번   영어영문  이순신  2.7\n",
              "5번  스포츠과학  정약용  4.1"
            ]
          },
          "metadata": {},
          "execution_count": 70
        }
      ]
    },
    {
      "cell_type": "code",
      "metadata": {
        "colab": {
          "base_uri": "https://localhost:8080/",
          "height": 205
        },
        "id": "V1MjBe85AuXB",
        "outputId": "5de9b8f1-acd1-46b9-f8af-1ce6dae1086a"
      },
      "source": [
        "data = {'이름':['홍길동', '신사임당', '강감찬', '이순신','정약용'],\n",
        "        '학과':['컴퓨터', '철학', '경영', '영어영문','스포츠과학'],\n",
        "        '학년':[1,2,2,4,3],\n",
        "        '학점':[1.3,2.4,3.5,2.7,4.1]}\n",
        "df = pd.DataFrame(data,\n",
        "                  columns = ['학과','이름','학년','학점'],\n",
        "                  index = ['1번','2번','3번','4번','5번'])\n",
        "df"
      ],
      "execution_count": 71,
      "outputs": [
        {
          "output_type": "execute_result",
          "data": {
            "text/html": [
              "<div>\n",
              "<style scoped>\n",
              "    .dataframe tbody tr th:only-of-type {\n",
              "        vertical-align: middle;\n",
              "    }\n",
              "\n",
              "    .dataframe tbody tr th {\n",
              "        vertical-align: top;\n",
              "    }\n",
              "\n",
              "    .dataframe thead th {\n",
              "        text-align: right;\n",
              "    }\n",
              "</style>\n",
              "<table border=\"1\" class=\"dataframe\">\n",
              "  <thead>\n",
              "    <tr style=\"text-align: right;\">\n",
              "      <th></th>\n",
              "      <th>학과</th>\n",
              "      <th>이름</th>\n",
              "      <th>학년</th>\n",
              "      <th>학점</th>\n",
              "    </tr>\n",
              "  </thead>\n",
              "  <tbody>\n",
              "    <tr>\n",
              "      <th>1번</th>\n",
              "      <td>컴퓨터</td>\n",
              "      <td>홍길동</td>\n",
              "      <td>1</td>\n",
              "      <td>1.3</td>\n",
              "    </tr>\n",
              "    <tr>\n",
              "      <th>2번</th>\n",
              "      <td>철학</td>\n",
              "      <td>신사임당</td>\n",
              "      <td>2</td>\n",
              "      <td>2.4</td>\n",
              "    </tr>\n",
              "    <tr>\n",
              "      <th>3번</th>\n",
              "      <td>경영</td>\n",
              "      <td>강감찬</td>\n",
              "      <td>2</td>\n",
              "      <td>3.5</td>\n",
              "    </tr>\n",
              "    <tr>\n",
              "      <th>4번</th>\n",
              "      <td>영어영문</td>\n",
              "      <td>이순신</td>\n",
              "      <td>4</td>\n",
              "      <td>2.7</td>\n",
              "    </tr>\n",
              "    <tr>\n",
              "      <th>5번</th>\n",
              "      <td>스포츠과학</td>\n",
              "      <td>정약용</td>\n",
              "      <td>3</td>\n",
              "      <td>4.1</td>\n",
              "    </tr>\n",
              "  </tbody>\n",
              "</table>\n",
              "</div>"
            ],
            "text/plain": [
              "       학과    이름  학년   학점\n",
              "1번    컴퓨터   홍길동   1  1.3\n",
              "2번     철학  신사임당   2  2.4\n",
              "3번     경영   강감찬   2  3.5\n",
              "4번   영어영문   이순신   4  2.7\n",
              "5번  스포츠과학   정약용   3  4.1"
            ]
          },
          "metadata": {},
          "execution_count": 71
        }
      ]
    },
    {
      "cell_type": "code",
      "metadata": {
        "colab": {
          "base_uri": "https://localhost:8080/"
        },
        "id": "dJLvkeqcAnQ9",
        "outputId": "45ee4505-7c54-4b6a-c6aa-67fed9c22e6a"
      },
      "source": [
        "new = sorted(df.columns, reverse=False)\n",
        "new"
      ],
      "execution_count": 76,
      "outputs": [
        {
          "output_type": "execute_result",
          "data": {
            "text/plain": [
              "['이름', '학과', '학년', '학점']"
            ]
          },
          "metadata": {},
          "execution_count": 76
        }
      ]
    },
    {
      "cell_type": "code",
      "metadata": {
        "colab": {
          "base_uri": "https://localhost:8080/",
          "height": 205
        },
        "id": "BIfzW8uPBZFk",
        "outputId": "1edebdfe-fa7a-41c7-d772-31b7e00be790"
      },
      "source": [
        "df.columns = new\n",
        "df"
      ],
      "execution_count": 77,
      "outputs": [
        {
          "output_type": "execute_result",
          "data": {
            "text/html": [
              "<div>\n",
              "<style scoped>\n",
              "    .dataframe tbody tr th:only-of-type {\n",
              "        vertical-align: middle;\n",
              "    }\n",
              "\n",
              "    .dataframe tbody tr th {\n",
              "        vertical-align: top;\n",
              "    }\n",
              "\n",
              "    .dataframe thead th {\n",
              "        text-align: right;\n",
              "    }\n",
              "</style>\n",
              "<table border=\"1\" class=\"dataframe\">\n",
              "  <thead>\n",
              "    <tr style=\"text-align: right;\">\n",
              "      <th></th>\n",
              "      <th>이름</th>\n",
              "      <th>학과</th>\n",
              "      <th>학년</th>\n",
              "      <th>학점</th>\n",
              "    </tr>\n",
              "  </thead>\n",
              "  <tbody>\n",
              "    <tr>\n",
              "      <th>1번</th>\n",
              "      <td>컴퓨터</td>\n",
              "      <td>홍길동</td>\n",
              "      <td>1</td>\n",
              "      <td>1.3</td>\n",
              "    </tr>\n",
              "    <tr>\n",
              "      <th>2번</th>\n",
              "      <td>철학</td>\n",
              "      <td>신사임당</td>\n",
              "      <td>2</td>\n",
              "      <td>2.4</td>\n",
              "    </tr>\n",
              "    <tr>\n",
              "      <th>3번</th>\n",
              "      <td>경영</td>\n",
              "      <td>강감찬</td>\n",
              "      <td>2</td>\n",
              "      <td>3.5</td>\n",
              "    </tr>\n",
              "    <tr>\n",
              "      <th>4번</th>\n",
              "      <td>영어영문</td>\n",
              "      <td>이순신</td>\n",
              "      <td>4</td>\n",
              "      <td>2.7</td>\n",
              "    </tr>\n",
              "    <tr>\n",
              "      <th>5번</th>\n",
              "      <td>스포츠과학</td>\n",
              "      <td>정약용</td>\n",
              "      <td>3</td>\n",
              "      <td>4.1</td>\n",
              "    </tr>\n",
              "  </tbody>\n",
              "</table>\n",
              "</div>"
            ],
            "text/plain": [
              "       이름    학과  학년   학점\n",
              "1번    컴퓨터   홍길동   1  1.3\n",
              "2번     철학  신사임당   2  2.4\n",
              "3번     경영   강감찬   2  3.5\n",
              "4번   영어영문   이순신   4  2.7\n",
              "5번  스포츠과학   정약용   3  4.1"
            ]
          },
          "metadata": {},
          "execution_count": 77
        }
      ]
    },
    {
      "cell_type": "code",
      "metadata": {
        "colab": {
          "base_uri": "https://localhost:8080/",
          "height": 205
        },
        "id": "flE_BDSeBw2y",
        "outputId": "4d748803-52ca-4c8e-d77c-234f6c446dd7"
      },
      "source": [
        "df = df.sort_values(by=['이름'], axis=0, )\n",
        "df"
      ],
      "execution_count": 82,
      "outputs": [
        {
          "output_type": "execute_result",
          "data": {
            "text/html": [
              "<div>\n",
              "<style scoped>\n",
              "    .dataframe tbody tr th:only-of-type {\n",
              "        vertical-align: middle;\n",
              "    }\n",
              "\n",
              "    .dataframe tbody tr th {\n",
              "        vertical-align: top;\n",
              "    }\n",
              "\n",
              "    .dataframe thead th {\n",
              "        text-align: right;\n",
              "    }\n",
              "</style>\n",
              "<table border=\"1\" class=\"dataframe\">\n",
              "  <thead>\n",
              "    <tr style=\"text-align: right;\">\n",
              "      <th></th>\n",
              "      <th>이름</th>\n",
              "      <th>학과</th>\n",
              "      <th>학년</th>\n",
              "      <th>학점</th>\n",
              "    </tr>\n",
              "  </thead>\n",
              "  <tbody>\n",
              "    <tr>\n",
              "      <th>3번</th>\n",
              "      <td>경영</td>\n",
              "      <td>강감찬</td>\n",
              "      <td>2</td>\n",
              "      <td>3.5</td>\n",
              "    </tr>\n",
              "    <tr>\n",
              "      <th>5번</th>\n",
              "      <td>스포츠과학</td>\n",
              "      <td>정약용</td>\n",
              "      <td>3</td>\n",
              "      <td>4.1</td>\n",
              "    </tr>\n",
              "    <tr>\n",
              "      <th>4번</th>\n",
              "      <td>영어영문</td>\n",
              "      <td>이순신</td>\n",
              "      <td>4</td>\n",
              "      <td>2.7</td>\n",
              "    </tr>\n",
              "    <tr>\n",
              "      <th>2번</th>\n",
              "      <td>철학</td>\n",
              "      <td>신사임당</td>\n",
              "      <td>2</td>\n",
              "      <td>2.4</td>\n",
              "    </tr>\n",
              "    <tr>\n",
              "      <th>1번</th>\n",
              "      <td>컴퓨터</td>\n",
              "      <td>홍길동</td>\n",
              "      <td>1</td>\n",
              "      <td>1.3</td>\n",
              "    </tr>\n",
              "  </tbody>\n",
              "</table>\n",
              "</div>"
            ],
            "text/plain": [
              "       이름    학과  학년   학점\n",
              "3번     경영   강감찬   2  3.5\n",
              "5번  스포츠과학   정약용   3  4.1\n",
              "4번   영어영문   이순신   4  2.7\n",
              "2번     철학  신사임당   2  2.4\n",
              "1번    컴퓨터   홍길동   1  1.3"
            ]
          },
          "metadata": {},
          "execution_count": 82
        }
      ]
    },
    {
      "cell_type": "markdown",
      "metadata": {
        "id": "XzPo5o5yM2aO"
      },
      "source": [
        "### DataFrame 특정 Column & Row `삭제`"
      ]
    },
    {
      "cell_type": "code",
      "metadata": {
        "id": "K1LOxWQLMdtZ"
      },
      "source": [
        "# .drop() 을 통해서 ==> column(열)을 지울 수 있고, record(행)도 지울 수 있다.\n",
        "#  DataFrame안 데이터를 삭제하는 경우\n",
        "\n",
        "#  ==> 원본 삭제하는 경우 : inplace =True\n",
        "#  ==> 원본은 보존하고 삭제처리된 복사본 생성하는 경우 : inplace =False"
      ],
      "execution_count": 58,
      "outputs": []
    },
    {
      "cell_type": "code",
      "metadata": {
        "colab": {
          "base_uri": "https://localhost:8080/",
          "height": 205
        },
        "id": "VZTmn6ARC1yt",
        "outputId": "f3c7f4dc-7d15-4bc2-f974-a640ffc146e8"
      },
      "source": [
        "df"
      ],
      "execution_count": 83,
      "outputs": [
        {
          "output_type": "execute_result",
          "data": {
            "text/html": [
              "<div>\n",
              "<style scoped>\n",
              "    .dataframe tbody tr th:only-of-type {\n",
              "        vertical-align: middle;\n",
              "    }\n",
              "\n",
              "    .dataframe tbody tr th {\n",
              "        vertical-align: top;\n",
              "    }\n",
              "\n",
              "    .dataframe thead th {\n",
              "        text-align: right;\n",
              "    }\n",
              "</style>\n",
              "<table border=\"1\" class=\"dataframe\">\n",
              "  <thead>\n",
              "    <tr style=\"text-align: right;\">\n",
              "      <th></th>\n",
              "      <th>이름</th>\n",
              "      <th>학과</th>\n",
              "      <th>학년</th>\n",
              "      <th>학점</th>\n",
              "    </tr>\n",
              "  </thead>\n",
              "  <tbody>\n",
              "    <tr>\n",
              "      <th>3번</th>\n",
              "      <td>경영</td>\n",
              "      <td>강감찬</td>\n",
              "      <td>2</td>\n",
              "      <td>3.5</td>\n",
              "    </tr>\n",
              "    <tr>\n",
              "      <th>5번</th>\n",
              "      <td>스포츠과학</td>\n",
              "      <td>정약용</td>\n",
              "      <td>3</td>\n",
              "      <td>4.1</td>\n",
              "    </tr>\n",
              "    <tr>\n",
              "      <th>4번</th>\n",
              "      <td>영어영문</td>\n",
              "      <td>이순신</td>\n",
              "      <td>4</td>\n",
              "      <td>2.7</td>\n",
              "    </tr>\n",
              "    <tr>\n",
              "      <th>2번</th>\n",
              "      <td>철학</td>\n",
              "      <td>신사임당</td>\n",
              "      <td>2</td>\n",
              "      <td>2.4</td>\n",
              "    </tr>\n",
              "    <tr>\n",
              "      <th>1번</th>\n",
              "      <td>컴퓨터</td>\n",
              "      <td>홍길동</td>\n",
              "      <td>1</td>\n",
              "      <td>1.3</td>\n",
              "    </tr>\n",
              "  </tbody>\n",
              "</table>\n",
              "</div>"
            ],
            "text/plain": [
              "       이름    학과  학년   학점\n",
              "3번     경영   강감찬   2  3.5\n",
              "5번  스포츠과학   정약용   3  4.1\n",
              "4번   영어영문   이순신   4  2.7\n",
              "2번     철학  신사임당   2  2.4\n",
              "1번    컴퓨터   홍길동   1  1.3"
            ]
          },
          "metadata": {},
          "execution_count": 83
        }
      ]
    },
    {
      "cell_type": "code",
      "metadata": {
        "colab": {
          "base_uri": "https://localhost:8080/",
          "height": 205
        },
        "id": "AXFUFtUwDG95",
        "outputId": "9434ea78-65e9-4056-b5a9-466b484141e1"
      },
      "source": [
        "new = df.drop(['이름', '학년'], axis = 1, inplace=False)\n",
        "display(new)"
      ],
      "execution_count": 86,
      "outputs": [
        {
          "output_type": "display_data",
          "data": {
            "text/html": [
              "<div>\n",
              "<style scoped>\n",
              "    .dataframe tbody tr th:only-of-type {\n",
              "        vertical-align: middle;\n",
              "    }\n",
              "\n",
              "    .dataframe tbody tr th {\n",
              "        vertical-align: top;\n",
              "    }\n",
              "\n",
              "    .dataframe thead th {\n",
              "        text-align: right;\n",
              "    }\n",
              "</style>\n",
              "<table border=\"1\" class=\"dataframe\">\n",
              "  <thead>\n",
              "    <tr style=\"text-align: right;\">\n",
              "      <th></th>\n",
              "      <th>학과</th>\n",
              "      <th>학점</th>\n",
              "    </tr>\n",
              "  </thead>\n",
              "  <tbody>\n",
              "    <tr>\n",
              "      <th>3번</th>\n",
              "      <td>강감찬</td>\n",
              "      <td>3.5</td>\n",
              "    </tr>\n",
              "    <tr>\n",
              "      <th>5번</th>\n",
              "      <td>정약용</td>\n",
              "      <td>4.1</td>\n",
              "    </tr>\n",
              "    <tr>\n",
              "      <th>4번</th>\n",
              "      <td>이순신</td>\n",
              "      <td>2.7</td>\n",
              "    </tr>\n",
              "    <tr>\n",
              "      <th>2번</th>\n",
              "      <td>신사임당</td>\n",
              "      <td>2.4</td>\n",
              "    </tr>\n",
              "    <tr>\n",
              "      <th>1번</th>\n",
              "      <td>홍길동</td>\n",
              "      <td>1.3</td>\n",
              "    </tr>\n",
              "  </tbody>\n",
              "</table>\n",
              "</div>"
            ],
            "text/plain": [
              "      학과   학점\n",
              "3번   강감찬  3.5\n",
              "5번   정약용  4.1\n",
              "4번   이순신  2.7\n",
              "2번  신사임당  2.4\n",
              "1번   홍길동  1.3"
            ]
          },
          "metadata": {}
        }
      ]
    },
    {
      "cell_type": "code",
      "metadata": {
        "id": "rj_3bmJVDgJq"
      },
      "source": [
        "df.drop(['이름', '학년'], axis = 1, inplace=True)"
      ],
      "execution_count": 88,
      "outputs": []
    },
    {
      "cell_type": "code",
      "metadata": {
        "colab": {
          "base_uri": "https://localhost:8080/",
          "height": 205
        },
        "id": "z-PQZlaZDccR",
        "outputId": "bc12fa25-4e05-4ba8-be2e-6196e45eaf16"
      },
      "source": [
        "df"
      ],
      "execution_count": 89,
      "outputs": [
        {
          "output_type": "execute_result",
          "data": {
            "text/html": [
              "<div>\n",
              "<style scoped>\n",
              "    .dataframe tbody tr th:only-of-type {\n",
              "        vertical-align: middle;\n",
              "    }\n",
              "\n",
              "    .dataframe tbody tr th {\n",
              "        vertical-align: top;\n",
              "    }\n",
              "\n",
              "    .dataframe thead th {\n",
              "        text-align: right;\n",
              "    }\n",
              "</style>\n",
              "<table border=\"1\" class=\"dataframe\">\n",
              "  <thead>\n",
              "    <tr style=\"text-align: right;\">\n",
              "      <th></th>\n",
              "      <th>학과</th>\n",
              "      <th>학점</th>\n",
              "    </tr>\n",
              "  </thead>\n",
              "  <tbody>\n",
              "    <tr>\n",
              "      <th>3번</th>\n",
              "      <td>강감찬</td>\n",
              "      <td>3.5</td>\n",
              "    </tr>\n",
              "    <tr>\n",
              "      <th>5번</th>\n",
              "      <td>정약용</td>\n",
              "      <td>4.1</td>\n",
              "    </tr>\n",
              "    <tr>\n",
              "      <th>4번</th>\n",
              "      <td>이순신</td>\n",
              "      <td>2.7</td>\n",
              "    </tr>\n",
              "    <tr>\n",
              "      <th>2번</th>\n",
              "      <td>신사임당</td>\n",
              "      <td>2.4</td>\n",
              "    </tr>\n",
              "    <tr>\n",
              "      <th>1번</th>\n",
              "      <td>홍길동</td>\n",
              "      <td>1.3</td>\n",
              "    </tr>\n",
              "  </tbody>\n",
              "</table>\n",
              "</div>"
            ],
            "text/plain": [
              "      학과   학점\n",
              "3번   강감찬  3.5\n",
              "5번   정약용  4.1\n",
              "4번   이순신  2.7\n",
              "2번  신사임당  2.4\n",
              "1번   홍길동  1.3"
            ]
          },
          "metadata": {},
          "execution_count": 89
        }
      ]
    },
    {
      "cell_type": "code",
      "metadata": {
        "colab": {
          "base_uri": "https://localhost:8080/",
          "height": 771
        },
        "id": "c9CKc4auNCbp",
        "outputId": "0b342a52-a0d2-45b6-f969-17081b0ada64"
      },
      "source": [
        "# Column(열) 삭제\n",
        "\n",
        "new = df.drop('학년', axis = 1, inplace=False)\n",
        "display(new)\n",
        "\n",
        "new = df.drop(['학년', '이름'], axis = 1, inplace=False)\n",
        "display(new)\n",
        "\n",
        "df.drop('학년', axis = 1, inplace=False)\n",
        "display(df) # ==> 원본은 그대로\n",
        "\n",
        "df.drop('학년', axis = 1, inplace=True)\n",
        "display(df) # ==> 원본 변경"
      ],
      "execution_count": 59,
      "outputs": [
        {
          "output_type": "display_data",
          "data": {
            "text/html": [
              "<div>\n",
              "<style scoped>\n",
              "    .dataframe tbody tr th:only-of-type {\n",
              "        vertical-align: middle;\n",
              "    }\n",
              "\n",
              "    .dataframe tbody tr th {\n",
              "        vertical-align: top;\n",
              "    }\n",
              "\n",
              "    .dataframe thead th {\n",
              "        text-align: right;\n",
              "    }\n",
              "</style>\n",
              "<table border=\"1\" class=\"dataframe\">\n",
              "  <thead>\n",
              "    <tr style=\"text-align: right;\">\n",
              "      <th></th>\n",
              "      <th>학과</th>\n",
              "      <th>이름</th>\n",
              "      <th>학점</th>\n",
              "    </tr>\n",
              "  </thead>\n",
              "  <tbody>\n",
              "    <tr>\n",
              "      <th>1번</th>\n",
              "      <td>컴퓨터</td>\n",
              "      <td>홍길동</td>\n",
              "      <td>1.3</td>\n",
              "    </tr>\n",
              "    <tr>\n",
              "      <th>2번</th>\n",
              "      <td>철학</td>\n",
              "      <td>신사임당</td>\n",
              "      <td>2.4</td>\n",
              "    </tr>\n",
              "    <tr>\n",
              "      <th>3번</th>\n",
              "      <td>경영</td>\n",
              "      <td>강감찬</td>\n",
              "      <td>3.5</td>\n",
              "    </tr>\n",
              "    <tr>\n",
              "      <th>4번</th>\n",
              "      <td>영어영문</td>\n",
              "      <td>이순신</td>\n",
              "      <td>2.7</td>\n",
              "    </tr>\n",
              "    <tr>\n",
              "      <th>5번</th>\n",
              "      <td>스포츠과학</td>\n",
              "      <td>정약용</td>\n",
              "      <td>4.1</td>\n",
              "    </tr>\n",
              "  </tbody>\n",
              "</table>\n",
              "</div>"
            ],
            "text/plain": [
              "       학과    이름   학점\n",
              "1번    컴퓨터   홍길동  1.3\n",
              "2번     철학  신사임당  2.4\n",
              "3번     경영   강감찬  3.5\n",
              "4번   영어영문   이순신  2.7\n",
              "5번  스포츠과학   정약용  4.1"
            ]
          },
          "metadata": {}
        },
        {
          "output_type": "display_data",
          "data": {
            "text/html": [
              "<div>\n",
              "<style scoped>\n",
              "    .dataframe tbody tr th:only-of-type {\n",
              "        vertical-align: middle;\n",
              "    }\n",
              "\n",
              "    .dataframe tbody tr th {\n",
              "        vertical-align: top;\n",
              "    }\n",
              "\n",
              "    .dataframe thead th {\n",
              "        text-align: right;\n",
              "    }\n",
              "</style>\n",
              "<table border=\"1\" class=\"dataframe\">\n",
              "  <thead>\n",
              "    <tr style=\"text-align: right;\">\n",
              "      <th></th>\n",
              "      <th>학과</th>\n",
              "      <th>학점</th>\n",
              "    </tr>\n",
              "  </thead>\n",
              "  <tbody>\n",
              "    <tr>\n",
              "      <th>1번</th>\n",
              "      <td>컴퓨터</td>\n",
              "      <td>1.3</td>\n",
              "    </tr>\n",
              "    <tr>\n",
              "      <th>2번</th>\n",
              "      <td>철학</td>\n",
              "      <td>2.4</td>\n",
              "    </tr>\n",
              "    <tr>\n",
              "      <th>3번</th>\n",
              "      <td>경영</td>\n",
              "      <td>3.5</td>\n",
              "    </tr>\n",
              "    <tr>\n",
              "      <th>4번</th>\n",
              "      <td>영어영문</td>\n",
              "      <td>2.7</td>\n",
              "    </tr>\n",
              "    <tr>\n",
              "      <th>5번</th>\n",
              "      <td>스포츠과학</td>\n",
              "      <td>4.1</td>\n",
              "    </tr>\n",
              "  </tbody>\n",
              "</table>\n",
              "</div>"
            ],
            "text/plain": [
              "       학과   학점\n",
              "1번    컴퓨터  1.3\n",
              "2번     철학  2.4\n",
              "3번     경영  3.5\n",
              "4번   영어영문  2.7\n",
              "5번  스포츠과학  4.1"
            ]
          },
          "metadata": {}
        },
        {
          "output_type": "display_data",
          "data": {
            "text/html": [
              "<div>\n",
              "<style scoped>\n",
              "    .dataframe tbody tr th:only-of-type {\n",
              "        vertical-align: middle;\n",
              "    }\n",
              "\n",
              "    .dataframe tbody tr th {\n",
              "        vertical-align: top;\n",
              "    }\n",
              "\n",
              "    .dataframe thead th {\n",
              "        text-align: right;\n",
              "    }\n",
              "</style>\n",
              "<table border=\"1\" class=\"dataframe\">\n",
              "  <thead>\n",
              "    <tr style=\"text-align: right;\">\n",
              "      <th></th>\n",
              "      <th>학과</th>\n",
              "      <th>이름</th>\n",
              "      <th>학년</th>\n",
              "      <th>학점</th>\n",
              "    </tr>\n",
              "  </thead>\n",
              "  <tbody>\n",
              "    <tr>\n",
              "      <th>1번</th>\n",
              "      <td>컴퓨터</td>\n",
              "      <td>홍길동</td>\n",
              "      <td>1</td>\n",
              "      <td>1.3</td>\n",
              "    </tr>\n",
              "    <tr>\n",
              "      <th>2번</th>\n",
              "      <td>철학</td>\n",
              "      <td>신사임당</td>\n",
              "      <td>2</td>\n",
              "      <td>2.4</td>\n",
              "    </tr>\n",
              "    <tr>\n",
              "      <th>3번</th>\n",
              "      <td>경영</td>\n",
              "      <td>강감찬</td>\n",
              "      <td>2</td>\n",
              "      <td>3.5</td>\n",
              "    </tr>\n",
              "    <tr>\n",
              "      <th>4번</th>\n",
              "      <td>영어영문</td>\n",
              "      <td>이순신</td>\n",
              "      <td>4</td>\n",
              "      <td>2.7</td>\n",
              "    </tr>\n",
              "    <tr>\n",
              "      <th>5번</th>\n",
              "      <td>스포츠과학</td>\n",
              "      <td>정약용</td>\n",
              "      <td>3</td>\n",
              "      <td>4.1</td>\n",
              "    </tr>\n",
              "  </tbody>\n",
              "</table>\n",
              "</div>"
            ],
            "text/plain": [
              "       학과    이름  학년   학점\n",
              "1번    컴퓨터   홍길동   1  1.3\n",
              "2번     철학  신사임당   2  2.4\n",
              "3번     경영   강감찬   2  3.5\n",
              "4번   영어영문   이순신   4  2.7\n",
              "5번  스포츠과학   정약용   3  4.1"
            ]
          },
          "metadata": {}
        },
        {
          "output_type": "display_data",
          "data": {
            "text/html": [
              "<div>\n",
              "<style scoped>\n",
              "    .dataframe tbody tr th:only-of-type {\n",
              "        vertical-align: middle;\n",
              "    }\n",
              "\n",
              "    .dataframe tbody tr th {\n",
              "        vertical-align: top;\n",
              "    }\n",
              "\n",
              "    .dataframe thead th {\n",
              "        text-align: right;\n",
              "    }\n",
              "</style>\n",
              "<table border=\"1\" class=\"dataframe\">\n",
              "  <thead>\n",
              "    <tr style=\"text-align: right;\">\n",
              "      <th></th>\n",
              "      <th>학과</th>\n",
              "      <th>이름</th>\n",
              "      <th>학점</th>\n",
              "    </tr>\n",
              "  </thead>\n",
              "  <tbody>\n",
              "    <tr>\n",
              "      <th>1번</th>\n",
              "      <td>컴퓨터</td>\n",
              "      <td>홍길동</td>\n",
              "      <td>1.3</td>\n",
              "    </tr>\n",
              "    <tr>\n",
              "      <th>2번</th>\n",
              "      <td>철학</td>\n",
              "      <td>신사임당</td>\n",
              "      <td>2.4</td>\n",
              "    </tr>\n",
              "    <tr>\n",
              "      <th>3번</th>\n",
              "      <td>경영</td>\n",
              "      <td>강감찬</td>\n",
              "      <td>3.5</td>\n",
              "    </tr>\n",
              "    <tr>\n",
              "      <th>4번</th>\n",
              "      <td>영어영문</td>\n",
              "      <td>이순신</td>\n",
              "      <td>2.7</td>\n",
              "    </tr>\n",
              "    <tr>\n",
              "      <th>5번</th>\n",
              "      <td>스포츠과학</td>\n",
              "      <td>정약용</td>\n",
              "      <td>4.1</td>\n",
              "    </tr>\n",
              "  </tbody>\n",
              "</table>\n",
              "</div>"
            ],
            "text/plain": [
              "       학과    이름   학점\n",
              "1번    컴퓨터   홍길동  1.3\n",
              "2번     철학  신사임당  2.4\n",
              "3번     경영   강감찬  3.5\n",
              "4번   영어영문   이순신  2.7\n",
              "5번  스포츠과학   정약용  4.1"
            ]
          },
          "metadata": {}
        }
      ]
    },
    {
      "cell_type": "code",
      "metadata": {
        "colab": {
          "base_uri": "https://localhost:8080/",
          "height": 205
        },
        "id": "qYdu7wGhDvLt",
        "outputId": "8f4c40a1-3e0c-44a9-bce9-3f53a12b21fc"
      },
      "source": [
        "df"
      ],
      "execution_count": 90,
      "outputs": [
        {
          "output_type": "execute_result",
          "data": {
            "text/html": [
              "<div>\n",
              "<style scoped>\n",
              "    .dataframe tbody tr th:only-of-type {\n",
              "        vertical-align: middle;\n",
              "    }\n",
              "\n",
              "    .dataframe tbody tr th {\n",
              "        vertical-align: top;\n",
              "    }\n",
              "\n",
              "    .dataframe thead th {\n",
              "        text-align: right;\n",
              "    }\n",
              "</style>\n",
              "<table border=\"1\" class=\"dataframe\">\n",
              "  <thead>\n",
              "    <tr style=\"text-align: right;\">\n",
              "      <th></th>\n",
              "      <th>학과</th>\n",
              "      <th>학점</th>\n",
              "    </tr>\n",
              "  </thead>\n",
              "  <tbody>\n",
              "    <tr>\n",
              "      <th>3번</th>\n",
              "      <td>강감찬</td>\n",
              "      <td>3.5</td>\n",
              "    </tr>\n",
              "    <tr>\n",
              "      <th>5번</th>\n",
              "      <td>정약용</td>\n",
              "      <td>4.1</td>\n",
              "    </tr>\n",
              "    <tr>\n",
              "      <th>4번</th>\n",
              "      <td>이순신</td>\n",
              "      <td>2.7</td>\n",
              "    </tr>\n",
              "    <tr>\n",
              "      <th>2번</th>\n",
              "      <td>신사임당</td>\n",
              "      <td>2.4</td>\n",
              "    </tr>\n",
              "    <tr>\n",
              "      <th>1번</th>\n",
              "      <td>홍길동</td>\n",
              "      <td>1.3</td>\n",
              "    </tr>\n",
              "  </tbody>\n",
              "</table>\n",
              "</div>"
            ],
            "text/plain": [
              "      학과   학점\n",
              "3번   강감찬  3.5\n",
              "5번   정약용  4.1\n",
              "4번   이순신  2.7\n",
              "2번  신사임당  2.4\n",
              "1번   홍길동  1.3"
            ]
          },
          "metadata": {},
          "execution_count": 90
        }
      ]
    },
    {
      "cell_type": "code",
      "metadata": {
        "colab": {
          "base_uri": "https://localhost:8080/",
          "height": 175
        },
        "id": "vqdegXnLDxbI",
        "outputId": "792fd7e0-e5c7-4645-d0ee-4f387e0fb047"
      },
      "source": [
        "new = df.drop('1번', axis = 0, inplace=False) # ==> 행이 삭제\n",
        "display(new)"
      ],
      "execution_count": 91,
      "outputs": [
        {
          "output_type": "display_data",
          "data": {
            "text/html": [
              "<div>\n",
              "<style scoped>\n",
              "    .dataframe tbody tr th:only-of-type {\n",
              "        vertical-align: middle;\n",
              "    }\n",
              "\n",
              "    .dataframe tbody tr th {\n",
              "        vertical-align: top;\n",
              "    }\n",
              "\n",
              "    .dataframe thead th {\n",
              "        text-align: right;\n",
              "    }\n",
              "</style>\n",
              "<table border=\"1\" class=\"dataframe\">\n",
              "  <thead>\n",
              "    <tr style=\"text-align: right;\">\n",
              "      <th></th>\n",
              "      <th>학과</th>\n",
              "      <th>학점</th>\n",
              "    </tr>\n",
              "  </thead>\n",
              "  <tbody>\n",
              "    <tr>\n",
              "      <th>3번</th>\n",
              "      <td>강감찬</td>\n",
              "      <td>3.5</td>\n",
              "    </tr>\n",
              "    <tr>\n",
              "      <th>5번</th>\n",
              "      <td>정약용</td>\n",
              "      <td>4.1</td>\n",
              "    </tr>\n",
              "    <tr>\n",
              "      <th>4번</th>\n",
              "      <td>이순신</td>\n",
              "      <td>2.7</td>\n",
              "    </tr>\n",
              "    <tr>\n",
              "      <th>2번</th>\n",
              "      <td>신사임당</td>\n",
              "      <td>2.4</td>\n",
              "    </tr>\n",
              "  </tbody>\n",
              "</table>\n",
              "</div>"
            ],
            "text/plain": [
              "      학과   학점\n",
              "3번   강감찬  3.5\n",
              "5번   정약용  4.1\n",
              "4번   이순신  2.7\n",
              "2번  신사임당  2.4"
            ]
          },
          "metadata": {}
        }
      ]
    },
    {
      "cell_type": "code",
      "metadata": {
        "colab": {
          "base_uri": "https://localhost:8080/",
          "height": 332
        },
        "id": "xvJV5CL4NG9L",
        "outputId": "6b9b606a-3806-4422-9635-22932bcd0ec1"
      },
      "source": [
        "# Row(행) 삭제\n",
        "\n",
        "new = df.drop('1번', axis = 0, inplace=False) # ==> 행이 삭제\n",
        "display(new)\n",
        "\n",
        "df.drop('2번', axis=0, inplace = True) # ==> axis를 명시하지 않으면 \n",
        "                                       # ==> default는 axis = 0\n",
        "                                       # ==> inplace = False 가 default\n",
        "display(df)"
      ],
      "execution_count": 60,
      "outputs": [
        {
          "output_type": "display_data",
          "data": {
            "text/html": [
              "<div>\n",
              "<style scoped>\n",
              "    .dataframe tbody tr th:only-of-type {\n",
              "        vertical-align: middle;\n",
              "    }\n",
              "\n",
              "    .dataframe tbody tr th {\n",
              "        vertical-align: top;\n",
              "    }\n",
              "\n",
              "    .dataframe thead th {\n",
              "        text-align: right;\n",
              "    }\n",
              "</style>\n",
              "<table border=\"1\" class=\"dataframe\">\n",
              "  <thead>\n",
              "    <tr style=\"text-align: right;\">\n",
              "      <th></th>\n",
              "      <th>학과</th>\n",
              "      <th>이름</th>\n",
              "      <th>학점</th>\n",
              "    </tr>\n",
              "  </thead>\n",
              "  <tbody>\n",
              "    <tr>\n",
              "      <th>2번</th>\n",
              "      <td>철학</td>\n",
              "      <td>신사임당</td>\n",
              "      <td>2.4</td>\n",
              "    </tr>\n",
              "    <tr>\n",
              "      <th>3번</th>\n",
              "      <td>경영</td>\n",
              "      <td>강감찬</td>\n",
              "      <td>3.5</td>\n",
              "    </tr>\n",
              "    <tr>\n",
              "      <th>4번</th>\n",
              "      <td>영어영문</td>\n",
              "      <td>이순신</td>\n",
              "      <td>2.7</td>\n",
              "    </tr>\n",
              "    <tr>\n",
              "      <th>5번</th>\n",
              "      <td>스포츠과학</td>\n",
              "      <td>정약용</td>\n",
              "      <td>4.1</td>\n",
              "    </tr>\n",
              "  </tbody>\n",
              "</table>\n",
              "</div>"
            ],
            "text/plain": [
              "       학과    이름   학점\n",
              "2번     철학  신사임당  2.4\n",
              "3번     경영   강감찬  3.5\n",
              "4번   영어영문   이순신  2.7\n",
              "5번  스포츠과학   정약용  4.1"
            ]
          },
          "metadata": {}
        },
        {
          "output_type": "display_data",
          "data": {
            "text/html": [
              "<div>\n",
              "<style scoped>\n",
              "    .dataframe tbody tr th:only-of-type {\n",
              "        vertical-align: middle;\n",
              "    }\n",
              "\n",
              "    .dataframe tbody tr th {\n",
              "        vertical-align: top;\n",
              "    }\n",
              "\n",
              "    .dataframe thead th {\n",
              "        text-align: right;\n",
              "    }\n",
              "</style>\n",
              "<table border=\"1\" class=\"dataframe\">\n",
              "  <thead>\n",
              "    <tr style=\"text-align: right;\">\n",
              "      <th></th>\n",
              "      <th>학과</th>\n",
              "      <th>이름</th>\n",
              "      <th>학점</th>\n",
              "    </tr>\n",
              "  </thead>\n",
              "  <tbody>\n",
              "    <tr>\n",
              "      <th>1번</th>\n",
              "      <td>컴퓨터</td>\n",
              "      <td>홍길동</td>\n",
              "      <td>1.3</td>\n",
              "    </tr>\n",
              "    <tr>\n",
              "      <th>3번</th>\n",
              "      <td>경영</td>\n",
              "      <td>강감찬</td>\n",
              "      <td>3.5</td>\n",
              "    </tr>\n",
              "    <tr>\n",
              "      <th>4번</th>\n",
              "      <td>영어영문</td>\n",
              "      <td>이순신</td>\n",
              "      <td>2.7</td>\n",
              "    </tr>\n",
              "    <tr>\n",
              "      <th>5번</th>\n",
              "      <td>스포츠과학</td>\n",
              "      <td>정약용</td>\n",
              "      <td>4.1</td>\n",
              "    </tr>\n",
              "  </tbody>\n",
              "</table>\n",
              "</div>"
            ],
            "text/plain": [
              "       학과   이름   학점\n",
              "1번    컴퓨터  홍길동  1.3\n",
              "3번     경영  강감찬  3.5\n",
              "4번   영어영문  이순신  2.7\n",
              "5번  스포츠과학  정약용  4.1"
            ]
          },
          "metadata": {}
        }
      ]
    },
    {
      "cell_type": "code",
      "metadata": {
        "colab": {
          "base_uri": "https://localhost:8080/",
          "height": 112
        },
        "id": "ftRb2_ceNY3f",
        "outputId": "657eca2f-92ec-4b8a-e961-f5e74d2a9158"
      },
      "source": [
        "# Fancy indexing을 drop 삭제할 행에 사용할 수 있다.\n",
        "df.drop(['1번','3번'],axis=0, inplace=True)\n",
        "display(df) "
      ],
      "execution_count": 61,
      "outputs": [
        {
          "output_type": "display_data",
          "data": {
            "text/html": [
              "<div>\n",
              "<style scoped>\n",
              "    .dataframe tbody tr th:only-of-type {\n",
              "        vertical-align: middle;\n",
              "    }\n",
              "\n",
              "    .dataframe tbody tr th {\n",
              "        vertical-align: top;\n",
              "    }\n",
              "\n",
              "    .dataframe thead th {\n",
              "        text-align: right;\n",
              "    }\n",
              "</style>\n",
              "<table border=\"1\" class=\"dataframe\">\n",
              "  <thead>\n",
              "    <tr style=\"text-align: right;\">\n",
              "      <th></th>\n",
              "      <th>학과</th>\n",
              "      <th>이름</th>\n",
              "      <th>학점</th>\n",
              "    </tr>\n",
              "  </thead>\n",
              "  <tbody>\n",
              "    <tr>\n",
              "      <th>4번</th>\n",
              "      <td>영어영문</td>\n",
              "      <td>이순신</td>\n",
              "      <td>2.7</td>\n",
              "    </tr>\n",
              "    <tr>\n",
              "      <th>5번</th>\n",
              "      <td>스포츠과학</td>\n",
              "      <td>정약용</td>\n",
              "      <td>4.1</td>\n",
              "    </tr>\n",
              "  </tbody>\n",
              "</table>\n",
              "</div>"
            ],
            "text/plain": [
              "       학과   이름   학점\n",
              "4번   영어영문  이순신  2.7\n",
              "5번  스포츠과학  정약용  4.1"
            ]
          },
          "metadata": {}
        }
      ]
    },
    {
      "cell_type": "markdown",
      "metadata": {
        "id": "1YX2cgL7Nk9m"
      },
      "source": [
        "### NaN 존재 여부 확인"
      ]
    },
    {
      "cell_type": "code",
      "metadata": {
        "id": "ZaKwxDqqESgB"
      },
      "source": [
        "{'name':['dltmdgns', 'rlatjddms']}"
      ],
      "execution_count": null,
      "outputs": []
    },
    {
      "cell_type": "code",
      "metadata": {
        "colab": {
          "base_uri": "https://localhost:8080/"
        },
        "id": "-fWptwLyEZtq",
        "outputId": "b9ef4055-1c7d-4cbd-e176-7c3eb29b62d9"
      },
      "source": [
        "arr = np.random.randint(0,10,(6,4))\n",
        "arr"
      ],
      "execution_count": 92,
      "outputs": [
        {
          "output_type": "execute_result",
          "data": {
            "text/plain": [
              "array([[5, 3, 3, 8],\n",
              "       [1, 0, 2, 1],\n",
              "       [9, 7, 6, 8],\n",
              "       [1, 6, 5, 8],\n",
              "       [0, 7, 9, 7],\n",
              "       [0, 7, 6, 2]])"
            ]
          },
          "metadata": {},
          "execution_count": 92
        }
      ]
    },
    {
      "cell_type": "code",
      "metadata": {
        "colab": {
          "base_uri": "https://localhost:8080/",
          "height": 236
        },
        "id": "xwpGjnkHEeYw",
        "outputId": "50fbe0fe-1d47-4feb-b0e5-7ee77f857724"
      },
      "source": [
        "df = pd.DataFrame(arr)\n",
        "df"
      ],
      "execution_count": 93,
      "outputs": [
        {
          "output_type": "execute_result",
          "data": {
            "text/html": [
              "<div>\n",
              "<style scoped>\n",
              "    .dataframe tbody tr th:only-of-type {\n",
              "        vertical-align: middle;\n",
              "    }\n",
              "\n",
              "    .dataframe tbody tr th {\n",
              "        vertical-align: top;\n",
              "    }\n",
              "\n",
              "    .dataframe thead th {\n",
              "        text-align: right;\n",
              "    }\n",
              "</style>\n",
              "<table border=\"1\" class=\"dataframe\">\n",
              "  <thead>\n",
              "    <tr style=\"text-align: right;\">\n",
              "      <th></th>\n",
              "      <th>0</th>\n",
              "      <th>1</th>\n",
              "      <th>2</th>\n",
              "      <th>3</th>\n",
              "    </tr>\n",
              "  </thead>\n",
              "  <tbody>\n",
              "    <tr>\n",
              "      <th>0</th>\n",
              "      <td>5</td>\n",
              "      <td>3</td>\n",
              "      <td>3</td>\n",
              "      <td>8</td>\n",
              "    </tr>\n",
              "    <tr>\n",
              "      <th>1</th>\n",
              "      <td>1</td>\n",
              "      <td>0</td>\n",
              "      <td>2</td>\n",
              "      <td>1</td>\n",
              "    </tr>\n",
              "    <tr>\n",
              "      <th>2</th>\n",
              "      <td>9</td>\n",
              "      <td>7</td>\n",
              "      <td>6</td>\n",
              "      <td>8</td>\n",
              "    </tr>\n",
              "    <tr>\n",
              "      <th>3</th>\n",
              "      <td>1</td>\n",
              "      <td>6</td>\n",
              "      <td>5</td>\n",
              "      <td>8</td>\n",
              "    </tr>\n",
              "    <tr>\n",
              "      <th>4</th>\n",
              "      <td>0</td>\n",
              "      <td>7</td>\n",
              "      <td>9</td>\n",
              "      <td>7</td>\n",
              "    </tr>\n",
              "    <tr>\n",
              "      <th>5</th>\n",
              "      <td>0</td>\n",
              "      <td>7</td>\n",
              "      <td>6</td>\n",
              "      <td>2</td>\n",
              "    </tr>\n",
              "  </tbody>\n",
              "</table>\n",
              "</div>"
            ],
            "text/plain": [
              "   0  1  2  3\n",
              "0  5  3  3  8\n",
              "1  1  0  2  1\n",
              "2  9  7  6  8\n",
              "3  1  6  5  8\n",
              "4  0  7  9  7\n",
              "5  0  7  6  2"
            ]
          },
          "metadata": {},
          "execution_count": 93
        }
      ]
    },
    {
      "cell_type": "code",
      "metadata": {
        "colab": {
          "base_uri": "https://localhost:8080/",
          "height": 236
        },
        "id": "Dea4K2PKEtC9",
        "outputId": "c57b6536-6840-41ed-f8f7-9c5031966c4d"
      },
      "source": [
        "np.random.seed(1)\n",
        "arr = np.random.randint(0,10,(6,4))\n",
        "df = pd.DataFrame(arr)\n",
        "\n",
        "df.columns = ['A','B', 'C','D']\n",
        "df.index = pd.date_range('20200101','20200106')\n",
        "\n",
        "df['E'] = [7, np.nan, 4, np.nan, 2, np.nan]\n",
        "display(df) "
      ],
      "execution_count": 94,
      "outputs": [
        {
          "output_type": "display_data",
          "data": {
            "text/html": [
              "<div>\n",
              "<style scoped>\n",
              "    .dataframe tbody tr th:only-of-type {\n",
              "        vertical-align: middle;\n",
              "    }\n",
              "\n",
              "    .dataframe tbody tr th {\n",
              "        vertical-align: top;\n",
              "    }\n",
              "\n",
              "    .dataframe thead th {\n",
              "        text-align: right;\n",
              "    }\n",
              "</style>\n",
              "<table border=\"1\" class=\"dataframe\">\n",
              "  <thead>\n",
              "    <tr style=\"text-align: right;\">\n",
              "      <th></th>\n",
              "      <th>A</th>\n",
              "      <th>B</th>\n",
              "      <th>C</th>\n",
              "      <th>D</th>\n",
              "      <th>E</th>\n",
              "    </tr>\n",
              "  </thead>\n",
              "  <tbody>\n",
              "    <tr>\n",
              "      <th>2020-01-01</th>\n",
              "      <td>5</td>\n",
              "      <td>8</td>\n",
              "      <td>9</td>\n",
              "      <td>5</td>\n",
              "      <td>7.0</td>\n",
              "    </tr>\n",
              "    <tr>\n",
              "      <th>2020-01-02</th>\n",
              "      <td>0</td>\n",
              "      <td>0</td>\n",
              "      <td>1</td>\n",
              "      <td>7</td>\n",
              "      <td>NaN</td>\n",
              "    </tr>\n",
              "    <tr>\n",
              "      <th>2020-01-03</th>\n",
              "      <td>6</td>\n",
              "      <td>9</td>\n",
              "      <td>2</td>\n",
              "      <td>4</td>\n",
              "      <td>4.0</td>\n",
              "    </tr>\n",
              "    <tr>\n",
              "      <th>2020-01-04</th>\n",
              "      <td>5</td>\n",
              "      <td>2</td>\n",
              "      <td>4</td>\n",
              "      <td>2</td>\n",
              "      <td>NaN</td>\n",
              "    </tr>\n",
              "    <tr>\n",
              "      <th>2020-01-05</th>\n",
              "      <td>4</td>\n",
              "      <td>7</td>\n",
              "      <td>7</td>\n",
              "      <td>9</td>\n",
              "      <td>2.0</td>\n",
              "    </tr>\n",
              "    <tr>\n",
              "      <th>2020-01-06</th>\n",
              "      <td>1</td>\n",
              "      <td>7</td>\n",
              "      <td>0</td>\n",
              "      <td>6</td>\n",
              "      <td>NaN</td>\n",
              "    </tr>\n",
              "  </tbody>\n",
              "</table>\n",
              "</div>"
            ],
            "text/plain": [
              "            A  B  C  D    E\n",
              "2020-01-01  5  8  9  5  7.0\n",
              "2020-01-02  0  0  1  7  NaN\n",
              "2020-01-03  6  9  2  4  4.0\n",
              "2020-01-04  5  2  4  2  NaN\n",
              "2020-01-05  4  7  7  9  2.0\n",
              "2020-01-06  1  7  0  6  NaN"
            ]
          },
          "metadata": {}
        }
      ]
    },
    {
      "cell_type": "code",
      "metadata": {
        "colab": {
          "base_uri": "https://localhost:8080/",
          "height": 236
        },
        "id": "UrY-o5tYE0PJ",
        "outputId": "cd74d624-9810-433b-892e-a2995474273c"
      },
      "source": [
        "df.isnull()"
      ],
      "execution_count": 95,
      "outputs": [
        {
          "output_type": "execute_result",
          "data": {
            "text/html": [
              "<div>\n",
              "<style scoped>\n",
              "    .dataframe tbody tr th:only-of-type {\n",
              "        vertical-align: middle;\n",
              "    }\n",
              "\n",
              "    .dataframe tbody tr th {\n",
              "        vertical-align: top;\n",
              "    }\n",
              "\n",
              "    .dataframe thead th {\n",
              "        text-align: right;\n",
              "    }\n",
              "</style>\n",
              "<table border=\"1\" class=\"dataframe\">\n",
              "  <thead>\n",
              "    <tr style=\"text-align: right;\">\n",
              "      <th></th>\n",
              "      <th>A</th>\n",
              "      <th>B</th>\n",
              "      <th>C</th>\n",
              "      <th>D</th>\n",
              "      <th>E</th>\n",
              "    </tr>\n",
              "  </thead>\n",
              "  <tbody>\n",
              "    <tr>\n",
              "      <th>2020-01-01</th>\n",
              "      <td>False</td>\n",
              "      <td>False</td>\n",
              "      <td>False</td>\n",
              "      <td>False</td>\n",
              "      <td>False</td>\n",
              "    </tr>\n",
              "    <tr>\n",
              "      <th>2020-01-02</th>\n",
              "      <td>False</td>\n",
              "      <td>False</td>\n",
              "      <td>False</td>\n",
              "      <td>False</td>\n",
              "      <td>True</td>\n",
              "    </tr>\n",
              "    <tr>\n",
              "      <th>2020-01-03</th>\n",
              "      <td>False</td>\n",
              "      <td>False</td>\n",
              "      <td>False</td>\n",
              "      <td>False</td>\n",
              "      <td>False</td>\n",
              "    </tr>\n",
              "    <tr>\n",
              "      <th>2020-01-04</th>\n",
              "      <td>False</td>\n",
              "      <td>False</td>\n",
              "      <td>False</td>\n",
              "      <td>False</td>\n",
              "      <td>True</td>\n",
              "    </tr>\n",
              "    <tr>\n",
              "      <th>2020-01-05</th>\n",
              "      <td>False</td>\n",
              "      <td>False</td>\n",
              "      <td>False</td>\n",
              "      <td>False</td>\n",
              "      <td>False</td>\n",
              "    </tr>\n",
              "    <tr>\n",
              "      <th>2020-01-06</th>\n",
              "      <td>False</td>\n",
              "      <td>False</td>\n",
              "      <td>False</td>\n",
              "      <td>False</td>\n",
              "      <td>True</td>\n",
              "    </tr>\n",
              "  </tbody>\n",
              "</table>\n",
              "</div>"
            ],
            "text/plain": [
              "                A      B      C      D      E\n",
              "2020-01-01  False  False  False  False  False\n",
              "2020-01-02  False  False  False  False   True\n",
              "2020-01-03  False  False  False  False  False\n",
              "2020-01-04  False  False  False  False   True\n",
              "2020-01-05  False  False  False  False  False\n",
              "2020-01-06  False  False  False  False   True"
            ]
          },
          "metadata": {},
          "execution_count": 95
        }
      ]
    },
    {
      "cell_type": "code",
      "metadata": {
        "colab": {
          "base_uri": "https://localhost:8080/",
          "height": 236
        },
        "id": "iPqvIEawNm4S",
        "outputId": "c6e0ffbb-c30d-45e7-ef52-857cad0f9881"
      },
      "source": [
        "np.random.seed(1)\n",
        "arr = np.random.randint(0,10,(6,4))\n",
        "df = pd.DataFrame(arr)\n",
        "\n",
        "df.columns = ['A','B', 'C','D']\n",
        "df.index = pd.date_range('20200101','20200106')\n",
        "\n",
        "df['E'] = [7, np.nan, 4, np.nan, 2, np.nan]\n",
        "display(df) \n",
        "\n",
        "# 결측치 boolean mask\n",
        "nan_df = df.isnull()\n",
        "display(nan_df)"
      ],
      "execution_count": 193,
      "outputs": [
        {
          "output_type": "display_data",
          "data": {
            "text/html": [
              "<div>\n",
              "<style scoped>\n",
              "    .dataframe tbody tr th:only-of-type {\n",
              "        vertical-align: middle;\n",
              "    }\n",
              "\n",
              "    .dataframe tbody tr th {\n",
              "        vertical-align: top;\n",
              "    }\n",
              "\n",
              "    .dataframe thead th {\n",
              "        text-align: right;\n",
              "    }\n",
              "</style>\n",
              "<table border=\"1\" class=\"dataframe\">\n",
              "  <thead>\n",
              "    <tr style=\"text-align: right;\">\n",
              "      <th></th>\n",
              "      <th>A</th>\n",
              "      <th>B</th>\n",
              "      <th>C</th>\n",
              "      <th>D</th>\n",
              "      <th>E</th>\n",
              "    </tr>\n",
              "  </thead>\n",
              "  <tbody>\n",
              "    <tr>\n",
              "      <th>2020-01-01</th>\n",
              "      <td>False</td>\n",
              "      <td>False</td>\n",
              "      <td>False</td>\n",
              "      <td>False</td>\n",
              "      <td>False</td>\n",
              "    </tr>\n",
              "    <tr>\n",
              "      <th>2020-01-02</th>\n",
              "      <td>False</td>\n",
              "      <td>False</td>\n",
              "      <td>False</td>\n",
              "      <td>False</td>\n",
              "      <td>True</td>\n",
              "    </tr>\n",
              "    <tr>\n",
              "      <th>2020-01-03</th>\n",
              "      <td>False</td>\n",
              "      <td>False</td>\n",
              "      <td>False</td>\n",
              "      <td>False</td>\n",
              "      <td>False</td>\n",
              "    </tr>\n",
              "    <tr>\n",
              "      <th>2020-01-04</th>\n",
              "      <td>False</td>\n",
              "      <td>False</td>\n",
              "      <td>False</td>\n",
              "      <td>False</td>\n",
              "      <td>True</td>\n",
              "    </tr>\n",
              "    <tr>\n",
              "      <th>2020-01-05</th>\n",
              "      <td>False</td>\n",
              "      <td>False</td>\n",
              "      <td>False</td>\n",
              "      <td>False</td>\n",
              "      <td>False</td>\n",
              "    </tr>\n",
              "    <tr>\n",
              "      <th>2020-01-06</th>\n",
              "      <td>False</td>\n",
              "      <td>False</td>\n",
              "      <td>False</td>\n",
              "      <td>False</td>\n",
              "      <td>True</td>\n",
              "    </tr>\n",
              "  </tbody>\n",
              "</table>\n",
              "</div>"
            ],
            "text/plain": [
              "                A      B      C      D      E\n",
              "2020-01-01  False  False  False  False  False\n",
              "2020-01-02  False  False  False  False   True\n",
              "2020-01-03  False  False  False  False  False\n",
              "2020-01-04  False  False  False  False   True\n",
              "2020-01-05  False  False  False  False  False\n",
              "2020-01-06  False  False  False  False   True"
            ]
          },
          "metadata": {}
        }
      ]
    },
    {
      "cell_type": "code",
      "metadata": {
        "colab": {
          "base_uri": "https://localhost:8080/",
          "height": 269
        },
        "id": "EhoRFzi3N_6z",
        "outputId": "89cd2b7b-98c6-4068-e935-3624032d1039"
      },
      "source": [
        "# E column의 값이 NaN인 행들을 찾아서 해당행의 모든 column값을 출력\n",
        "display(df[nan_df['E']])\n",
        "\n",
        "display(df[df['E'].isna()])"
      ],
      "execution_count": 194,
      "outputs": [
        {
          "output_type": "display_data",
          "data": {
            "text/html": [
              "<div>\n",
              "<style scoped>\n",
              "    .dataframe tbody tr th:only-of-type {\n",
              "        vertical-align: middle;\n",
              "    }\n",
              "\n",
              "    .dataframe tbody tr th {\n",
              "        vertical-align: top;\n",
              "    }\n",
              "\n",
              "    .dataframe thead th {\n",
              "        text-align: right;\n",
              "    }\n",
              "</style>\n",
              "<table border=\"1\" class=\"dataframe\">\n",
              "  <thead>\n",
              "    <tr style=\"text-align: right;\">\n",
              "      <th></th>\n",
              "      <th>A</th>\n",
              "      <th>B</th>\n",
              "      <th>C</th>\n",
              "      <th>D</th>\n",
              "      <th>E</th>\n",
              "    </tr>\n",
              "  </thead>\n",
              "  <tbody>\n",
              "    <tr>\n",
              "      <th>2020-01-02</th>\n",
              "      <td>0</td>\n",
              "      <td>0</td>\n",
              "      <td>1</td>\n",
              "      <td>7</td>\n",
              "      <td>NaN</td>\n",
              "    </tr>\n",
              "    <tr>\n",
              "      <th>2020-01-04</th>\n",
              "      <td>5</td>\n",
              "      <td>2</td>\n",
              "      <td>4</td>\n",
              "      <td>2</td>\n",
              "      <td>NaN</td>\n",
              "    </tr>\n",
              "    <tr>\n",
              "      <th>2020-01-06</th>\n",
              "      <td>1</td>\n",
              "      <td>7</td>\n",
              "      <td>0</td>\n",
              "      <td>6</td>\n",
              "      <td>NaN</td>\n",
              "    </tr>\n",
              "  </tbody>\n",
              "</table>\n",
              "</div>"
            ],
            "text/plain": [
              "            A  B  C  D   E\n",
              "2020-01-02  0  0  1  7 NaN\n",
              "2020-01-04  5  2  4  2 NaN\n",
              "2020-01-06  1  7  0  6 NaN"
            ]
          },
          "metadata": {}
        },
        {
          "output_type": "display_data",
          "data": {
            "text/html": [
              "<div>\n",
              "<style scoped>\n",
              "    .dataframe tbody tr th:only-of-type {\n",
              "        vertical-align: middle;\n",
              "    }\n",
              "\n",
              "    .dataframe tbody tr th {\n",
              "        vertical-align: top;\n",
              "    }\n",
              "\n",
              "    .dataframe thead th {\n",
              "        text-align: right;\n",
              "    }\n",
              "</style>\n",
              "<table border=\"1\" class=\"dataframe\">\n",
              "  <thead>\n",
              "    <tr style=\"text-align: right;\">\n",
              "      <th></th>\n",
              "      <th>A</th>\n",
              "      <th>B</th>\n",
              "      <th>C</th>\n",
              "      <th>D</th>\n",
              "      <th>E</th>\n",
              "    </tr>\n",
              "  </thead>\n",
              "  <tbody>\n",
              "    <tr>\n",
              "      <th>2020-01-02</th>\n",
              "      <td>0</td>\n",
              "      <td>0</td>\n",
              "      <td>1</td>\n",
              "      <td>7</td>\n",
              "      <td>NaN</td>\n",
              "    </tr>\n",
              "    <tr>\n",
              "      <th>2020-01-04</th>\n",
              "      <td>5</td>\n",
              "      <td>2</td>\n",
              "      <td>4</td>\n",
              "      <td>2</td>\n",
              "      <td>NaN</td>\n",
              "    </tr>\n",
              "    <tr>\n",
              "      <th>2020-01-06</th>\n",
              "      <td>1</td>\n",
              "      <td>7</td>\n",
              "      <td>0</td>\n",
              "      <td>6</td>\n",
              "      <td>NaN</td>\n",
              "    </tr>\n",
              "  </tbody>\n",
              "</table>\n",
              "</div>"
            ],
            "text/plain": [
              "            A  B  C  D   E\n",
              "2020-01-02  0  0  1  7 NaN\n",
              "2020-01-04  5  2  4  2 NaN\n",
              "2020-01-06  1  7  0  6 NaN"
            ]
          },
          "metadata": {}
        }
      ]
    },
    {
      "cell_type": "code",
      "metadata": {
        "colab": {
          "base_uri": "https://localhost:8080/",
          "height": 236
        },
        "id": "5ImibGKpFGdo",
        "outputId": "f0b80bd4-b1fc-47d8-9c95-f5d71bae3cf1"
      },
      "source": [
        "df"
      ],
      "execution_count": 96,
      "outputs": [
        {
          "output_type": "execute_result",
          "data": {
            "text/html": [
              "<div>\n",
              "<style scoped>\n",
              "    .dataframe tbody tr th:only-of-type {\n",
              "        vertical-align: middle;\n",
              "    }\n",
              "\n",
              "    .dataframe tbody tr th {\n",
              "        vertical-align: top;\n",
              "    }\n",
              "\n",
              "    .dataframe thead th {\n",
              "        text-align: right;\n",
              "    }\n",
              "</style>\n",
              "<table border=\"1\" class=\"dataframe\">\n",
              "  <thead>\n",
              "    <tr style=\"text-align: right;\">\n",
              "      <th></th>\n",
              "      <th>A</th>\n",
              "      <th>B</th>\n",
              "      <th>C</th>\n",
              "      <th>D</th>\n",
              "      <th>E</th>\n",
              "    </tr>\n",
              "  </thead>\n",
              "  <tbody>\n",
              "    <tr>\n",
              "      <th>2020-01-01</th>\n",
              "      <td>5</td>\n",
              "      <td>8</td>\n",
              "      <td>9</td>\n",
              "      <td>5</td>\n",
              "      <td>7.0</td>\n",
              "    </tr>\n",
              "    <tr>\n",
              "      <th>2020-01-02</th>\n",
              "      <td>0</td>\n",
              "      <td>0</td>\n",
              "      <td>1</td>\n",
              "      <td>7</td>\n",
              "      <td>NaN</td>\n",
              "    </tr>\n",
              "    <tr>\n",
              "      <th>2020-01-03</th>\n",
              "      <td>6</td>\n",
              "      <td>9</td>\n",
              "      <td>2</td>\n",
              "      <td>4</td>\n",
              "      <td>4.0</td>\n",
              "    </tr>\n",
              "    <tr>\n",
              "      <th>2020-01-04</th>\n",
              "      <td>5</td>\n",
              "      <td>2</td>\n",
              "      <td>4</td>\n",
              "      <td>2</td>\n",
              "      <td>NaN</td>\n",
              "    </tr>\n",
              "    <tr>\n",
              "      <th>2020-01-05</th>\n",
              "      <td>4</td>\n",
              "      <td>7</td>\n",
              "      <td>7</td>\n",
              "      <td>9</td>\n",
              "      <td>2.0</td>\n",
              "    </tr>\n",
              "    <tr>\n",
              "      <th>2020-01-06</th>\n",
              "      <td>1</td>\n",
              "      <td>7</td>\n",
              "      <td>0</td>\n",
              "      <td>6</td>\n",
              "      <td>NaN</td>\n",
              "    </tr>\n",
              "  </tbody>\n",
              "</table>\n",
              "</div>"
            ],
            "text/plain": [
              "            A  B  C  D    E\n",
              "2020-01-01  5  8  9  5  7.0\n",
              "2020-01-02  0  0  1  7  NaN\n",
              "2020-01-03  6  9  2  4  4.0\n",
              "2020-01-04  5  2  4  2  NaN\n",
              "2020-01-05  4  7  7  9  2.0\n",
              "2020-01-06  1  7  0  6  NaN"
            ]
          },
          "metadata": {},
          "execution_count": 96
        }
      ]
    },
    {
      "cell_type": "markdown",
      "metadata": {
        "id": "J1-s-lFpONyI"
      },
      "source": [
        "### NaN 처리\n",
        "> - 데이터 속에서 NaN이 상대적으로 적을 때는 지우는 게 유용\n",
        "- NaN은 데이터분석이나 머신러인, 딥러닝 전에 반드시 처리해야하는 값!!\n",
        "- But 일반적으로 NaN 지우면 데이터가 많이 줄어서 여러 문제 발생 가능성\n",
        "- NaN 지우다가 전체 행을 지우게 되서, 유의미한 데이터도 잃어버릴 수 있다.\n",
        "- 다른 나머지 값들의 평균값으로 대체 하는 게 무난함, 하지만 case by case"
      ]
    },
    {
      "cell_type": "code",
      "metadata": {
        "colab": {
          "base_uri": "https://localhost:8080/",
          "height": 175
        },
        "id": "dPvu-ztSOTvp",
        "outputId": "ff72ea70-e997-4726-ec1a-c7a7dda02a42"
      },
      "source": [
        "import numpy as np\n",
        "import pandas as pd\n",
        "\n",
        "data = [[2, np.nan],\n",
        "        [7,-3],\n",
        "        [np.nan,np.nan],\n",
        "        [1,-2]]\n",
        "\n",
        "df = pd.DataFrame(data,\n",
        "                  columns = ['one', 'two'],\n",
        "                  index = ['a','b','c','d'])\n",
        "df"
      ],
      "execution_count": 97,
      "outputs": [
        {
          "output_type": "execute_result",
          "data": {
            "text/html": [
              "<div>\n",
              "<style scoped>\n",
              "    .dataframe tbody tr th:only-of-type {\n",
              "        vertical-align: middle;\n",
              "    }\n",
              "\n",
              "    .dataframe tbody tr th {\n",
              "        vertical-align: top;\n",
              "    }\n",
              "\n",
              "    .dataframe thead th {\n",
              "        text-align: right;\n",
              "    }\n",
              "</style>\n",
              "<table border=\"1\" class=\"dataframe\">\n",
              "  <thead>\n",
              "    <tr style=\"text-align: right;\">\n",
              "      <th></th>\n",
              "      <th>one</th>\n",
              "      <th>two</th>\n",
              "    </tr>\n",
              "  </thead>\n",
              "  <tbody>\n",
              "    <tr>\n",
              "      <th>a</th>\n",
              "      <td>2.0</td>\n",
              "      <td>NaN</td>\n",
              "    </tr>\n",
              "    <tr>\n",
              "      <th>b</th>\n",
              "      <td>7.0</td>\n",
              "      <td>-3.0</td>\n",
              "    </tr>\n",
              "    <tr>\n",
              "      <th>c</th>\n",
              "      <td>NaN</td>\n",
              "      <td>NaN</td>\n",
              "    </tr>\n",
              "    <tr>\n",
              "      <th>d</th>\n",
              "      <td>1.0</td>\n",
              "      <td>-2.0</td>\n",
              "    </tr>\n",
              "  </tbody>\n",
              "</table>\n",
              "</div>"
            ],
            "text/plain": [
              "   one  two\n",
              "a  2.0  NaN\n",
              "b  7.0 -3.0\n",
              "c  NaN  NaN\n",
              "d  1.0 -2.0"
            ]
          },
          "metadata": {},
          "execution_count": 97
        }
      ]
    },
    {
      "cell_type": "code",
      "metadata": {
        "colab": {
          "base_uri": "https://localhost:8080/",
          "height": 112
        },
        "id": "4HAnpuuyF1zO",
        "outputId": "19113d33-9ec5-47d2-8f45-6384e5630c58"
      },
      "source": [
        "new_df1 = df.dropna(how='any', axis=0)\n",
        "display(new_df1)"
      ],
      "execution_count": 98,
      "outputs": [
        {
          "output_type": "display_data",
          "data": {
            "text/html": [
              "<div>\n",
              "<style scoped>\n",
              "    .dataframe tbody tr th:only-of-type {\n",
              "        vertical-align: middle;\n",
              "    }\n",
              "\n",
              "    .dataframe tbody tr th {\n",
              "        vertical-align: top;\n",
              "    }\n",
              "\n",
              "    .dataframe thead th {\n",
              "        text-align: right;\n",
              "    }\n",
              "</style>\n",
              "<table border=\"1\" class=\"dataframe\">\n",
              "  <thead>\n",
              "    <tr style=\"text-align: right;\">\n",
              "      <th></th>\n",
              "      <th>one</th>\n",
              "      <th>two</th>\n",
              "    </tr>\n",
              "  </thead>\n",
              "  <tbody>\n",
              "    <tr>\n",
              "      <th>b</th>\n",
              "      <td>7.0</td>\n",
              "      <td>-3.0</td>\n",
              "    </tr>\n",
              "    <tr>\n",
              "      <th>d</th>\n",
              "      <td>1.0</td>\n",
              "      <td>-2.0</td>\n",
              "    </tr>\n",
              "  </tbody>\n",
              "</table>\n",
              "</div>"
            ],
            "text/plain": [
              "   one  two\n",
              "b  7.0 -3.0\n",
              "d  1.0 -2.0"
            ]
          },
          "metadata": {}
        }
      ]
    },
    {
      "cell_type": "code",
      "metadata": {
        "colab": {
          "base_uri": "https://localhost:8080/",
          "height": 175
        },
        "id": "GByD98t_GFzu",
        "outputId": "f0a79386-918b-44ec-cef7-0d193b656f07"
      },
      "source": [
        "new_df2 = df.dropna(how='all', axis=1)\n",
        "display(new_df2)"
      ],
      "execution_count": 100,
      "outputs": [
        {
          "output_type": "display_data",
          "data": {
            "text/html": [
              "<div>\n",
              "<style scoped>\n",
              "    .dataframe tbody tr th:only-of-type {\n",
              "        vertical-align: middle;\n",
              "    }\n",
              "\n",
              "    .dataframe tbody tr th {\n",
              "        vertical-align: top;\n",
              "    }\n",
              "\n",
              "    .dataframe thead th {\n",
              "        text-align: right;\n",
              "    }\n",
              "</style>\n",
              "<table border=\"1\" class=\"dataframe\">\n",
              "  <thead>\n",
              "    <tr style=\"text-align: right;\">\n",
              "      <th></th>\n",
              "      <th>one</th>\n",
              "      <th>two</th>\n",
              "    </tr>\n",
              "  </thead>\n",
              "  <tbody>\n",
              "    <tr>\n",
              "      <th>a</th>\n",
              "      <td>2.0</td>\n",
              "      <td>NaN</td>\n",
              "    </tr>\n",
              "    <tr>\n",
              "      <th>b</th>\n",
              "      <td>7.0</td>\n",
              "      <td>-3.0</td>\n",
              "    </tr>\n",
              "    <tr>\n",
              "      <th>c</th>\n",
              "      <td>NaN</td>\n",
              "      <td>NaN</td>\n",
              "    </tr>\n",
              "    <tr>\n",
              "      <th>d</th>\n",
              "      <td>1.0</td>\n",
              "      <td>-2.0</td>\n",
              "    </tr>\n",
              "  </tbody>\n",
              "</table>\n",
              "</div>"
            ],
            "text/plain": [
              "   one  two\n",
              "a  2.0  NaN\n",
              "b  7.0 -3.0\n",
              "c  NaN  NaN\n",
              "d  1.0 -2.0"
            ]
          },
          "metadata": {}
        }
      ]
    },
    {
      "cell_type": "code",
      "metadata": {
        "colab": {
          "base_uri": "https://localhost:8080/",
          "height": 252
        },
        "id": "iKXNbOqTOZa5",
        "outputId": "89e73f09-0478-4df8-c5d1-6f6898fa0a96"
      },
      "source": [
        "# dropna\n",
        "\n",
        "new_df1 = df.dropna(how='any', axis=0)\n",
        "display(new_df1)\n",
        "\n",
        "new_df2 = df.dropna(how='any', axis=1)\n",
        "display(new_df2)"
      ],
      "execution_count": 196,
      "outputs": [
        {
          "output_type": "display_data",
          "data": {
            "text/html": [
              "<div>\n",
              "<style scoped>\n",
              "    .dataframe tbody tr th:only-of-type {\n",
              "        vertical-align: middle;\n",
              "    }\n",
              "\n",
              "    .dataframe tbody tr th {\n",
              "        vertical-align: top;\n",
              "    }\n",
              "\n",
              "    .dataframe thead th {\n",
              "        text-align: right;\n",
              "    }\n",
              "</style>\n",
              "<table border=\"1\" class=\"dataframe\">\n",
              "  <thead>\n",
              "    <tr style=\"text-align: right;\">\n",
              "      <th></th>\n",
              "      <th>one</th>\n",
              "      <th>two</th>\n",
              "    </tr>\n",
              "  </thead>\n",
              "  <tbody>\n",
              "    <tr>\n",
              "      <th>b</th>\n",
              "      <td>7.0</td>\n",
              "      <td>-3.0</td>\n",
              "    </tr>\n",
              "    <tr>\n",
              "      <th>d</th>\n",
              "      <td>1.0</td>\n",
              "      <td>-2.0</td>\n",
              "    </tr>\n",
              "  </tbody>\n",
              "</table>\n",
              "</div>"
            ],
            "text/plain": [
              "   one  two\n",
              "b  7.0 -3.0\n",
              "d  1.0 -2.0"
            ]
          },
          "metadata": {}
        },
        {
          "output_type": "display_data",
          "data": {
            "text/html": [
              "<div>\n",
              "<style scoped>\n",
              "    .dataframe tbody tr th:only-of-type {\n",
              "        vertical-align: middle;\n",
              "    }\n",
              "\n",
              "    .dataframe tbody tr th {\n",
              "        vertical-align: top;\n",
              "    }\n",
              "\n",
              "    .dataframe thead th {\n",
              "        text-align: right;\n",
              "    }\n",
              "</style>\n",
              "<table border=\"1\" class=\"dataframe\">\n",
              "  <thead>\n",
              "    <tr style=\"text-align: right;\">\n",
              "      <th></th>\n",
              "    </tr>\n",
              "  </thead>\n",
              "  <tbody>\n",
              "    <tr>\n",
              "      <th>a</th>\n",
              "    </tr>\n",
              "    <tr>\n",
              "      <th>b</th>\n",
              "    </tr>\n",
              "    <tr>\n",
              "      <th>c</th>\n",
              "    </tr>\n",
              "    <tr>\n",
              "      <th>d</th>\n",
              "    </tr>\n",
              "  </tbody>\n",
              "</table>\n",
              "</div>"
            ],
            "text/plain": [
              "Empty DataFrame\n",
              "Columns: []\n",
              "Index: [a, b, c, d]"
            ]
          },
          "metadata": {}
        }
      ]
    },
    {
      "cell_type": "code",
      "metadata": {
        "colab": {
          "base_uri": "https://localhost:8080/",
          "height": 175
        },
        "id": "dyBqISUkGOct",
        "outputId": "6d5d75f4-c710-41c2-fc7f-564fff53faed"
      },
      "source": [
        "df"
      ],
      "execution_count": 101,
      "outputs": [
        {
          "output_type": "execute_result",
          "data": {
            "text/html": [
              "<div>\n",
              "<style scoped>\n",
              "    .dataframe tbody tr th:only-of-type {\n",
              "        vertical-align: middle;\n",
              "    }\n",
              "\n",
              "    .dataframe tbody tr th {\n",
              "        vertical-align: top;\n",
              "    }\n",
              "\n",
              "    .dataframe thead th {\n",
              "        text-align: right;\n",
              "    }\n",
              "</style>\n",
              "<table border=\"1\" class=\"dataframe\">\n",
              "  <thead>\n",
              "    <tr style=\"text-align: right;\">\n",
              "      <th></th>\n",
              "      <th>one</th>\n",
              "      <th>two</th>\n",
              "    </tr>\n",
              "  </thead>\n",
              "  <tbody>\n",
              "    <tr>\n",
              "      <th>a</th>\n",
              "      <td>2.0</td>\n",
              "      <td>NaN</td>\n",
              "    </tr>\n",
              "    <tr>\n",
              "      <th>b</th>\n",
              "      <td>7.0</td>\n",
              "      <td>-3.0</td>\n",
              "    </tr>\n",
              "    <tr>\n",
              "      <th>c</th>\n",
              "      <td>NaN</td>\n",
              "      <td>NaN</td>\n",
              "    </tr>\n",
              "    <tr>\n",
              "      <th>d</th>\n",
              "      <td>1.0</td>\n",
              "      <td>-2.0</td>\n",
              "    </tr>\n",
              "  </tbody>\n",
              "</table>\n",
              "</div>"
            ],
            "text/plain": [
              "   one  two\n",
              "a  2.0  NaN\n",
              "b  7.0 -3.0\n",
              "c  NaN  NaN\n",
              "d  1.0 -2.0"
            ]
          },
          "metadata": {},
          "execution_count": 101
        }
      ]
    },
    {
      "cell_type": "code",
      "metadata": {
        "colab": {
          "base_uri": "https://localhost:8080/",
          "height": 332
        },
        "id": "RepS0OQlOisY",
        "outputId": "c2f5fc5f-fe84-4daa-c677-d0d11e7704c7"
      },
      "source": [
        "# fillna\n",
        "\n",
        "df['one'] = df['one'].fillna(value=df['one'].min())\n",
        "display(df)\n",
        "\n",
        "df['two'] = df['two'].fillna(value=df['two'].max())\n",
        "display(df)"
      ],
      "execution_count": 102,
      "outputs": [
        {
          "output_type": "display_data",
          "data": {
            "text/html": [
              "<div>\n",
              "<style scoped>\n",
              "    .dataframe tbody tr th:only-of-type {\n",
              "        vertical-align: middle;\n",
              "    }\n",
              "\n",
              "    .dataframe tbody tr th {\n",
              "        vertical-align: top;\n",
              "    }\n",
              "\n",
              "    .dataframe thead th {\n",
              "        text-align: right;\n",
              "    }\n",
              "</style>\n",
              "<table border=\"1\" class=\"dataframe\">\n",
              "  <thead>\n",
              "    <tr style=\"text-align: right;\">\n",
              "      <th></th>\n",
              "      <th>one</th>\n",
              "      <th>two</th>\n",
              "    </tr>\n",
              "  </thead>\n",
              "  <tbody>\n",
              "    <tr>\n",
              "      <th>a</th>\n",
              "      <td>2.0</td>\n",
              "      <td>NaN</td>\n",
              "    </tr>\n",
              "    <tr>\n",
              "      <th>b</th>\n",
              "      <td>7.0</td>\n",
              "      <td>-3.0</td>\n",
              "    </tr>\n",
              "    <tr>\n",
              "      <th>c</th>\n",
              "      <td>1.0</td>\n",
              "      <td>NaN</td>\n",
              "    </tr>\n",
              "    <tr>\n",
              "      <th>d</th>\n",
              "      <td>1.0</td>\n",
              "      <td>-2.0</td>\n",
              "    </tr>\n",
              "  </tbody>\n",
              "</table>\n",
              "</div>"
            ],
            "text/plain": [
              "   one  two\n",
              "a  2.0  NaN\n",
              "b  7.0 -3.0\n",
              "c  1.0  NaN\n",
              "d  1.0 -2.0"
            ]
          },
          "metadata": {}
        },
        {
          "output_type": "display_data",
          "data": {
            "text/html": [
              "<div>\n",
              "<style scoped>\n",
              "    .dataframe tbody tr th:only-of-type {\n",
              "        vertical-align: middle;\n",
              "    }\n",
              "\n",
              "    .dataframe tbody tr th {\n",
              "        vertical-align: top;\n",
              "    }\n",
              "\n",
              "    .dataframe thead th {\n",
              "        text-align: right;\n",
              "    }\n",
              "</style>\n",
              "<table border=\"1\" class=\"dataframe\">\n",
              "  <thead>\n",
              "    <tr style=\"text-align: right;\">\n",
              "      <th></th>\n",
              "      <th>one</th>\n",
              "      <th>two</th>\n",
              "    </tr>\n",
              "  </thead>\n",
              "  <tbody>\n",
              "    <tr>\n",
              "      <th>a</th>\n",
              "      <td>2.0</td>\n",
              "      <td>-2.0</td>\n",
              "    </tr>\n",
              "    <tr>\n",
              "      <th>b</th>\n",
              "      <td>7.0</td>\n",
              "      <td>-3.0</td>\n",
              "    </tr>\n",
              "    <tr>\n",
              "      <th>c</th>\n",
              "      <td>1.0</td>\n",
              "      <td>-2.0</td>\n",
              "    </tr>\n",
              "    <tr>\n",
              "      <th>d</th>\n",
              "      <td>1.0</td>\n",
              "      <td>-2.0</td>\n",
              "    </tr>\n",
              "  </tbody>\n",
              "</table>\n",
              "</div>"
            ],
            "text/plain": [
              "   one  two\n",
              "a  2.0 -2.0\n",
              "b  7.0 -3.0\n",
              "c  1.0 -2.0\n",
              "d  1.0 -2.0"
            ]
          },
          "metadata": {}
        }
      ]
    },
    {
      "cell_type": "code",
      "metadata": {
        "colab": {
          "base_uri": "https://localhost:8080/",
          "height": 236
        },
        "id": "it9wzBvSOpGi",
        "outputId": "87ab97e1-e761-4ac6-aa67-3e285b619c40"
      },
      "source": [
        "# df.replace()\n",
        "\n",
        "np.random.seed(1)\n",
        "arr = np.random.randint(0,10,(6,4))\n",
        "df = pd.DataFrame(arr)\n",
        "\n",
        "df.columns = ['A','B', 'C','D']\n",
        "df.index = pd.date_range('20200101','20200106')\n",
        "\n",
        "df['E'] = [7, np.nan, 4, np.nan, 2, np.nan]\n",
        "\n",
        "display(df.replace(np.nan, -100))\n",
        "# ==> NaN 값을 찾아서 -100으로 바꿔주세요."
      ],
      "execution_count": 198,
      "outputs": [
        {
          "output_type": "display_data",
          "data": {
            "text/html": [
              "<div>\n",
              "<style scoped>\n",
              "    .dataframe tbody tr th:only-of-type {\n",
              "        vertical-align: middle;\n",
              "    }\n",
              "\n",
              "    .dataframe tbody tr th {\n",
              "        vertical-align: top;\n",
              "    }\n",
              "\n",
              "    .dataframe thead th {\n",
              "        text-align: right;\n",
              "    }\n",
              "</style>\n",
              "<table border=\"1\" class=\"dataframe\">\n",
              "  <thead>\n",
              "    <tr style=\"text-align: right;\">\n",
              "      <th></th>\n",
              "      <th>A</th>\n",
              "      <th>B</th>\n",
              "      <th>C</th>\n",
              "      <th>D</th>\n",
              "      <th>E</th>\n",
              "    </tr>\n",
              "  </thead>\n",
              "  <tbody>\n",
              "    <tr>\n",
              "      <th>2020-01-01</th>\n",
              "      <td>5</td>\n",
              "      <td>8</td>\n",
              "      <td>9</td>\n",
              "      <td>5</td>\n",
              "      <td>7.0</td>\n",
              "    </tr>\n",
              "    <tr>\n",
              "      <th>2020-01-02</th>\n",
              "      <td>0</td>\n",
              "      <td>0</td>\n",
              "      <td>1</td>\n",
              "      <td>7</td>\n",
              "      <td>-100.0</td>\n",
              "    </tr>\n",
              "    <tr>\n",
              "      <th>2020-01-03</th>\n",
              "      <td>6</td>\n",
              "      <td>9</td>\n",
              "      <td>2</td>\n",
              "      <td>4</td>\n",
              "      <td>4.0</td>\n",
              "    </tr>\n",
              "    <tr>\n",
              "      <th>2020-01-04</th>\n",
              "      <td>5</td>\n",
              "      <td>2</td>\n",
              "      <td>4</td>\n",
              "      <td>2</td>\n",
              "      <td>-100.0</td>\n",
              "    </tr>\n",
              "    <tr>\n",
              "      <th>2020-01-05</th>\n",
              "      <td>4</td>\n",
              "      <td>7</td>\n",
              "      <td>7</td>\n",
              "      <td>9</td>\n",
              "      <td>2.0</td>\n",
              "    </tr>\n",
              "    <tr>\n",
              "      <th>2020-01-06</th>\n",
              "      <td>1</td>\n",
              "      <td>7</td>\n",
              "      <td>0</td>\n",
              "      <td>6</td>\n",
              "      <td>-100.0</td>\n",
              "    </tr>\n",
              "  </tbody>\n",
              "</table>\n",
              "</div>"
            ],
            "text/plain": [
              "            A  B  C  D      E\n",
              "2020-01-01  5  8  9  5    7.0\n",
              "2020-01-02  0  0  1  7 -100.0\n",
              "2020-01-03  6  9  2  4    4.0\n",
              "2020-01-04  5  2  4  2 -100.0\n",
              "2020-01-05  4  7  7  9    2.0\n",
              "2020-01-06  1  7  0  6 -100.0"
            ]
          },
          "metadata": {}
        }
      ]
    },
    {
      "cell_type": "code",
      "metadata": {
        "colab": {
          "base_uri": "https://localhost:8080/",
          "height": 236
        },
        "id": "l1mW6a20GlSE",
        "outputId": "8d81d3c6-25fb-4c42-e530-a01b4b845292"
      },
      "source": [
        "np.random.seed(1)\n",
        "arr = np.random.randint(0,10,(6,4))\n",
        "df = pd.DataFrame(arr)\n",
        "\n",
        "df.columns = ['A','B', 'C','D']\n",
        "df.index = pd.date_range('20200101','20200106')\n",
        "\n",
        "df['E'] = [7, np.nan, 4, np.nan, 2, np.nan]\n",
        "df"
      ],
      "execution_count": 103,
      "outputs": [
        {
          "output_type": "execute_result",
          "data": {
            "text/html": [
              "<div>\n",
              "<style scoped>\n",
              "    .dataframe tbody tr th:only-of-type {\n",
              "        vertical-align: middle;\n",
              "    }\n",
              "\n",
              "    .dataframe tbody tr th {\n",
              "        vertical-align: top;\n",
              "    }\n",
              "\n",
              "    .dataframe thead th {\n",
              "        text-align: right;\n",
              "    }\n",
              "</style>\n",
              "<table border=\"1\" class=\"dataframe\">\n",
              "  <thead>\n",
              "    <tr style=\"text-align: right;\">\n",
              "      <th></th>\n",
              "      <th>A</th>\n",
              "      <th>B</th>\n",
              "      <th>C</th>\n",
              "      <th>D</th>\n",
              "      <th>E</th>\n",
              "    </tr>\n",
              "  </thead>\n",
              "  <tbody>\n",
              "    <tr>\n",
              "      <th>2020-01-01</th>\n",
              "      <td>5</td>\n",
              "      <td>8</td>\n",
              "      <td>9</td>\n",
              "      <td>5</td>\n",
              "      <td>7.0</td>\n",
              "    </tr>\n",
              "    <tr>\n",
              "      <th>2020-01-02</th>\n",
              "      <td>0</td>\n",
              "      <td>0</td>\n",
              "      <td>1</td>\n",
              "      <td>7</td>\n",
              "      <td>NaN</td>\n",
              "    </tr>\n",
              "    <tr>\n",
              "      <th>2020-01-03</th>\n",
              "      <td>6</td>\n",
              "      <td>9</td>\n",
              "      <td>2</td>\n",
              "      <td>4</td>\n",
              "      <td>4.0</td>\n",
              "    </tr>\n",
              "    <tr>\n",
              "      <th>2020-01-04</th>\n",
              "      <td>5</td>\n",
              "      <td>2</td>\n",
              "      <td>4</td>\n",
              "      <td>2</td>\n",
              "      <td>NaN</td>\n",
              "    </tr>\n",
              "    <tr>\n",
              "      <th>2020-01-05</th>\n",
              "      <td>4</td>\n",
              "      <td>7</td>\n",
              "      <td>7</td>\n",
              "      <td>9</td>\n",
              "      <td>2.0</td>\n",
              "    </tr>\n",
              "    <tr>\n",
              "      <th>2020-01-06</th>\n",
              "      <td>1</td>\n",
              "      <td>7</td>\n",
              "      <td>0</td>\n",
              "      <td>6</td>\n",
              "      <td>NaN</td>\n",
              "    </tr>\n",
              "  </tbody>\n",
              "</table>\n",
              "</div>"
            ],
            "text/plain": [
              "            A  B  C  D    E\n",
              "2020-01-01  5  8  9  5  7.0\n",
              "2020-01-02  0  0  1  7  NaN\n",
              "2020-01-03  6  9  2  4  4.0\n",
              "2020-01-04  5  2  4  2  NaN\n",
              "2020-01-05  4  7  7  9  2.0\n",
              "2020-01-06  1  7  0  6  NaN"
            ]
          },
          "metadata": {},
          "execution_count": 103
        }
      ]
    },
    {
      "cell_type": "code",
      "metadata": {
        "colab": {
          "base_uri": "https://localhost:8080/",
          "height": 236
        },
        "id": "5AjVNL-xGt0O",
        "outputId": "899a64a9-d122-4079-e2c1-91d432dbdbf1"
      },
      "source": [
        "display(df.replace(np.nan, 10))"
      ],
      "execution_count": 104,
      "outputs": [
        {
          "output_type": "display_data",
          "data": {
            "text/html": [
              "<div>\n",
              "<style scoped>\n",
              "    .dataframe tbody tr th:only-of-type {\n",
              "        vertical-align: middle;\n",
              "    }\n",
              "\n",
              "    .dataframe tbody tr th {\n",
              "        vertical-align: top;\n",
              "    }\n",
              "\n",
              "    .dataframe thead th {\n",
              "        text-align: right;\n",
              "    }\n",
              "</style>\n",
              "<table border=\"1\" class=\"dataframe\">\n",
              "  <thead>\n",
              "    <tr style=\"text-align: right;\">\n",
              "      <th></th>\n",
              "      <th>A</th>\n",
              "      <th>B</th>\n",
              "      <th>C</th>\n",
              "      <th>D</th>\n",
              "      <th>E</th>\n",
              "    </tr>\n",
              "  </thead>\n",
              "  <tbody>\n",
              "    <tr>\n",
              "      <th>2020-01-01</th>\n",
              "      <td>5</td>\n",
              "      <td>8</td>\n",
              "      <td>9</td>\n",
              "      <td>5</td>\n",
              "      <td>7.0</td>\n",
              "    </tr>\n",
              "    <tr>\n",
              "      <th>2020-01-02</th>\n",
              "      <td>0</td>\n",
              "      <td>0</td>\n",
              "      <td>1</td>\n",
              "      <td>7</td>\n",
              "      <td>10.0</td>\n",
              "    </tr>\n",
              "    <tr>\n",
              "      <th>2020-01-03</th>\n",
              "      <td>6</td>\n",
              "      <td>9</td>\n",
              "      <td>2</td>\n",
              "      <td>4</td>\n",
              "      <td>4.0</td>\n",
              "    </tr>\n",
              "    <tr>\n",
              "      <th>2020-01-04</th>\n",
              "      <td>5</td>\n",
              "      <td>2</td>\n",
              "      <td>4</td>\n",
              "      <td>2</td>\n",
              "      <td>10.0</td>\n",
              "    </tr>\n",
              "    <tr>\n",
              "      <th>2020-01-05</th>\n",
              "      <td>4</td>\n",
              "      <td>7</td>\n",
              "      <td>7</td>\n",
              "      <td>9</td>\n",
              "      <td>2.0</td>\n",
              "    </tr>\n",
              "    <tr>\n",
              "      <th>2020-01-06</th>\n",
              "      <td>1</td>\n",
              "      <td>7</td>\n",
              "      <td>0</td>\n",
              "      <td>6</td>\n",
              "      <td>10.0</td>\n",
              "    </tr>\n",
              "  </tbody>\n",
              "</table>\n",
              "</div>"
            ],
            "text/plain": [
              "            A  B  C  D     E\n",
              "2020-01-01  5  8  9  5   7.0\n",
              "2020-01-02  0  0  1  7  10.0\n",
              "2020-01-03  6  9  2  4   4.0\n",
              "2020-01-04  5  2  4  2  10.0\n",
              "2020-01-05  4  7  7  9   2.0\n",
              "2020-01-06  1  7  0  6  10.0"
            ]
          },
          "metadata": {}
        }
      ]
    },
    {
      "cell_type": "markdown",
      "metadata": {
        "id": "x-GGgDxpORaY"
      },
      "source": [
        "### DataFrame 정렬"
      ]
    },
    {
      "cell_type": "code",
      "metadata": {
        "colab": {
          "base_uri": "https://localhost:8080/",
          "height": 309
        },
        "id": "JyvcZZKeVYjN",
        "outputId": "7caff36d-677d-4500-ce9f-495871c9c161"
      },
      "source": [
        "df = pd.DataFrame(np.random.randint(0,10,(6,4)))\n",
        "df.columns = ['A', 'B', 'C', 'D']\n",
        "df.index = pd.date_range('20200101', periods=6)\n",
        "display(df)\n",
        "\n",
        "new_index = np.random.permutation(df.index)\n",
        "new_index"
      ],
      "execution_count": 199,
      "outputs": [
        {
          "output_type": "display_data",
          "data": {
            "text/html": [
              "<div>\n",
              "<style scoped>\n",
              "    .dataframe tbody tr th:only-of-type {\n",
              "        vertical-align: middle;\n",
              "    }\n",
              "\n",
              "    .dataframe tbody tr th {\n",
              "        vertical-align: top;\n",
              "    }\n",
              "\n",
              "    .dataframe thead th {\n",
              "        text-align: right;\n",
              "    }\n",
              "</style>\n",
              "<table border=\"1\" class=\"dataframe\">\n",
              "  <thead>\n",
              "    <tr style=\"text-align: right;\">\n",
              "      <th></th>\n",
              "      <th>A</th>\n",
              "      <th>B</th>\n",
              "      <th>C</th>\n",
              "      <th>D</th>\n",
              "    </tr>\n",
              "  </thead>\n",
              "  <tbody>\n",
              "    <tr>\n",
              "      <th>2020-01-01</th>\n",
              "      <td>9</td>\n",
              "      <td>9</td>\n",
              "      <td>7</td>\n",
              "      <td>6</td>\n",
              "    </tr>\n",
              "    <tr>\n",
              "      <th>2020-01-02</th>\n",
              "      <td>9</td>\n",
              "      <td>1</td>\n",
              "      <td>0</td>\n",
              "      <td>1</td>\n",
              "    </tr>\n",
              "    <tr>\n",
              "      <th>2020-01-03</th>\n",
              "      <td>8</td>\n",
              "      <td>8</td>\n",
              "      <td>3</td>\n",
              "      <td>9</td>\n",
              "    </tr>\n",
              "    <tr>\n",
              "      <th>2020-01-04</th>\n",
              "      <td>8</td>\n",
              "      <td>7</td>\n",
              "      <td>3</td>\n",
              "      <td>6</td>\n",
              "    </tr>\n",
              "    <tr>\n",
              "      <th>2020-01-05</th>\n",
              "      <td>5</td>\n",
              "      <td>1</td>\n",
              "      <td>9</td>\n",
              "      <td>3</td>\n",
              "    </tr>\n",
              "    <tr>\n",
              "      <th>2020-01-06</th>\n",
              "      <td>4</td>\n",
              "      <td>8</td>\n",
              "      <td>1</td>\n",
              "      <td>4</td>\n",
              "    </tr>\n",
              "  </tbody>\n",
              "</table>\n",
              "</div>"
            ],
            "text/plain": [
              "            A  B  C  D\n",
              "2020-01-01  9  9  7  6\n",
              "2020-01-02  9  1  0  1\n",
              "2020-01-03  8  8  3  9\n",
              "2020-01-04  8  7  3  6\n",
              "2020-01-05  5  1  9  3\n",
              "2020-01-06  4  8  1  4"
            ]
          },
          "metadata": {}
        },
        {
          "output_type": "execute_result",
          "data": {
            "text/plain": [
              "array(['2020-01-06T00:00:00.000000000', '2020-01-05T00:00:00.000000000',\n",
              "       '2020-01-03T00:00:00.000000000', '2020-01-02T00:00:00.000000000',\n",
              "       '2020-01-04T00:00:00.000000000', '2020-01-01T00:00:00.000000000'],\n",
              "      dtype='datetime64[ns]')"
            ]
          },
          "metadata": {},
          "execution_count": 199
        }
      ]
    },
    {
      "cell_type": "code",
      "metadata": {
        "colab": {
          "base_uri": "https://localhost:8080/",
          "height": 236
        },
        "id": "YHqurtg9G-vL",
        "outputId": "e3f4f248-55bf-4185-a9e2-4276dd809064"
      },
      "source": [
        "df = pd.DataFrame(np.random.randint(0,10,(6,4)))\n",
        "df.columns = ['A', 'B', 'C', 'D']\n",
        "df.index = pd.date_range('20200101', periods=6)\n",
        "display(df)"
      ],
      "execution_count": 105,
      "outputs": [
        {
          "output_type": "display_data",
          "data": {
            "text/html": [
              "<div>\n",
              "<style scoped>\n",
              "    .dataframe tbody tr th:only-of-type {\n",
              "        vertical-align: middle;\n",
              "    }\n",
              "\n",
              "    .dataframe tbody tr th {\n",
              "        vertical-align: top;\n",
              "    }\n",
              "\n",
              "    .dataframe thead th {\n",
              "        text-align: right;\n",
              "    }\n",
              "</style>\n",
              "<table border=\"1\" class=\"dataframe\">\n",
              "  <thead>\n",
              "    <tr style=\"text-align: right;\">\n",
              "      <th></th>\n",
              "      <th>A</th>\n",
              "      <th>B</th>\n",
              "      <th>C</th>\n",
              "      <th>D</th>\n",
              "    </tr>\n",
              "  </thead>\n",
              "  <tbody>\n",
              "    <tr>\n",
              "      <th>2020-01-01</th>\n",
              "      <td>9</td>\n",
              "      <td>9</td>\n",
              "      <td>7</td>\n",
              "      <td>6</td>\n",
              "    </tr>\n",
              "    <tr>\n",
              "      <th>2020-01-02</th>\n",
              "      <td>9</td>\n",
              "      <td>1</td>\n",
              "      <td>0</td>\n",
              "      <td>1</td>\n",
              "    </tr>\n",
              "    <tr>\n",
              "      <th>2020-01-03</th>\n",
              "      <td>8</td>\n",
              "      <td>8</td>\n",
              "      <td>3</td>\n",
              "      <td>9</td>\n",
              "    </tr>\n",
              "    <tr>\n",
              "      <th>2020-01-04</th>\n",
              "      <td>8</td>\n",
              "      <td>7</td>\n",
              "      <td>3</td>\n",
              "      <td>6</td>\n",
              "    </tr>\n",
              "    <tr>\n",
              "      <th>2020-01-05</th>\n",
              "      <td>5</td>\n",
              "      <td>1</td>\n",
              "      <td>9</td>\n",
              "      <td>3</td>\n",
              "    </tr>\n",
              "    <tr>\n",
              "      <th>2020-01-06</th>\n",
              "      <td>4</td>\n",
              "      <td>8</td>\n",
              "      <td>1</td>\n",
              "      <td>4</td>\n",
              "    </tr>\n",
              "  </tbody>\n",
              "</table>\n",
              "</div>"
            ],
            "text/plain": [
              "            A  B  C  D\n",
              "2020-01-01  9  9  7  6\n",
              "2020-01-02  9  1  0  1\n",
              "2020-01-03  8  8  3  9\n",
              "2020-01-04  8  7  3  6\n",
              "2020-01-05  5  1  9  3\n",
              "2020-01-06  4  8  1  4"
            ]
          },
          "metadata": {}
        }
      ]
    },
    {
      "cell_type": "code",
      "metadata": {
        "colab": {
          "base_uri": "https://localhost:8080/"
        },
        "id": "LZDbO4-BHCm_",
        "outputId": "1dc0645d-ad01-492f-aae6-352c627931e9"
      },
      "source": [
        "new_index = np.random.permutation(df.index)\n",
        "new_index"
      ],
      "execution_count": 106,
      "outputs": [
        {
          "output_type": "execute_result",
          "data": {
            "text/plain": [
              "array(['2020-01-06T00:00:00.000000000', '2020-01-05T00:00:00.000000000',\n",
              "       '2020-01-03T00:00:00.000000000', '2020-01-02T00:00:00.000000000',\n",
              "       '2020-01-04T00:00:00.000000000', '2020-01-01T00:00:00.000000000'],\n",
              "      dtype='datetime64[ns]')"
            ]
          },
          "metadata": {},
          "execution_count": 106
        }
      ]
    },
    {
      "cell_type": "code",
      "metadata": {
        "colab": {
          "base_uri": "https://localhost:8080/",
          "height": 236
        },
        "id": "yMYI8wiQVfNY",
        "outputId": "f28a8396-69d3-4cb2-8171-1dad289d7429"
      },
      "source": [
        "# ==> index 순서가 바꼈고, column 순서까지 바꼈다.\n",
        "df2 = df.reindex(index=new_index, columns=['B','A','D','C'])\n",
        "display(df2)"
      ],
      "execution_count": 107,
      "outputs": [
        {
          "output_type": "display_data",
          "data": {
            "text/html": [
              "<div>\n",
              "<style scoped>\n",
              "    .dataframe tbody tr th:only-of-type {\n",
              "        vertical-align: middle;\n",
              "    }\n",
              "\n",
              "    .dataframe tbody tr th {\n",
              "        vertical-align: top;\n",
              "    }\n",
              "\n",
              "    .dataframe thead th {\n",
              "        text-align: right;\n",
              "    }\n",
              "</style>\n",
              "<table border=\"1\" class=\"dataframe\">\n",
              "  <thead>\n",
              "    <tr style=\"text-align: right;\">\n",
              "      <th></th>\n",
              "      <th>B</th>\n",
              "      <th>A</th>\n",
              "      <th>D</th>\n",
              "      <th>C</th>\n",
              "    </tr>\n",
              "  </thead>\n",
              "  <tbody>\n",
              "    <tr>\n",
              "      <th>2020-01-06</th>\n",
              "      <td>8</td>\n",
              "      <td>4</td>\n",
              "      <td>4</td>\n",
              "      <td>1</td>\n",
              "    </tr>\n",
              "    <tr>\n",
              "      <th>2020-01-05</th>\n",
              "      <td>1</td>\n",
              "      <td>5</td>\n",
              "      <td>3</td>\n",
              "      <td>9</td>\n",
              "    </tr>\n",
              "    <tr>\n",
              "      <th>2020-01-03</th>\n",
              "      <td>8</td>\n",
              "      <td>8</td>\n",
              "      <td>9</td>\n",
              "      <td>3</td>\n",
              "    </tr>\n",
              "    <tr>\n",
              "      <th>2020-01-02</th>\n",
              "      <td>1</td>\n",
              "      <td>9</td>\n",
              "      <td>1</td>\n",
              "      <td>0</td>\n",
              "    </tr>\n",
              "    <tr>\n",
              "      <th>2020-01-04</th>\n",
              "      <td>7</td>\n",
              "      <td>8</td>\n",
              "      <td>6</td>\n",
              "      <td>3</td>\n",
              "    </tr>\n",
              "    <tr>\n",
              "      <th>2020-01-01</th>\n",
              "      <td>9</td>\n",
              "      <td>9</td>\n",
              "      <td>6</td>\n",
              "      <td>7</td>\n",
              "    </tr>\n",
              "  </tbody>\n",
              "</table>\n",
              "</div>"
            ],
            "text/plain": [
              "            B  A  D  C\n",
              "2020-01-06  8  4  4  1\n",
              "2020-01-05  1  5  3  9\n",
              "2020-01-03  8  8  9  3\n",
              "2020-01-02  1  9  1  0\n",
              "2020-01-04  7  8  6  3\n",
              "2020-01-01  9  9  6  7"
            ]
          },
          "metadata": {}
        }
      ]
    },
    {
      "cell_type": "code",
      "metadata": {
        "colab": {
          "base_uri": "https://localhost:8080/",
          "height": 236
        },
        "id": "uehP1QPUHWYl",
        "outputId": "ae3bfe84-7288-41e0-a10c-3eac879cd530"
      },
      "source": [
        "df2"
      ],
      "execution_count": 108,
      "outputs": [
        {
          "output_type": "execute_result",
          "data": {
            "text/html": [
              "<div>\n",
              "<style scoped>\n",
              "    .dataframe tbody tr th:only-of-type {\n",
              "        vertical-align: middle;\n",
              "    }\n",
              "\n",
              "    .dataframe tbody tr th {\n",
              "        vertical-align: top;\n",
              "    }\n",
              "\n",
              "    .dataframe thead th {\n",
              "        text-align: right;\n",
              "    }\n",
              "</style>\n",
              "<table border=\"1\" class=\"dataframe\">\n",
              "  <thead>\n",
              "    <tr style=\"text-align: right;\">\n",
              "      <th></th>\n",
              "      <th>B</th>\n",
              "      <th>A</th>\n",
              "      <th>D</th>\n",
              "      <th>C</th>\n",
              "    </tr>\n",
              "  </thead>\n",
              "  <tbody>\n",
              "    <tr>\n",
              "      <th>2020-01-06</th>\n",
              "      <td>8</td>\n",
              "      <td>4</td>\n",
              "      <td>4</td>\n",
              "      <td>1</td>\n",
              "    </tr>\n",
              "    <tr>\n",
              "      <th>2020-01-05</th>\n",
              "      <td>1</td>\n",
              "      <td>5</td>\n",
              "      <td>3</td>\n",
              "      <td>9</td>\n",
              "    </tr>\n",
              "    <tr>\n",
              "      <th>2020-01-03</th>\n",
              "      <td>8</td>\n",
              "      <td>8</td>\n",
              "      <td>9</td>\n",
              "      <td>3</td>\n",
              "    </tr>\n",
              "    <tr>\n",
              "      <th>2020-01-02</th>\n",
              "      <td>1</td>\n",
              "      <td>9</td>\n",
              "      <td>1</td>\n",
              "      <td>0</td>\n",
              "    </tr>\n",
              "    <tr>\n",
              "      <th>2020-01-04</th>\n",
              "      <td>7</td>\n",
              "      <td>8</td>\n",
              "      <td>6</td>\n",
              "      <td>3</td>\n",
              "    </tr>\n",
              "    <tr>\n",
              "      <th>2020-01-01</th>\n",
              "      <td>9</td>\n",
              "      <td>9</td>\n",
              "      <td>6</td>\n",
              "      <td>7</td>\n",
              "    </tr>\n",
              "  </tbody>\n",
              "</table>\n",
              "</div>"
            ],
            "text/plain": [
              "            B  A  D  C\n",
              "2020-01-06  8  4  4  1\n",
              "2020-01-05  1  5  3  9\n",
              "2020-01-03  8  8  9  3\n",
              "2020-01-02  1  9  1  0\n",
              "2020-01-04  7  8  6  3\n",
              "2020-01-01  9  9  6  7"
            ]
          },
          "metadata": {},
          "execution_count": 108
        }
      ]
    },
    {
      "cell_type": "code",
      "metadata": {
        "colab": {
          "base_uri": "https://localhost:8080/",
          "height": 236
        },
        "id": "zKZQhrEsHcNe",
        "outputId": "4deb5a50-2485-4e7d-9075-e5282f59a6f0"
      },
      "source": [
        "df2 = df2.sort_index(axis=0, ascending=True) \n",
        "display(df2)"
      ],
      "execution_count": 109,
      "outputs": [
        {
          "output_type": "display_data",
          "data": {
            "text/html": [
              "<div>\n",
              "<style scoped>\n",
              "    .dataframe tbody tr th:only-of-type {\n",
              "        vertical-align: middle;\n",
              "    }\n",
              "\n",
              "    .dataframe tbody tr th {\n",
              "        vertical-align: top;\n",
              "    }\n",
              "\n",
              "    .dataframe thead th {\n",
              "        text-align: right;\n",
              "    }\n",
              "</style>\n",
              "<table border=\"1\" class=\"dataframe\">\n",
              "  <thead>\n",
              "    <tr style=\"text-align: right;\">\n",
              "      <th></th>\n",
              "      <th>B</th>\n",
              "      <th>A</th>\n",
              "      <th>D</th>\n",
              "      <th>C</th>\n",
              "    </tr>\n",
              "  </thead>\n",
              "  <tbody>\n",
              "    <tr>\n",
              "      <th>2020-01-01</th>\n",
              "      <td>9</td>\n",
              "      <td>9</td>\n",
              "      <td>6</td>\n",
              "      <td>7</td>\n",
              "    </tr>\n",
              "    <tr>\n",
              "      <th>2020-01-02</th>\n",
              "      <td>1</td>\n",
              "      <td>9</td>\n",
              "      <td>1</td>\n",
              "      <td>0</td>\n",
              "    </tr>\n",
              "    <tr>\n",
              "      <th>2020-01-03</th>\n",
              "      <td>8</td>\n",
              "      <td>8</td>\n",
              "      <td>9</td>\n",
              "      <td>3</td>\n",
              "    </tr>\n",
              "    <tr>\n",
              "      <th>2020-01-04</th>\n",
              "      <td>7</td>\n",
              "      <td>8</td>\n",
              "      <td>6</td>\n",
              "      <td>3</td>\n",
              "    </tr>\n",
              "    <tr>\n",
              "      <th>2020-01-05</th>\n",
              "      <td>1</td>\n",
              "      <td>5</td>\n",
              "      <td>3</td>\n",
              "      <td>9</td>\n",
              "    </tr>\n",
              "    <tr>\n",
              "      <th>2020-01-06</th>\n",
              "      <td>8</td>\n",
              "      <td>4</td>\n",
              "      <td>4</td>\n",
              "      <td>1</td>\n",
              "    </tr>\n",
              "  </tbody>\n",
              "</table>\n",
              "</div>"
            ],
            "text/plain": [
              "            B  A  D  C\n",
              "2020-01-01  9  9  6  7\n",
              "2020-01-02  1  9  1  0\n",
              "2020-01-03  8  8  9  3\n",
              "2020-01-04  7  8  6  3\n",
              "2020-01-05  1  5  3  9\n",
              "2020-01-06  8  4  4  1"
            ]
          },
          "metadata": {}
        }
      ]
    },
    {
      "cell_type": "code",
      "metadata": {
        "colab": {
          "base_uri": "https://localhost:8080/",
          "height": 236
        },
        "id": "-4TND8ziHgpC",
        "outputId": "f69b7f37-a30a-4d81-9e9e-27f9ba08d791"
      },
      "source": [
        "df3 = df2.sort_index(axis=1, ascending=True)\n",
        "display(df3)"
      ],
      "execution_count": 110,
      "outputs": [
        {
          "output_type": "display_data",
          "data": {
            "text/html": [
              "<div>\n",
              "<style scoped>\n",
              "    .dataframe tbody tr th:only-of-type {\n",
              "        vertical-align: middle;\n",
              "    }\n",
              "\n",
              "    .dataframe tbody tr th {\n",
              "        vertical-align: top;\n",
              "    }\n",
              "\n",
              "    .dataframe thead th {\n",
              "        text-align: right;\n",
              "    }\n",
              "</style>\n",
              "<table border=\"1\" class=\"dataframe\">\n",
              "  <thead>\n",
              "    <tr style=\"text-align: right;\">\n",
              "      <th></th>\n",
              "      <th>A</th>\n",
              "      <th>B</th>\n",
              "      <th>C</th>\n",
              "      <th>D</th>\n",
              "    </tr>\n",
              "  </thead>\n",
              "  <tbody>\n",
              "    <tr>\n",
              "      <th>2020-01-01</th>\n",
              "      <td>9</td>\n",
              "      <td>9</td>\n",
              "      <td>7</td>\n",
              "      <td>6</td>\n",
              "    </tr>\n",
              "    <tr>\n",
              "      <th>2020-01-02</th>\n",
              "      <td>9</td>\n",
              "      <td>1</td>\n",
              "      <td>0</td>\n",
              "      <td>1</td>\n",
              "    </tr>\n",
              "    <tr>\n",
              "      <th>2020-01-03</th>\n",
              "      <td>8</td>\n",
              "      <td>8</td>\n",
              "      <td>3</td>\n",
              "      <td>9</td>\n",
              "    </tr>\n",
              "    <tr>\n",
              "      <th>2020-01-04</th>\n",
              "      <td>8</td>\n",
              "      <td>7</td>\n",
              "      <td>3</td>\n",
              "      <td>6</td>\n",
              "    </tr>\n",
              "    <tr>\n",
              "      <th>2020-01-05</th>\n",
              "      <td>5</td>\n",
              "      <td>1</td>\n",
              "      <td>9</td>\n",
              "      <td>3</td>\n",
              "    </tr>\n",
              "    <tr>\n",
              "      <th>2020-01-06</th>\n",
              "      <td>4</td>\n",
              "      <td>8</td>\n",
              "      <td>1</td>\n",
              "      <td>4</td>\n",
              "    </tr>\n",
              "  </tbody>\n",
              "</table>\n",
              "</div>"
            ],
            "text/plain": [
              "            A  B  C  D\n",
              "2020-01-01  9  9  7  6\n",
              "2020-01-02  9  1  0  1\n",
              "2020-01-03  8  8  3  9\n",
              "2020-01-04  8  7  3  6\n",
              "2020-01-05  5  1  9  3\n",
              "2020-01-06  4  8  1  4"
            ]
          },
          "metadata": {}
        }
      ]
    },
    {
      "cell_type": "code",
      "metadata": {
        "colab": {
          "base_uri": "https://localhost:8080/",
          "height": 456
        },
        "id": "UEZRSdwuWE9i",
        "outputId": "8f1c9f1a-8fda-4c7d-cbca-ede345a2c01a"
      },
      "source": [
        "# 정렬은 기본적으로 axis를 기준으로 정렬\n",
        "# index로 정렬!\n",
        "# pandas.Dataframe.sort_index()\n",
        "\n",
        "# ==> 행방향(세로)을 기준으로 오름차순!\n",
        "# ==> record의 index가 정렬(날짜)\n",
        "df2 = df2.sort_index(axis=0, ascending=True) \n",
        "display(df2)\n",
        "\n",
        "# ==> 열방향(가로)를 기준으로 오름차순\n",
        "# ==> column의 index가 정렬(A,B,C,D)\n",
        "df3 = df2.sort_index(axis=1, ascending=True)\n",
        "display(df3)"
      ],
      "execution_count": 201,
      "outputs": [
        {
          "output_type": "display_data",
          "data": {
            "text/html": [
              "<div>\n",
              "<style scoped>\n",
              "    .dataframe tbody tr th:only-of-type {\n",
              "        vertical-align: middle;\n",
              "    }\n",
              "\n",
              "    .dataframe tbody tr th {\n",
              "        vertical-align: top;\n",
              "    }\n",
              "\n",
              "    .dataframe thead th {\n",
              "        text-align: right;\n",
              "    }\n",
              "</style>\n",
              "<table border=\"1\" class=\"dataframe\">\n",
              "  <thead>\n",
              "    <tr style=\"text-align: right;\">\n",
              "      <th></th>\n",
              "      <th>B</th>\n",
              "      <th>A</th>\n",
              "      <th>D</th>\n",
              "      <th>C</th>\n",
              "    </tr>\n",
              "  </thead>\n",
              "  <tbody>\n",
              "    <tr>\n",
              "      <th>2020-01-01</th>\n",
              "      <td>9</td>\n",
              "      <td>9</td>\n",
              "      <td>6</td>\n",
              "      <td>7</td>\n",
              "    </tr>\n",
              "    <tr>\n",
              "      <th>2020-01-02</th>\n",
              "      <td>1</td>\n",
              "      <td>9</td>\n",
              "      <td>1</td>\n",
              "      <td>0</td>\n",
              "    </tr>\n",
              "    <tr>\n",
              "      <th>2020-01-03</th>\n",
              "      <td>8</td>\n",
              "      <td>8</td>\n",
              "      <td>9</td>\n",
              "      <td>3</td>\n",
              "    </tr>\n",
              "    <tr>\n",
              "      <th>2020-01-04</th>\n",
              "      <td>7</td>\n",
              "      <td>8</td>\n",
              "      <td>6</td>\n",
              "      <td>3</td>\n",
              "    </tr>\n",
              "    <tr>\n",
              "      <th>2020-01-05</th>\n",
              "      <td>1</td>\n",
              "      <td>5</td>\n",
              "      <td>3</td>\n",
              "      <td>9</td>\n",
              "    </tr>\n",
              "    <tr>\n",
              "      <th>2020-01-06</th>\n",
              "      <td>8</td>\n",
              "      <td>4</td>\n",
              "      <td>4</td>\n",
              "      <td>1</td>\n",
              "    </tr>\n",
              "  </tbody>\n",
              "</table>\n",
              "</div>"
            ],
            "text/plain": [
              "            B  A  D  C\n",
              "2020-01-01  9  9  6  7\n",
              "2020-01-02  1  9  1  0\n",
              "2020-01-03  8  8  9  3\n",
              "2020-01-04  7  8  6  3\n",
              "2020-01-05  1  5  3  9\n",
              "2020-01-06  8  4  4  1"
            ]
          },
          "metadata": {}
        },
        {
          "output_type": "display_data",
          "data": {
            "text/html": [
              "<div>\n",
              "<style scoped>\n",
              "    .dataframe tbody tr th:only-of-type {\n",
              "        vertical-align: middle;\n",
              "    }\n",
              "\n",
              "    .dataframe tbody tr th {\n",
              "        vertical-align: top;\n",
              "    }\n",
              "\n",
              "    .dataframe thead th {\n",
              "        text-align: right;\n",
              "    }\n",
              "</style>\n",
              "<table border=\"1\" class=\"dataframe\">\n",
              "  <thead>\n",
              "    <tr style=\"text-align: right;\">\n",
              "      <th></th>\n",
              "      <th>A</th>\n",
              "      <th>B</th>\n",
              "      <th>C</th>\n",
              "      <th>D</th>\n",
              "    </tr>\n",
              "  </thead>\n",
              "  <tbody>\n",
              "    <tr>\n",
              "      <th>2020-01-01</th>\n",
              "      <td>9</td>\n",
              "      <td>9</td>\n",
              "      <td>7</td>\n",
              "      <td>6</td>\n",
              "    </tr>\n",
              "    <tr>\n",
              "      <th>2020-01-02</th>\n",
              "      <td>9</td>\n",
              "      <td>1</td>\n",
              "      <td>0</td>\n",
              "      <td>1</td>\n",
              "    </tr>\n",
              "    <tr>\n",
              "      <th>2020-01-03</th>\n",
              "      <td>8</td>\n",
              "      <td>8</td>\n",
              "      <td>3</td>\n",
              "      <td>9</td>\n",
              "    </tr>\n",
              "    <tr>\n",
              "      <th>2020-01-04</th>\n",
              "      <td>8</td>\n",
              "      <td>7</td>\n",
              "      <td>3</td>\n",
              "      <td>6</td>\n",
              "    </tr>\n",
              "    <tr>\n",
              "      <th>2020-01-05</th>\n",
              "      <td>5</td>\n",
              "      <td>1</td>\n",
              "      <td>9</td>\n",
              "      <td>3</td>\n",
              "    </tr>\n",
              "    <tr>\n",
              "      <th>2020-01-06</th>\n",
              "      <td>4</td>\n",
              "      <td>8</td>\n",
              "      <td>1</td>\n",
              "      <td>4</td>\n",
              "    </tr>\n",
              "  </tbody>\n",
              "</table>\n",
              "</div>"
            ],
            "text/plain": [
              "            A  B  C  D\n",
              "2020-01-01  9  9  7  6\n",
              "2020-01-02  9  1  0  1\n",
              "2020-01-03  8  8  3  9\n",
              "2020-01-04  8  7  3  6\n",
              "2020-01-05  5  1  9  3\n",
              "2020-01-06  4  8  1  4"
            ]
          },
          "metadata": {}
        }
      ]
    },
    {
      "cell_type": "code",
      "metadata": {
        "colab": {
          "base_uri": "https://localhost:8080/",
          "height": 236
        },
        "id": "6nvEndUiWI0p",
        "outputId": "ae5a33f4-96f4-4008-f665-721d7bc74e21"
      },
      "source": [
        "# 특정 column의 `값`을 정렬!\n",
        "\n",
        "display(df2.sort_values(by=['B','A'])) \n",
        "# ==> B column을 우선 기준으로 값을 정렬하고\n",
        "# ==> B column의 값이 동률이면, 다음'A' column 값을 기준으로 정렬한다."
      ],
      "execution_count": 202,
      "outputs": [
        {
          "output_type": "display_data",
          "data": {
            "text/html": [
              "<div>\n",
              "<style scoped>\n",
              "    .dataframe tbody tr th:only-of-type {\n",
              "        vertical-align: middle;\n",
              "    }\n",
              "\n",
              "    .dataframe tbody tr th {\n",
              "        vertical-align: top;\n",
              "    }\n",
              "\n",
              "    .dataframe thead th {\n",
              "        text-align: right;\n",
              "    }\n",
              "</style>\n",
              "<table border=\"1\" class=\"dataframe\">\n",
              "  <thead>\n",
              "    <tr style=\"text-align: right;\">\n",
              "      <th></th>\n",
              "      <th>B</th>\n",
              "      <th>A</th>\n",
              "      <th>D</th>\n",
              "      <th>C</th>\n",
              "    </tr>\n",
              "  </thead>\n",
              "  <tbody>\n",
              "    <tr>\n",
              "      <th>2020-01-05</th>\n",
              "      <td>1</td>\n",
              "      <td>5</td>\n",
              "      <td>3</td>\n",
              "      <td>9</td>\n",
              "    </tr>\n",
              "    <tr>\n",
              "      <th>2020-01-02</th>\n",
              "      <td>1</td>\n",
              "      <td>9</td>\n",
              "      <td>1</td>\n",
              "      <td>0</td>\n",
              "    </tr>\n",
              "    <tr>\n",
              "      <th>2020-01-04</th>\n",
              "      <td>7</td>\n",
              "      <td>8</td>\n",
              "      <td>6</td>\n",
              "      <td>3</td>\n",
              "    </tr>\n",
              "    <tr>\n",
              "      <th>2020-01-06</th>\n",
              "      <td>8</td>\n",
              "      <td>4</td>\n",
              "      <td>4</td>\n",
              "      <td>1</td>\n",
              "    </tr>\n",
              "    <tr>\n",
              "      <th>2020-01-03</th>\n",
              "      <td>8</td>\n",
              "      <td>8</td>\n",
              "      <td>9</td>\n",
              "      <td>3</td>\n",
              "    </tr>\n",
              "    <tr>\n",
              "      <th>2020-01-01</th>\n",
              "      <td>9</td>\n",
              "      <td>9</td>\n",
              "      <td>6</td>\n",
              "      <td>7</td>\n",
              "    </tr>\n",
              "  </tbody>\n",
              "</table>\n",
              "</div>"
            ],
            "text/plain": [
              "            B  A  D  C\n",
              "2020-01-05  1  5  3  9\n",
              "2020-01-02  1  9  1  0\n",
              "2020-01-04  7  8  6  3\n",
              "2020-01-06  8  4  4  1\n",
              "2020-01-03  8  8  9  3\n",
              "2020-01-01  9  9  6  7"
            ]
          },
          "metadata": {}
        }
      ]
    },
    {
      "cell_type": "markdown",
      "metadata": {
        "id": "EF7MxqqvWXY6"
      },
      "source": [
        "### 기타 함수 - .unique() / .value_counts / .isin()"
      ]
    },
    {
      "cell_type": "code",
      "metadata": {
        "colab": {
          "base_uri": "https://localhost:8080/",
          "height": 456
        },
        "id": "-oTB82XvWZji",
        "outputId": "c384329c-bb4c-4cac-fd2f-58c188fdad57"
      },
      "source": [
        "# .unique()\n",
        "np.random.seed(1)\n",
        "df = pd.DataFrame(np.random.randint(0,10,(6,4)))\n",
        "df.columns = ['A', 'B', 'C', 'D']\n",
        "df.index = pd.date_range('20200101',periods = 6)\n",
        "display(df)\n",
        "\n",
        "df['E'] = ['AA','BB','CC','CC','AA','CC']\n",
        "display(df)"
      ],
      "execution_count": 111,
      "outputs": [
        {
          "output_type": "display_data",
          "data": {
            "text/html": [
              "<div>\n",
              "<style scoped>\n",
              "    .dataframe tbody tr th:only-of-type {\n",
              "        vertical-align: middle;\n",
              "    }\n",
              "\n",
              "    .dataframe tbody tr th {\n",
              "        vertical-align: top;\n",
              "    }\n",
              "\n",
              "    .dataframe thead th {\n",
              "        text-align: right;\n",
              "    }\n",
              "</style>\n",
              "<table border=\"1\" class=\"dataframe\">\n",
              "  <thead>\n",
              "    <tr style=\"text-align: right;\">\n",
              "      <th></th>\n",
              "      <th>A</th>\n",
              "      <th>B</th>\n",
              "      <th>C</th>\n",
              "      <th>D</th>\n",
              "    </tr>\n",
              "  </thead>\n",
              "  <tbody>\n",
              "    <tr>\n",
              "      <th>2020-01-01</th>\n",
              "      <td>5</td>\n",
              "      <td>8</td>\n",
              "      <td>9</td>\n",
              "      <td>5</td>\n",
              "    </tr>\n",
              "    <tr>\n",
              "      <th>2020-01-02</th>\n",
              "      <td>0</td>\n",
              "      <td>0</td>\n",
              "      <td>1</td>\n",
              "      <td>7</td>\n",
              "    </tr>\n",
              "    <tr>\n",
              "      <th>2020-01-03</th>\n",
              "      <td>6</td>\n",
              "      <td>9</td>\n",
              "      <td>2</td>\n",
              "      <td>4</td>\n",
              "    </tr>\n",
              "    <tr>\n",
              "      <th>2020-01-04</th>\n",
              "      <td>5</td>\n",
              "      <td>2</td>\n",
              "      <td>4</td>\n",
              "      <td>2</td>\n",
              "    </tr>\n",
              "    <tr>\n",
              "      <th>2020-01-05</th>\n",
              "      <td>4</td>\n",
              "      <td>7</td>\n",
              "      <td>7</td>\n",
              "      <td>9</td>\n",
              "    </tr>\n",
              "    <tr>\n",
              "      <th>2020-01-06</th>\n",
              "      <td>1</td>\n",
              "      <td>7</td>\n",
              "      <td>0</td>\n",
              "      <td>6</td>\n",
              "    </tr>\n",
              "  </tbody>\n",
              "</table>\n",
              "</div>"
            ],
            "text/plain": [
              "            A  B  C  D\n",
              "2020-01-01  5  8  9  5\n",
              "2020-01-02  0  0  1  7\n",
              "2020-01-03  6  9  2  4\n",
              "2020-01-04  5  2  4  2\n",
              "2020-01-05  4  7  7  9\n",
              "2020-01-06  1  7  0  6"
            ]
          },
          "metadata": {}
        },
        {
          "output_type": "display_data",
          "data": {
            "text/html": [
              "<div>\n",
              "<style scoped>\n",
              "    .dataframe tbody tr th:only-of-type {\n",
              "        vertical-align: middle;\n",
              "    }\n",
              "\n",
              "    .dataframe tbody tr th {\n",
              "        vertical-align: top;\n",
              "    }\n",
              "\n",
              "    .dataframe thead th {\n",
              "        text-align: right;\n",
              "    }\n",
              "</style>\n",
              "<table border=\"1\" class=\"dataframe\">\n",
              "  <thead>\n",
              "    <tr style=\"text-align: right;\">\n",
              "      <th></th>\n",
              "      <th>A</th>\n",
              "      <th>B</th>\n",
              "      <th>C</th>\n",
              "      <th>D</th>\n",
              "      <th>E</th>\n",
              "    </tr>\n",
              "  </thead>\n",
              "  <tbody>\n",
              "    <tr>\n",
              "      <th>2020-01-01</th>\n",
              "      <td>5</td>\n",
              "      <td>8</td>\n",
              "      <td>9</td>\n",
              "      <td>5</td>\n",
              "      <td>AA</td>\n",
              "    </tr>\n",
              "    <tr>\n",
              "      <th>2020-01-02</th>\n",
              "      <td>0</td>\n",
              "      <td>0</td>\n",
              "      <td>1</td>\n",
              "      <td>7</td>\n",
              "      <td>BB</td>\n",
              "    </tr>\n",
              "    <tr>\n",
              "      <th>2020-01-03</th>\n",
              "      <td>6</td>\n",
              "      <td>9</td>\n",
              "      <td>2</td>\n",
              "      <td>4</td>\n",
              "      <td>CC</td>\n",
              "    </tr>\n",
              "    <tr>\n",
              "      <th>2020-01-04</th>\n",
              "      <td>5</td>\n",
              "      <td>2</td>\n",
              "      <td>4</td>\n",
              "      <td>2</td>\n",
              "      <td>CC</td>\n",
              "    </tr>\n",
              "    <tr>\n",
              "      <th>2020-01-05</th>\n",
              "      <td>4</td>\n",
              "      <td>7</td>\n",
              "      <td>7</td>\n",
              "      <td>9</td>\n",
              "      <td>AA</td>\n",
              "    </tr>\n",
              "    <tr>\n",
              "      <th>2020-01-06</th>\n",
              "      <td>1</td>\n",
              "      <td>7</td>\n",
              "      <td>0</td>\n",
              "      <td>6</td>\n",
              "      <td>CC</td>\n",
              "    </tr>\n",
              "  </tbody>\n",
              "</table>\n",
              "</div>"
            ],
            "text/plain": [
              "            A  B  C  D   E\n",
              "2020-01-01  5  8  9  5  AA\n",
              "2020-01-02  0  0  1  7  BB\n",
              "2020-01-03  6  9  2  4  CC\n",
              "2020-01-04  5  2  4  2  CC\n",
              "2020-01-05  4  7  7  9  AA\n",
              "2020-01-06  1  7  0  6  CC"
            ]
          },
          "metadata": {}
        }
      ]
    },
    {
      "cell_type": "code",
      "metadata": {
        "colab": {
          "base_uri": "https://localhost:8080/"
        },
        "id": "GCVo1fU7W19w",
        "outputId": "a7099af9-07d0-4db1-cc06-492439dcbc65"
      },
      "source": [
        "# .unique()\n",
        "# ==> 중복된 값을 제거!\n",
        "print(df['B'].unique())"
      ],
      "execution_count": 113,
      "outputs": [
        {
          "output_type": "stream",
          "name": "stdout",
          "text": [
            "[8 0 9 2 7]\n"
          ]
        }
      ]
    },
    {
      "cell_type": "code",
      "metadata": {
        "colab": {
          "base_uri": "https://localhost:8080/"
        },
        "id": "HbEn1kAHW4_U",
        "outputId": "e38a472d-5d3c-4bab-b83b-7937e6ca6741"
      },
      "source": [
        "# .value_counts()\n",
        "print(df['E'].value_counts())"
      ],
      "execution_count": 115,
      "outputs": [
        {
          "output_type": "stream",
          "name": "stdout",
          "text": [
            "CC    3\n",
            "AA    2\n",
            "BB    1\n",
            "Name: E, dtype: int64\n"
          ]
        }
      ]
    },
    {
      "cell_type": "code",
      "metadata": {
        "colab": {
          "base_uri": "https://localhost:8080/"
        },
        "id": "J54ZC5xPXBOQ",
        "outputId": "f0f7630a-6ac7-4057-b612-f9142673617b"
      },
      "source": [
        "# .isin()\n",
        "# ==> 안에 있는 값이 있니?? 판단 (boolean)\n",
        "\n",
        "print(df['E'].isin(['AA','BB']))"
      ],
      "execution_count": 116,
      "outputs": [
        {
          "output_type": "stream",
          "name": "stdout",
          "text": [
            "2020-01-01     True\n",
            "2020-01-02     True\n",
            "2020-01-03    False\n",
            "2020-01-04    False\n",
            "2020-01-05     True\n",
            "2020-01-06    False\n",
            "Freq: D, Name: E, dtype: bool\n"
          ]
        }
      ]
    },
    {
      "cell_type": "code",
      "metadata": {
        "colab": {
          "base_uri": "https://localhost:8080/",
          "height": 143
        },
        "id": "KOkFKx5HIevy",
        "outputId": "52c04b35-fa9a-489d-9e6e-2d1f8daf698f"
      },
      "source": [
        "df[df['E'].isin(['AA','BB'])]"
      ],
      "execution_count": 117,
      "outputs": [
        {
          "output_type": "execute_result",
          "data": {
            "text/html": [
              "<div>\n",
              "<style scoped>\n",
              "    .dataframe tbody tr th:only-of-type {\n",
              "        vertical-align: middle;\n",
              "    }\n",
              "\n",
              "    .dataframe tbody tr th {\n",
              "        vertical-align: top;\n",
              "    }\n",
              "\n",
              "    .dataframe thead th {\n",
              "        text-align: right;\n",
              "    }\n",
              "</style>\n",
              "<table border=\"1\" class=\"dataframe\">\n",
              "  <thead>\n",
              "    <tr style=\"text-align: right;\">\n",
              "      <th></th>\n",
              "      <th>A</th>\n",
              "      <th>B</th>\n",
              "      <th>C</th>\n",
              "      <th>D</th>\n",
              "      <th>E</th>\n",
              "    </tr>\n",
              "  </thead>\n",
              "  <tbody>\n",
              "    <tr>\n",
              "      <th>2020-01-01</th>\n",
              "      <td>5</td>\n",
              "      <td>8</td>\n",
              "      <td>9</td>\n",
              "      <td>5</td>\n",
              "      <td>AA</td>\n",
              "    </tr>\n",
              "    <tr>\n",
              "      <th>2020-01-02</th>\n",
              "      <td>0</td>\n",
              "      <td>0</td>\n",
              "      <td>1</td>\n",
              "      <td>7</td>\n",
              "      <td>BB</td>\n",
              "    </tr>\n",
              "    <tr>\n",
              "      <th>2020-01-05</th>\n",
              "      <td>4</td>\n",
              "      <td>7</td>\n",
              "      <td>7</td>\n",
              "      <td>9</td>\n",
              "      <td>AA</td>\n",
              "    </tr>\n",
              "  </tbody>\n",
              "</table>\n",
              "</div>"
            ],
            "text/plain": [
              "            A  B  C  D   E\n",
              "2020-01-01  5  8  9  5  AA\n",
              "2020-01-02  0  0  1  7  BB\n",
              "2020-01-05  4  7  7  9  AA"
            ]
          },
          "metadata": {},
          "execution_count": 117
        }
      ]
    },
    {
      "cell_type": "markdown",
      "metadata": {
        "id": "WO38cpI0XGzA"
      },
      "source": [
        "### merge()"
      ]
    },
    {
      "cell_type": "code",
      "metadata": {
        "id": "Wc8k0paAXJzZ"
      },
      "source": [
        "data1 = {\n",
        "    '학번' : [1,2,3,4],\n",
        "    '이름' : ['홍길동', '신사임당', '아이유', '김현아'],\n",
        "    '학년' : [2, 4, 1, 3]\n",
        "}\n",
        "\n",
        "data2 = {\n",
        "    '학번' : [1,2,4,5],\n",
        "    '학과' : ['컴퓨터', '철학', '심리', '영어영문'],\n",
        "    '학점' : [3.5, 2.7, 4.0, 4.3]\n",
        "}\n",
        "\n",
        "df1 = pd.DataFrame(data1)\n",
        "df2 = pd.DataFrame(data2)"
      ],
      "execution_count": 118,
      "outputs": []
    },
    {
      "cell_type": "code",
      "metadata": {
        "colab": {
          "base_uri": "https://localhost:8080/",
          "height": 0
        },
        "id": "j5TvGJdIIl3X",
        "outputId": "5f21b68f-9f5a-403c-9cfc-1c4f878ccd6d"
      },
      "source": [
        "df1"
      ],
      "execution_count": 119,
      "outputs": [
        {
          "output_type": "execute_result",
          "data": {
            "text/html": [
              "<div>\n",
              "<style scoped>\n",
              "    .dataframe tbody tr th:only-of-type {\n",
              "        vertical-align: middle;\n",
              "    }\n",
              "\n",
              "    .dataframe tbody tr th {\n",
              "        vertical-align: top;\n",
              "    }\n",
              "\n",
              "    .dataframe thead th {\n",
              "        text-align: right;\n",
              "    }\n",
              "</style>\n",
              "<table border=\"1\" class=\"dataframe\">\n",
              "  <thead>\n",
              "    <tr style=\"text-align: right;\">\n",
              "      <th></th>\n",
              "      <th>학번</th>\n",
              "      <th>이름</th>\n",
              "      <th>학년</th>\n",
              "    </tr>\n",
              "  </thead>\n",
              "  <tbody>\n",
              "    <tr>\n",
              "      <th>0</th>\n",
              "      <td>1</td>\n",
              "      <td>홍길동</td>\n",
              "      <td>2</td>\n",
              "    </tr>\n",
              "    <tr>\n",
              "      <th>1</th>\n",
              "      <td>2</td>\n",
              "      <td>신사임당</td>\n",
              "      <td>4</td>\n",
              "    </tr>\n",
              "    <tr>\n",
              "      <th>2</th>\n",
              "      <td>3</td>\n",
              "      <td>아이유</td>\n",
              "      <td>1</td>\n",
              "    </tr>\n",
              "    <tr>\n",
              "      <th>3</th>\n",
              "      <td>4</td>\n",
              "      <td>김현아</td>\n",
              "      <td>3</td>\n",
              "    </tr>\n",
              "  </tbody>\n",
              "</table>\n",
              "</div>"
            ],
            "text/plain": [
              "   학번    이름  학년\n",
              "0   1   홍길동   2\n",
              "1   2  신사임당   4\n",
              "2   3   아이유   1\n",
              "3   4   김현아   3"
            ]
          },
          "metadata": {},
          "execution_count": 119
        }
      ]
    },
    {
      "cell_type": "code",
      "metadata": {
        "colab": {
          "base_uri": "https://localhost:8080/",
          "height": 0
        },
        "id": "vAR6M0dvInGO",
        "outputId": "a6dfcceb-3cd2-4477-e456-0adc5fe76dc8"
      },
      "source": [
        "df2"
      ],
      "execution_count": 120,
      "outputs": [
        {
          "output_type": "execute_result",
          "data": {
            "text/html": [
              "<div>\n",
              "<style scoped>\n",
              "    .dataframe tbody tr th:only-of-type {\n",
              "        vertical-align: middle;\n",
              "    }\n",
              "\n",
              "    .dataframe tbody tr th {\n",
              "        vertical-align: top;\n",
              "    }\n",
              "\n",
              "    .dataframe thead th {\n",
              "        text-align: right;\n",
              "    }\n",
              "</style>\n",
              "<table border=\"1\" class=\"dataframe\">\n",
              "  <thead>\n",
              "    <tr style=\"text-align: right;\">\n",
              "      <th></th>\n",
              "      <th>학번</th>\n",
              "      <th>학과</th>\n",
              "      <th>학점</th>\n",
              "    </tr>\n",
              "  </thead>\n",
              "  <tbody>\n",
              "    <tr>\n",
              "      <th>0</th>\n",
              "      <td>1</td>\n",
              "      <td>컴퓨터</td>\n",
              "      <td>3.5</td>\n",
              "    </tr>\n",
              "    <tr>\n",
              "      <th>1</th>\n",
              "      <td>2</td>\n",
              "      <td>철학</td>\n",
              "      <td>2.7</td>\n",
              "    </tr>\n",
              "    <tr>\n",
              "      <th>2</th>\n",
              "      <td>4</td>\n",
              "      <td>심리</td>\n",
              "      <td>4.0</td>\n",
              "    </tr>\n",
              "    <tr>\n",
              "      <th>3</th>\n",
              "      <td>5</td>\n",
              "      <td>영어영문</td>\n",
              "      <td>4.3</td>\n",
              "    </tr>\n",
              "  </tbody>\n",
              "</table>\n",
              "</div>"
            ],
            "text/plain": [
              "   학번    학과   학점\n",
              "0   1   컴퓨터  3.5\n",
              "1   2    철학  2.7\n",
              "2   4    심리  4.0\n",
              "3   5  영어영문  4.3"
            ]
          },
          "metadata": {},
          "execution_count": 120
        }
      ]
    },
    {
      "cell_type": "code",
      "metadata": {
        "colab": {
          "base_uri": "https://localhost:8080/",
          "height": 0
        },
        "id": "1lCi1yrkjhvj",
        "outputId": "3ca1bdbc-dab9-4bae-90a2-2e9b9f54941f"
      },
      "source": [
        "# inner\n",
        "# ==> 결합할 수 있는 것만 결합해서 출력!\n",
        "# ==> 매치할 기준에서 동일값이 없는 data는 자동으로 버린다. (== inner)\n",
        "# 'how==inner'는 Default 값\n",
        "\n",
        "df3 = pd.merge(df1, df2, on='학번', how = 'inner')\n",
        "display(df3)"
      ],
      "execution_count": 121,
      "outputs": [
        {
          "output_type": "display_data",
          "data": {
            "text/html": [
              "<div>\n",
              "<style scoped>\n",
              "    .dataframe tbody tr th:only-of-type {\n",
              "        vertical-align: middle;\n",
              "    }\n",
              "\n",
              "    .dataframe tbody tr th {\n",
              "        vertical-align: top;\n",
              "    }\n",
              "\n",
              "    .dataframe thead th {\n",
              "        text-align: right;\n",
              "    }\n",
              "</style>\n",
              "<table border=\"1\" class=\"dataframe\">\n",
              "  <thead>\n",
              "    <tr style=\"text-align: right;\">\n",
              "      <th></th>\n",
              "      <th>학번</th>\n",
              "      <th>이름</th>\n",
              "      <th>학년</th>\n",
              "      <th>학과</th>\n",
              "      <th>학점</th>\n",
              "    </tr>\n",
              "  </thead>\n",
              "  <tbody>\n",
              "    <tr>\n",
              "      <th>0</th>\n",
              "      <td>1</td>\n",
              "      <td>홍길동</td>\n",
              "      <td>2</td>\n",
              "      <td>컴퓨터</td>\n",
              "      <td>3.5</td>\n",
              "    </tr>\n",
              "    <tr>\n",
              "      <th>1</th>\n",
              "      <td>2</td>\n",
              "      <td>신사임당</td>\n",
              "      <td>4</td>\n",
              "      <td>철학</td>\n",
              "      <td>2.7</td>\n",
              "    </tr>\n",
              "    <tr>\n",
              "      <th>2</th>\n",
              "      <td>4</td>\n",
              "      <td>김현아</td>\n",
              "      <td>3</td>\n",
              "      <td>심리</td>\n",
              "      <td>4.0</td>\n",
              "    </tr>\n",
              "  </tbody>\n",
              "</table>\n",
              "</div>"
            ],
            "text/plain": [
              "   학번    이름  학년   학과   학점\n",
              "0   1   홍길동   2  컴퓨터  3.5\n",
              "1   2  신사임당   4   철학  2.7\n",
              "2   4   김현아   3   심리  4.0"
            ]
          },
          "metadata": {}
        }
      ]
    },
    {
      "cell_type": "code",
      "metadata": {
        "colab": {
          "base_uri": "https://localhost:8080/",
          "height": 0
        },
        "id": "1ITSfZFsjnUS",
        "outputId": "11f559e2-8773-49aa-dee7-b966dbd39118"
      },
      "source": [
        "# outer\n",
        "# ==> df끼리 매치되는 기준이 없어도 즉, 여기서는 '학번'이 같지 않는 것도 다 가져온다.\n",
        "\n",
        "df3 = pd.merge(df1, df2, on='학번', how = 'outer')\n",
        "display(df3)"
      ],
      "execution_count": 122,
      "outputs": [
        {
          "output_type": "display_data",
          "data": {
            "text/html": [
              "<div>\n",
              "<style scoped>\n",
              "    .dataframe tbody tr th:only-of-type {\n",
              "        vertical-align: middle;\n",
              "    }\n",
              "\n",
              "    .dataframe tbody tr th {\n",
              "        vertical-align: top;\n",
              "    }\n",
              "\n",
              "    .dataframe thead th {\n",
              "        text-align: right;\n",
              "    }\n",
              "</style>\n",
              "<table border=\"1\" class=\"dataframe\">\n",
              "  <thead>\n",
              "    <tr style=\"text-align: right;\">\n",
              "      <th></th>\n",
              "      <th>학번</th>\n",
              "      <th>이름</th>\n",
              "      <th>학년</th>\n",
              "      <th>학과</th>\n",
              "      <th>학점</th>\n",
              "    </tr>\n",
              "  </thead>\n",
              "  <tbody>\n",
              "    <tr>\n",
              "      <th>0</th>\n",
              "      <td>1</td>\n",
              "      <td>홍길동</td>\n",
              "      <td>2.0</td>\n",
              "      <td>컴퓨터</td>\n",
              "      <td>3.5</td>\n",
              "    </tr>\n",
              "    <tr>\n",
              "      <th>1</th>\n",
              "      <td>2</td>\n",
              "      <td>신사임당</td>\n",
              "      <td>4.0</td>\n",
              "      <td>철학</td>\n",
              "      <td>2.7</td>\n",
              "    </tr>\n",
              "    <tr>\n",
              "      <th>2</th>\n",
              "      <td>3</td>\n",
              "      <td>아이유</td>\n",
              "      <td>1.0</td>\n",
              "      <td>NaN</td>\n",
              "      <td>NaN</td>\n",
              "    </tr>\n",
              "    <tr>\n",
              "      <th>3</th>\n",
              "      <td>4</td>\n",
              "      <td>김현아</td>\n",
              "      <td>3.0</td>\n",
              "      <td>심리</td>\n",
              "      <td>4.0</td>\n",
              "    </tr>\n",
              "    <tr>\n",
              "      <th>4</th>\n",
              "      <td>5</td>\n",
              "      <td>NaN</td>\n",
              "      <td>NaN</td>\n",
              "      <td>영어영문</td>\n",
              "      <td>4.3</td>\n",
              "    </tr>\n",
              "  </tbody>\n",
              "</table>\n",
              "</div>"
            ],
            "text/plain": [
              "   학번    이름   학년    학과   학점\n",
              "0   1   홍길동  2.0   컴퓨터  3.5\n",
              "1   2  신사임당  4.0    철학  2.7\n",
              "2   3   아이유  1.0   NaN  NaN\n",
              "3   4   김현아  3.0    심리  4.0\n",
              "4   5   NaN  NaN  영어영문  4.3"
            ]
          },
          "metadata": {}
        }
      ]
    },
    {
      "cell_type": "code",
      "metadata": {
        "colab": {
          "base_uri": "https://localhost:8080/",
          "height": 0
        },
        "id": "fruWI9xsjvKW",
        "outputId": "0a9ab70b-39a5-400a-c817-681babd4f172"
      },
      "source": [
        "# left\n",
        "# ==> 왼쪽 DataFrame(df1)만 남는거 붙여와\n",
        "df4 = pd.merge(df1, df2, on='학번', how = 'left')\n",
        "display(df4)"
      ],
      "execution_count": 123,
      "outputs": [
        {
          "output_type": "display_data",
          "data": {
            "text/html": [
              "<div>\n",
              "<style scoped>\n",
              "    .dataframe tbody tr th:only-of-type {\n",
              "        vertical-align: middle;\n",
              "    }\n",
              "\n",
              "    .dataframe tbody tr th {\n",
              "        vertical-align: top;\n",
              "    }\n",
              "\n",
              "    .dataframe thead th {\n",
              "        text-align: right;\n",
              "    }\n",
              "</style>\n",
              "<table border=\"1\" class=\"dataframe\">\n",
              "  <thead>\n",
              "    <tr style=\"text-align: right;\">\n",
              "      <th></th>\n",
              "      <th>학번</th>\n",
              "      <th>이름</th>\n",
              "      <th>학년</th>\n",
              "      <th>학과</th>\n",
              "      <th>학점</th>\n",
              "    </tr>\n",
              "  </thead>\n",
              "  <tbody>\n",
              "    <tr>\n",
              "      <th>0</th>\n",
              "      <td>1</td>\n",
              "      <td>홍길동</td>\n",
              "      <td>2</td>\n",
              "      <td>컴퓨터</td>\n",
              "      <td>3.5</td>\n",
              "    </tr>\n",
              "    <tr>\n",
              "      <th>1</th>\n",
              "      <td>2</td>\n",
              "      <td>신사임당</td>\n",
              "      <td>4</td>\n",
              "      <td>철학</td>\n",
              "      <td>2.7</td>\n",
              "    </tr>\n",
              "    <tr>\n",
              "      <th>2</th>\n",
              "      <td>3</td>\n",
              "      <td>아이유</td>\n",
              "      <td>1</td>\n",
              "      <td>NaN</td>\n",
              "      <td>NaN</td>\n",
              "    </tr>\n",
              "    <tr>\n",
              "      <th>3</th>\n",
              "      <td>4</td>\n",
              "      <td>김현아</td>\n",
              "      <td>3</td>\n",
              "      <td>심리</td>\n",
              "      <td>4.0</td>\n",
              "    </tr>\n",
              "  </tbody>\n",
              "</table>\n",
              "</div>"
            ],
            "text/plain": [
              "   학번    이름  학년   학과   학점\n",
              "0   1   홍길동   2  컴퓨터  3.5\n",
              "1   2  신사임당   4   철학  2.7\n",
              "2   3   아이유   1  NaN  NaN\n",
              "3   4   김현아   3   심리  4.0"
            ]
          },
          "metadata": {}
        }
      ]
    },
    {
      "cell_type": "code",
      "metadata": {
        "colab": {
          "base_uri": "https://localhost:8080/",
          "height": 0
        },
        "id": "NVAQQq8yju_6",
        "outputId": "8be74cc4-1fad-4b55-83a0-a0bf2acf02a6"
      },
      "source": [
        "# right\n",
        "# ==> 오른족 DataFrame(df2)만 남는거 붙여와\n",
        "df5 = pd.merge(df1, df2, on='학번', how = 'right')\n",
        "display(df5)"
      ],
      "execution_count": 124,
      "outputs": [
        {
          "output_type": "display_data",
          "data": {
            "text/html": [
              "<div>\n",
              "<style scoped>\n",
              "    .dataframe tbody tr th:only-of-type {\n",
              "        vertical-align: middle;\n",
              "    }\n",
              "\n",
              "    .dataframe tbody tr th {\n",
              "        vertical-align: top;\n",
              "    }\n",
              "\n",
              "    .dataframe thead th {\n",
              "        text-align: right;\n",
              "    }\n",
              "</style>\n",
              "<table border=\"1\" class=\"dataframe\">\n",
              "  <thead>\n",
              "    <tr style=\"text-align: right;\">\n",
              "      <th></th>\n",
              "      <th>학번</th>\n",
              "      <th>이름</th>\n",
              "      <th>학년</th>\n",
              "      <th>학과</th>\n",
              "      <th>학점</th>\n",
              "    </tr>\n",
              "  </thead>\n",
              "  <tbody>\n",
              "    <tr>\n",
              "      <th>0</th>\n",
              "      <td>1</td>\n",
              "      <td>홍길동</td>\n",
              "      <td>2.0</td>\n",
              "      <td>컴퓨터</td>\n",
              "      <td>3.5</td>\n",
              "    </tr>\n",
              "    <tr>\n",
              "      <th>1</th>\n",
              "      <td>2</td>\n",
              "      <td>신사임당</td>\n",
              "      <td>4.0</td>\n",
              "      <td>철학</td>\n",
              "      <td>2.7</td>\n",
              "    </tr>\n",
              "    <tr>\n",
              "      <th>2</th>\n",
              "      <td>4</td>\n",
              "      <td>김현아</td>\n",
              "      <td>3.0</td>\n",
              "      <td>심리</td>\n",
              "      <td>4.0</td>\n",
              "    </tr>\n",
              "    <tr>\n",
              "      <th>3</th>\n",
              "      <td>5</td>\n",
              "      <td>NaN</td>\n",
              "      <td>NaN</td>\n",
              "      <td>영어영문</td>\n",
              "      <td>4.3</td>\n",
              "    </tr>\n",
              "  </tbody>\n",
              "</table>\n",
              "</div>"
            ],
            "text/plain": [
              "   학번    이름   학년    학과   학점\n",
              "0   1   홍길동  2.0   컴퓨터  3.5\n",
              "1   2  신사임당  4.0    철학  2.7\n",
              "2   4   김현아  3.0    심리  4.0\n",
              "3   5   NaN  NaN  영어영문  4.3"
            ]
          },
          "metadata": {}
        }
      ]
    },
    {
      "cell_type": "markdown",
      "metadata": {
        "id": "ru-bws_Zj550"
      },
      "source": [
        "### pd.merge() column명이 다를 경우"
      ]
    },
    {
      "cell_type": "code",
      "metadata": {
        "id": "2OVn5322j78T"
      },
      "source": [
        "data1 = {\n",
        "    '학번' : [1,2,3,4],\n",
        "    '이름' : ['홍길동', '신사임당', '아이유', '김현아'],\n",
        "    '학년' : [2, 4, 1, 3]\n",
        "}\n",
        "\n",
        "data2 = {\n",
        "    '학생학번' : [1,2,4,5],\n",
        "    '학과' : ['컴퓨터', '철학', '심리', '영어영문'],\n",
        "    '학점' : [3.5, 2.7, 4.0, 4.3]\n",
        "}\n",
        "\n",
        "df1 = pd.DataFrame(data1)\n",
        "df2 = pd.DataFrame(data2)"
      ],
      "execution_count": 125,
      "outputs": []
    },
    {
      "cell_type": "code",
      "metadata": {
        "colab": {
          "base_uri": "https://localhost:8080/",
          "height": 0
        },
        "id": "cK2zh9sbJXry",
        "outputId": "a78c5779-8e9a-4ad0-ceec-754d218cb22a"
      },
      "source": [
        "df1"
      ],
      "execution_count": 126,
      "outputs": [
        {
          "output_type": "execute_result",
          "data": {
            "text/html": [
              "<div>\n",
              "<style scoped>\n",
              "    .dataframe tbody tr th:only-of-type {\n",
              "        vertical-align: middle;\n",
              "    }\n",
              "\n",
              "    .dataframe tbody tr th {\n",
              "        vertical-align: top;\n",
              "    }\n",
              "\n",
              "    .dataframe thead th {\n",
              "        text-align: right;\n",
              "    }\n",
              "</style>\n",
              "<table border=\"1\" class=\"dataframe\">\n",
              "  <thead>\n",
              "    <tr style=\"text-align: right;\">\n",
              "      <th></th>\n",
              "      <th>학번</th>\n",
              "      <th>이름</th>\n",
              "      <th>학년</th>\n",
              "    </tr>\n",
              "  </thead>\n",
              "  <tbody>\n",
              "    <tr>\n",
              "      <th>0</th>\n",
              "      <td>1</td>\n",
              "      <td>홍길동</td>\n",
              "      <td>2</td>\n",
              "    </tr>\n",
              "    <tr>\n",
              "      <th>1</th>\n",
              "      <td>2</td>\n",
              "      <td>신사임당</td>\n",
              "      <td>4</td>\n",
              "    </tr>\n",
              "    <tr>\n",
              "      <th>2</th>\n",
              "      <td>3</td>\n",
              "      <td>아이유</td>\n",
              "      <td>1</td>\n",
              "    </tr>\n",
              "    <tr>\n",
              "      <th>3</th>\n",
              "      <td>4</td>\n",
              "      <td>김현아</td>\n",
              "      <td>3</td>\n",
              "    </tr>\n",
              "  </tbody>\n",
              "</table>\n",
              "</div>"
            ],
            "text/plain": [
              "   학번    이름  학년\n",
              "0   1   홍길동   2\n",
              "1   2  신사임당   4\n",
              "2   3   아이유   1\n",
              "3   4   김현아   3"
            ]
          },
          "metadata": {},
          "execution_count": 126
        }
      ]
    },
    {
      "cell_type": "code",
      "metadata": {
        "colab": {
          "base_uri": "https://localhost:8080/",
          "height": 0
        },
        "id": "kQVwlbYtJYrJ",
        "outputId": "ff25984b-9856-4cf9-ae7b-2510b894de49"
      },
      "source": [
        "df2"
      ],
      "execution_count": 127,
      "outputs": [
        {
          "output_type": "execute_result",
          "data": {
            "text/html": [
              "<div>\n",
              "<style scoped>\n",
              "    .dataframe tbody tr th:only-of-type {\n",
              "        vertical-align: middle;\n",
              "    }\n",
              "\n",
              "    .dataframe tbody tr th {\n",
              "        vertical-align: top;\n",
              "    }\n",
              "\n",
              "    .dataframe thead th {\n",
              "        text-align: right;\n",
              "    }\n",
              "</style>\n",
              "<table border=\"1\" class=\"dataframe\">\n",
              "  <thead>\n",
              "    <tr style=\"text-align: right;\">\n",
              "      <th></th>\n",
              "      <th>학생학번</th>\n",
              "      <th>학과</th>\n",
              "      <th>학점</th>\n",
              "    </tr>\n",
              "  </thead>\n",
              "  <tbody>\n",
              "    <tr>\n",
              "      <th>0</th>\n",
              "      <td>1</td>\n",
              "      <td>컴퓨터</td>\n",
              "      <td>3.5</td>\n",
              "    </tr>\n",
              "    <tr>\n",
              "      <th>1</th>\n",
              "      <td>2</td>\n",
              "      <td>철학</td>\n",
              "      <td>2.7</td>\n",
              "    </tr>\n",
              "    <tr>\n",
              "      <th>2</th>\n",
              "      <td>4</td>\n",
              "      <td>심리</td>\n",
              "      <td>4.0</td>\n",
              "    </tr>\n",
              "    <tr>\n",
              "      <th>3</th>\n",
              "      <td>5</td>\n",
              "      <td>영어영문</td>\n",
              "      <td>4.3</td>\n",
              "    </tr>\n",
              "  </tbody>\n",
              "</table>\n",
              "</div>"
            ],
            "text/plain": [
              "   학생학번    학과   학점\n",
              "0     1   컴퓨터  3.5\n",
              "1     2    철학  2.7\n",
              "2     4    심리  4.0\n",
              "3     5  영어영문  4.3"
            ]
          },
          "metadata": {},
          "execution_count": 127
        }
      ]
    },
    {
      "cell_type": "code",
      "metadata": {
        "colab": {
          "base_uri": "https://localhost:8080/",
          "height": 0
        },
        "id": "JreWfF8kkGQA",
        "outputId": "5c6ffbb1-bf93-41a3-86dd-a703547c91d5"
      },
      "source": [
        "# ==> 'on'의 기준을 각 data별 column 명으로 제시해준다.\n",
        "# ==> left_on = df1 / right_on = df2\n",
        "# ==> 결과 값은 각각 column명으로 따로 나온다.\n",
        "display(pd.merge(df1, df2, left_on='학번', right_on='학생학번', how='inner'))"
      ],
      "execution_count": 128,
      "outputs": [
        {
          "output_type": "display_data",
          "data": {
            "text/html": [
              "<div>\n",
              "<style scoped>\n",
              "    .dataframe tbody tr th:only-of-type {\n",
              "        vertical-align: middle;\n",
              "    }\n",
              "\n",
              "    .dataframe tbody tr th {\n",
              "        vertical-align: top;\n",
              "    }\n",
              "\n",
              "    .dataframe thead th {\n",
              "        text-align: right;\n",
              "    }\n",
              "</style>\n",
              "<table border=\"1\" class=\"dataframe\">\n",
              "  <thead>\n",
              "    <tr style=\"text-align: right;\">\n",
              "      <th></th>\n",
              "      <th>학번</th>\n",
              "      <th>이름</th>\n",
              "      <th>학년</th>\n",
              "      <th>학생학번</th>\n",
              "      <th>학과</th>\n",
              "      <th>학점</th>\n",
              "    </tr>\n",
              "  </thead>\n",
              "  <tbody>\n",
              "    <tr>\n",
              "      <th>0</th>\n",
              "      <td>1</td>\n",
              "      <td>홍길동</td>\n",
              "      <td>2</td>\n",
              "      <td>1</td>\n",
              "      <td>컴퓨터</td>\n",
              "      <td>3.5</td>\n",
              "    </tr>\n",
              "    <tr>\n",
              "      <th>1</th>\n",
              "      <td>2</td>\n",
              "      <td>신사임당</td>\n",
              "      <td>4</td>\n",
              "      <td>2</td>\n",
              "      <td>철학</td>\n",
              "      <td>2.7</td>\n",
              "    </tr>\n",
              "    <tr>\n",
              "      <th>2</th>\n",
              "      <td>4</td>\n",
              "      <td>김현아</td>\n",
              "      <td>3</td>\n",
              "      <td>4</td>\n",
              "      <td>심리</td>\n",
              "      <td>4.0</td>\n",
              "    </tr>\n",
              "  </tbody>\n",
              "</table>\n",
              "</div>"
            ],
            "text/plain": [
              "   학번    이름  학년  학생학번   학과   학점\n",
              "0   1   홍길동   2     1  컴퓨터  3.5\n",
              "1   2  신사임당   4     2   철학  2.7\n",
              "2   4   김현아   3     4   심리  4.0"
            ]
          },
          "metadata": {}
        }
      ]
    },
    {
      "cell_type": "markdown",
      "metadata": {
        "id": "EI3yfrzukNYv"
      },
      "source": [
        "### pd.concat() 연결"
      ]
    },
    {
      "cell_type": "code",
      "metadata": {
        "id": "aYZShFcWkP3d"
      },
      "source": [
        "df1 = pd.DataFrame(np.arange(6).reshape(3,2),\n",
        "                   index = ['a', 'b', 'd'],\n",
        "                   columns = ['one', 'two'])\n",
        "\n",
        "df2 = pd.DataFrame(np.arange(4).reshape(2,2),\n",
        "                   index = ['a', 'c'],\n",
        "                   columns = ['three', 'four'])"
      ],
      "execution_count": 129,
      "outputs": []
    },
    {
      "cell_type": "code",
      "metadata": {
        "colab": {
          "base_uri": "https://localhost:8080/",
          "height": 0
        },
        "id": "CIG3sCffJub_",
        "outputId": "20eba825-013b-424f-be6c-3cbc30296d36"
      },
      "source": [
        "df1"
      ],
      "execution_count": 130,
      "outputs": [
        {
          "output_type": "execute_result",
          "data": {
            "text/html": [
              "<div>\n",
              "<style scoped>\n",
              "    .dataframe tbody tr th:only-of-type {\n",
              "        vertical-align: middle;\n",
              "    }\n",
              "\n",
              "    .dataframe tbody tr th {\n",
              "        vertical-align: top;\n",
              "    }\n",
              "\n",
              "    .dataframe thead th {\n",
              "        text-align: right;\n",
              "    }\n",
              "</style>\n",
              "<table border=\"1\" class=\"dataframe\">\n",
              "  <thead>\n",
              "    <tr style=\"text-align: right;\">\n",
              "      <th></th>\n",
              "      <th>one</th>\n",
              "      <th>two</th>\n",
              "    </tr>\n",
              "  </thead>\n",
              "  <tbody>\n",
              "    <tr>\n",
              "      <th>a</th>\n",
              "      <td>0</td>\n",
              "      <td>1</td>\n",
              "    </tr>\n",
              "    <tr>\n",
              "      <th>b</th>\n",
              "      <td>2</td>\n",
              "      <td>3</td>\n",
              "    </tr>\n",
              "    <tr>\n",
              "      <th>d</th>\n",
              "      <td>4</td>\n",
              "      <td>5</td>\n",
              "    </tr>\n",
              "  </tbody>\n",
              "</table>\n",
              "</div>"
            ],
            "text/plain": [
              "   one  two\n",
              "a    0    1\n",
              "b    2    3\n",
              "d    4    5"
            ]
          },
          "metadata": {},
          "execution_count": 130
        }
      ]
    },
    {
      "cell_type": "code",
      "metadata": {
        "colab": {
          "base_uri": "https://localhost:8080/",
          "height": 0
        },
        "id": "y85LruHNJww8",
        "outputId": "1089577a-9962-4a25-8a2c-665873b67edc"
      },
      "source": [
        "df2"
      ],
      "execution_count": 131,
      "outputs": [
        {
          "output_type": "execute_result",
          "data": {
            "text/html": [
              "<div>\n",
              "<style scoped>\n",
              "    .dataframe tbody tr th:only-of-type {\n",
              "        vertical-align: middle;\n",
              "    }\n",
              "\n",
              "    .dataframe tbody tr th {\n",
              "        vertical-align: top;\n",
              "    }\n",
              "\n",
              "    .dataframe thead th {\n",
              "        text-align: right;\n",
              "    }\n",
              "</style>\n",
              "<table border=\"1\" class=\"dataframe\">\n",
              "  <thead>\n",
              "    <tr style=\"text-align: right;\">\n",
              "      <th></th>\n",
              "      <th>three</th>\n",
              "      <th>four</th>\n",
              "    </tr>\n",
              "  </thead>\n",
              "  <tbody>\n",
              "    <tr>\n",
              "      <th>a</th>\n",
              "      <td>0</td>\n",
              "      <td>1</td>\n",
              "    </tr>\n",
              "    <tr>\n",
              "      <th>c</th>\n",
              "      <td>2</td>\n",
              "      <td>3</td>\n",
              "    </tr>\n",
              "  </tbody>\n",
              "</table>\n",
              "</div>"
            ],
            "text/plain": [
              "   three  four\n",
              "a      0     1\n",
              "c      2     3"
            ]
          },
          "metadata": {},
          "execution_count": 131
        }
      ]
    },
    {
      "cell_type": "code",
      "metadata": {
        "colab": {
          "base_uri": "https://localhost:8080/",
          "height": 0
        },
        "id": "t6jE6A1FkT7L",
        "outputId": "bee571c2-b973-4eeb-a5de-ae5ed6ca8035"
      },
      "source": [
        "# ==> 개수 제한 없이 연결 가능, merge는 2개만 가능!\n",
        "result = pd.concat([df1,df2], \n",
        "                   axis=1)\n",
        "display(result)"
      ],
      "execution_count": 132,
      "outputs": [
        {
          "output_type": "display_data",
          "data": {
            "text/html": [
              "<div>\n",
              "<style scoped>\n",
              "    .dataframe tbody tr th:only-of-type {\n",
              "        vertical-align: middle;\n",
              "    }\n",
              "\n",
              "    .dataframe tbody tr th {\n",
              "        vertical-align: top;\n",
              "    }\n",
              "\n",
              "    .dataframe thead th {\n",
              "        text-align: right;\n",
              "    }\n",
              "</style>\n",
              "<table border=\"1\" class=\"dataframe\">\n",
              "  <thead>\n",
              "    <tr style=\"text-align: right;\">\n",
              "      <th></th>\n",
              "      <th>one</th>\n",
              "      <th>two</th>\n",
              "      <th>three</th>\n",
              "      <th>four</th>\n",
              "    </tr>\n",
              "  </thead>\n",
              "  <tbody>\n",
              "    <tr>\n",
              "      <th>a</th>\n",
              "      <td>0.0</td>\n",
              "      <td>1.0</td>\n",
              "      <td>0.0</td>\n",
              "      <td>1.0</td>\n",
              "    </tr>\n",
              "    <tr>\n",
              "      <th>b</th>\n",
              "      <td>2.0</td>\n",
              "      <td>3.0</td>\n",
              "      <td>NaN</td>\n",
              "      <td>NaN</td>\n",
              "    </tr>\n",
              "    <tr>\n",
              "      <th>d</th>\n",
              "      <td>4.0</td>\n",
              "      <td>5.0</td>\n",
              "      <td>NaN</td>\n",
              "      <td>NaN</td>\n",
              "    </tr>\n",
              "    <tr>\n",
              "      <th>c</th>\n",
              "      <td>NaN</td>\n",
              "      <td>NaN</td>\n",
              "      <td>2.0</td>\n",
              "      <td>3.0</td>\n",
              "    </tr>\n",
              "  </tbody>\n",
              "</table>\n",
              "</div>"
            ],
            "text/plain": [
              "   one  two  three  four\n",
              "a  0.0  1.0    0.0   1.0\n",
              "b  2.0  3.0    NaN   NaN\n",
              "d  4.0  5.0    NaN   NaN\n",
              "c  NaN  NaN    2.0   3.0"
            ]
          },
          "metadata": {}
        }
      ]
    },
    {
      "cell_type": "code",
      "metadata": {
        "colab": {
          "base_uri": "https://localhost:8080/",
          "height": 0
        },
        "id": "k5PF9xepkgFg",
        "outputId": "3c12b58b-b8a1-4bb0-8728-63e408a2578d"
      },
      "source": [
        "# sort 값을 주면 index가 정렬되서 출력\n",
        "new_result = pd.concat([df1,df2], \n",
        "                       axis=1,\n",
        "                       sort=True) # ==> index가 정렬된다.\n",
        "display(new_result)"
      ],
      "execution_count": 133,
      "outputs": [
        {
          "output_type": "display_data",
          "data": {
            "text/html": [
              "<div>\n",
              "<style scoped>\n",
              "    .dataframe tbody tr th:only-of-type {\n",
              "        vertical-align: middle;\n",
              "    }\n",
              "\n",
              "    .dataframe tbody tr th {\n",
              "        vertical-align: top;\n",
              "    }\n",
              "\n",
              "    .dataframe thead th {\n",
              "        text-align: right;\n",
              "    }\n",
              "</style>\n",
              "<table border=\"1\" class=\"dataframe\">\n",
              "  <thead>\n",
              "    <tr style=\"text-align: right;\">\n",
              "      <th></th>\n",
              "      <th>one</th>\n",
              "      <th>two</th>\n",
              "      <th>three</th>\n",
              "      <th>four</th>\n",
              "    </tr>\n",
              "  </thead>\n",
              "  <tbody>\n",
              "    <tr>\n",
              "      <th>a</th>\n",
              "      <td>0.0</td>\n",
              "      <td>1.0</td>\n",
              "      <td>0.0</td>\n",
              "      <td>1.0</td>\n",
              "    </tr>\n",
              "    <tr>\n",
              "      <th>b</th>\n",
              "      <td>2.0</td>\n",
              "      <td>3.0</td>\n",
              "      <td>NaN</td>\n",
              "      <td>NaN</td>\n",
              "    </tr>\n",
              "    <tr>\n",
              "      <th>c</th>\n",
              "      <td>NaN</td>\n",
              "      <td>NaN</td>\n",
              "      <td>2.0</td>\n",
              "      <td>3.0</td>\n",
              "    </tr>\n",
              "    <tr>\n",
              "      <th>d</th>\n",
              "      <td>4.0</td>\n",
              "      <td>5.0</td>\n",
              "      <td>NaN</td>\n",
              "      <td>NaN</td>\n",
              "    </tr>\n",
              "  </tbody>\n",
              "</table>\n",
              "</div>"
            ],
            "text/plain": [
              "   one  two  three  four\n",
              "a  0.0  1.0    0.0   1.0\n",
              "b  2.0  3.0    NaN   NaN\n",
              "c  NaN  NaN    2.0   3.0\n",
              "d  4.0  5.0    NaN   NaN"
            ]
          },
          "metadata": {}
        }
      ]
    },
    {
      "cell_type": "code",
      "metadata": {
        "colab": {
          "base_uri": "https://localhost:8080/",
          "height": 0
        },
        "id": "kTpjKGj3kiXe",
        "outputId": "cf94e12c-d0c5-47ed-fe44-789e805219e4"
      },
      "source": [
        "# 행방향으로 연결(axis=0)\n",
        "result = pd.concat([df1,df2], \n",
        "                   axis=0)\n",
        "display(result) "
      ],
      "execution_count": 134,
      "outputs": [
        {
          "output_type": "display_data",
          "data": {
            "text/html": [
              "<div>\n",
              "<style scoped>\n",
              "    .dataframe tbody tr th:only-of-type {\n",
              "        vertical-align: middle;\n",
              "    }\n",
              "\n",
              "    .dataframe tbody tr th {\n",
              "        vertical-align: top;\n",
              "    }\n",
              "\n",
              "    .dataframe thead th {\n",
              "        text-align: right;\n",
              "    }\n",
              "</style>\n",
              "<table border=\"1\" class=\"dataframe\">\n",
              "  <thead>\n",
              "    <tr style=\"text-align: right;\">\n",
              "      <th></th>\n",
              "      <th>one</th>\n",
              "      <th>two</th>\n",
              "      <th>three</th>\n",
              "      <th>four</th>\n",
              "    </tr>\n",
              "  </thead>\n",
              "  <tbody>\n",
              "    <tr>\n",
              "      <th>a</th>\n",
              "      <td>0.0</td>\n",
              "      <td>1.0</td>\n",
              "      <td>NaN</td>\n",
              "      <td>NaN</td>\n",
              "    </tr>\n",
              "    <tr>\n",
              "      <th>b</th>\n",
              "      <td>2.0</td>\n",
              "      <td>3.0</td>\n",
              "      <td>NaN</td>\n",
              "      <td>NaN</td>\n",
              "    </tr>\n",
              "    <tr>\n",
              "      <th>d</th>\n",
              "      <td>4.0</td>\n",
              "      <td>5.0</td>\n",
              "      <td>NaN</td>\n",
              "      <td>NaN</td>\n",
              "    </tr>\n",
              "    <tr>\n",
              "      <th>a</th>\n",
              "      <td>NaN</td>\n",
              "      <td>NaN</td>\n",
              "      <td>0.0</td>\n",
              "      <td>1.0</td>\n",
              "    </tr>\n",
              "    <tr>\n",
              "      <th>c</th>\n",
              "      <td>NaN</td>\n",
              "      <td>NaN</td>\n",
              "      <td>2.0</td>\n",
              "      <td>3.0</td>\n",
              "    </tr>\n",
              "  </tbody>\n",
              "</table>\n",
              "</div>"
            ],
            "text/plain": [
              "   one  two  three  four\n",
              "a  0.0  1.0    NaN   NaN\n",
              "b  2.0  3.0    NaN   NaN\n",
              "d  4.0  5.0    NaN   NaN\n",
              "a  NaN  NaN    0.0   1.0\n",
              "c  NaN  NaN    2.0   3.0"
            ]
          },
          "metadata": {}
        }
      ]
    },
    {
      "cell_type": "markdown",
      "metadata": {
        "id": "1WCj4UFBkvyd"
      },
      "source": [
        "### Groupby"
      ]
    },
    {
      "cell_type": "code",
      "metadata": {
        "colab": {
          "base_uri": "https://localhost:8080/",
          "height": 0
        },
        "id": "L4WXZUuOkxcL",
        "outputId": "649dc758-8c9d-4c29-d2be-93d5941d3f96"
      },
      "source": [
        "my_dict = {\n",
        "    '학과' : ['컴퓨터', '경영학과', '컴퓨터', '경영학과', '컴퓨터'],\n",
        "    '학년' : [1,2,3,2,3],\n",
        "    '이름' : ['홍길동', '신사임당', '김연아', '아이유', '강감찬'],\n",
        "    '학점' : [1.5, 4.4, 3.7, 4.5, 4.2]\n",
        "}\n",
        "df = pd.DataFrame(my_dict)\n",
        "display(df)"
      ],
      "execution_count": 135,
      "outputs": [
        {
          "output_type": "display_data",
          "data": {
            "text/html": [
              "<div>\n",
              "<style scoped>\n",
              "    .dataframe tbody tr th:only-of-type {\n",
              "        vertical-align: middle;\n",
              "    }\n",
              "\n",
              "    .dataframe tbody tr th {\n",
              "        vertical-align: top;\n",
              "    }\n",
              "\n",
              "    .dataframe thead th {\n",
              "        text-align: right;\n",
              "    }\n",
              "</style>\n",
              "<table border=\"1\" class=\"dataframe\">\n",
              "  <thead>\n",
              "    <tr style=\"text-align: right;\">\n",
              "      <th></th>\n",
              "      <th>학과</th>\n",
              "      <th>학년</th>\n",
              "      <th>이름</th>\n",
              "      <th>학점</th>\n",
              "    </tr>\n",
              "  </thead>\n",
              "  <tbody>\n",
              "    <tr>\n",
              "      <th>0</th>\n",
              "      <td>컴퓨터</td>\n",
              "      <td>1</td>\n",
              "      <td>홍길동</td>\n",
              "      <td>1.5</td>\n",
              "    </tr>\n",
              "    <tr>\n",
              "      <th>1</th>\n",
              "      <td>경영학과</td>\n",
              "      <td>2</td>\n",
              "      <td>신사임당</td>\n",
              "      <td>4.4</td>\n",
              "    </tr>\n",
              "    <tr>\n",
              "      <th>2</th>\n",
              "      <td>컴퓨터</td>\n",
              "      <td>3</td>\n",
              "      <td>김연아</td>\n",
              "      <td>3.7</td>\n",
              "    </tr>\n",
              "    <tr>\n",
              "      <th>3</th>\n",
              "      <td>경영학과</td>\n",
              "      <td>2</td>\n",
              "      <td>아이유</td>\n",
              "      <td>4.5</td>\n",
              "    </tr>\n",
              "    <tr>\n",
              "      <th>4</th>\n",
              "      <td>컴퓨터</td>\n",
              "      <td>3</td>\n",
              "      <td>강감찬</td>\n",
              "      <td>4.2</td>\n",
              "    </tr>\n",
              "  </tbody>\n",
              "</table>\n",
              "</div>"
            ],
            "text/plain": [
              "     학과  학년    이름   학점\n",
              "0   컴퓨터   1   홍길동  1.5\n",
              "1  경영학과   2  신사임당  4.4\n",
              "2   컴퓨터   3   김연아  3.7\n",
              "3  경영학과   2   아이유  4.5\n",
              "4   컴퓨터   3   강감찬  4.2"
            ]
          },
          "metadata": {}
        }
      ]
    },
    {
      "cell_type": "code",
      "metadata": {
        "colab": {
          "base_uri": "https://localhost:8080/",
          "height": 0
        },
        "id": "gVp0Iqvlkzg_",
        "outputId": "32fbdbcf-7943-45e7-f968-1c6f147fb3e0"
      },
      "source": [
        "# '학과'를 기준으로 '학점'을 grouping\n",
        "score = df['학점'].groupby(df['학과'])\n",
        "display(score) # ==> 객체에 대한 메모리 주소만 나온다."
      ],
      "execution_count": 136,
      "outputs": [
        {
          "output_type": "display_data",
          "data": {
            "text/plain": [
              "<pandas.core.groupby.generic.SeriesGroupBy object at 0x7fe8ab0a5490>"
            ]
          },
          "metadata": {}
        }
      ]
    },
    {
      "cell_type": "code",
      "metadata": {
        "colab": {
          "base_uri": "https://localhost:8080/",
          "height": 0
        },
        "id": "hxp3r5XKk3kq",
        "outputId": "6f3b769c-5a5d-4b86-edfb-2e86d5b999a7"
      },
      "source": [
        "# 그룹 안 데이터 확인하고 싶을 때!\n",
        "# ==> get_group() 사용!\n",
        "\n",
        "# '컴퓨터'를 기준으로 group한 경우\n",
        "display(score.get_group('컴퓨터'))"
      ],
      "execution_count": 137,
      "outputs": [
        {
          "output_type": "display_data",
          "data": {
            "text/plain": [
              "0    1.5\n",
              "2    3.7\n",
              "4    4.2\n",
              "Name: 학점, dtype: float64"
            ]
          },
          "metadata": {}
        }
      ]
    },
    {
      "cell_type": "code",
      "metadata": {
        "colab": {
          "base_uri": "https://localhost:8080/",
          "height": 0
        },
        "id": "awZtUEgqk5mf",
        "outputId": "d56ba8c9-5d7b-4433-856f-a96aa79ba797"
      },
      "source": [
        "# '경영학과'를 기준으로 group한 경우\n",
        "display(score.get_group('경영학과'))"
      ],
      "execution_count": 138,
      "outputs": [
        {
          "output_type": "display_data",
          "data": {
            "text/plain": [
              "1    4.4\n",
              "3    4.5\n",
              "Name: 학점, dtype: float64"
            ]
          },
          "metadata": {}
        }
      ]
    },
    {
      "cell_type": "code",
      "metadata": {
        "colab": {
          "base_uri": "https://localhost:8080/"
        },
        "id": "hFI7Z0ZoxJCj",
        "outputId": "2b0be7bf-8866-4d6b-e499-f94c6f28c3ac"
      },
      "source": [
        "# 각 조건대로 grouping 된 개수 출력\n",
        "\n",
        "print(score.size())"
      ],
      "execution_count": 139,
      "outputs": [
        {
          "output_type": "stream",
          "name": "stdout",
          "text": [
            "학과\n",
            "경영학과    2\n",
            "컴퓨터     3\n",
            "Name: 학점, dtype: int64\n"
          ]
        }
      ]
    },
    {
      "cell_type": "code",
      "metadata": {
        "colab": {
          "base_uri": "https://localhost:8080/"
        },
        "id": "_WPHCf6ixKri",
        "outputId": "6a40aed9-2fd9-4bd6-bed3-863413321921"
      },
      "source": [
        "# 각 그룹의 평균 구하기\n",
        "\n",
        "print(score.mean())"
      ],
      "execution_count": 140,
      "outputs": [
        {
          "output_type": "stream",
          "name": "stdout",
          "text": [
            "학과\n",
            "경영학과    4.450000\n",
            "컴퓨터     3.133333\n",
            "Name: 학점, dtype: float64\n"
          ]
        }
      ]
    },
    {
      "cell_type": "code",
      "metadata": {
        "colab": {
          "base_uri": "https://localhost:8080/",
          "height": 0
        },
        "id": "-1LobRGRxTlx",
        "outputId": "a303f31d-b366-46e6-b416-b87fae672844"
      },
      "source": [
        "# DataFrame 자체를 grouping!\n",
        "\n",
        "my_dict = {\n",
        "    '학과' : ['컴퓨터', '경영학과', '컴퓨터', '경영학과', '컴퓨터'],\n",
        "    '학년' : [1,2,3,2,3],\n",
        "    '이름' : ['홍길동', '신사임당', '김연아', '아이유', '강감찬'],\n",
        "    '학점' : [1.5, 4.4, 3.7, 4.5, 4.2]\n",
        "}\n",
        "df = pd.DataFrame(my_dict)\n",
        "display(df)"
      ],
      "execution_count": 141,
      "outputs": [
        {
          "output_type": "display_data",
          "data": {
            "text/html": [
              "<div>\n",
              "<style scoped>\n",
              "    .dataframe tbody tr th:only-of-type {\n",
              "        vertical-align: middle;\n",
              "    }\n",
              "\n",
              "    .dataframe tbody tr th {\n",
              "        vertical-align: top;\n",
              "    }\n",
              "\n",
              "    .dataframe thead th {\n",
              "        text-align: right;\n",
              "    }\n",
              "</style>\n",
              "<table border=\"1\" class=\"dataframe\">\n",
              "  <thead>\n",
              "    <tr style=\"text-align: right;\">\n",
              "      <th></th>\n",
              "      <th>학과</th>\n",
              "      <th>학년</th>\n",
              "      <th>이름</th>\n",
              "      <th>학점</th>\n",
              "    </tr>\n",
              "  </thead>\n",
              "  <tbody>\n",
              "    <tr>\n",
              "      <th>0</th>\n",
              "      <td>컴퓨터</td>\n",
              "      <td>1</td>\n",
              "      <td>홍길동</td>\n",
              "      <td>1.5</td>\n",
              "    </tr>\n",
              "    <tr>\n",
              "      <th>1</th>\n",
              "      <td>경영학과</td>\n",
              "      <td>2</td>\n",
              "      <td>신사임당</td>\n",
              "      <td>4.4</td>\n",
              "    </tr>\n",
              "    <tr>\n",
              "      <th>2</th>\n",
              "      <td>컴퓨터</td>\n",
              "      <td>3</td>\n",
              "      <td>김연아</td>\n",
              "      <td>3.7</td>\n",
              "    </tr>\n",
              "    <tr>\n",
              "      <th>3</th>\n",
              "      <td>경영학과</td>\n",
              "      <td>2</td>\n",
              "      <td>아이유</td>\n",
              "      <td>4.5</td>\n",
              "    </tr>\n",
              "    <tr>\n",
              "      <th>4</th>\n",
              "      <td>컴퓨터</td>\n",
              "      <td>3</td>\n",
              "      <td>강감찬</td>\n",
              "      <td>4.2</td>\n",
              "    </tr>\n",
              "  </tbody>\n",
              "</table>\n",
              "</div>"
            ],
            "text/plain": [
              "     학과  학년    이름   학점\n",
              "0   컴퓨터   1   홍길동  1.5\n",
              "1  경영학과   2  신사임당  4.4\n",
              "2   컴퓨터   3   김연아  3.7\n",
              "3  경영학과   2   아이유  4.5\n",
              "4   컴퓨터   3   강감찬  4.2"
            ]
          },
          "metadata": {}
        }
      ]
    },
    {
      "cell_type": "code",
      "metadata": {
        "id": "NjA4xD6rxXgU"
      },
      "source": [
        "score = df.groupby(df['학과'])"
      ],
      "execution_count": 142,
      "outputs": []
    },
    {
      "cell_type": "code",
      "metadata": {
        "colab": {
          "base_uri": "https://localhost:8080/"
        },
        "id": "f6AB4858xa89",
        "outputId": "c01e255d-b66f-48b5-d77a-1f62c2616f29"
      },
      "source": [
        "print(score.get_group('경영학과'))"
      ],
      "execution_count": 143,
      "outputs": [
        {
          "output_type": "stream",
          "name": "stdout",
          "text": [
            "     학과  학년    이름   학점\n",
            "1  경영학과   2  신사임당  4.4\n",
            "3  경영학과   2   아이유  4.5\n"
          ]
        }
      ]
    },
    {
      "cell_type": "code",
      "metadata": {
        "colab": {
          "base_uri": "https://localhost:8080/"
        },
        "id": "gGj03K6TxcDn",
        "outputId": "aaeb5eac-f58a-44e3-b848-5e20f78bf0a6"
      },
      "source": [
        "print(score.size())"
      ],
      "execution_count": 144,
      "outputs": [
        {
          "output_type": "stream",
          "name": "stdout",
          "text": [
            "학과\n",
            "경영학과    2\n",
            "컴퓨터     3\n",
            "dtype: int64\n"
          ]
        }
      ]
    },
    {
      "cell_type": "code",
      "metadata": {
        "colab": {
          "base_uri": "https://localhost:8080/",
          "height": 0
        },
        "id": "lOOruAWwxfRK",
        "outputId": "635aec48-721e-4dac-e8ef-f2db22aa6663"
      },
      "source": [
        "# 여기서 dept는 '학과' , group = '학과'로 묶인 dataFrame\n",
        "# 첫번째, 경영학과 / 경영학과의 DataFrame data\n",
        "# 두번째, 컴퓨터 / 컴퓨터 학과의  DataFrame data\n",
        "for dept, group in score:\n",
        "    print(dept)\n",
        "    display(group)"
      ],
      "execution_count": 145,
      "outputs": [
        {
          "output_type": "stream",
          "name": "stdout",
          "text": [
            "경영학과\n"
          ]
        },
        {
          "output_type": "display_data",
          "data": {
            "text/html": [
              "<div>\n",
              "<style scoped>\n",
              "    .dataframe tbody tr th:only-of-type {\n",
              "        vertical-align: middle;\n",
              "    }\n",
              "\n",
              "    .dataframe tbody tr th {\n",
              "        vertical-align: top;\n",
              "    }\n",
              "\n",
              "    .dataframe thead th {\n",
              "        text-align: right;\n",
              "    }\n",
              "</style>\n",
              "<table border=\"1\" class=\"dataframe\">\n",
              "  <thead>\n",
              "    <tr style=\"text-align: right;\">\n",
              "      <th></th>\n",
              "      <th>학과</th>\n",
              "      <th>학년</th>\n",
              "      <th>이름</th>\n",
              "      <th>학점</th>\n",
              "    </tr>\n",
              "  </thead>\n",
              "  <tbody>\n",
              "    <tr>\n",
              "      <th>1</th>\n",
              "      <td>경영학과</td>\n",
              "      <td>2</td>\n",
              "      <td>신사임당</td>\n",
              "      <td>4.4</td>\n",
              "    </tr>\n",
              "    <tr>\n",
              "      <th>3</th>\n",
              "      <td>경영학과</td>\n",
              "      <td>2</td>\n",
              "      <td>아이유</td>\n",
              "      <td>4.5</td>\n",
              "    </tr>\n",
              "  </tbody>\n",
              "</table>\n",
              "</div>"
            ],
            "text/plain": [
              "     학과  학년    이름   학점\n",
              "1  경영학과   2  신사임당  4.4\n",
              "3  경영학과   2   아이유  4.5"
            ]
          },
          "metadata": {}
        },
        {
          "output_type": "stream",
          "name": "stdout",
          "text": [
            "컴퓨터\n"
          ]
        },
        {
          "output_type": "display_data",
          "data": {
            "text/html": [
              "<div>\n",
              "<style scoped>\n",
              "    .dataframe tbody tr th:only-of-type {\n",
              "        vertical-align: middle;\n",
              "    }\n",
              "\n",
              "    .dataframe tbody tr th {\n",
              "        vertical-align: top;\n",
              "    }\n",
              "\n",
              "    .dataframe thead th {\n",
              "        text-align: right;\n",
              "    }\n",
              "</style>\n",
              "<table border=\"1\" class=\"dataframe\">\n",
              "  <thead>\n",
              "    <tr style=\"text-align: right;\">\n",
              "      <th></th>\n",
              "      <th>학과</th>\n",
              "      <th>학년</th>\n",
              "      <th>이름</th>\n",
              "      <th>학점</th>\n",
              "    </tr>\n",
              "  </thead>\n",
              "  <tbody>\n",
              "    <tr>\n",
              "      <th>0</th>\n",
              "      <td>컴퓨터</td>\n",
              "      <td>1</td>\n",
              "      <td>홍길동</td>\n",
              "      <td>1.5</td>\n",
              "    </tr>\n",
              "    <tr>\n",
              "      <th>2</th>\n",
              "      <td>컴퓨터</td>\n",
              "      <td>3</td>\n",
              "      <td>김연아</td>\n",
              "      <td>3.7</td>\n",
              "    </tr>\n",
              "    <tr>\n",
              "      <th>4</th>\n",
              "      <td>컴퓨터</td>\n",
              "      <td>3</td>\n",
              "      <td>강감찬</td>\n",
              "      <td>4.2</td>\n",
              "    </tr>\n",
              "  </tbody>\n",
              "</table>\n",
              "</div>"
            ],
            "text/plain": [
              "    학과  학년   이름   학점\n",
              "0  컴퓨터   1  홍길동  1.5\n",
              "2  컴퓨터   3  김연아  3.7\n",
              "4  컴퓨터   3  강감찬  4.2"
            ]
          },
          "metadata": {}
        }
      ]
    },
    {
      "cell_type": "markdown",
      "metadata": {
        "id": "geNWaN51xmyf"
      },
      "source": [
        "# Quiz"
      ]
    },
    {
      "cell_type": "markdown",
      "metadata": {
        "id": "dAyy8L3rx5TL"
      },
      "source": [
        "#### Q1\n",
        "- 각 사용자별 평균 평점\n",
        "- 각 영화별 평균 평점"
      ]
    },
    {
      "cell_type": "code",
      "metadata": {
        "colab": {
          "base_uri": "https://localhost:8080/",
          "height": 0
        },
        "id": "_sfc8s-FLdrM",
        "outputId": "99edb95b-c226-4785-b798-c3319a55cdf7"
      },
      "source": [
        "path ='/content/drive/MyDrive/Google Colab/강의자료/넘파이&판다스/ratings.csv'\n",
        "df = pd.read_csv(path)\n",
        "df"
      ],
      "execution_count": 147,
      "outputs": [
        {
          "output_type": "execute_result",
          "data": {
            "text/html": [
              "<div>\n",
              "<style scoped>\n",
              "    .dataframe tbody tr th:only-of-type {\n",
              "        vertical-align: middle;\n",
              "    }\n",
              "\n",
              "    .dataframe tbody tr th {\n",
              "        vertical-align: top;\n",
              "    }\n",
              "\n",
              "    .dataframe thead th {\n",
              "        text-align: right;\n",
              "    }\n",
              "</style>\n",
              "<table border=\"1\" class=\"dataframe\">\n",
              "  <thead>\n",
              "    <tr style=\"text-align: right;\">\n",
              "      <th></th>\n",
              "      <th>userId</th>\n",
              "      <th>movieId</th>\n",
              "      <th>rating</th>\n",
              "      <th>timestamp</th>\n",
              "    </tr>\n",
              "  </thead>\n",
              "  <tbody>\n",
              "    <tr>\n",
              "      <th>0</th>\n",
              "      <td>1</td>\n",
              "      <td>1</td>\n",
              "      <td>4.0</td>\n",
              "      <td>964982703</td>\n",
              "    </tr>\n",
              "    <tr>\n",
              "      <th>1</th>\n",
              "      <td>1</td>\n",
              "      <td>3</td>\n",
              "      <td>4.0</td>\n",
              "      <td>964981247</td>\n",
              "    </tr>\n",
              "    <tr>\n",
              "      <th>2</th>\n",
              "      <td>1</td>\n",
              "      <td>6</td>\n",
              "      <td>4.0</td>\n",
              "      <td>964982224</td>\n",
              "    </tr>\n",
              "    <tr>\n",
              "      <th>3</th>\n",
              "      <td>1</td>\n",
              "      <td>47</td>\n",
              "      <td>5.0</td>\n",
              "      <td>964983815</td>\n",
              "    </tr>\n",
              "    <tr>\n",
              "      <th>4</th>\n",
              "      <td>1</td>\n",
              "      <td>50</td>\n",
              "      <td>5.0</td>\n",
              "      <td>964982931</td>\n",
              "    </tr>\n",
              "    <tr>\n",
              "      <th>...</th>\n",
              "      <td>...</td>\n",
              "      <td>...</td>\n",
              "      <td>...</td>\n",
              "      <td>...</td>\n",
              "    </tr>\n",
              "    <tr>\n",
              "      <th>100831</th>\n",
              "      <td>610</td>\n",
              "      <td>166534</td>\n",
              "      <td>4.0</td>\n",
              "      <td>1493848402</td>\n",
              "    </tr>\n",
              "    <tr>\n",
              "      <th>100832</th>\n",
              "      <td>610</td>\n",
              "      <td>168248</td>\n",
              "      <td>5.0</td>\n",
              "      <td>1493850091</td>\n",
              "    </tr>\n",
              "    <tr>\n",
              "      <th>100833</th>\n",
              "      <td>610</td>\n",
              "      <td>168250</td>\n",
              "      <td>5.0</td>\n",
              "      <td>1494273047</td>\n",
              "    </tr>\n",
              "    <tr>\n",
              "      <th>100834</th>\n",
              "      <td>610</td>\n",
              "      <td>168252</td>\n",
              "      <td>5.0</td>\n",
              "      <td>1493846352</td>\n",
              "    </tr>\n",
              "    <tr>\n",
              "      <th>100835</th>\n",
              "      <td>610</td>\n",
              "      <td>170875</td>\n",
              "      <td>3.0</td>\n",
              "      <td>1493846415</td>\n",
              "    </tr>\n",
              "  </tbody>\n",
              "</table>\n",
              "<p>100836 rows × 4 columns</p>\n",
              "</div>"
            ],
            "text/plain": [
              "        userId  movieId  rating   timestamp\n",
              "0            1        1     4.0   964982703\n",
              "1            1        3     4.0   964981247\n",
              "2            1        6     4.0   964982224\n",
              "3            1       47     5.0   964983815\n",
              "4            1       50     5.0   964982931\n",
              "...        ...      ...     ...         ...\n",
              "100831     610   166534     4.0  1493848402\n",
              "100832     610   168248     5.0  1493850091\n",
              "100833     610   168250     5.0  1494273047\n",
              "100834     610   168252     5.0  1493846352\n",
              "100835     610   170875     3.0  1493846415\n",
              "\n",
              "[100836 rows x 4 columns]"
            ]
          },
          "metadata": {},
          "execution_count": 147
        }
      ]
    },
    {
      "cell_type": "code",
      "metadata": {
        "id": "Cri9FU_ZyH2u"
      },
      "source": [
        "rating = df['rating'].groupby(df['userId'])"
      ],
      "execution_count": 148,
      "outputs": []
    },
    {
      "cell_type": "code",
      "metadata": {
        "colab": {
          "base_uri": "https://localhost:8080/"
        },
        "id": "tId_it8WyHWa",
        "outputId": "f87fbe04-1c69-42b4-c9fb-448a673af023"
      },
      "source": [
        "rating.mean()"
      ],
      "execution_count": 149,
      "outputs": [
        {
          "output_type": "execute_result",
          "data": {
            "text/plain": [
              "userId\n",
              "1      4.366379\n",
              "2      3.948276\n",
              "3      2.435897\n",
              "4      3.555556\n",
              "5      3.636364\n",
              "         ...   \n",
              "606    3.657399\n",
              "607    3.786096\n",
              "608    3.134176\n",
              "609    3.270270\n",
              "610    3.688556\n",
              "Name: rating, Length: 610, dtype: float64"
            ]
          },
          "metadata": {},
          "execution_count": 149
        }
      ]
    },
    {
      "cell_type": "code",
      "metadata": {
        "colab": {
          "base_uri": "https://localhost:8080/"
        },
        "id": "5tIfAimbMQtQ",
        "outputId": "68e4166b-66b7-4a1a-a1a3-962589ffb4f0"
      },
      "source": [
        "rating = df['rating'].groupby(df['movieId'])\n",
        "rating.mean()"
      ],
      "execution_count": 150,
      "outputs": [
        {
          "output_type": "execute_result",
          "data": {
            "text/plain": [
              "movieId\n",
              "1         3.920930\n",
              "2         3.431818\n",
              "3         3.259615\n",
              "4         2.357143\n",
              "5         3.071429\n",
              "            ...   \n",
              "193581    4.000000\n",
              "193583    3.500000\n",
              "193585    3.500000\n",
              "193587    3.500000\n",
              "193609    4.000000\n",
              "Name: rating, Length: 9724, dtype: float64"
            ]
          },
          "metadata": {},
          "execution_count": 150
        }
      ]
    },
    {
      "cell_type": "markdown",
      "metadata": {
        "id": "jOQfZoFFyHA6"
      },
      "source": [
        "#### Q2\n",
        "- 평균 평점이 가장 높은(낮은) 영화 제목 출력"
      ]
    },
    {
      "cell_type": "code",
      "metadata": {
        "colab": {
          "base_uri": "https://localhost:8080/",
          "height": 0
        },
        "id": "iKpCfUDbyO5B",
        "outputId": "90e217a6-a1be-4131-9e6d-d009a8bedf9e"
      },
      "source": [
        "movie_path ='/content/drive/MyDrive/Google Colab/강의자료/넘파이&판다스/movies.csv'\n",
        "movie_df = pd.read_csv(movie_path)\n",
        "movie_df"
      ],
      "execution_count": 151,
      "outputs": [
        {
          "output_type": "execute_result",
          "data": {
            "text/html": [
              "<div>\n",
              "<style scoped>\n",
              "    .dataframe tbody tr th:only-of-type {\n",
              "        vertical-align: middle;\n",
              "    }\n",
              "\n",
              "    .dataframe tbody tr th {\n",
              "        vertical-align: top;\n",
              "    }\n",
              "\n",
              "    .dataframe thead th {\n",
              "        text-align: right;\n",
              "    }\n",
              "</style>\n",
              "<table border=\"1\" class=\"dataframe\">\n",
              "  <thead>\n",
              "    <tr style=\"text-align: right;\">\n",
              "      <th></th>\n",
              "      <th>movieId</th>\n",
              "      <th>title</th>\n",
              "      <th>genres</th>\n",
              "    </tr>\n",
              "  </thead>\n",
              "  <tbody>\n",
              "    <tr>\n",
              "      <th>0</th>\n",
              "      <td>1</td>\n",
              "      <td>Toy Story (1995)</td>\n",
              "      <td>Adventure|Animation|Children|Comedy|Fantasy</td>\n",
              "    </tr>\n",
              "    <tr>\n",
              "      <th>1</th>\n",
              "      <td>2</td>\n",
              "      <td>Jumanji (1995)</td>\n",
              "      <td>Adventure|Children|Fantasy</td>\n",
              "    </tr>\n",
              "    <tr>\n",
              "      <th>2</th>\n",
              "      <td>3</td>\n",
              "      <td>Grumpier Old Men (1995)</td>\n",
              "      <td>Comedy|Romance</td>\n",
              "    </tr>\n",
              "    <tr>\n",
              "      <th>3</th>\n",
              "      <td>4</td>\n",
              "      <td>Waiting to Exhale (1995)</td>\n",
              "      <td>Comedy|Drama|Romance</td>\n",
              "    </tr>\n",
              "    <tr>\n",
              "      <th>4</th>\n",
              "      <td>5</td>\n",
              "      <td>Father of the Bride Part II (1995)</td>\n",
              "      <td>Comedy</td>\n",
              "    </tr>\n",
              "    <tr>\n",
              "      <th>...</th>\n",
              "      <td>...</td>\n",
              "      <td>...</td>\n",
              "      <td>...</td>\n",
              "    </tr>\n",
              "    <tr>\n",
              "      <th>9737</th>\n",
              "      <td>193581</td>\n",
              "      <td>Black Butler: Book of the Atlantic (2017)</td>\n",
              "      <td>Action|Animation|Comedy|Fantasy</td>\n",
              "    </tr>\n",
              "    <tr>\n",
              "      <th>9738</th>\n",
              "      <td>193583</td>\n",
              "      <td>No Game No Life: Zero (2017)</td>\n",
              "      <td>Animation|Comedy|Fantasy</td>\n",
              "    </tr>\n",
              "    <tr>\n",
              "      <th>9739</th>\n",
              "      <td>193585</td>\n",
              "      <td>Flint (2017)</td>\n",
              "      <td>Drama</td>\n",
              "    </tr>\n",
              "    <tr>\n",
              "      <th>9740</th>\n",
              "      <td>193587</td>\n",
              "      <td>Bungo Stray Dogs: Dead Apple (2018)</td>\n",
              "      <td>Action|Animation</td>\n",
              "    </tr>\n",
              "    <tr>\n",
              "      <th>9741</th>\n",
              "      <td>193609</td>\n",
              "      <td>Andrew Dice Clay: Dice Rules (1991)</td>\n",
              "      <td>Comedy</td>\n",
              "    </tr>\n",
              "  </tbody>\n",
              "</table>\n",
              "<p>9742 rows × 3 columns</p>\n",
              "</div>"
            ],
            "text/plain": [
              "      movieId  ...                                       genres\n",
              "0           1  ...  Adventure|Animation|Children|Comedy|Fantasy\n",
              "1           2  ...                   Adventure|Children|Fantasy\n",
              "2           3  ...                               Comedy|Romance\n",
              "3           4  ...                         Comedy|Drama|Romance\n",
              "4           5  ...                                       Comedy\n",
              "...       ...  ...                                          ...\n",
              "9737   193581  ...              Action|Animation|Comedy|Fantasy\n",
              "9738   193583  ...                     Animation|Comedy|Fantasy\n",
              "9739   193585  ...                                        Drama\n",
              "9740   193587  ...                             Action|Animation\n",
              "9741   193609  ...                                       Comedy\n",
              "\n",
              "[9742 rows x 3 columns]"
            ]
          },
          "metadata": {},
          "execution_count": 151
        }
      ]
    },
    {
      "cell_type": "code",
      "metadata": {
        "id": "4V6Lpy2byPJu"
      },
      "source": [
        "new_df = pd.merge(movie_df, rating.mean(), on='movieId', how='outer')\n",
        "new_df"
      ],
      "execution_count": null,
      "outputs": []
    },
    {
      "cell_type": "code",
      "metadata": {
        "colab": {
          "base_uri": "https://localhost:8080/",
          "height": 0
        },
        "id": "MeDY-Ih8Nw8Y",
        "outputId": "488fbe96-cb87-471c-fc5c-ebbf948fe57e"
      },
      "source": [
        "new_df = new_df.sort_values(by='rating', ascending=False)\n",
        "new_df"
      ],
      "execution_count": 177,
      "outputs": [
        {
          "output_type": "execute_result",
          "data": {
            "text/html": [
              "<div>\n",
              "<style scoped>\n",
              "    .dataframe tbody tr th:only-of-type {\n",
              "        vertical-align: middle;\n",
              "    }\n",
              "\n",
              "    .dataframe tbody tr th {\n",
              "        vertical-align: top;\n",
              "    }\n",
              "\n",
              "    .dataframe thead th {\n",
              "        text-align: right;\n",
              "    }\n",
              "</style>\n",
              "<table border=\"1\" class=\"dataframe\">\n",
              "  <thead>\n",
              "    <tr style=\"text-align: right;\">\n",
              "      <th></th>\n",
              "      <th>movieId</th>\n",
              "      <th>title</th>\n",
              "      <th>genres</th>\n",
              "      <th>rating</th>\n",
              "    </tr>\n",
              "  </thead>\n",
              "  <tbody>\n",
              "    <tr>\n",
              "      <th>7656</th>\n",
              "      <td>88448</td>\n",
              "      <td>Paper Birds (Pájaros de papel) (2010)</td>\n",
              "      <td>Comedy|Drama</td>\n",
              "      <td>5.0</td>\n",
              "    </tr>\n",
              "    <tr>\n",
              "      <th>9586</th>\n",
              "      <td>175397</td>\n",
              "      <td>In the blue sea, in the white foam. (1984)</td>\n",
              "      <td>Animation|Children|Fantasy</td>\n",
              "      <td>5.0</td>\n",
              "    </tr>\n",
              "    <tr>\n",
              "      <th>7364</th>\n",
              "      <td>78836</td>\n",
              "      <td>Enter the Void (2009)</td>\n",
              "      <td>Drama</td>\n",
              "      <td>5.0</td>\n",
              "    </tr>\n",
              "    <tr>\n",
              "      <th>7332</th>\n",
              "      <td>77846</td>\n",
              "      <td>12 Angry Men (1997)</td>\n",
              "      <td>Crime|Drama</td>\n",
              "      <td>5.0</td>\n",
              "    </tr>\n",
              "    <tr>\n",
              "      <th>3759</th>\n",
              "      <td>5244</td>\n",
              "      <td>Shogun Assassin (1980)</td>\n",
              "      <td>Action|Adventure</td>\n",
              "      <td>5.0</td>\n",
              "    </tr>\n",
              "    <tr>\n",
              "      <th>...</th>\n",
              "      <td>...</td>\n",
              "      <td>...</td>\n",
              "      <td>...</td>\n",
              "      <td>...</td>\n",
              "    </tr>\n",
              "    <tr>\n",
              "      <th>5749</th>\n",
              "      <td>30892</td>\n",
              "      <td>In the Realms of the Unreal (2004)</td>\n",
              "      <td>Animation|Documentary</td>\n",
              "      <td>NaN</td>\n",
              "    </tr>\n",
              "    <tr>\n",
              "      <th>5824</th>\n",
              "      <td>32160</td>\n",
              "      <td>Twentieth Century (1934)</td>\n",
              "      <td>Comedy</td>\n",
              "      <td>NaN</td>\n",
              "    </tr>\n",
              "    <tr>\n",
              "      <th>5837</th>\n",
              "      <td>32371</td>\n",
              "      <td>Call Northside 777 (1948)</td>\n",
              "      <td>Crime|Drama|Film-Noir</td>\n",
              "      <td>NaN</td>\n",
              "    </tr>\n",
              "    <tr>\n",
              "      <th>5957</th>\n",
              "      <td>34482</td>\n",
              "      <td>Browning Version, The (1951)</td>\n",
              "      <td>Drama</td>\n",
              "      <td>NaN</td>\n",
              "    </tr>\n",
              "    <tr>\n",
              "      <th>7565</th>\n",
              "      <td>85565</td>\n",
              "      <td>Chalet Girl (2011)</td>\n",
              "      <td>Comedy|Romance</td>\n",
              "      <td>NaN</td>\n",
              "    </tr>\n",
              "  </tbody>\n",
              "</table>\n",
              "<p>9742 rows × 4 columns</p>\n",
              "</div>"
            ],
            "text/plain": [
              "      movieId  ... rating\n",
              "7656    88448  ...    5.0\n",
              "9586   175397  ...    5.0\n",
              "7364    78836  ...    5.0\n",
              "7332    77846  ...    5.0\n",
              "3759     5244  ...    5.0\n",
              "...       ...  ...    ...\n",
              "5749    30892  ...    NaN\n",
              "5824    32160  ...    NaN\n",
              "5837    32371  ...    NaN\n",
              "5957    34482  ...    NaN\n",
              "7565    85565  ...    NaN\n",
              "\n",
              "[9742 rows x 4 columns]"
            ]
          },
          "metadata": {},
          "execution_count": 177
        }
      ]
    },
    {
      "cell_type": "markdown",
      "metadata": {
        "id": "jnv7s_4fyPhu"
      },
      "source": [
        "#### Q3\n",
        "- 코미디 영화 중 평균 평점이 가장 높은(낮은) 영화 제목 출력"
      ]
    },
    {
      "cell_type": "code",
      "metadata": {
        "colab": {
          "base_uri": "https://localhost:8080/",
          "height": 0
        },
        "id": "gPXbrmU9ycbs",
        "outputId": "3e937d15-5d4b-4ec4-a0d9-caf7fdaef93f"
      },
      "source": [
        "new_df"
      ],
      "execution_count": 158,
      "outputs": [
        {
          "output_type": "execute_result",
          "data": {
            "text/html": [
              "<div>\n",
              "<style scoped>\n",
              "    .dataframe tbody tr th:only-of-type {\n",
              "        vertical-align: middle;\n",
              "    }\n",
              "\n",
              "    .dataframe tbody tr th {\n",
              "        vertical-align: top;\n",
              "    }\n",
              "\n",
              "    .dataframe thead th {\n",
              "        text-align: right;\n",
              "    }\n",
              "</style>\n",
              "<table border=\"1\" class=\"dataframe\">\n",
              "  <thead>\n",
              "    <tr style=\"text-align: right;\">\n",
              "      <th></th>\n",
              "      <th>movieId</th>\n",
              "      <th>title</th>\n",
              "      <th>genres</th>\n",
              "      <th>rating</th>\n",
              "    </tr>\n",
              "  </thead>\n",
              "  <tbody>\n",
              "    <tr>\n",
              "      <th>7656</th>\n",
              "      <td>88448</td>\n",
              "      <td>Paper Birds (Pájaros de papel) (2010)</td>\n",
              "      <td>Comedy|Drama</td>\n",
              "      <td>5.0</td>\n",
              "    </tr>\n",
              "    <tr>\n",
              "      <th>8107</th>\n",
              "      <td>100556</td>\n",
              "      <td>Act of Killing, The (2012)</td>\n",
              "      <td>Documentary</td>\n",
              "      <td>5.0</td>\n",
              "    </tr>\n",
              "    <tr>\n",
              "      <th>9083</th>\n",
              "      <td>143031</td>\n",
              "      <td>Jump In! (2007)</td>\n",
              "      <td>Comedy|Drama|Romance</td>\n",
              "      <td>5.0</td>\n",
              "    </tr>\n",
              "    <tr>\n",
              "      <th>9094</th>\n",
              "      <td>143511</td>\n",
              "      <td>Human (2015)</td>\n",
              "      <td>Documentary</td>\n",
              "      <td>5.0</td>\n",
              "    </tr>\n",
              "    <tr>\n",
              "      <th>9096</th>\n",
              "      <td>143559</td>\n",
              "      <td>L.A. Slasher (2015)</td>\n",
              "      <td>Comedy|Crime|Fantasy</td>\n",
              "      <td>5.0</td>\n",
              "    </tr>\n",
              "    <tr>\n",
              "      <th>...</th>\n",
              "      <td>...</td>\n",
              "      <td>...</td>\n",
              "      <td>...</td>\n",
              "      <td>...</td>\n",
              "    </tr>\n",
              "    <tr>\n",
              "      <th>5749</th>\n",
              "      <td>30892</td>\n",
              "      <td>In the Realms of the Unreal (2004)</td>\n",
              "      <td>Animation|Documentary</td>\n",
              "      <td>NaN</td>\n",
              "    </tr>\n",
              "    <tr>\n",
              "      <th>5824</th>\n",
              "      <td>32160</td>\n",
              "      <td>Twentieth Century (1934)</td>\n",
              "      <td>Comedy</td>\n",
              "      <td>NaN</td>\n",
              "    </tr>\n",
              "    <tr>\n",
              "      <th>5837</th>\n",
              "      <td>32371</td>\n",
              "      <td>Call Northside 777 (1948)</td>\n",
              "      <td>Crime|Drama|Film-Noir</td>\n",
              "      <td>NaN</td>\n",
              "    </tr>\n",
              "    <tr>\n",
              "      <th>5957</th>\n",
              "      <td>34482</td>\n",
              "      <td>Browning Version, The (1951)</td>\n",
              "      <td>Drama</td>\n",
              "      <td>NaN</td>\n",
              "    </tr>\n",
              "    <tr>\n",
              "      <th>7565</th>\n",
              "      <td>85565</td>\n",
              "      <td>Chalet Girl (2011)</td>\n",
              "      <td>Comedy|Romance</td>\n",
              "      <td>NaN</td>\n",
              "    </tr>\n",
              "  </tbody>\n",
              "</table>\n",
              "<p>9742 rows × 4 columns</p>\n",
              "</div>"
            ],
            "text/plain": [
              "      movieId  ... rating\n",
              "7656    88448  ...    5.0\n",
              "8107   100556  ...    5.0\n",
              "9083   143031  ...    5.0\n",
              "9094   143511  ...    5.0\n",
              "9096   143559  ...    5.0\n",
              "...       ...  ...    ...\n",
              "5749    30892  ...    NaN\n",
              "5824    32160  ...    NaN\n",
              "5837    32371  ...    NaN\n",
              "5957    34482  ...    NaN\n",
              "7565    85565  ...    NaN\n",
              "\n",
              "[9742 rows x 4 columns]"
            ]
          },
          "metadata": {},
          "execution_count": 158
        }
      ]
    },
    {
      "cell_type": "code",
      "metadata": {
        "colab": {
          "base_uri": "https://localhost:8080/",
          "height": 0
        },
        "id": "ElEBxSh0OQEv",
        "outputId": "c9a0fb9e-29db-42fe-d2ee-c2aa2c572e28"
      },
      "source": [
        "comedy = new_df[new_df['genres'].str.contains('Comedy')]\n",
        "comedy "
      ],
      "execution_count": 160,
      "outputs": [
        {
          "output_type": "execute_result",
          "data": {
            "text/html": [
              "<div>\n",
              "<style scoped>\n",
              "    .dataframe tbody tr th:only-of-type {\n",
              "        vertical-align: middle;\n",
              "    }\n",
              "\n",
              "    .dataframe tbody tr th {\n",
              "        vertical-align: top;\n",
              "    }\n",
              "\n",
              "    .dataframe thead th {\n",
              "        text-align: right;\n",
              "    }\n",
              "</style>\n",
              "<table border=\"1\" class=\"dataframe\">\n",
              "  <thead>\n",
              "    <tr style=\"text-align: right;\">\n",
              "      <th></th>\n",
              "      <th>movieId</th>\n",
              "      <th>title</th>\n",
              "      <th>genres</th>\n",
              "      <th>rating</th>\n",
              "    </tr>\n",
              "  </thead>\n",
              "  <tbody>\n",
              "    <tr>\n",
              "      <th>7656</th>\n",
              "      <td>88448</td>\n",
              "      <td>Paper Birds (Pájaros de papel) (2010)</td>\n",
              "      <td>Comedy|Drama</td>\n",
              "      <td>5.0</td>\n",
              "    </tr>\n",
              "    <tr>\n",
              "      <th>9083</th>\n",
              "      <td>143031</td>\n",
              "      <td>Jump In! (2007)</td>\n",
              "      <td>Comedy|Drama|Romance</td>\n",
              "      <td>5.0</td>\n",
              "    </tr>\n",
              "    <tr>\n",
              "      <th>9096</th>\n",
              "      <td>143559</td>\n",
              "      <td>L.A. Slasher (2015)</td>\n",
              "      <td>Comedy|Crime|Fantasy</td>\n",
              "      <td>5.0</td>\n",
              "    </tr>\n",
              "    <tr>\n",
              "      <th>8154</th>\n",
              "      <td>102217</td>\n",
              "      <td>Bill Hicks: Revelations (1993)</td>\n",
              "      <td>Comedy</td>\n",
              "      <td>5.0</td>\n",
              "    </tr>\n",
              "    <tr>\n",
              "      <th>9122</th>\n",
              "      <td>145994</td>\n",
              "      <td>Formula of Love (1984)</td>\n",
              "      <td>Comedy</td>\n",
              "      <td>5.0</td>\n",
              "    </tr>\n",
              "    <tr>\n",
              "      <th>...</th>\n",
              "      <td>...</td>\n",
              "      <td>...</td>\n",
              "      <td>...</td>\n",
              "      <td>...</td>\n",
              "    </tr>\n",
              "    <tr>\n",
              "      <th>6160</th>\n",
              "      <td>44243</td>\n",
              "      <td>Leprechaun 4: In Space (1997)</td>\n",
              "      <td>Comedy|Fantasy|Horror|Sci-Fi</td>\n",
              "      <td>0.5</td>\n",
              "    </tr>\n",
              "    <tr>\n",
              "      <th>7553</th>\n",
              "      <td>85334</td>\n",
              "      <td>Hard Ticket to Hawaii (1987)</td>\n",
              "      <td>Action|Comedy</td>\n",
              "      <td>0.5</td>\n",
              "    </tr>\n",
              "    <tr>\n",
              "      <th>4704</th>\n",
              "      <td>7020</td>\n",
              "      <td>Proof (1991)</td>\n",
              "      <td>Comedy|Drama|Romance</td>\n",
              "      <td>NaN</td>\n",
              "    </tr>\n",
              "    <tr>\n",
              "      <th>5824</th>\n",
              "      <td>32160</td>\n",
              "      <td>Twentieth Century (1934)</td>\n",
              "      <td>Comedy</td>\n",
              "      <td>NaN</td>\n",
              "    </tr>\n",
              "    <tr>\n",
              "      <th>7565</th>\n",
              "      <td>85565</td>\n",
              "      <td>Chalet Girl (2011)</td>\n",
              "      <td>Comedy|Romance</td>\n",
              "      <td>NaN</td>\n",
              "    </tr>\n",
              "  </tbody>\n",
              "</table>\n",
              "<p>3756 rows × 4 columns</p>\n",
              "</div>"
            ],
            "text/plain": [
              "      movieId  ... rating\n",
              "7656    88448  ...    5.0\n",
              "9083   143031  ...    5.0\n",
              "9096   143559  ...    5.0\n",
              "8154   102217  ...    5.0\n",
              "9122   145994  ...    5.0\n",
              "...       ...  ...    ...\n",
              "6160    44243  ...    0.5\n",
              "7553    85334  ...    0.5\n",
              "4704     7020  ...    NaN\n",
              "5824    32160  ...    NaN\n",
              "7565    85565  ...    NaN\n",
              "\n",
              "[3756 rows x 4 columns]"
            ]
          },
          "metadata": {},
          "execution_count": 160
        }
      ]
    },
    {
      "cell_type": "code",
      "metadata": {
        "id": "ktAn5UkeRUzJ"
      },
      "source": [
        "comedy = comedy.dropna(axis=0)"
      ],
      "execution_count": 171,
      "outputs": []
    },
    {
      "cell_type": "code",
      "metadata": {
        "colab": {
          "base_uri": "https://localhost:8080/"
        },
        "id": "rta4EJMdycyg",
        "outputId": "7c819b24-4593-4cd4-bc36-64f773756504"
      },
      "source": [
        "rating_max = comedy['rating'].max()\n",
        "result = comedy['title'][comedy['rating']==rating_max]\n",
        "result"
      ],
      "execution_count": 176,
      "outputs": [
        {
          "output_type": "execute_result",
          "data": {
            "text/plain": [
              "7656                Paper Birds (Pájaros de papel) (2010)\n",
              "9083                                      Jump In! (2007)\n",
              "9096                                  L.A. Slasher (2015)\n",
              "8154                       Bill Hicks: Revelations (1993)\n",
              "9122                               Formula of Love (1984)\n",
              "                              ...                        \n",
              "9536                  Last Year's Snow Was Falling (1983)\n",
              "3974       Son of the Bride (Hijo de la novia, El) (2001)\n",
              "9423        Alesha Popovich and Tugarin the Dragon (2004)\n",
              "2338                                My Man Godfrey (1957)\n",
              "5287    Woman Is a Woman, A (femme est une femme, Une)...\n",
              "Name: title, Length: 144, dtype: object"
            ]
          },
          "metadata": {},
          "execution_count": 176
        }
      ]
    }
  ]
}