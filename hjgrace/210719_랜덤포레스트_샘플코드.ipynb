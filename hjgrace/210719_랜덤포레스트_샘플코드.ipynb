{
 "cells": [
  {
   "cell_type": "code",
   "execution_count": 33,
   "id": "removed-belarus",
   "metadata": {},
   "outputs": [],
   "source": [
    "import numpy as np\n",
    "import pandas as pd\n",
    "from sklearn.model_selection import train_test_split\n",
    "from sklearn.ensemble import RandomForestClassifier"
   ]
  },
  {
   "cell_type": "code",
   "execution_count": 3,
   "id": "boxed-sound",
   "metadata": {},
   "outputs": [],
   "source": [
    "path = './'\n",
    "lsv20 = pd.read_excel(path, sheet_name=6)"
   ]
  },
  {
   "cell_type": "code",
   "execution_count": 42,
   "id": "generous-subdivision",
   "metadata": {},
   "outputs": [],
   "source": [
    "new_lsv20 = lsv20.drop(lsv20.columns[0], axis=1, inplace=False)"
   ]
  },
  {
   "cell_type": "code",
   "execution_count": null,
   "id": "billion-implement",
   "metadata": {},
   "outputs": [],
   "source": [
    "# 평균 이하는 0 , 평균 초과는 1 레이블 달기\n",
    "lsv20['lable'] = 0\n",
    "lsv20.loc[lsv20['전체_mean'] > lsv20['전체_mean'].mean(), 'lable' ] = 1"
   ]
  },
  {
   "cell_type": "code",
   "execution_count": null,
   "id": "hollow-stocks",
   "metadata": {},
   "outputs": [],
   "source": [
    "# 평균 컬럼 삭제하기\n",
    "lsv20.drop(lsv20.columns[-6:-1], axis=1, inplace=True)"
   ]
  },
  {
   "cell_type": "code",
   "execution_count": 22,
   "id": "commercial-surveillance",
   "metadata": {},
   "outputs": [],
   "source": [
    "X = lsv20.iloc[:,1:-1].copy()\n",
    "y = lsv20.iloc[:,-1:].copy()"
   ]
  },
  {
   "cell_type": "code",
   "execution_count": 27,
   "id": "different-judge",
   "metadata": {},
   "outputs": [],
   "source": [
    "x_train, x_test, y_train, y_test = train_test_split(lsv20.iloc[:,1:-1], lsv20['lable'], \n",
    "                                                    test_size=0.2, \n",
    "                                                    stratify=lsv20['lable'], \n",
    "                                                    random_state=0)"
   ]
  },
  {
   "cell_type": "code",
   "execution_count": 34,
   "id": "beautiful-burst",
   "metadata": {},
   "outputs": [
    {
     "data": {
      "text/plain": [
       "RandomForestClassifier(random_state=1)"
      ]
     },
     "execution_count": 34,
     "metadata": {},
     "output_type": "execute_result"
    }
   ],
   "source": [
    "# 랜덤 포레스트 객체 정의\n",
    "forest = RandomForestClassifier(n_estimators=100, random_state=1)\n",
    "forest.fit(x_train, y_train)"
   ]
  },
  {
   "cell_type": "code",
   "execution_count": 36,
   "id": "passive-catering",
   "metadata": {},
   "outputs": [
    {
     "name": "stdout",
     "output_type": "stream",
     "text": [
      "훈련 세트 정확도: 1.000\n",
      "테스트 세트 정확도: 0.979\n"
     ]
    }
   ],
   "source": [
    "print('훈련 세트 정확도: {:.3f}'.format(forest.score(x_train, y_train)))\n",
    "print('테스트 세트 정확도: {:.3f}'.format(forest.score(x_test, y_test)))"
   ]
  }
 ],
 "metadata": {
  "kernelspec": {
   "display_name": "Python [conda env:.conda-data_env_tf2] *",
   "language": "python",
   "name": "conda-env-.conda-data_env_tf2-py"
  },
  "language_info": {
   "codemirror_mode": {
    "name": "ipython",
    "version": 3
   },
   "file_extension": ".py",
   "mimetype": "text/x-python",
   "name": "python",
   "nbconvert_exporter": "python",
   "pygments_lexer": "ipython3",
   "version": "3.7.10"
  }
 },
 "nbformat": 4,
 "nbformat_minor": 5
}
