{
 "cells": [
  {
   "cell_type": "code",
   "execution_count": 13,
   "id": "c3f95e75",
   "metadata": {},
   "outputs": [
    {
     "name": "stdout",
     "output_type": "stream",
     "text": [
      "1\n",
      "3.14\n",
      "문자열 입니다.\n",
      "False\n"
     ]
    }
   ],
   "source": [
    "# 한줄 주석 입력 방법 : # 을 맨 앞에 둔다.\n",
    "\n",
    "'''\n",
    "두줄 이상 주석을 입력하는 방법\n",
    "''' ''' (작은따옴표 사이)\n",
    "\"\"\" \"\"\" (큰 따옴표 사이)\n",
    "이렇게 입력할 수 있습니다.\n",
    "계속 적용이 됩니다.\n",
    "'''\n",
    "\n",
    "# 출력 (print())\n",
    "# 쥬피터 노트북 실행 단축키 : ctrl + enter\n",
    "print(1)\n",
    "print(3.14)fds\n",
    "print('문자열 입니다.')\n",
    "print(False)"
   ]
  },
  {
   "cell_type": "code",
   "execution_count": 30,
   "id": "c3e16328",
   "metadata": {
    "scrolled": true
   },
   "outputs": [
    {
     "name": "stdout",
     "output_type": "stream",
     "text": [
      "0.75\n",
      "<class 'float'>\n",
      "81\n",
      "<class 'int'>\n",
      "0\n",
      "<class 'int'>\n",
      "33\n",
      "<class 'int'>\n"
     ]
    }
   ],
   "source": [
    "# numeric(수치형 데이터 타입)\n",
    "# 주의해야할 점 : 연산은 같은 데이터 타입끼리 실행\n",
    "# ex. 3(int) + 3.14(float) = 6.14(float)\n",
    "\n",
    "# 정수(int)\n",
    "# 실수(float)\n",
    "# 복소수(complex)\n",
    "\n",
    "# 나누기\n",
    "a = 3/4\n",
    "print(a)\n",
    "print(type(a))\n",
    "\n",
    "# 제곱\n",
    "a = 3**4\n",
    "print(a)\n",
    "print(type(a))\n",
    "\n",
    "# 나누기 후 나머지만 출력\n",
    "a = 100 % 2\n",
    "print(a)\n",
    "print(type(a))\n",
    "\n",
    "# 나누기 후 몫 만 알고 싶을 때\n",
    "a = 100 // 3\n",
    "print(a)\n",
    "print(type(a))"
   ]
  }
 ],
 "metadata": {
  "kernelspec": {
   "display_name": "Python [conda env:hjgrace] *",
   "language": "python",
   "name": "conda-env-hjgrace-py"
  },
  "language_info": {
   "codemirror_mode": {
    "name": "ipython",
    "version": 3
   },
   "file_extension": ".py",
   "mimetype": "text/x-python",
   "name": "python",
   "nbconvert_exporter": "python",
   "pygments_lexer": "ipython3",
   "version": "3.7.11"
  }
 },
 "nbformat": 4,
 "nbformat_minor": 5
}
