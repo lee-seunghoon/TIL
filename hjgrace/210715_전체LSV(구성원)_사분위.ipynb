{
 "cells": [
  {
   "cell_type": "markdown",
   "id": "portuguese-equity",
   "metadata": {},
   "source": [
    "## 라이브러리"
   ]
  },
  {
   "cell_type": "code",
   "execution_count": 1,
   "id": "fixed-skiing",
   "metadata": {},
   "outputs": [],
   "source": [
    "import numpy as np\n",
    "import pandas as pd\n",
    "import matplotlib.pyplot as plt\n",
    "import datetime"
   ]
  },
  {
   "cell_type": "markdown",
   "id": "varying-exclusion",
   "metadata": {},
   "source": [
    "## 데이터 불러오기"
   ]
  },
  {
   "cell_type": "code",
   "execution_count": 2,
   "id": "moral-timer",
   "metadata": {},
   "outputs": [],
   "source": [
    "# 전체 평균 데이터\n",
    "lsv_path = './210715_구성원LSV(18-20).xlsx'\n",
    "lsv18 = pd.read_excel(lsv_path, sheet_name=2)\n",
    "lsv19 = pd.read_excel(lsv_path, sheet_name=1)\n",
    "lsv20 = pd.read_excel(lsv_path, sheet_name=0)"
   ]
  },
  {
   "cell_type": "code",
   "execution_count": 26,
   "id": "lesser-participant",
   "metadata": {},
   "outputs": [],
   "source": [
    "# 항목별 평균 데이터\n",
    "lsv_qgroup_path = './210715_구성원LSV(18-20).xlsx'\n",
    "lsv18_group_mean = pd.read_excel(lsv_qgroup_path, sheet_name=5)\n",
    "lsv19_group_mean = pd.read_excel(lsv_qgroup_path, sheet_name=4)\n",
    "lsv20_group_mean = pd.read_excel(lsv_qgroup_path, sheet_name=3)"
   ]
  },
  {
   "cell_type": "markdown",
   "id": "paperback-logic",
   "metadata": {},
   "source": [
    "## 함수 모음"
   ]
  },
  {
   "cell_type": "code",
   "execution_count": 5,
   "id": "technological-republic",
   "metadata": {},
   "outputs": [],
   "source": [
    "def lsv_groupby(lsv,year):\n",
    "    now = datetime.datetime.now()\n",
    "    lsv_G = lsv.groupby(lsv['num'])\n",
    "    lsv_G_mean = lsv_G.mean()\n",
    "    new_lsv = pd.DataFrame({\n",
    "        'num':lsv_G_mean.index.values,\n",
    "        'mean':lsv_G_mean.values.ravel()\n",
    "    })\n",
    "    #new_lsv.to_excel('{}_LSV{}.xlsx'.format(now.strftime('%Y%m%d')[2:], str(year)[2:]), index=False)\n",
    "    return new_lsv"
   ]
  },
  {
   "cell_type": "code",
   "execution_count": 4,
   "id": "mexican-teaching",
   "metadata": {},
   "outputs": [],
   "source": [
    "def lsv_df(lsv_mean, year):\n",
    "    lsv_df = pd.DataFrame()\n",
    "    iqr = np.percentile(lsv_mean['mean'],75) - np.percentile(lsv_mean['mean'],25)\n",
    "    q1 = np.percentile(lsv_mean['mean'],25)\n",
    "    q2 = np.percentile(lsv_mean['mean'],50)\n",
    "    q3 = np.percentile(lsv_mean['mean'],75)\n",
    "\n",
    "    lsv_df['최대'] = [max(lsv_mean['mean'])]\n",
    "    lsv_df['최소'] = [min(lsv_mean['mean'])]\n",
    "    lsv_df['평균'] = [lsv_mean['mean'].mean()]\n",
    "    lsv_df['최저한계치'] = [q1-(1.5*iqr)]\n",
    "    lsv_df['제1사분위'] = [q1]\n",
    "    lsv_df['제2사분위'] = [q2]\n",
    "    lsv_df['제3사분위'] = [q3]\n",
    "    lsv_df.index = ['{}년도 구성원 LSV'.format(year)]\n",
    "    \n",
    "    return lsv_df"
   ]
  },
  {
   "cell_type": "code",
   "execution_count": 24,
   "id": "exempt-ballot",
   "metadata": {},
   "outputs": [],
   "source": [
    "def lsv_count(lsv_mean, year):\n",
    "    lsv_df = pd.DataFrame()\n",
    "    iqr = np.percentile(lsv_mean['mean'],75) - np.percentile(lsv_mean['mean'],25)\n",
    "    q1 = np.percentile(lsv_mean['mean'],25)\n",
    "    q2 = np.percentile(lsv_mean['mean'],50)\n",
    "    q3 = np.percentile(lsv_mean['mean'],75)\n",
    "    \n",
    "    lsv_df['총 인원'] = [len(lsv_mean['mean'])]\n",
    "    lsv_df['평균 이상'] = [len(lsv_mean['mean'][lsv_mean['mean']>lsv_mean['mean'].mean()])]\n",
    "    lsv_df['평균 이하'] = [len(lsv_mean['mean'][lsv_mean['mean']<lsv_mean['mean'].mean()])]\n",
    "    lsv_df['1분위'] = [len(lsv_mean['mean'][lsv_mean['mean']<q1])]\n",
    "    lsv_df['2분위'] = [len(lsv_mean['mean'][(lsv_mean['mean']>=q1) & (lsv_mean['mean']<q2)])]\n",
    "    lsv_df['3분위'] = [len(lsv_mean['mean'][(lsv_mean['mean']>=q2) & (lsv_mean['mean']<q3)])]\n",
    "    lsv_df['4분위'] = [len(lsv_mean['mean'][lsv_mean['mean']>=q3])]\n",
    "    lsv_df.index = ['{}년도 구성원 LSV 구간별 인원'.format(year)]\n",
    "    \n",
    "    return lsv_df"
   ]
  },
  {
   "cell_type": "code",
   "execution_count": 14,
   "id": "pleased-substance",
   "metadata": {},
   "outputs": [],
   "source": [
    "def lsv_boxplot(new_lsv,year):\n",
    "    plt.figure(figsize=(3,9))\n",
    "    plt.boxplot([new_lsv['mean']],\n",
    "                labels=['{}LSV'.format(str(year)[2:])],\n",
    "               showmeans=True)\n",
    "    plt.show()\n",
    "    return None"
   ]
  },
  {
   "cell_type": "markdown",
   "id": "finnish-magnet",
   "metadata": {},
   "source": [
    "## 2018년 ~ 2020년 LSV 전체 평균 "
   ]
  },
  {
   "cell_type": "markdown",
   "id": "desperate-latvia",
   "metadata": {},
   "source": [
    "### 2018년 LSV 전체 평균\n",
    "> - 질문 항목별 구분 없이 전체 질문에 대해 평균 구하고, 동일사번에 대해 최종 평균 구함"
   ]
  },
  {
   "cell_type": "code",
   "execution_count": null,
   "id": "thorough-wright",
   "metadata": {},
   "outputs": [],
   "source": [
    "# 사번별 총 평균\n",
    "lsv18_group = lsv_groupby(lsv18,2018)"
   ]
  },
  {
   "cell_type": "code",
   "execution_count": 8,
   "id": "dress-master",
   "metadata": {},
   "outputs": [
    {
     "data": {
      "text/html": [
       "<div>\n",
       "<style scoped>\n",
       "    .dataframe tbody tr th:only-of-type {\n",
       "        vertical-align: middle;\n",
       "    }\n",
       "\n",
       "    .dataframe tbody tr th {\n",
       "        vertical-align: top;\n",
       "    }\n",
       "\n",
       "    .dataframe thead th {\n",
       "        text-align: right;\n",
       "    }\n",
       "</style>\n",
       "<table border=\"1\" class=\"dataframe\">\n",
       "  <thead>\n",
       "    <tr style=\"text-align: right;\">\n",
       "      <th></th>\n",
       "      <th>최대</th>\n",
       "      <th>최소</th>\n",
       "      <th>평균</th>\n",
       "      <th>최저한계치</th>\n",
       "      <th>제1사분위</th>\n",
       "      <th>제2사분위</th>\n",
       "      <th>제3사분위</th>\n",
       "    </tr>\n",
       "  </thead>\n",
       "  <tbody>\n",
       "    <tr>\n",
       "      <th>2018년도 구성원 LSV</th>\n",
       "      <td>7.0</td>\n",
       "      <td>1.882353</td>\n",
       "      <td>5.425038</td>\n",
       "      <td>3.323799</td>\n",
       "      <td>4.972579</td>\n",
       "      <td>5.558824</td>\n",
       "      <td>6.071765</td>\n",
       "    </tr>\n",
       "  </tbody>\n",
       "</table>\n",
       "</div>"
      ],
      "text/plain": [
       "                 최대        최소        평균     최저한계치     제1사분위     제2사분위  \\\n",
       "2018년도 구성원 LSV  7.0  1.882353  5.425038  3.323799  4.972579  5.558824   \n",
       "\n",
       "                   제3사분위  \n",
       "2018년도 구성원 LSV  6.071765  "
      ]
     },
     "execution_count": 8,
     "metadata": {},
     "output_type": "execute_result"
    }
   ],
   "source": [
    "# 사분위 데이터 프레임\n",
    "lsv18_df = lsv_df(lsv18_group,2018)\n",
    "lsv18_df"
   ]
  },
  {
   "cell_type": "code",
   "execution_count": 25,
   "id": "seeing-ticket",
   "metadata": {},
   "outputs": [
    {
     "data": {
      "text/html": [
       "<div>\n",
       "<style scoped>\n",
       "    .dataframe tbody tr th:only-of-type {\n",
       "        vertical-align: middle;\n",
       "    }\n",
       "\n",
       "    .dataframe tbody tr th {\n",
       "        vertical-align: top;\n",
       "    }\n",
       "\n",
       "    .dataframe thead th {\n",
       "        text-align: right;\n",
       "    }\n",
       "</style>\n",
       "<table border=\"1\" class=\"dataframe\">\n",
       "  <thead>\n",
       "    <tr style=\"text-align: right;\">\n",
       "      <th></th>\n",
       "      <th>총 인원</th>\n",
       "      <th>평균 이상</th>\n",
       "      <th>평균 이하</th>\n",
       "      <th>1분위</th>\n",
       "      <th>2분위</th>\n",
       "      <th>3분위</th>\n",
       "      <th>4분위</th>\n",
       "    </tr>\n",
       "  </thead>\n",
       "  <tbody>\n",
       "    <tr>\n",
       "      <th>2018년도 구성원 LSV 구간별 인원</th>\n",
       "      <td>1048</td>\n",
       "      <td>604</td>\n",
       "      <td>444</td>\n",
       "      <td>262</td>\n",
       "      <td>261</td>\n",
       "      <td>263</td>\n",
       "      <td>262</td>\n",
       "    </tr>\n",
       "  </tbody>\n",
       "</table>\n",
       "</div>"
      ],
      "text/plain": [
       "                       총 인원  평균 이상  평균 이하  1분위  2분위  3분위  4분위\n",
       "2018년도 구성원 LSV 구간별 인원  1048    604    444  262  261  263  262"
      ]
     },
     "execution_count": 25,
     "metadata": {},
     "output_type": "execute_result"
    }
   ],
   "source": [
    "# 사분위 구간별 인원\n",
    "lsv18_count = lsv_count(lsv18_group,2018)\n",
    "lsv18_count"
   ]
  },
  {
   "cell_type": "code",
   "execution_count": 15,
   "id": "alternate-evans",
   "metadata": {
    "scrolled": false
   },
   "outputs": [
    {
     "data": {
      "image/png": "[encoded data removed]",
      "text/plain": [
       "<Figure size 216x648 with 1 Axes>"
      ]
     },
     "metadata": {
      "needs_background": "light"
     },
     "output_type": "display_data"
    }
   ],
   "source": [
    "# 박스플랏\n",
    "lsv_boxplot(lsv18_group, 2018)"
   ]
  },
  {
   "cell_type": "markdown",
   "id": "protected-southwest",
   "metadata": {},
   "source": [
    "### 2019년 LSV 전체 평균\n",
    "> - 질문 항목별 구분 전체 질문에 대해 평균 구하고, 동일사번에 대해 최종 평균 구함"
   ]
  },
  {
   "cell_type": "code",
   "execution_count": 27,
   "id": "cardiovascular-reasoning",
   "metadata": {},
   "outputs": [],
   "source": [
    "# 사번별 총 평균\n",
    "lsv19_group = lsv_groupby(lsv19,2019)"
   ]
  },
  {
   "cell_type": "code",
   "execution_count": 28,
   "id": "helpful-reggae",
   "metadata": {},
   "outputs": [
    {
     "data": {
      "text/html": [
       "<div>\n",
       "<style scoped>\n",
       "    .dataframe tbody tr th:only-of-type {\n",
       "        vertical-align: middle;\n",
       "    }\n",
       "\n",
       "    .dataframe tbody tr th {\n",
       "        vertical-align: top;\n",
       "    }\n",
       "\n",
       "    .dataframe thead th {\n",
       "        text-align: right;\n",
       "    }\n",
       "</style>\n",
       "<table border=\"1\" class=\"dataframe\">\n",
       "  <thead>\n",
       "    <tr style=\"text-align: right;\">\n",
       "      <th></th>\n",
       "      <th>최대</th>\n",
       "      <th>최소</th>\n",
       "      <th>평균</th>\n",
       "      <th>최저한계치</th>\n",
       "      <th>제1사분위</th>\n",
       "      <th>제2사분위</th>\n",
       "      <th>제3사분위</th>\n",
       "    </tr>\n",
       "  </thead>\n",
       "  <tbody>\n",
       "    <tr>\n",
       "      <th>2019년도 구성원 LSV</th>\n",
       "      <td>5.0</td>\n",
       "      <td>1.593838</td>\n",
       "      <td>3.76191</td>\n",
       "      <td>2.25569</td>\n",
       "      <td>3.422837</td>\n",
       "      <td>3.814815</td>\n",
       "      <td>4.200936</td>\n",
       "    </tr>\n",
       "  </tbody>\n",
       "</table>\n",
       "</div>"
      ],
      "text/plain": [
       "                 최대        최소       평균    최저한계치     제1사분위     제2사분위     제3사분위\n",
       "2019년도 구성원 LSV  5.0  1.593838  3.76191  2.25569  3.422837  3.814815  4.200936"
      ]
     },
     "execution_count": 28,
     "metadata": {},
     "output_type": "execute_result"
    }
   ],
   "source": [
    "# 사분위 데이터 프레임\n",
    "lsv19_df = lsv_df(lsv19_group,2019)\n",
    "lsv19_df"
   ]
  },
  {
   "cell_type": "code",
   "execution_count": 29,
   "id": "relevant-architect",
   "metadata": {},
   "outputs": [
    {
     "data": {
      "text/html": [
       "<div>\n",
       "<style scoped>\n",
       "    .dataframe tbody tr th:only-of-type {\n",
       "        vertical-align: middle;\n",
       "    }\n",
       "\n",
       "    .dataframe tbody tr th {\n",
       "        vertical-align: top;\n",
       "    }\n",
       "\n",
       "    .dataframe thead th {\n",
       "        text-align: right;\n",
       "    }\n",
       "</style>\n",
       "<table border=\"1\" class=\"dataframe\">\n",
       "  <thead>\n",
       "    <tr style=\"text-align: right;\">\n",
       "      <th></th>\n",
       "      <th>총 인원</th>\n",
       "      <th>평균 이상</th>\n",
       "      <th>평균 이하</th>\n",
       "      <th>1분위</th>\n",
       "      <th>2분위</th>\n",
       "      <th>3분위</th>\n",
       "      <th>4분위</th>\n",
       "    </tr>\n",
       "  </thead>\n",
       "  <tbody>\n",
       "    <tr>\n",
       "      <th>2019년도 구성원 LSV 구간별 인원</th>\n",
       "      <td>1187</td>\n",
       "      <td>644</td>\n",
       "      <td>543</td>\n",
       "      <td>297</td>\n",
       "      <td>296</td>\n",
       "      <td>297</td>\n",
       "      <td>297</td>\n",
       "    </tr>\n",
       "  </tbody>\n",
       "</table>\n",
       "</div>"
      ],
      "text/plain": [
       "                       총 인원  평균 이상  평균 이하  1분위  2분위  3분위  4분위\n",
       "2019년도 구성원 LSV 구간별 인원  1187    644    543  297  296  297  297"
      ]
     },
     "execution_count": 29,
     "metadata": {},
     "output_type": "execute_result"
    }
   ],
   "source": [
    "# 사분위 구간별 인원\n",
    "lsv19_count = lsv_count(lsv19_group,2019)\n",
    "lsv19_count"
   ]
  },
  {
   "cell_type": "code",
   "execution_count": 30,
   "id": "promising-medicine",
   "metadata": {},
   "outputs": [
    {
     "data": {
      "image/png": "[encoded data removed]",
      "text/plain": [
       "<Figure size 216x648 with 1 Axes>"
      ]
     },
     "metadata": {
      "needs_background": "light"
     },
     "output_type": "display_data"
    }
   ],
   "source": [
    "# 박스플랏\n",
    "lsv_boxplot(lsv19_group, 2019)"
   ]
  },
  {
   "cell_type": "markdown",
   "id": "tracked-frame",
   "metadata": {},
   "source": [
    "### 2020년 LSV 전체 평균\n",
    "> - 질문 항목별 구분 전체 질문에 대해 평균 구하고, 동일사번에 대해 최종 평균 구함"
   ]
  },
  {
   "cell_type": "code",
   "execution_count": 31,
   "id": "outside-motor",
   "metadata": {},
   "outputs": [],
   "source": [
    "# 사번별 총 평균\n",
    "lsv20_group = lsv_groupby(lsv20,2020)"
   ]
  },
  {
   "cell_type": "code",
   "execution_count": 32,
   "id": "prerequisite-printing",
   "metadata": {},
   "outputs": [
    {
     "data": {
      "text/html": [
       "<div>\n",
       "<style scoped>\n",
       "    .dataframe tbody tr th:only-of-type {\n",
       "        vertical-align: middle;\n",
       "    }\n",
       "\n",
       "    .dataframe tbody tr th {\n",
       "        vertical-align: top;\n",
       "    }\n",
       "\n",
       "    .dataframe thead th {\n",
       "        text-align: right;\n",
       "    }\n",
       "</style>\n",
       "<table border=\"1\" class=\"dataframe\">\n",
       "  <thead>\n",
       "    <tr style=\"text-align: right;\">\n",
       "      <th></th>\n",
       "      <th>최대</th>\n",
       "      <th>최소</th>\n",
       "      <th>평균</th>\n",
       "      <th>최저한계치</th>\n",
       "      <th>제1사분위</th>\n",
       "      <th>제2사분위</th>\n",
       "      <th>제3사분위</th>\n",
       "    </tr>\n",
       "  </thead>\n",
       "  <tbody>\n",
       "    <tr>\n",
       "      <th>2020년도 구성원 LSV</th>\n",
       "      <td>5.0</td>\n",
       "      <td>1.826667</td>\n",
       "      <td>4.008524</td>\n",
       "      <td>2.616667</td>\n",
       "      <td>3.7</td>\n",
       "      <td>4.095238</td>\n",
       "      <td>4.422222</td>\n",
       "    </tr>\n",
       "  </tbody>\n",
       "</table>\n",
       "</div>"
      ],
      "text/plain": [
       "                 최대        최소        평균     최저한계치  제1사분위     제2사분위     제3사분위\n",
       "2020년도 구성원 LSV  5.0  1.826667  4.008524  2.616667    3.7  4.095238  4.422222"
      ]
     },
     "execution_count": 32,
     "metadata": {},
     "output_type": "execute_result"
    }
   ],
   "source": [
    "# 사분위 데이터 프레임\n",
    "lsv20_df = lsv_df(lsv20_group,2020)\n",
    "lsv20_df"
   ]
  },
  {
   "cell_type": "code",
   "execution_count": 33,
   "id": "operational-communication",
   "metadata": {},
   "outputs": [
    {
     "data": {
      "text/html": [
       "<div>\n",
       "<style scoped>\n",
       "    .dataframe tbody tr th:only-of-type {\n",
       "        vertical-align: middle;\n",
       "    }\n",
       "\n",
       "    .dataframe tbody tr th {\n",
       "        vertical-align: top;\n",
       "    }\n",
       "\n",
       "    .dataframe thead th {\n",
       "        text-align: right;\n",
       "    }\n",
       "</style>\n",
       "<table border=\"1\" class=\"dataframe\">\n",
       "  <thead>\n",
       "    <tr style=\"text-align: right;\">\n",
       "      <th></th>\n",
       "      <th>총 인원</th>\n",
       "      <th>평균 이상</th>\n",
       "      <th>평균 이하</th>\n",
       "      <th>1분위</th>\n",
       "      <th>2분위</th>\n",
       "      <th>3분위</th>\n",
       "      <th>4분위</th>\n",
       "    </tr>\n",
       "  </thead>\n",
       "  <tbody>\n",
       "    <tr>\n",
       "      <th>2020년도 구성원 LSV 구간별 인원</th>\n",
       "      <td>1153</td>\n",
       "      <td>660</td>\n",
       "      <td>493</td>\n",
       "      <td>288</td>\n",
       "      <td>288</td>\n",
       "      <td>288</td>\n",
       "      <td>289</td>\n",
       "    </tr>\n",
       "  </tbody>\n",
       "</table>\n",
       "</div>"
      ],
      "text/plain": [
       "                       총 인원  평균 이상  평균 이하  1분위  2분위  3분위  4분위\n",
       "2020년도 구성원 LSV 구간별 인원  1153    660    493  288  288  288  289"
      ]
     },
     "execution_count": 33,
     "metadata": {},
     "output_type": "execute_result"
    }
   ],
   "source": [
    "# 사분위 구간별 인원\n",
    "lsv20_count = lsv_count(lsv20_group,2020)\n",
    "lsv20_count"
   ]
  },
  {
   "cell_type": "code",
   "execution_count": 34,
   "id": "organized-broadcasting",
   "metadata": {},
   "outputs": [
    {
     "data": {
      "image/png": "[encoded data removed]",
      "text/plain": [
       "<Figure size 216x648 with 1 Axes>"
      ]
     },
     "metadata": {
      "needs_background": "light"
     },
     "output_type": "display_data"
    }
   ],
   "source": [
    "# 박스플랏\n",
    "lsv_boxplot(lsv20_group, 2020)"
   ]
  },
  {
   "cell_type": "markdown",
   "id": "pending-framework",
   "metadata": {},
   "source": [
    "## 2018년 ~ 2020년 LSV 질문 항목별 평균"
   ]
  },
  {
   "cell_type": "markdown",
   "id": "durable-recovery",
   "metadata": {},
   "source": [
    "### 2018년 LSV 질문 항목별 평균\n",
    "> - 질문 항목별로 구분하여 평균을 구하고 그 평균에 대해 전체 평균 구한 후 동일사번에 대해 최종 평균 구함"
   ]
  },
  {
   "cell_type": "code",
   "execution_count": 35,
   "id": "developmental-insulation",
   "metadata": {},
   "outputs": [],
   "source": [
    "# 사번별 총 평균\n",
    "lsv18_Qgroup = lsv_groupby(lsv18_group_mean,2018)"
   ]
  },
  {
   "cell_type": "code",
   "execution_count": 36,
   "id": "certain-crest",
   "metadata": {},
   "outputs": [
    {
     "data": {
      "text/html": [
       "<div>\n",
       "<style scoped>\n",
       "    .dataframe tbody tr th:only-of-type {\n",
       "        vertical-align: middle;\n",
       "    }\n",
       "\n",
       "    .dataframe tbody tr th {\n",
       "        vertical-align: top;\n",
       "    }\n",
       "\n",
       "    .dataframe thead th {\n",
       "        text-align: right;\n",
       "    }\n",
       "</style>\n",
       "<table border=\"1\" class=\"dataframe\">\n",
       "  <thead>\n",
       "    <tr style=\"text-align: right;\">\n",
       "      <th></th>\n",
       "      <th>최대</th>\n",
       "      <th>최소</th>\n",
       "      <th>평균</th>\n",
       "      <th>최저한계치</th>\n",
       "      <th>제1사분위</th>\n",
       "      <th>제2사분위</th>\n",
       "      <th>제3사분위</th>\n",
       "    </tr>\n",
       "  </thead>\n",
       "  <tbody>\n",
       "    <tr>\n",
       "      <th>2018년도 구성원 LSV</th>\n",
       "      <td>7.0</td>\n",
       "      <td>1.890741</td>\n",
       "      <td>5.434663</td>\n",
       "      <td>3.342535</td>\n",
       "      <td>4.977431</td>\n",
       "      <td>5.573451</td>\n",
       "      <td>6.067361</td>\n",
       "    </tr>\n",
       "  </tbody>\n",
       "</table>\n",
       "</div>"
      ],
      "text/plain": [
       "                 최대        최소        평균     최저한계치     제1사분위     제2사분위  \\\n",
       "2018년도 구성원 LSV  7.0  1.890741  5.434663  3.342535  4.977431  5.573451   \n",
       "\n",
       "                   제3사분위  \n",
       "2018년도 구성원 LSV  6.067361  "
      ]
     },
     "execution_count": 36,
     "metadata": {},
     "output_type": "execute_result"
    }
   ],
   "source": [
    "# 사분위 데이터 프레임\n",
    "lsv18_group_df = lsv_df(lsv18_Qgroup,2018)\n",
    "lsv18_group_df"
   ]
  },
  {
   "cell_type": "code",
   "execution_count": 37,
   "id": "unlimited-attachment",
   "metadata": {},
   "outputs": [
    {
     "data": {
      "text/html": [
       "<div>\n",
       "<style scoped>\n",
       "    .dataframe tbody tr th:only-of-type {\n",
       "        vertical-align: middle;\n",
       "    }\n",
       "\n",
       "    .dataframe tbody tr th {\n",
       "        vertical-align: top;\n",
       "    }\n",
       "\n",
       "    .dataframe thead th {\n",
       "        text-align: right;\n",
       "    }\n",
       "</style>\n",
       "<table border=\"1\" class=\"dataframe\">\n",
       "  <thead>\n",
       "    <tr style=\"text-align: right;\">\n",
       "      <th></th>\n",
       "      <th>총 인원</th>\n",
       "      <th>평균 이상</th>\n",
       "      <th>평균 이하</th>\n",
       "      <th>1분위</th>\n",
       "      <th>2분위</th>\n",
       "      <th>3분위</th>\n",
       "      <th>4분위</th>\n",
       "    </tr>\n",
       "  </thead>\n",
       "  <tbody>\n",
       "    <tr>\n",
       "      <th>2018년도 구성원 LSV 구간별 인원</th>\n",
       "      <td>1048</td>\n",
       "      <td>605</td>\n",
       "      <td>443</td>\n",
       "      <td>262</td>\n",
       "      <td>262</td>\n",
       "      <td>262</td>\n",
       "      <td>262</td>\n",
       "    </tr>\n",
       "  </tbody>\n",
       "</table>\n",
       "</div>"
      ],
      "text/plain": [
       "                       총 인원  평균 이상  평균 이하  1분위  2분위  3분위  4분위\n",
       "2018년도 구성원 LSV 구간별 인원  1048    605    443  262  262  262  262"
      ]
     },
     "execution_count": 37,
     "metadata": {},
     "output_type": "execute_result"
    }
   ],
   "source": [
    "# 사분위 구간별 인원\n",
    "lsv18_group_count = lsv_count(lsv18_Qgroup,2018)\n",
    "lsv18_group_count"
   ]
  },
  {
   "cell_type": "code",
   "execution_count": 38,
   "id": "enormous-contact",
   "metadata": {},
   "outputs": [
    {
     "data": {
      "image/png": "[encoded data removed]",
      "text/plain": [
       "<Figure size 216x648 with 1 Axes>"
      ]
     },
     "metadata": {
      "needs_background": "light"
     },
     "output_type": "display_data"
    }
   ],
   "source": [
    "# 박스플랏\n",
    "lsv_boxplot(lsv18_Qgroup, 2018)"
   ]
  },
  {
   "cell_type": "markdown",
   "id": "certified-index",
   "metadata": {},
   "source": [
    "### 2019년 LSV 질문 항목별 평균\n",
    "> - 질문 항목별로 구분하여 평균을 구하고 그 평균에 대해 전체 평균 구한 후 동일사번에 대해 최종 평균 구함"
   ]
  },
  {
   "cell_type": "code",
   "execution_count": 39,
   "id": "suffering-characteristic",
   "metadata": {},
   "outputs": [],
   "source": [
    "# 사번별 총 평균\n",
    "lsv19_Qgroup = lsv_groupby(lsv19_group_mean,2019)"
   ]
  },
  {
   "cell_type": "code",
   "execution_count": 40,
   "id": "approved-taylor",
   "metadata": {},
   "outputs": [
    {
     "data": {
      "text/html": [
       "<div>\n",
       "<style scoped>\n",
       "    .dataframe tbody tr th:only-of-type {\n",
       "        vertical-align: middle;\n",
       "    }\n",
       "\n",
       "    .dataframe tbody tr th {\n",
       "        vertical-align: top;\n",
       "    }\n",
       "\n",
       "    .dataframe thead th {\n",
       "        text-align: right;\n",
       "    }\n",
       "</style>\n",
       "<table border=\"1\" class=\"dataframe\">\n",
       "  <thead>\n",
       "    <tr style=\"text-align: right;\">\n",
       "      <th></th>\n",
       "      <th>최대</th>\n",
       "      <th>최소</th>\n",
       "      <th>평균</th>\n",
       "      <th>최저한계치</th>\n",
       "      <th>제1사분위</th>\n",
       "      <th>제2사분위</th>\n",
       "      <th>제3사분위</th>\n",
       "    </tr>\n",
       "  </thead>\n",
       "  <tbody>\n",
       "    <tr>\n",
       "      <th>2019년도 구성원 LSV</th>\n",
       "      <td>5.0</td>\n",
       "      <td>1.602778</td>\n",
       "      <td>3.763714</td>\n",
       "      <td>2.266667</td>\n",
       "      <td>3.4225</td>\n",
       "      <td>3.817284</td>\n",
       "      <td>4.193056</td>\n",
       "    </tr>\n",
       "  </tbody>\n",
       "</table>\n",
       "</div>"
      ],
      "text/plain": [
       "                 최대        최소        평균     최저한계치   제1사분위     제2사분위     제3사분위\n",
       "2019년도 구성원 LSV  5.0  1.602778  3.763714  2.266667  3.4225  3.817284  4.193056"
      ]
     },
     "execution_count": 40,
     "metadata": {},
     "output_type": "execute_result"
    }
   ],
   "source": [
    "# 사분위 데이터 프레임\n",
    "lsv19_group_df = lsv_df(lsv19_Qgroup,2019)\n",
    "lsv19_group_df"
   ]
  },
  {
   "cell_type": "code",
   "execution_count": 41,
   "id": "changed-prime",
   "metadata": {},
   "outputs": [
    {
     "data": {
      "text/html": [
       "<div>\n",
       "<style scoped>\n",
       "    .dataframe tbody tr th:only-of-type {\n",
       "        vertical-align: middle;\n",
       "    }\n",
       "\n",
       "    .dataframe tbody tr th {\n",
       "        vertical-align: top;\n",
       "    }\n",
       "\n",
       "    .dataframe thead th {\n",
       "        text-align: right;\n",
       "    }\n",
       "</style>\n",
       "<table border=\"1\" class=\"dataframe\">\n",
       "  <thead>\n",
       "    <tr style=\"text-align: right;\">\n",
       "      <th></th>\n",
       "      <th>총 인원</th>\n",
       "      <th>평균 이상</th>\n",
       "      <th>평균 이하</th>\n",
       "      <th>1분위</th>\n",
       "      <th>2분위</th>\n",
       "      <th>3분위</th>\n",
       "      <th>4분위</th>\n",
       "    </tr>\n",
       "  </thead>\n",
       "  <tbody>\n",
       "    <tr>\n",
       "      <th>2019년도 구성원 LSV 구간별 인원</th>\n",
       "      <td>1187</td>\n",
       "      <td>644</td>\n",
       "      <td>543</td>\n",
       "      <td>297</td>\n",
       "      <td>296</td>\n",
       "      <td>296</td>\n",
       "      <td>298</td>\n",
       "    </tr>\n",
       "  </tbody>\n",
       "</table>\n",
       "</div>"
      ],
      "text/plain": [
       "                       총 인원  평균 이상  평균 이하  1분위  2분위  3분위  4분위\n",
       "2019년도 구성원 LSV 구간별 인원  1187    644    543  297  296  296  298"
      ]
     },
     "execution_count": 41,
     "metadata": {},
     "output_type": "execute_result"
    }
   ],
   "source": [
    "# 사분위 구간별 인원\n",
    "lsv19_group_count = lsv_count(lsv19_Qgroup,2019)\n",
    "lsv19_group_count"
   ]
  },
  {
   "cell_type": "code",
   "execution_count": 42,
   "id": "exclusive-seeking",
   "metadata": {},
   "outputs": [
    {
     "data": {
      "image/png": "[encoded data removed]",
      "text/plain": [
       "<Figure size 216x648 with 1 Axes>"
      ]
     },
     "metadata": {
      "needs_background": "light"
     },
     "output_type": "display_data"
    }
   ],
   "source": [
    "# 박스플랏\n",
    "lsv_boxplot(lsv19_Qgroup, 2019)"
   ]
  },
  {
   "cell_type": "markdown",
   "id": "least-cotton",
   "metadata": {},
   "source": [
    "### 2020년 LSV 질문 항목별 평균\n",
    "> - 질문 항목별로 구분하여 평균을 구하고 그 평균에 대해 전체 평균 구한 후 동일사번에 대해 최종 평균 구함"
   ]
  },
  {
   "cell_type": "code",
   "execution_count": 43,
   "id": "changing-crowd",
   "metadata": {},
   "outputs": [],
   "source": [
    "# 사번별 총 평균\n",
    "lsv20_Qgroup = lsv_groupby(lsv20_group_mean,2020)"
   ]
  },
  {
   "cell_type": "code",
   "execution_count": 44,
   "id": "private-conclusion",
   "metadata": {},
   "outputs": [
    {
     "data": {
      "text/html": [
       "<div>\n",
       "<style scoped>\n",
       "    .dataframe tbody tr th:only-of-type {\n",
       "        vertical-align: middle;\n",
       "    }\n",
       "\n",
       "    .dataframe tbody tr th {\n",
       "        vertical-align: top;\n",
       "    }\n",
       "\n",
       "    .dataframe thead th {\n",
       "        text-align: right;\n",
       "    }\n",
       "</style>\n",
       "<table border=\"1\" class=\"dataframe\">\n",
       "  <thead>\n",
       "    <tr style=\"text-align: right;\">\n",
       "      <th></th>\n",
       "      <th>최대</th>\n",
       "      <th>최소</th>\n",
       "      <th>평균</th>\n",
       "      <th>최저한계치</th>\n",
       "      <th>제1사분위</th>\n",
       "      <th>제2사분위</th>\n",
       "      <th>제3사분위</th>\n",
       "    </tr>\n",
       "  </thead>\n",
       "  <tbody>\n",
       "    <tr>\n",
       "      <th>2020년도 구성원 LSV</th>\n",
       "      <td>5.0</td>\n",
       "      <td>1.658333</td>\n",
       "      <td>3.995822</td>\n",
       "      <td>2.554464</td>\n",
       "      <td>3.68</td>\n",
       "      <td>4.107407</td>\n",
       "      <td>4.430357</td>\n",
       "    </tr>\n",
       "  </tbody>\n",
       "</table>\n",
       "</div>"
      ],
      "text/plain": [
       "                 최대        최소        평균     최저한계치  제1사분위     제2사분위     제3사분위\n",
       "2020년도 구성원 LSV  5.0  1.658333  3.995822  2.554464   3.68  4.107407  4.430357"
      ]
     },
     "execution_count": 44,
     "metadata": {},
     "output_type": "execute_result"
    }
   ],
   "source": [
    "# 사분위 데이터 프레임\n",
    "lsv20_group_df = lsv_df(lsv20_Qgroup,2020)\n",
    "lsv20_group_df"
   ]
  },
  {
   "cell_type": "code",
   "execution_count": 45,
   "id": "further-hungary",
   "metadata": {},
   "outputs": [
    {
     "data": {
      "text/html": [
       "<div>\n",
       "<style scoped>\n",
       "    .dataframe tbody tr th:only-of-type {\n",
       "        vertical-align: middle;\n",
       "    }\n",
       "\n",
       "    .dataframe tbody tr th {\n",
       "        vertical-align: top;\n",
       "    }\n",
       "\n",
       "    .dataframe thead th {\n",
       "        text-align: right;\n",
       "    }\n",
       "</style>\n",
       "<table border=\"1\" class=\"dataframe\">\n",
       "  <thead>\n",
       "    <tr style=\"text-align: right;\">\n",
       "      <th></th>\n",
       "      <th>총 인원</th>\n",
       "      <th>평균 이상</th>\n",
       "      <th>평균 이하</th>\n",
       "      <th>1분위</th>\n",
       "      <th>2분위</th>\n",
       "      <th>3분위</th>\n",
       "      <th>4분위</th>\n",
       "    </tr>\n",
       "  </thead>\n",
       "  <tbody>\n",
       "    <tr>\n",
       "      <th>2020년도 구성원 LSV 구간별 인원</th>\n",
       "      <td>1153</td>\n",
       "      <td>665</td>\n",
       "      <td>488</td>\n",
       "      <td>288</td>\n",
       "      <td>288</td>\n",
       "      <td>288</td>\n",
       "      <td>289</td>\n",
       "    </tr>\n",
       "  </tbody>\n",
       "</table>\n",
       "</div>"
      ],
      "text/plain": [
       "                       총 인원  평균 이상  평균 이하  1분위  2분위  3분위  4분위\n",
       "2020년도 구성원 LSV 구간별 인원  1153    665    488  288  288  288  289"
      ]
     },
     "execution_count": 45,
     "metadata": {},
     "output_type": "execute_result"
    }
   ],
   "source": [
    "# 사분위 구간별 인원\n",
    "lsv20_group_count = lsv_count(lsv20_Qgroup,2020)\n",
    "lsv20_group_count"
   ]
  },
  {
   "cell_type": "code",
   "execution_count": 46,
   "id": "referenced-digest",
   "metadata": {},
   "outputs": [
    {
     "data": {
      "image/png": "[encoded data removed]",
      "text/plain": [
       "<Figure size 216x648 with 1 Axes>"
      ]
     },
     "metadata": {
      "needs_background": "light"
     },
     "output_type": "display_data"
    }
   ],
   "source": [
    "# 박스플랏\n",
    "lsv_boxplot(lsv20_Qgroup, 2020)"
   ]
  }
 ],
 "metadata": {
  "kernelspec": {
   "display_name": "Python [conda env:.conda-data_env_tf2] *",
   "language": "python",
   "name": "conda-env-.conda-data_env_tf2-py"
  },
  "language_info": {
   "codemirror_mode": {
    "name": "ipython",
    "version": 3
   },
   "file_extension": ".py",
   "mimetype": "text/x-python",
   "name": "python",
   "nbconvert_exporter": "python",
   "pygments_lexer": "ipython3",
   "version": "3.7.10"
  }
 },
 "nbformat": 4,
 "nbformat_minor": 5
}
