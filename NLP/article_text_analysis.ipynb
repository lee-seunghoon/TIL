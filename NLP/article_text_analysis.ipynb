{
 "cells": [
  {
   "cell_type": "markdown",
   "metadata": {},
   "source": [
    "# 라이브러리"
   ]
  },
  {
   "cell_type": "code",
   "execution_count": 12,
   "metadata": {},
   "outputs": [],
   "source": [
    "import numpy as np\n",
    "import pandas as pd\n",
    "import matplotlib.pyplot as plt\n",
    "from konlpy.tag import Okt\n",
    "import seaborn as sns\n",
    "import re\n",
    "from sklearn.feature_extraction.text import CountVectorizer, TfidfVectorizer\n",
    "from sklearn.metrics.pairwise import cosine_similarity\n",
    "import warnings\n",
    "warnings.filterwarnings(action='ignore')\n",
    "from wordcloud import WordCloud\n",
    "from collections import Counter\n",
    "from wordcloud import ImageColorGenerator\n",
    "from PIL import Image\n",
    "\n",
    "plt.rcParams['font.family'] = 'Malgun Gothic'\n",
    "plt.rcParams['font.size'] = 20"
   ]
  },
  {
   "cell_type": "markdown",
   "metadata": {},
   "source": [
    "# 사용자 정의함수"
   ]
  },
  {
   "cell_type": "code",
   "execution_count": 78,
   "metadata": {},
   "outputs": [],
   "source": [
    "# 특수문자와 영어 & 조사, 복수관사 제거\n",
    "okt = Okt()\n",
    "\n",
    "def prepro_text(text):\n",
    "    \n",
    "    text = re.sub(r'[^가-힣0-9]', ' ', str(text))\n",
    "\n",
    "    prepro_words = []\n",
    "    for word, tag in okt.pos(text):\n",
    "        if tag not in ['Josa', 'Suffix']:\n",
    "            prepro_words.append(word)\n",
    "\n",
    "    result = ' '.join(prepro_words)\n",
    "\n",
    "    return result "
   ]
  },
  {
   "cell_type": "markdown",
   "metadata": {},
   "source": [
    "# 데이터 로드"
   ]
  },
  {
   "cell_type": "code",
   "execution_count": 3,
   "metadata": {},
   "outputs": [
    {
     "data": {
      "text/html": [
       "<div>\n",
       "<style scoped>\n",
       "    .dataframe tbody tr th:only-of-type {\n",
       "        vertical-align: middle;\n",
       "    }\n",
       "\n",
       "    .dataframe tbody tr th {\n",
       "        vertical-align: top;\n",
       "    }\n",
       "\n",
       "    .dataframe thead th {\n",
       "        text-align: right;\n",
       "    }\n",
       "</style>\n",
       "<table border=\"1\" class=\"dataframe\">\n",
       "  <thead>\n",
       "    <tr style=\"text-align: right;\">\n",
       "      <th></th>\n",
       "      <th>title</th>\n",
       "      <th>text</th>\n",
       "      <th>url</th>\n",
       "      <th>media</th>\n",
       "      <th>date</th>\n",
       "    </tr>\n",
       "  </thead>\n",
       "  <tbody>\n",
       "    <tr>\n",
       "      <th>0</th>\n",
       "      <td>무너지는 일과 삶의 경계···노동이 녹아내린다</td>\n",
       "      <td>이 땅에서 ‘비정규직’이라는 표현이 광범위하게 쓰인 지 20여년. 정부가 신규 일자...</td>\n",
       "      <td>https://news.naver.com/main/read.nhn?mode=LPOD...</td>\n",
       "      <td>경향신문</td>\n",
       "      <td>2020-01-01</td>\n",
       "    </tr>\n",
       "    <tr>\n",
       "      <th>1</th>\n",
       "      <td>일자리 아닌 일거리···'일정치 않음'을 살다 [녹아내리는 노동]</td>\n",
       "      <td>ㆍ①일자리보다 일거리\\n\\n노동의 미래를 모두 알 수는 없다. 다만 현실에서 일어나...</td>\n",
       "      <td>https://news.naver.com/main/read.nhn?mode=LPOD...</td>\n",
       "      <td>경향신문</td>\n",
       "      <td>2020-01-01</td>\n",
       "    </tr>\n",
       "    <tr>\n",
       "      <th>2</th>\n",
       "      <td>이곳은…기계의 정확도 높이는 ‘인간부품’ 육성공장 아닐까 [녹아내리는 노동]</td>\n",
       "      <td>ㆍ①일자리보다 일거리\\n\\nㆍAI 학습데이터 가공 기업 ‘크라우드웍스’ 교육장 참관...</td>\n",
       "      <td>https://news.naver.com/main/read.nhn?mode=LPOD...</td>\n",
       "      <td>경향신문</td>\n",
       "      <td>2020-01-01</td>\n",
       "    </tr>\n",
       "    <tr>\n",
       "      <th>3</th>\n",
       "      <td>지혜씨, 지훈씨를 부탁해! [인포그래픽]</td>\n",
       "      <td>새로 태어나는 아이들은 줄어들고 어르신들은 계속 나이를 먹어 갑니다. 2020년 새...</td>\n",
       "      <td>https://news.naver.com/main/read.nhn?mode=LPOD...</td>\n",
       "      <td>경향신문</td>\n",
       "      <td>2020-01-01</td>\n",
       "    </tr>\n",
       "    <tr>\n",
       "      <th>4</th>\n",
       "      <td>[20대 리포트] “20대, 함부로 판단말라… 내 길 내가 간다”</td>\n",
       "      <td>새천년의 시작과 함께 세상에 나온 2000년대생들이 어느덧 사회 변화를 이끌 20대...</td>\n",
       "      <td>https://news.naver.com/main/read.nhn?mode=LPOD...</td>\n",
       "      <td>국민일보</td>\n",
       "      <td>2020-01-01</td>\n",
       "    </tr>\n",
       "  </tbody>\n",
       "</table>\n",
       "</div>"
      ],
      "text/plain": [
       "                                        title  \\\n",
       "0                   무너지는 일과 삶의 경계···노동이 녹아내린다   \n",
       "1        일자리 아닌 일거리···'일정치 않음'을 살다 [녹아내리는 노동]   \n",
       "2  이곳은…기계의 정확도 높이는 ‘인간부품’ 육성공장 아닐까 [녹아내리는 노동]   \n",
       "3                      지혜씨, 지훈씨를 부탁해! [인포그래픽]   \n",
       "4        [20대 리포트] “20대, 함부로 판단말라… 내 길 내가 간다”   \n",
       "\n",
       "                                                text  \\\n",
       "0  이 땅에서 ‘비정규직’이라는 표현이 광범위하게 쓰인 지 20여년. 정부가 신규 일자...   \n",
       "1  ㆍ①일자리보다 일거리\\n\\n노동의 미래를 모두 알 수는 없다. 다만 현실에서 일어나...   \n",
       "2  ㆍ①일자리보다 일거리\\n\\nㆍAI 학습데이터 가공 기업 ‘크라우드웍스’ 교육장 참관...   \n",
       "3  새로 태어나는 아이들은 줄어들고 어르신들은 계속 나이를 먹어 갑니다. 2020년 새...   \n",
       "4  새천년의 시작과 함께 세상에 나온 2000년대생들이 어느덧 사회 변화를 이끌 20대...   \n",
       "\n",
       "                                                 url media        date  \n",
       "0  https://news.naver.com/main/read.nhn?mode=LPOD...  경향신문  2020-01-01  \n",
       "1  https://news.naver.com/main/read.nhn?mode=LPOD...  경향신문  2020-01-01  \n",
       "2  https://news.naver.com/main/read.nhn?mode=LPOD...  경향신문  2020-01-01  \n",
       "3  https://news.naver.com/main/read.nhn?mode=LPOD...  경향신문  2020-01-01  \n",
       "4  https://news.naver.com/main/read.nhn?mode=LPOD...  국민일보  2020-01-01  "
      ]
     },
     "execution_count": 3,
     "metadata": {},
     "output_type": "execute_result"
    }
   ],
   "source": [
    "df = pd.read_csv('./1-8월 뉴스.csv', encoding='utf-8-sig')\n",
    "df.head()"
   ]
  },
  {
   "cell_type": "code",
   "execution_count": 5,
   "metadata": {},
   "outputs": [
    {
     "data": {
      "text/html": [
       "<div>\n",
       "<style scoped>\n",
       "    .dataframe tbody tr th:only-of-type {\n",
       "        vertical-align: middle;\n",
       "    }\n",
       "\n",
       "    .dataframe tbody tr th {\n",
       "        vertical-align: top;\n",
       "    }\n",
       "\n",
       "    .dataframe thead th {\n",
       "        text-align: right;\n",
       "    }\n",
       "</style>\n",
       "<table border=\"1\" class=\"dataframe\">\n",
       "  <thead>\n",
       "    <tr style=\"text-align: right;\">\n",
       "      <th></th>\n",
       "      <th>title</th>\n",
       "      <th>text</th>\n",
       "      <th>url</th>\n",
       "      <th>media</th>\n",
       "      <th>date</th>\n",
       "    </tr>\n",
       "  </thead>\n",
       "  <tbody>\n",
       "    <tr>\n",
       "      <th>29036</th>\n",
       "      <td>\"2.5단계로 무급휴가 요구\"… 코로나 재유행에 살아난 '갑질'</td>\n",
       "      <td>직장인 A씨는  수도권 사회적 거리두기 2.5단계를 시행하는 30일부터 다음달 6일...</td>\n",
       "      <td>https://news.naver.com/main/read.nhn?mode=LPOD...</td>\n",
       "      <td>한국일보</td>\n",
       "      <td>2020-08-31</td>\n",
       "    </tr>\n",
       "    <tr>\n",
       "      <th>29037</th>\n",
       "      <td>모호한 조치ㆍ 깜깜이 환자 비율 40%육박... 거리두기 2.5단계 효과 있을까</td>\n",
       "      <td>30일 0시부터 서울 전역에 강화된 사회적 거리두기(2.5단계)가 시행됐지만, 전문...</td>\n",
       "      <td>https://news.naver.com/main/read.nhn?mode=LPOD...</td>\n",
       "      <td>한국일보</td>\n",
       "      <td>2020-08-31</td>\n",
       "    </tr>\n",
       "    <tr>\n",
       "      <th>29038</th>\n",
       "      <td>내일부터 서울 시내버스 밤 9시 이후 20% 감축… 주말 수준으로</td>\n",
       "      <td>수도권의 ‘사회적 거리두기’ 2.5단계 시행 기간에 맞춰 서울 시내버스의 야간 운행...</td>\n",
       "      <td>https://news.naver.com/main/read.nhn?mode=LPOD...</td>\n",
       "      <td>한국일보</td>\n",
       "      <td>2020-08-31</td>\n",
       "    </tr>\n",
       "    <tr>\n",
       "      <th>29039</th>\n",
       "      <td>집단휴업 두고 전공의 vs 정부 '강대강 대치'... 의료공백 장기화 불가피</td>\n",
       "      <td>21일부터 10일째 무기한 집단휴진을 이어가고 있는 전공의(인턴ㆍ레지던트)들과 정부...</td>\n",
       "      <td>https://news.naver.com/main/read.nhn?mode=LPOD...</td>\n",
       "      <td>한국일보</td>\n",
       "      <td>2020-08-31</td>\n",
       "    </tr>\n",
       "    <tr>\n",
       "      <th>29040</th>\n",
       "      <td>\"제자 한명이라도 피해 입으면 집단휴진\" 의대 교수까지 화났다</td>\n",
       "      <td>전공의들의 집단휴업을 둘러싼 의ㆍ정 갈등이 고조되는 가운데 의료현장을 책임지는 의대...</td>\n",
       "      <td>https://news.naver.com/main/read.nhn?mode=LPOD...</td>\n",
       "      <td>한국일보</td>\n",
       "      <td>2020-08-31</td>\n",
       "    </tr>\n",
       "  </tbody>\n",
       "</table>\n",
       "</div>"
      ],
      "text/plain": [
       "                                              title  \\\n",
       "29036           \"2.5단계로 무급휴가 요구\"… 코로나 재유행에 살아난 '갑질'   \n",
       "29037  모호한 조치ㆍ 깜깜이 환자 비율 40%육박... 거리두기 2.5단계 효과 있을까   \n",
       "29038          내일부터 서울 시내버스 밤 9시 이후 20% 감축… 주말 수준으로   \n",
       "29039    집단휴업 두고 전공의 vs 정부 '강대강 대치'... 의료공백 장기화 불가피   \n",
       "29040            \"제자 한명이라도 피해 입으면 집단휴진\" 의대 교수까지 화났다   \n",
       "\n",
       "                                                    text  \\\n",
       "29036  직장인 A씨는  수도권 사회적 거리두기 2.5단계를 시행하는 30일부터 다음달 6일...   \n",
       "29037  30일 0시부터 서울 전역에 강화된 사회적 거리두기(2.5단계)가 시행됐지만, 전문...   \n",
       "29038  수도권의 ‘사회적 거리두기’ 2.5단계 시행 기간에 맞춰 서울 시내버스의 야간 운행...   \n",
       "29039  21일부터 10일째 무기한 집단휴진을 이어가고 있는 전공의(인턴ㆍ레지던트)들과 정부...   \n",
       "29040  전공의들의 집단휴업을 둘러싼 의ㆍ정 갈등이 고조되는 가운데 의료현장을 책임지는 의대...   \n",
       "\n",
       "                                                     url media        date  \n",
       "29036  https://news.naver.com/main/read.nhn?mode=LPOD...  한국일보  2020-08-31  \n",
       "29037  https://news.naver.com/main/read.nhn?mode=LPOD...  한국일보  2020-08-31  \n",
       "29038  https://news.naver.com/main/read.nhn?mode=LPOD...  한국일보  2020-08-31  \n",
       "29039  https://news.naver.com/main/read.nhn?mode=LPOD...  한국일보  2020-08-31  \n",
       "29040  https://news.naver.com/main/read.nhn?mode=LPOD...  한국일보  2020-08-31  "
      ]
     },
     "execution_count": 5,
     "metadata": {},
     "output_type": "execute_result"
    }
   ],
   "source": [
    "df.tail()"
   ]
  },
  {
   "cell_type": "markdown",
   "metadata": {},
   "source": [
    "# EDA"
   ]
  },
  {
   "cell_type": "code",
   "execution_count": 8,
   "metadata": {},
   "outputs": [
    {
     "name": "stdout",
     "output_type": "stream",
     "text": [
      "<class 'pandas.core.frame.DataFrame'>\n",
      "RangeIndex: 29041 entries, 0 to 29040\n",
      "Data columns (total 5 columns):\n",
      " #   Column  Non-Null Count  Dtype \n",
      "---  ------  --------------  ----- \n",
      " 0   title   29041 non-null  object\n",
      " 1   text    29041 non-null  object\n",
      " 2   url     29041 non-null  object\n",
      " 3   media   29041 non-null  object\n",
      " 4   date    29041 non-null  object\n",
      "dtypes: object(5)\n",
      "memory usage: 1.1+ MB\n"
     ]
    }
   ],
   "source": [
    "df.info()"
   ]
  },
  {
   "cell_type": "code",
   "execution_count": 9,
   "metadata": {},
   "outputs": [
    {
     "data": {
      "text/plain": [
       "경향신문    3715\n",
       "세계일보    3636\n",
       "조선일보    3435\n",
       "동아일보    3316\n",
       "한국일보    3073\n",
       "문화일보    2891\n",
       "서울신문    2817\n",
       "국민일보    2320\n",
       "한겨레     2276\n",
       "중앙일보    1562\n",
       "Name: media, dtype: int64"
      ]
     },
     "execution_count": 9,
     "metadata": {},
     "output_type": "execute_result"
    }
   ],
   "source": [
    "# 언론사별 분포\n",
    "df['media'].value_counts()"
   ]
  },
  {
   "cell_type": "code",
   "execution_count": 48,
   "metadata": {},
   "outputs": [
    {
     "data": {
      "text/html": [
       "<div>\n",
       "<style scoped>\n",
       "    .dataframe tbody tr th:only-of-type {\n",
       "        vertical-align: middle;\n",
       "    }\n",
       "\n",
       "    .dataframe tbody tr th {\n",
       "        vertical-align: top;\n",
       "    }\n",
       "\n",
       "    .dataframe thead th {\n",
       "        text-align: right;\n",
       "    }\n",
       "</style>\n",
       "<table border=\"1\" class=\"dataframe\">\n",
       "  <thead>\n",
       "    <tr style=\"text-align: right;\">\n",
       "      <th></th>\n",
       "      <th>media</th>\n",
       "      <th>count</th>\n",
       "    </tr>\n",
       "  </thead>\n",
       "  <tbody>\n",
       "    <tr>\n",
       "      <th>0</th>\n",
       "      <td>경향신문</td>\n",
       "      <td>3715</td>\n",
       "    </tr>\n",
       "    <tr>\n",
       "      <th>1</th>\n",
       "      <td>세계일보</td>\n",
       "      <td>3636</td>\n",
       "    </tr>\n",
       "    <tr>\n",
       "      <th>2</th>\n",
       "      <td>조선일보</td>\n",
       "      <td>3435</td>\n",
       "    </tr>\n",
       "    <tr>\n",
       "      <th>3</th>\n",
       "      <td>동아일보</td>\n",
       "      <td>3316</td>\n",
       "    </tr>\n",
       "    <tr>\n",
       "      <th>4</th>\n",
       "      <td>한국일보</td>\n",
       "      <td>3073</td>\n",
       "    </tr>\n",
       "    <tr>\n",
       "      <th>5</th>\n",
       "      <td>문화일보</td>\n",
       "      <td>2891</td>\n",
       "    </tr>\n",
       "    <tr>\n",
       "      <th>6</th>\n",
       "      <td>서울신문</td>\n",
       "      <td>2817</td>\n",
       "    </tr>\n",
       "    <tr>\n",
       "      <th>7</th>\n",
       "      <td>국민일보</td>\n",
       "      <td>2320</td>\n",
       "    </tr>\n",
       "    <tr>\n",
       "      <th>8</th>\n",
       "      <td>한겨레</td>\n",
       "      <td>2276</td>\n",
       "    </tr>\n",
       "    <tr>\n",
       "      <th>9</th>\n",
       "      <td>중앙일보</td>\n",
       "      <td>1562</td>\n",
       "    </tr>\n",
       "  </tbody>\n",
       "</table>\n",
       "</div>"
      ],
      "text/plain": [
       "  media  count\n",
       "0  경향신문   3715\n",
       "1  세계일보   3636\n",
       "2  조선일보   3435\n",
       "3  동아일보   3316\n",
       "4  한국일보   3073\n",
       "5  문화일보   2891\n",
       "6  서울신문   2817\n",
       "7  국민일보   2320\n",
       "8   한겨레   2276\n",
       "9  중앙일보   1562"
      ]
     },
     "execution_count": 48,
     "metadata": {},
     "output_type": "execute_result"
    }
   ],
   "source": [
    "media_df = pd.DataFrame(\n",
    "    columns=['media', 'count'],\n",
    "    )\n",
    "media_df['media'] = df['media'].value_counts().index\n",
    "media_df['count'] = df['media'].value_counts().values\n",
    "media_df"
   ]
  },
  {
   "cell_type": "code",
   "execution_count": 55,
   "metadata": {},
   "outputs": [
    {
     "data": {
      "image/png": "[encoded data removed]",
      "text/plain": [
       "<Figure size 1152x576 with 1 Axes>"
      ]
     },
     "metadata": {
      "needs_background": "light"
     },
     "output_type": "display_data"
    }
   ],
   "source": [
    "plt.figure(figsize=(16,8))\n",
    "bar_graph = sns.barplot(data=media_df, x='media', y='count')\n",
    "ax = bar_graph\n",
    "\n",
    "for p in ax.patches:\n",
    "    ax.annotate(int(p.get_height()),\n",
    "                (p.get_x() + p.get_width()/2, p.get_height()*1.02),\n",
    "                ha='center',\n",
    "                va='center',\n",
    "                fontsize=15)\n",
    "\n",
    "plt.xticks(fontsize=15)\n",
    "plt.show()"
   ]
  },
  {
   "cell_type": "code",
   "execution_count": 43,
   "metadata": {},
   "outputs": [
    {
     "name": "stderr",
     "output_type": "stream",
     "text": [
      "C:\\Users\\USER\\.conda\\envs\\data_env_tf2\\lib\\site-packages\\seaborn\\_decorators.py:43: FutureWarning: Pass the following variables as keyword args: x, y. From version 0.12, the only valid positional argument will be `data`, and passing other arguments without an explicit keyword will result in an error or misinterpretation.\n",
      "  FutureWarning\n"
     ]
    },
    {
     "data": {
      "image/png": "[encoded data removed]",
      "text/plain": [
       "<Figure size 1152x576 with 1 Axes>"
      ]
     },
     "metadata": {
      "needs_background": "light"
     },
     "output_type": "display_data"
    }
   ],
   "source": [
    "# 언론사별 기사 개수 \n",
    "plt.figure(figsize=(16,8))\n",
    "sns.barplot(df['media'].value_counts().index, df['media'].value_counts().values)\n",
    "plt.rc('font', size=15)\n",
    "plt.show()"
   ]
  },
  {
   "cell_type": "code",
   "execution_count": 17,
   "metadata": {},
   "outputs": [
    {
     "data": {
      "text/plain": [
       "<pandas.core.groupby.generic.DataFrameGroupBy object at 0x000001CD360C1E48>"
      ]
     },
     "execution_count": 17,
     "metadata": {},
     "output_type": "execute_result"
    }
   ],
   "source": [
    "# 글자수 \n",
    "df['title_len'] = [len(prepro_title) for prepro_title in [title.replace(' ', '') for title in  df['title']]]\n",
    "df['text_len'] = [len(prepro_title) for prepro_title in [title.replace(' ', '') for title in  df['text']]]"
   ]
  },
  {
   "cell_type": "code",
   "execution_count": 28,
   "metadata": {},
   "outputs": [
    {
     "data": {
      "image/png": "[encoded data removed]",
      "text/plain": [
       "<Figure size 1152x576 with 1 Axes>"
      ]
     },
     "metadata": {
      "needs_background": "light"
     },
     "output_type": "display_data"
    }
   ],
   "source": [
    "# 언론사별 title, text 글자 수 확인\n",
    "\n",
    "plt.figure(figsize=(16,8))\n",
    "plt.title('언론사별 title 길이')\n",
    "sns.boxplot(\n",
    "    x=df['media'],\n",
    "    y=df['title_len'],\n",
    "    data=df)\n",
    "plt.show()"
   ]
  },
  {
   "cell_type": "code",
   "execution_count": 29,
   "metadata": {},
   "outputs": [
    {
     "data": {
      "image/png": "[encoded data removed]",
      "text/plain": [
       "<Figure size 1152x576 with 1 Axes>"
      ]
     },
     "metadata": {
      "needs_background": "light"
     },
     "output_type": "display_data"
    }
   ],
   "source": [
    "plt.figure(figsize=(16,8))\n",
    "plt.title('언론사별 text 길이')\n",
    "sns.boxplot(\n",
    "    x=df['media'],\n",
    "    y=df['text_len'],\n",
    "    data=df)\n",
    "plt.show()"
   ]
  },
  {
   "cell_type": "code",
   "execution_count": 37,
   "metadata": {},
   "outputs": [
    {
     "name": "stdout",
     "output_type": "stream",
     "text": [
      "경향신문 title 평균 : 27.51\n",
      "경향신문 text 평균 : 1114.28\n",
      "\n",
      "세계일보 title 평균 : 24.79\n",
      "세계일보 text 평균 : 1467.3\n",
      "\n",
      "조선일보 title 평균 : 23.55\n",
      "조선일보 text 평균 : 1026.8\n",
      "\n",
      "동아일보 title 평균 : 22.92\n",
      "동아일보 text 평균 : 985.63\n",
      "\n",
      "한국일보 title 평균 : 26.69\n",
      "한국일보 text 평균 : 1284.69\n",
      "\n",
      "문화일보 title 평균 : 27.96\n",
      "문화일보 text 평균 : 1024.61\n",
      "\n",
      "서울신문 title 평균 : 24.03\n",
      "서울신문 text 평균 : 1008.3\n",
      "\n",
      "국민일보 title 평균 : 24.11\n",
      "국민일보 text 평균 : 1037.26\n",
      "\n",
      "한겨레 title 평균 : 23.8\n",
      "한겨레 text 평균 : 1204.51\n",
      "\n",
      "중앙일보 title 평균 : 24.28\n",
      "중앙일보 text 평균 : 1203.45\n",
      "\n"
     ]
    }
   ],
   "source": [
    "# 각 언론사별 title, text 길이 평균값\n",
    "for media in df['media'].value_counts().index:\n",
    "    title_mean = df['title_len'][df['media']==media].describe()['mean']\n",
    "    text_mean = df['text_len'][df['media']==media].describe()['mean']\n",
    "\n",
    "    print(f'{media} title 평균 : {round(title_mean,2)}')\n",
    "    print(f'{media} text 평균 : {round(text_mean,2)}')\n",
    "    print()"
   ]
  },
  {
   "cell_type": "markdown",
   "metadata": {},
   "source": [
    "# 데이터 전처리"
   ]
  },
  {
   "cell_type": "code",
   "execution_count": 61,
   "metadata": {},
   "outputs": [
    {
     "data": {
      "text/html": [
       "<div>\n",
       "<style scoped>\n",
       "    .dataframe tbody tr th:only-of-type {\n",
       "        vertical-align: middle;\n",
       "    }\n",
       "\n",
       "    .dataframe tbody tr th {\n",
       "        vertical-align: top;\n",
       "    }\n",
       "\n",
       "    .dataframe thead th {\n",
       "        text-align: right;\n",
       "    }\n",
       "</style>\n",
       "<table border=\"1\" class=\"dataframe\">\n",
       "  <thead>\n",
       "    <tr style=\"text-align: right;\">\n",
       "      <th></th>\n",
       "      <th>title</th>\n",
       "      <th>text</th>\n",
       "      <th>url</th>\n",
       "      <th>media</th>\n",
       "      <th>date</th>\n",
       "      <th>title_len</th>\n",
       "      <th>text_len</th>\n",
       "    </tr>\n",
       "  </thead>\n",
       "  <tbody>\n",
       "    <tr>\n",
       "      <th>0</th>\n",
       "      <td>무너지는 일과 삶 경계 노동 녹아내린다</td>\n",
       "      <td>이 땅 비정규직 표현 광범위하게 쓰인 지 20 여 년 정부 신규 일자리 창 출과 비...</td>\n",
       "      <td>https://news.naver.com/main/read.nhn?mode=LPOD...</td>\n",
       "      <td>경향신문</td>\n",
       "      <td>2020-01-01</td>\n",
       "      <td>21</td>\n",
       "      <td>1596</td>\n",
       "    </tr>\n",
       "    <tr>\n",
       "      <th>1</th>\n",
       "      <td>일자리 아닌 일거리 일 정치 않음 살다 녹아내리는 노동</td>\n",
       "      <td>일자리 일거리 노동 미래 모두 알 수 없다 다만 현실 일어나는 다양한 변화 면 들을...</td>\n",
       "      <td>https://news.naver.com/main/read.nhn?mode=LPOD...</td>\n",
       "      <td>경향신문</td>\n",
       "      <td>2020-01-01</td>\n",
       "      <td>30</td>\n",
       "      <td>9946</td>\n",
       "    </tr>\n",
       "    <tr>\n",
       "      <th>2</th>\n",
       "      <td>이 곳 기계 정확도 높이는 인간 부품 육성 공장 아닐까 녹아내리는 노동</td>\n",
       "      <td>일자리 일거리 학습 데이터 가공 기업 크라 우드 웍스 교육장 참관 소화전 있는 비상...</td>\n",
       "      <td>https://news.naver.com/main/read.nhn?mode=LPOD...</td>\n",
       "      <td>경향신문</td>\n",
       "      <td>2020-01-01</td>\n",
       "      <td>35</td>\n",
       "      <td>3000</td>\n",
       "    </tr>\n",
       "    <tr>\n",
       "      <th>3</th>\n",
       "      <td>지혜 지훈 부탁 해 인포그래픽</td>\n",
       "      <td>새로 태어나는 아이 줄어들고 어르신 계속 나이 먹어 갑니다 2020년 새해 크게 바...</td>\n",
       "      <td>https://news.naver.com/main/read.nhn?mode=LPOD...</td>\n",
       "      <td>경향신문</td>\n",
       "      <td>2020-01-01</td>\n",
       "      <td>19</td>\n",
       "      <td>466</td>\n",
       "    </tr>\n",
       "    <tr>\n",
       "      <th>4</th>\n",
       "      <td>20 대 리포트 20 대 함부로 판단 말라 내 길 내 간다</td>\n",
       "      <td>새천년 시작 함께 세상 나온 2000년 대생들이 어느덧 사회 변화 이끌 20 대가 ...</td>\n",
       "      <td>https://news.naver.com/main/read.nhn?mode=LPOD...</td>\n",
       "      <td>국민일보</td>\n",
       "      <td>2020-01-01</td>\n",
       "      <td>28</td>\n",
       "      <td>1016</td>\n",
       "    </tr>\n",
       "    <tr>\n",
       "      <th>...</th>\n",
       "      <td>...</td>\n",
       "      <td>...</td>\n",
       "      <td>...</td>\n",
       "      <td>...</td>\n",
       "      <td>...</td>\n",
       "      <td>...</td>\n",
       "      <td>...</td>\n",
       "    </tr>\n",
       "    <tr>\n",
       "      <th>29036</th>\n",
       "      <td>2 5 단계 무급 휴가 요구 코로나 재 유행 살아난 갑질</td>\n",
       "      <td>직장인 씨 수도권 사회 거리 두기 2 5 단계 시행 하는 30일 부터 다음 달 6일...</td>\n",
       "      <td>https://news.naver.com/main/read.nhn?mode=LPOD...</td>\n",
       "      <td>한국일보</td>\n",
       "      <td>2020-08-31</td>\n",
       "      <td>29</td>\n",
       "      <td>1151</td>\n",
       "    </tr>\n",
       "    <tr>\n",
       "      <th>29037</th>\n",
       "      <td>모호한 조치 깜깜 환자 비율 40 육박 거리 두기 2 5 단계 효과 있을까</td>\n",
       "      <td>30일 0시 부터 서울 전역 강화 된 사회 거리 두기 2 5 단계 가 시행 됐지만 ...</td>\n",
       "      <td>https://news.naver.com/main/read.nhn?mode=LPOD...</td>\n",
       "      <td>한국일보</td>\n",
       "      <td>2020-08-31</td>\n",
       "      <td>36</td>\n",
       "      <td>1315</td>\n",
       "    </tr>\n",
       "    <tr>\n",
       "      <th>29038</th>\n",
       "      <td>내일 서울 시내버스 밤 9시 이후 20 감축 주말 수준</td>\n",
       "      <td>수도권 사회 거리 두기 2 5 단계 시행 기간 맞춰 서울 시내버스 야간 운행 20 ...</td>\n",
       "      <td>https://news.naver.com/main/read.nhn?mode=LPOD...</td>\n",
       "      <td>한국일보</td>\n",
       "      <td>2020-08-31</td>\n",
       "      <td>27</td>\n",
       "      <td>891</td>\n",
       "    </tr>\n",
       "    <tr>\n",
       "      <th>29039</th>\n",
       "      <td>집단 휴업 두고 전공 정부 강 대강 대치 의료 공백 장기 불가피</td>\n",
       "      <td>21일 부터 10일 째 무기한 집단 휴 진 이 어가 있는 전공 인턴 레지던트 들과 ...</td>\n",
       "      <td>https://news.naver.com/main/read.nhn?mode=LPOD...</td>\n",
       "      <td>한국일보</td>\n",
       "      <td>2020-08-31</td>\n",
       "      <td>33</td>\n",
       "      <td>2200</td>\n",
       "    </tr>\n",
       "    <tr>\n",
       "      <th>29040</th>\n",
       "      <td>제자 한 명 피해 입으면 집단 휴 진 의대 교수 화났다</td>\n",
       "      <td>전 공 의 집단 휴업 둘러싼 의 정 갈등 고조 되는 가운데 의료 현장 책임지는 의대...</td>\n",
       "      <td>https://news.naver.com/main/read.nhn?mode=LPOD...</td>\n",
       "      <td>한국일보</td>\n",
       "      <td>2020-08-31</td>\n",
       "      <td>27</td>\n",
       "      <td>1305</td>\n",
       "    </tr>\n",
       "  </tbody>\n",
       "</table>\n",
       "<p>29041 rows × 7 columns</p>\n",
       "</div>"
      ],
      "text/plain": [
       "                                           title  \\\n",
       "0                          무너지는 일과 삶 경계 노동 녹아내린다   \n",
       "1                 일자리 아닌 일거리 일 정치 않음 살다 녹아내리는 노동   \n",
       "2        이 곳 기계 정확도 높이는 인간 부품 육성 공장 아닐까 녹아내리는 노동   \n",
       "3                               지혜 지훈 부탁 해 인포그래픽   \n",
       "4               20 대 리포트 20 대 함부로 판단 말라 내 길 내 간다   \n",
       "...                                          ...   \n",
       "29036            2 5 단계 무급 휴가 요구 코로나 재 유행 살아난 갑질   \n",
       "29037  모호한 조치 깜깜 환자 비율 40 육박 거리 두기 2 5 단계 효과 있을까   \n",
       "29038             내일 서울 시내버스 밤 9시 이후 20 감축 주말 수준   \n",
       "29039        집단 휴업 두고 전공 정부 강 대강 대치 의료 공백 장기 불가피   \n",
       "29040             제자 한 명 피해 입으면 집단 휴 진 의대 교수 화났다   \n",
       "\n",
       "                                                    text  \\\n",
       "0      이 땅 비정규직 표현 광범위하게 쓰인 지 20 여 년 정부 신규 일자리 창 출과 비...   \n",
       "1      일자리 일거리 노동 미래 모두 알 수 없다 다만 현실 일어나는 다양한 변화 면 들을...   \n",
       "2      일자리 일거리 학습 데이터 가공 기업 크라 우드 웍스 교육장 참관 소화전 있는 비상...   \n",
       "3      새로 태어나는 아이 줄어들고 어르신 계속 나이 먹어 갑니다 2020년 새해 크게 바...   \n",
       "4      새천년 시작 함께 세상 나온 2000년 대생들이 어느덧 사회 변화 이끌 20 대가 ...   \n",
       "...                                                  ...   \n",
       "29036  직장인 씨 수도권 사회 거리 두기 2 5 단계 시행 하는 30일 부터 다음 달 6일...   \n",
       "29037  30일 0시 부터 서울 전역 강화 된 사회 거리 두기 2 5 단계 가 시행 됐지만 ...   \n",
       "29038  수도권 사회 거리 두기 2 5 단계 시행 기간 맞춰 서울 시내버스 야간 운행 20 ...   \n",
       "29039  21일 부터 10일 째 무기한 집단 휴 진 이 어가 있는 전공 인턴 레지던트 들과 ...   \n",
       "29040  전 공 의 집단 휴업 둘러싼 의 정 갈등 고조 되는 가운데 의료 현장 책임지는 의대...   \n",
       "\n",
       "                                                     url media        date  \\\n",
       "0      https://news.naver.com/main/read.nhn?mode=LPOD...  경향신문  2020-01-01   \n",
       "1      https://news.naver.com/main/read.nhn?mode=LPOD...  경향신문  2020-01-01   \n",
       "2      https://news.naver.com/main/read.nhn?mode=LPOD...  경향신문  2020-01-01   \n",
       "3      https://news.naver.com/main/read.nhn?mode=LPOD...  경향신문  2020-01-01   \n",
       "4      https://news.naver.com/main/read.nhn?mode=LPOD...  국민일보  2020-01-01   \n",
       "...                                                  ...   ...         ...   \n",
       "29036  https://news.naver.com/main/read.nhn?mode=LPOD...  한국일보  2020-08-31   \n",
       "29037  https://news.naver.com/main/read.nhn?mode=LPOD...  한국일보  2020-08-31   \n",
       "29038  https://news.naver.com/main/read.nhn?mode=LPOD...  한국일보  2020-08-31   \n",
       "29039  https://news.naver.com/main/read.nhn?mode=LPOD...  한국일보  2020-08-31   \n",
       "29040  https://news.naver.com/main/read.nhn?mode=LPOD...  한국일보  2020-08-31   \n",
       "\n",
       "       title_len  text_len  \n",
       "0             21      1596  \n",
       "1             30      9946  \n",
       "2             35      3000  \n",
       "3             19       466  \n",
       "4             28      1016  \n",
       "...          ...       ...  \n",
       "29036         29      1151  \n",
       "29037         36      1315  \n",
       "29038         27       891  \n",
       "29039         33      2200  \n",
       "29040         27      1305  \n",
       "\n",
       "[29041 rows x 7 columns]"
      ]
     },
     "execution_count": 61,
     "metadata": {},
     "output_type": "execute_result"
    }
   ],
   "source": [
    "df['title'] = df['title'].map(prepro_text)\n",
    "df['text'] = df['text'].map(prepro_text)\n",
    "\n",
    "df"
   ]
  },
  {
   "cell_type": "code",
   "execution_count": 62,
   "metadata": {},
   "outputs": [],
   "source": [
    "df.to_csv('1~8월뉴스 전처리.csv', encoding='utf-8-sig', index=False)"
   ]
  },
  {
   "cell_type": "markdown",
   "metadata": {},
   "source": [
    "# 데이터 분리"
   ]
  },
  {
   "cell_type": "code",
   "execution_count": 4,
   "metadata": {},
   "outputs": [
    {
     "data": {
      "text/plain": [
       "Index(['경향신문', '세계일보', '조선일보', '동아일보', '한국일보', '문화일보', '서울신문', '국민일보', '한겨레',\n",
       "       '중앙일보'],\n",
       "      dtype='object')"
      ]
     },
     "execution_count": 4,
     "metadata": {},
     "output_type": "execute_result"
    }
   ],
   "source": [
    "media_list = prepro_df['media'].value_counts().index\n",
    "media_list"
   ]
  },
  {
   "cell_type": "code",
   "execution_count": 6,
   "metadata": {},
   "outputs": [],
   "source": [
    "# 보수 언론 - '조선일보', '동아일보', '중앙일보', '문화일보'\n",
    "# 중도 언론 - '한국일보', '세계일보', '국민일보'\n",
    "# 진보 언론 - '경향신문', '한겨레', '서울신문'\n",
    "\n",
    "red = ['조선일보', '동아일보', '중앙일보', '문화일보']\n",
    "grey = ['한국일보', '세계일보', '국민일보']\n",
    "blue = ['경향신문', '한겨레', '서울신문']\n",
    "\n",
    "red_title = pd.Series()\n",
    "red_text = pd.Series()\n",
    "\n",
    "grey_title = pd.Series()\n",
    "grey_text = pd.Series()\n",
    "\n",
    "blue_title = pd.Series()\n",
    "blue_text = pd.Series()\n",
    "\n",
    "for ideology in red, grey, blue:\n",
    "    for media in ideology:\n",
    "        title = prepro_df['title'][prepro_df['media']==media]\n",
    "        text = prepro_df['text'][prepro_df['media']==media]\n",
    "\n",
    "        if media in red:\n",
    "            red_title = pd.concat([red_title, title], axis=0, ignore_index=True)\n",
    "            red_text = pd.concat([red_text, text], axis=0, ignore_index=True)\n",
    "\n",
    "        elif media in grey:\n",
    "            grey_title = pd.concat([grey_title, title], axis=0, ignore_index=True)\n",
    "            grey_text = pd.concat([grey_text, text], axis=0, ignore_index=True)\n",
    "\n",
    "        elif media in blue:\n",
    "            blue_title = pd.concat([blue_title, title], axis=0, ignore_index=True)\n",
    "            blue_text = pd.concat([blue_text, text], axis=0, ignore_index=True)    "
   ]
  },
  {
   "cell_type": "code",
   "execution_count": 8,
   "metadata": {},
   "outputs": [
    {
     "name": "stdout",
     "output_type": "stream",
     "text": [
      "보수 언론 데이터 수 : 11204\n",
      "중도 언론 데이터 수 : 9029\n",
      "진보 언론 데이터 수 : 8808\n"
     ]
    }
   ],
   "source": [
    "print('보수 언론 데이터 수 :', prepro_df['media'].value_counts()[red].sum())\n",
    "print('중도 언론 데이터 수 :', prepro_df['media'].value_counts()[grey].sum())\n",
    "print('진보 언론 데이터 수 :', prepro_df['media'].value_counts()[blue].sum())"
   ]
  }
 ],
 "metadata": {
  "interpreter": {
   "hash": "742c3881f41cd7e7882ddf1907cc58dde92df23e5175708593927bf1c7a01f8a"
  },
  "kernelspec": {
   "display_name": "Python 3.7.9 64-bit ('data_env': conda)",
   "language": "python",
   "name": "python3"
  },
  "language_info": {
   "codemirror_mode": {
    "name": "ipython",
    "version": 3
   },
   "file_extension": ".py",
   "mimetype": "text/x-python",
   "name": "python",
   "nbconvert_exporter": "python",
   "pygments_lexer": "ipython3",
   "version": "3.7.10"
  },
  "orig_nbformat": 4
 },
 "nbformat": 4,
 "nbformat_minor": 2
}
