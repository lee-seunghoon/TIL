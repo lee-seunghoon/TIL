{
 "cells": [
  {
   "cell_type": "markdown",
   "metadata": {},
   "source": [
    "# 라이브러리"
   ]
  },
  {
   "cell_type": "code",
   "execution_count": null,
   "metadata": {},
   "outputs": [],
   "source": [
    "import numpy as np\n",
    "import pandas as pd\n",
    "import matplotlib.pyplot as plt\n",
    "from konlpy.tag import Okt\n",
    "import seaborn as sns\n",
    "import re\n",
    "\n",
    "plt.rcParams['font.family'] = 'Malgun Gothic'\n",
    "plt.rcParams['font.size'] = 20"
   ]
  },
  {
   "cell_type": "markdown",
   "metadata": {},
   "source": [
    "# 사용자 정의함수"
   ]
  },
  {
   "cell_type": "code",
   "execution_count": null,
   "metadata": {},
   "outputs": [],
   "source": [
    "# 특수문자와 영어 & 조사, 복수관사 제거\n",
    "okt = Okt()\n",
    "\n",
    "def prepro_text(text):\n",
    "    \n",
    "    text = re.sub(r'[^가-힣0-9]', ' ', str(text))\n",
    "\n",
    "    prepro_words = []\n",
    "    for word, tag in okt.pos(text):\n",
    "        if tag not in ['Josa', 'Suffix']:\n",
    "            prepro_words.append(word)\n",
    "\n",
    "    result = ' '.join(prepro_words)\n",
    "\n",
    "    return result \n",
    "\n",
    "\n",
    "# 빈도 분석\n",
    "def count_analyze(text, vec, cnt, color, title):\n",
    "    vec.fit(text)\n",
    "\n",
    "    word_dict = sorted(vec.vocabulary_.items())\n",
    "    idx2word = {idx:word for word, idx in word_dict}\n",
    "\n",
    "    total_text = []\n",
    "    total_text.append(' '.join(text.values))\n",
    "\n",
    "    matrix = vec.transform(total_text)\n",
    "\n",
    "    count_word = []\n",
    "    count_vec = []\n",
    "\n",
    "    for i in range(cnt, 0, -1):\n",
    "        count_word.append(idx2word[(-matrix.toarray()[0]).argsort()[i-1]])\n",
    "        count_vec.append(matrix.toarray()[0][(-matrix.toarray()[0]).argsort()[i-1]])\n",
    "\n",
    "    print(count_word)\n",
    "    print(count_vec)\n",
    "\n",
    "    plt.barh(count_word, count_vec, color=color)\n",
    "    plt.yticks(count_word)\n",
    "    plt.title(f'{title} 빈도 분석')\n",
    "    plt.show()\n",
    "\n",
    "    return count_word, count_vec\n",
    "\n"
   ]
  },
  {
   "cell_type": "markdown",
   "metadata": {},
   "source": [
    "# 데이터 로드"
   ]
  },
  {
   "cell_type": "code",
   "execution_count": null,
   "metadata": {},
   "outputs": [],
   "source": [
    "df = pd.read_csv('./1-8월 뉴스.csv', encoding='utf-8-sig')\n",
    "df.head()"
   ]
  },
  {
   "cell_type": "code",
   "execution_count": null,
   "metadata": {},
   "outputs": [],
   "source": [
    "df.tail()"
   ]
  },
  {
   "cell_type": "markdown",
   "metadata": {},
   "source": [
    "# EDA"
   ]
  },
  {
   "cell_type": "code",
   "execution_count": null,
   "metadata": {},
   "outputs": [],
   "source": [
    "df.info()"
   ]
  },
  {
   "cell_type": "code",
   "execution_count": null,
   "metadata": {},
   "outputs": [],
   "source": [
    "# 언론사별 분포\n",
    "df['media'].value_counts()"
   ]
  },
  {
   "cell_type": "code",
   "execution_count": null,
   "metadata": {},
   "outputs": [],
   "source": [
    "media_df = pd.DataFrame(\n",
    "    columns=['media', 'count'],\n",
    "    )\n",
    "media_df['media'] = df['media'].value_counts().index\n",
    "media_df['count'] = df['media'].value_counts().values\n",
    "media_df"
   ]
  },
  {
   "cell_type": "code",
   "execution_count": null,
   "metadata": {},
   "outputs": [],
   "source": [
    "plt.figure(figsize=(16,8))\n",
    "bar_graph = sns.barplot(data=media_df, x='media', y='count')\n",
    "ax = bar_graph\n",
    "\n",
    "for p in ax.patches:\n",
    "    ax.annotate(int(p.get_height()),\n",
    "                (p.get_x() + p.get_width()/2, p.get_height()*1.02),\n",
    "                ha='center',\n",
    "                va='center',\n",
    "                fontsize=15)\n",
    "\n",
    "plt.xticks(fontsize=15)\n",
    "plt.show()"
   ]
  },
  {
   "cell_type": "code",
   "execution_count": null,
   "metadata": {},
   "outputs": [],
   "source": [
    "# 언론사별 기사 개수 \n",
    "plt.figure(figsize=(16,8))\n",
    "sns.barplot(df['media'].value_counts().index, df['media'].value_counts().values)\n",
    "plt.rc('font', size=15)\n",
    "plt.show()"
   ]
  },
  {
   "cell_type": "code",
   "execution_count": null,
   "metadata": {},
   "outputs": [],
   "source": [
    "df['title_len'] = [len(prepro_title) for prepro_title in [title.replace(' ', '') for title in  df['title']]]\n",
    "df['text_len'] = [len(prepro_title) for prepro_title in [title.replace(' ', '') for title in  df['text']]]"
   ]
  },
  {
   "cell_type": "code",
   "execution_count": null,
   "metadata": {},
   "outputs": [],
   "source": [
    "# 언론사별 title, text 글자 수 확인\n",
    "\n",
    "plt.figure(figsize=(16,8))\n",
    "plt.title('언론사별 title 길이')\n",
    "sns.boxplot(\n",
    "    x=df['media'],\n",
    "    y=df['title_len'],\n",
    "    data=df)\n",
    "plt.show()"
   ]
  },
  {
   "cell_type": "code",
   "execution_count": null,
   "metadata": {},
   "outputs": [],
   "source": [
    "plt.figure(figsize=(16,8))\n",
    "plt.title('언론사별 text 길이')\n",
    "sns.boxplot(\n",
    "    x=df['media'],\n",
    "    y=df['text_len'],\n",
    "    data=df)\n",
    "plt.show()"
   ]
  },
  {
   "cell_type": "code",
   "execution_count": null,
   "metadata": {},
   "outputs": [],
   "source": [
    "# 각 언론사별 title, text 길이 평균값\n",
    "for media in df['media'].value_counts().index:\n",
    "    title_mean = df['title_len'][df['media']==media].describe()['mean']\n",
    "    text_mean = df['text_len'][df['media']==media].describe()['mean']\n",
    "\n",
    "    print(f'{media} title 평균 : {round(title_mean,2)}')\n",
    "    print(f'{media} text 평균 : {round(text_mean,2)}')\n",
    "    print()"
   ]
  },
  {
   "cell_type": "markdown",
   "metadata": {},
   "source": [
    "# 데이터 전처리"
   ]
  },
  {
   "cell_type": "code",
   "execution_count": null,
   "metadata": {},
   "outputs": [],
   "source": [
    "df['title'] = df['title'].map(prepro_text)\n",
    "df['text'] = df['text'].map(prepro_text)"
   ]
  },
  {
   "cell_type": "markdown",
   "metadata": {},
   "source": [
    "# 데이터 분리"
   ]
  },
  {
   "cell_type": "code",
   "execution_count": null,
   "metadata": {},
   "outputs": [],
   "source": [
    "# 보수 언론 - \n",
    "# 중도 언론 - \n",
    "# 진보 언론 - "
   ]
  },
  {
   "cell_type": "markdown",
   "metadata": {},
   "source": [
    "# 빈도 분석 & 워드 클라우드"
   ]
  },
  {
   "cell_type": "code",
   "execution_count": null,
   "metadata": {},
   "outputs": [],
   "source": []
  },
  {
   "cell_type": "markdown",
   "metadata": {},
   "source": [
    "# TF-IDF (n_gram 적용)"
   ]
  },
  {
   "cell_type": "code",
   "execution_count": null,
   "metadata": {},
   "outputs": [],
   "source": []
  },
  {
   "cell_type": "markdown",
   "metadata": {},
   "source": [
    "# 로그오즈비"
   ]
  },
  {
   "cell_type": "code",
   "execution_count": null,
   "metadata": {},
   "outputs": [],
   "source": [
    "# 정치 성향에 따른 분류 후 로그오즈비"
   ]
  },
  {
   "cell_type": "markdown",
   "metadata": {},
   "source": [
    "# LDA"
   ]
  },
  {
   "cell_type": "code",
   "execution_count": null,
   "metadata": {},
   "outputs": [],
   "source": [
    "# 언론사 정치성향별 Topic 분류 "
   ]
  },
  {
   "cell_type": "markdown",
   "metadata": {},
   "source": [
    "# Word2Vec"
   ]
  },
  {
   "cell_type": "code",
   "execution_count": null,
   "metadata": {},
   "outputs": [],
   "source": [
    "# 네트워크 관계도 처럼 특정 단어와 연관돼 있는"
   ]
  }
 ],
 "metadata": {
  "interpreter": {
   "hash": "742c3881f41cd7e7882ddf1907cc58dde92df23e5175708593927bf1c7a01f8a"
  },
  "kernelspec": {
   "display_name": "Python 3.7.9 64-bit ('data_env': conda)",
   "language": "python",
   "name": "python3"
  },
  "language_info": {
   "codemirror_mode": {
    "name": "ipython",
    "version": 3
   },
   "file_extension": ".py",
   "mimetype": "text/x-python",
   "name": "python",
   "nbconvert_exporter": "python",
   "pygments_lexer": "ipython3",
   "version": "3.7.10"
  },
  "orig_nbformat": 4
 },
 "nbformat": 4,
 "nbformat_minor": 2
}
