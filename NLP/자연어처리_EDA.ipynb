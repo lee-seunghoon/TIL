{
 "cells": [
  {
   "cell_type": "markdown",
   "source": [
    "## 라이브러리"
   ],
   "metadata": {
    "collapsed": false
   }
  },
  {
   "cell_type": "code",
   "execution_count": null,
   "metadata": {
    "collapsed": true
   },
   "outputs": [],
   "source": [
    "import re\n",
    "import pandas as pd\n",
    "import seaborn as sns\n",
    "import matplotlib.pyplot as plt\n",
    "from konlpy.tag import Okt\n",
    "from sklearn.feature_extraction.text import CountVectorizer"
   ]
  },
  {
   "cell_type": "markdown",
   "source": [
    "## 상수"
   ],
   "metadata": {
    "collapsed": false
   }
  },
  {
   "cell_type": "code",
   "execution_count": null,
   "outputs": [],
   "source": [
    "# matplotlib 그래프 속성 설정\n",
    "plt.rcParams['font.family'] = 'D2coding'\n",
    "# plt.rcParams['figure.figsize'] = (12,16)\n",
    "plt.rcParams['font.size'] = 15\n",
    "\n",
    "# 형태소 분석기\n",
    "okt = Okt()"
   ],
   "metadata": {
    "collapsed": false
   }
  },
  {
   "cell_type": "markdown",
   "source": [
    "## EDA"
   ],
   "metadata": {
    "collapsed": false
   }
  },
  {
   "cell_type": "code",
   "execution_count": null,
   "outputs": [],
   "source": [
    "df['column'] = df['column'].map(lambda text: re.sub(\" +\", \" \", re.sub(r\"[^가-힣a-zA-Z0-9]\", ' ', text)))"
   ],
   "metadata": {
    "collapsed": false
   }
  },
  {
   "cell_type": "code",
   "execution_count": null,
   "outputs": [],
   "source": [
    "# question text 길이 기본 정보 확인\n",
    "question_len = df['column'].map(lambda text: len(text))\n",
    "question_len.describe()"
   ],
   "metadata": {
    "collapsed": false
   }
  },
  {
   "cell_type": "code",
   "execution_count": null,
   "outputs": [],
   "source": [
    "# question text boxplot\n",
    "plt.figure()\n",
    "plt.boxplot([question_len], labels=['Question 박스 플랏'])\n",
    "plt.show()"
   ],
   "metadata": {
    "collapsed": false
   }
  },
  {
   "cell_type": "code",
   "execution_count": null,
   "outputs": [],
   "source": [
    "# question 히스토그램\n",
    "plt.figure()\n",
    "plt.hist([question_len], bins=45, range=[0, 250], color='g', label='Question')\n",
    "plt.legend()\n",
    "plt.title('Question Text 길이 히스토그램')\n",
    "plt.xlabel('Text Length')\n",
    "plt.show()"
   ],
   "metadata": {
    "collapsed": false
   }
  },
  {
   "cell_type": "code",
   "execution_count": null,
   "outputs": [],
   "source": [
    "# answer 정답 텍스트 데이터 길이\n",
    "answer_len = df['column'].map(lambda text: len(text))\n",
    "answer_len.describe()"
   ],
   "metadata": {
    "collapsed": false
   }
  },
  {
   "cell_type": "code",
   "execution_count": null,
   "outputs": [],
   "source": [
    "# answer text boxplot\n",
    "plt.figure()\n",
    "plt.boxplot([answer_len], labels=['Answer 박스 플랏'])\n",
    "plt.show()"
   ],
   "metadata": {
    "collapsed": false
   }
  },
  {
   "cell_type": "code",
   "execution_count": null,
   "outputs": [],
   "source": [
    "# answer 히스토그램\n",
    "plt.figure()\n",
    "plt.hist([answer_len], bins=100, range=[0, 1500], color='r', label='Answer')\n",
    "plt.legend()\n",
    "plt.title('Answer Text 길이 히스토그램')\n",
    "plt.xlabel('Text Length')\n",
    "plt.show()"
   ],
   "metadata": {
    "collapsed": false
   }
  },
  {
   "cell_type": "markdown",
   "source": [
    "### 빈도분석"
   ],
   "metadata": {
    "collapsed": false
   }
  },
  {
   "cell_type": "code",
   "execution_count": null,
   "outputs": [],
   "source": [
    "# question texts에서 단어 명사만 추출\n",
    "question_nouns = []\n",
    "for question in df['column']:\n",
    "    question_nouns.extend(okt.nouns(question))\n",
    "\n",
    "# answer texts에서 단어 명사만 추출\n",
    "answer_nouns = []\n",
    "for answer in df['column']:\n",
    "    answer_nouns.extend(okt.nouns(answer))"
   ],
   "metadata": {
    "collapsed": false
   }
  },
  {
   "cell_type": "code",
   "execution_count": null,
   "outputs": [],
   "source": [
    "# 빈도분석\n",
    "question_count_vectorizer = CountVectorizer(\n",
    "    max_features=100,\n",
    "    min_df=10,\n",
    "    ngram_range=(1,1),\n",
    "    stop_words=[]\n",
    ").fit(question_nouns)\n",
    "\n",
    "answer_count_vectorizer = CountVectorizer(\n",
    "    max_features=100,\n",
    "    min_df=10,\n",
    "    ngram_range=(1,1),\n",
    "    stop_words=[]\n",
    ").fit(answer_nouns)"
   ],
   "metadata": {
    "collapsed": false
   }
  },
  {
   "cell_type": "code",
   "execution_count": null,
   "outputs": [],
   "source": [
    "# question 단어 사전 정의\n",
    "question_idx2word = {idx: word for word, idx in sorted(question_count_vectorizer.vocabulary_.items())}\n",
    "\n",
    "# answer 단어 사전 정의\n",
    "answer_idx2word = {idx: word for word, idx in sorted(answer_count_vectorizer.vocabulary_.items())}"
   ],
   "metadata": {
    "collapsed": false
   }
  },
  {
   "cell_type": "code",
   "execution_count": null,
   "outputs": [],
   "source": [
    "# question 단어 빈도 matrix\n",
    "question_count_matrix = question_count_vectorizer.transform([' '.join(question_nouns)])\n",
    "\n",
    "# answer 단어 빈도 matrix\n",
    "answer_count_matrix = answer_count_vectorizer.transform([' '.join(answer_nouns)])"
   ],
   "metadata": {
    "collapsed": false
   }
  },
  {
   "cell_type": "code",
   "execution_count": null,
   "outputs": [],
   "source": [
    "# question 빈도 Top20 데이터 추출\n",
    "question_count_top20_word = []\n",
    "question_count_top20_num = []\n",
    "for i in range(1, 21):\n",
    "    question_count_idx = (question_count_matrix.toarray()[0]).argsort()[-i]\n",
    "    question_count_top20_word.append(question_idx2word[question_count_idx])\n",
    "    question_count_top20_num.append(question_count_matrix.toarray()[0][question_count_idx])\n",
    "\n",
    "# answer 빈도 Top20 데이터 추출\n",
    "answer_count_top20_word = []\n",
    "answer_count_top20_num = []\n",
    "for i in range(1, 21):\n",
    "    answer_count_idx = (answer_count_matrix.toarray()[0]).argsort()[-i]\n",
    "    answer_count_top20_word.append(answer_idx2word[answer_count_idx])\n",
    "    answer_count_top20_num.append(answer_count_matrix.toarray()[0][answer_count_idx])"
   ],
   "metadata": {
    "collapsed": false
   }
  },
  {
   "cell_type": "code",
   "execution_count": null,
   "outputs": [],
   "source": [
    "# question 단어 빈도 그래프 그리기\n",
    "colors = sns.color_palette('hls', 25)\n",
    "plt.figure(figsize=(10,15))\n",
    "plt.barh(question_count_top20_word[::-1], question_count_top20_num[::-1], label='Question 단어 빈도', color=colors)\n",
    "plt.legend()\n",
    "plt.ylabel('Question 단어')\n",
    "plt.xlabel('단어 빈도')\n",
    "plt.title('Question 단어 빈도 Top20')\n",
    "plt.yticks(question_count_top20_word[::-1])\n",
    "\n",
    "for i, word in enumerate(question_count_top20_word[::-1]):\n",
    "    count_score = question_count_top20_num[::-1][i]\n",
    "    plt.text(count_score, word, count_score, color='#000000', horizontalalignment='right', verticalalignment='center')\n",
    "\n",
    "plt.show()"
   ],
   "metadata": {
    "collapsed": false
   }
  },
  {
   "cell_type": "code",
   "execution_count": null,
   "outputs": [],
   "source": [
    "# question 단어 빈도 그래프 그리기\n",
    "colors = sns.color_palette('hls', 25)\n",
    "plt.figure(figsize=(10,15))\n",
    "plt.barh(answer_count_top20_word[::-1], answer_count_top20_num[::-1], label='Answer 단어 빈도', color=colors)\n",
    "plt.legend()\n",
    "plt.ylabel('Answer 단어')\n",
    "plt.xlabel('단어 빈도')\n",
    "plt.title('Answer 단어 빈도 Top20')\n",
    "plt.yticks(answer_count_top20_word[::-1])\n",
    "\n",
    "for i, word in enumerate(answer_count_top20_word[::-1]):\n",
    "    count_score = answer_count_top20_num[::-1][i]\n",
    "    plt.text(count_score, word, count_score, color='#000000', horizontalalignment='right', verticalalignment='center')\n",
    "\n",
    "plt.show()"
   ],
   "metadata": {
    "collapsed": false
   }
  }
 ],
 "metadata": {
  "kernelspec": {
   "display_name": "Python 3",
   "language": "python",
   "name": "python3"
  },
  "language_info": {
   "codemirror_mode": {
    "name": "ipython",
    "version": 2
   },
   "file_extension": ".py",
   "mimetype": "text/x-python",
   "name": "python",
   "nbconvert_exporter": "python",
   "pygments_lexer": "ipython2",
   "version": "2.7.6"
  }
 },
 "nbformat": 4,
 "nbformat_minor": 0
}
