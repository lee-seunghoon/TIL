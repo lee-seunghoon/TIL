{
 "cells": [
  {
   "cell_type": "markdown",
   "metadata": {},
   "source": [
    "# 라이브러리 설치"
   ]
  },
  {
   "cell_type": "code",
   "execution_count": null,
   "metadata": {},
   "outputs": [],
   "source": [
    "! pip install transformers\n",
    "! pip install sentencepiece\n",
    "! pip install tensorflow"
   ]
  },
  {
   "cell_type": "markdown",
   "metadata": {},
   "source": [
    "# 라이브러리"
   ]
  },
  {
   "cell_type": "code",
   "execution_count": 1,
   "metadata": {},
   "outputs": [],
   "source": [
    "from transformers import BertTokenizer, TFBertModel\n",
    "from transformers import *\n",
    "from tensorflow.keras.preprocessing.sequence import pad_sequences\n",
    "import pandas as pd\n",
    "import numpy as np\n",
    "import matplotlib.pyplot as plt\n",
    "import re\n",
    "from konlpy.tag import Okt\n",
    "import tensorflow as tf\n",
    "import os\n",
    "from tensorflow.keras.callbacks import EarlyStopping, ModelCheckpoint\n",
    "from tensorflow.keras import layers"
   ]
  },
  {
   "cell_type": "markdown",
   "metadata": {},
   "source": [
    "# 함수 및 Class 모음"
   ]
  },
  {
   "cell_type": "code",
   "execution_count": 10,
   "metadata": {},
   "outputs": [],
   "source": [
    "# 시각화\n",
    "def plot_graphs(history, string):\n",
    "    plt.plot(history.history[string])\n",
    "    plt.plot(history.history['val_'+string], '')\n",
    "    plt.xlabel(\"Epochs\")\n",
    "    plt.ylabel(string)\n",
    "    plt.legend([string, 'val_'+string])\n",
    "    plt.show()\n",
    "\n",
    "\n",
    "# BERT Tokenizer 작업에 필요한 구조 만드는 함수\n",
    "# 1. 특정 문장을 BERT에 필요한 입력 형태로 변환\n",
    "# 2. 문장 최대 길이에 맞게 패딩 처리\n",
    "# 3. 딕셔너리로 반환\n",
    "def bert_tokenizer(sent, MAX_LEN, tokenizer):\n",
    "\n",
    "    # 위에서 불러온 tokenizer 사용\n",
    "    encoded_dict = tokenizer.encode_plus(\n",
    "        text = sent,\n",
    "        add_special_tokens = True, # ==> 토큰의 시작점을 '[CLS]' , 토큰 마지막에는 '[SEP]' 토큰들을 추가해준다\n",
    "        max_length = MAX_LEN, \n",
    "        pad_to_max_length = True,  # 최대 길이보다 넘어가는 것 padding 처리하기 위한 설정\n",
    "        return_attention_mask = True # attention mask 생성한다\n",
    "    )\n",
    "\n",
    "    # input_ids : 문장을 토크나이즈 한 후 index로 변화 (Word Piece Tokenizer 사용 )\n",
    "    # Word Piece Tokenizer 란 단어를 subword의 단위로 변환시키는...\n",
    "    input_ID = encoded_dict['input_ids']\n",
    "    \n",
    "    # attention mask : 패딩된 부분이 학습에 영향 미치지 못하도록 처리해주는 입력값. 버트 토크나이저에서 0은 어텐션에 영향 받지 않는 토큰, 1은 영향 받는 토큰\n",
    "    attention_mask = encoded_dict['attention_mask']\n",
    "\n",
    "    token_type_id = encoded_dict['token_type_ids'] # ==> 2개의 문장을 분리하기 위해서\n",
    "\n",
    "    return input_ID, attention_mask, token_type_id\n",
    "\n",
    "\n",
    "# 전처리 함수\n",
    "def clean_text(text):\n",
    "    result = re.sub(r'[^가-힣]', ' ', str(text))\n",
    "    return result\n",
    "\n",
    "\n",
    "# 학습을 위한 BERT 분류 class\n",
    "# 사전 학습된 bert 모델을 불러온 후 fully connected layer 1개를 쌓는 구조\n",
    "class TFBertClassifier(tf.keras.Model):\n",
    "\n",
    "    # model_name : 활용할 모델 이름\n",
    "    # dir_path : 모델이 저장된 위치\n",
    "    # num_class : 클래스의 수\n",
    "    def __init__(self, model_name, dir_path, num_class):\n",
    "        super(TFBertClassifier, self).__init__()\n",
    "\n",
    "        # 기존 학습된 모델 load\n",
    "        # TFBertModel의 결과값은 sequence_output, pooled_output, hidden_states, attentions 로 구성\n",
    "        self.bert = TFBertModel.from_pretrained(model_name, cache_dir=dir_path)\n",
    "        self.dropout = tf.keras.layers.Dropout(self.bert.config.hidden_dropout_prob)\n",
    "        self.classifier = tf.keras.layers.Dense(num_class, # ==> label의 개수 : binary는 2개\n",
    "                                                kernel_initializer=tf.keras.initializers.TruncatedNormal(self.bert.config.initializer_range),\n",
    "                                                name='classifier')\n",
    "\n",
    "    # 입력 받고 실행 함수\n",
    "    def call(self, inputs, attention_mask=None, token_type_ids=None, training=False):\n",
    "        \n",
    "        # outputs 값 : sequence_output, pooled_output, (hidden_states), (attentions)\n",
    "        outputs = self.bert(inputs, attention_mask=attention_mask, token_type_ids=token_type_ids)\n",
    "\n",
    "        # 마지막 출력에 완전연결층 1층 적용\n",
    "        pooled_output = outputs[1]\n",
    "        pooled_output = self.dropout(pooled_output, training=training)\n",
    "        logits = self.classifier(pooled_output)\n",
    "\n",
    "        return logits"
   ]
  },
  {
   "cell_type": "code",
   "execution_count": null,
   "metadata": {},
   "outputs": [],
   "source": [
    "# bert의 입력값 요약\n",
    "\n",
    "# input_ids : 문장을 토크나이즈 한 후 index로 변화 (Word Piece Tokenizer 사용 )\n",
    "# Word Piece Tokenizer 란 단어를 subword의 단위로 변환시키는...\n",
    "\n",
    "# attention mask : 패딘된 부분이 학습에 영향 미치지 못하도록 처리해주는 입력값. 버트 토크나이저에서 0은 어텐션에 영향 받지 않는 토큰, 1은 영향 받는 토큰\n",
    "\n",
    "# token_type_idx : 두 개의 시퀀스를 입력으로 사용할 때 0과 1로 토큰 값을 분리한다.\n",
    "\n",
    "# special token\n",
    "# [UNK] : 모르는 단어에 대한 토큰\n",
    "# [MASK] : 사전 학습에서 사용하는 마스크 토큰\n",
    "# [PAD] : 최대 길이를 맞춰주는 토큰\n",
    "# [SEP] : 문장의 종결을 알려주는 토큰\n",
    "# [CLS] : 문장의 시작을 알려주는 토큰\n",
    "\n",
    "# BERT에 입력하기 위해서는 이에 맞는 입력값의 형태로 변환해야한다.\n",
    "# 변환하는 구조를 허깅페이스의 Tokenizer(http://github.com/huggingface/tokenizers) 라이브러리 활용 예정\n",
    "\n",
    "# 허깅페이스의 Tokenizer 특징\n",
    "# 1. CPU에 최적화 돼 있음\n",
    "# 2. 20초 이내에 GB 단위의 문장을 토크나이징 할 수 있음"
   ]
  },
  {
   "cell_type": "markdown",
   "metadata": {},
   "source": [
    "# BertTokenizer"
   ]
  },
  {
   "cell_type": "code",
   "execution_count": 3,
   "metadata": {},
   "outputs": [],
   "source": [
    "# Bert의 다국어 Tokenizer를 활용하여 기존 학습한 모델과 동일하게 전처리 해줘야 한다\n",
    "tokenizer = BertTokenizer.from_pretrained('bert-base-multilingual-cased', cach_dir='bert_ckpt', do_lower_case=False)"
   ]
  },
  {
   "cell_type": "code",
   "execution_count": null,
   "metadata": {},
   "outputs": [],
   "source": [
    "# BERT 입력을 위한 토크나이저로 학습할 데이터를 전처리 해야 한다.\n",
    "# 우선 tokenizer가 잘 작동하는 지 확인해보자\n",
    "\n",
    "print(tokenizer.all_special_tokens, '\\n', tokenizer.all_special_ids)\n",
    "'''\n",
    "['[UNK]', '[SEP]', '[PAD]', '[CLS]', '[MASK]'] \n",
    " [100, 102, 0, 101, 103]\n",
    "'''\n",
    "\n",
    "# test tokenizer\n",
    "# encoding\n",
    "kor_encode = tokenizer.encode('안녕하세요. 만나서 반갑습니다.')\n",
    "eng_encode = tokenizer.encode('Hello. Nice to meet you.')\n",
    "# decoding\n",
    "kor_decode = tokenizer.decode(kor_encode)\n",
    "eng_decode = tokenizer.decode(eng_encode)\n",
    "\n",
    "print(kor_encode)\n",
    "# ==> [101, 9521, 118741, 35506, 24982, 48549, 119, 9248, 16439, 12424, 9321, 118610, 119081, 48345, 119, 102]\n",
    "print(kor_decode)\n",
    "# ==> [CLS] 안녕하세요. 만나서 반갑습니다. [SEP]\n",
    "print(eng_encode)\n",
    "# ==> [101, 31178, 119, 26918, 10114, 23267, 13028, 119, 102]\n",
    "print(eng_decode)\n",
    "# ==> [CLS] Hello. Nice to meet you. [SEP]\n"
   ]
  },
  {
   "cell_type": "markdown",
   "metadata": {},
   "source": [
    "# Data Load"
   ]
  },
  {
   "cell_type": "code",
   "execution_count": null,
   "metadata": {},
   "outputs": [],
   "source": [
    "# 자소서 텍스트 불러오기\n",
    "pd.set_option('max_row', 6)\n",
    "df = pd.read_excel('./히든그레이스_자소서_텍스트분석_data.xlsx')\n",
    "for idx, col in enumerate(df.columns):\n",
    "    print(idx, col)"
   ]
  },
  {
   "cell_type": "code",
   "execution_count": null,
   "metadata": {},
   "outputs": [],
   "source": [
    "# 지원동기 텍스트로만 test\n",
    "use_df = df.iloc[:,[0,24,17]]\n",
    "use_df['지원동기 및 입사 후 포부'] = use_df['지원동기 및 입사 후 포부'].map(clean_text)\n",
    "use_df['len'] = use_df['지원동기 및 입사 후 포부'].map(lambda x : len(x))\n",
    "#use_df"
   ]
  },
  {
   "cell_type": "code",
   "execution_count": 27,
   "metadata": {},
   "outputs": [
    {
     "data": {
      "text/plain": [
       "count      80.000000\n",
       "mean      349.637500\n",
       "std       299.125275\n",
       "            ...     \n",
       "50%       297.500000\n",
       "75%       520.250000\n",
       "max      1416.000000\n",
       "Name: len, Length: 8, dtype: float64"
      ]
     },
     "execution_count": 27,
     "metadata": {},
     "output_type": "execute_result"
    }
   ],
   "source": [
    "use_df['len'].describe()"
   ]
  },
  {
   "cell_type": "markdown",
   "metadata": {},
   "source": [
    "# Bert Input format change"
   ]
  },
  {
   "cell_type": "code",
   "execution_count": 14,
   "metadata": {},
   "outputs": [],
   "source": [
    "# 버트 토크나이저 활용\n",
    "input_ids = []\n",
    "attention_masks = []\n",
    "token_type_ids = []\n",
    "train_data_labels = []\n",
    "\n",
    "# 2사분위 기준\n",
    "MAX_LEN = int(np.percentile(use_df['len'], 50))\n",
    "\n",
    "for train_data, train_label in zip(use_df['지원동기 및 입사 후 포부'].values, use_df['label2'].values):\n",
    "    try:\n",
    "        input_id, attention_mask, token_type_id = bert_tokenizer(train_data, MAX_LEN, tokenizer)\n",
    "\n",
    "        input_ids.append(input_id)\n",
    "        attention_masks.append(attention_mask)\n",
    "        token_type_ids.append(token_type_id)\n",
    "        train_data_labels.append(train_label)\n",
    "\n",
    "    except Exception as e :\n",
    "        print(e)\n",
    "        print(train_data)\n",
    "        pass\n",
    "\n",
    "# 각 값들을 넘파이 배열로 전환하고\n",
    "train_input_ids = np.array(input_ids, dtype=int)\n",
    "train_attention_masks = np.array(attention_masks, dtype=int)\n",
    "train_type_ids = np.array(token_type_ids, dtype=int)\n",
    "\n",
    "# input 데이터를 튜플로 하나로 묶음\n",
    "train_inputs = train_input_ids, train_attention_masks, train_type_ids\n",
    "\n",
    "# label 토크나이징 리스트\n",
    "train_labels = np.asarray(train_data_labels, dtype=np.int32)"
   ]
  },
  {
   "cell_type": "code",
   "execution_count": null,
   "metadata": {},
   "outputs": [],
   "source": [
    "# test \n",
    "sample_input_id = train_input_ids[0]\n",
    "sample_attention_mask = train_attention_masks[0]\n",
    "sample_token_type_id = train_type_ids[0]\n",
    "\n",
    "print(sample_input_id)\n",
    "print(sample_attention_mask)\n",
    "print(sample_token_type_id)\n",
    "print()\n",
    "print(tokenizer.decode(sample_input_id))"
   ]
  },
  {
   "cell_type": "markdown",
   "metadata": {},
   "source": [
    "# Bert 분류 모델"
   ]
  },
  {
   "cell_type": "code",
   "execution_count": null,
   "metadata": {},
   "outputs": [],
   "source": [
    "cls_model = TFBertClassifier(model_name='bert-base-multilingual-cased',\n",
    "                             dir_path='bert_ckpt',\n",
    "                             num_class=2)\n",
    "\n",
    "optimizer = tf.keras.optimizers.Adam()\n",
    "loss = tf.keras.losses.SparseCategoricalCrossentropy(from_logits=True) # ==> 정수형태로 정답 출력 (원-핫 형태는 CategoricalCrossentropy)\n",
    "metric = tf.keras.metrics.SparseCategoricalAccuracy('accuracy')\n",
    "\n",
    "cls_model.compile(optimizer=optimizer,\n",
    "                  loss=loss,\n",
    "                  metrics=[metric])\n",
    "\n",
    "# 학습할 파라미터가 많아서 GPU 사용해야 한다\n",
    "earlystop_callback = EarlyStopping(monitor='val_accuracy', min_delta=0.0001, patience=2)\n",
    "\n",
    "DATA_OUT_PATH = './model'\n",
    "model_name = 'pretrained_bert'\n",
    "checkpoint_path = os.path.join(DATA_OUT_PATH, model_name, 'weights.h5')\n",
    "checkpoint_dir = os.path.dirname(checkpoint_path)\n",
    "\n",
    "if os.path.exists(checkpoint_dir):\n",
    "    print(f'{checkpoint_dir} -- Folder already exists \\n')\n",
    "else:\n",
    "    os.makedirs(checkpoint_dir, exist_ok=True)\n",
    "    print(f'{checkpoint_dir} -- Folder created complete')\n",
    "\n",
    "cp_callback = ModelCheckpoint(\n",
    "    checkpoint_path, \n",
    "    monitor='val_accuracy', \n",
    "    verbose=1, \n",
    "    save_best_only=True, \n",
    "    save_weights_only=True\n",
    "    )\n",
    "\n",
    "cls_model_name = 'pretrainde_bert_cls'\n",
    "BATCH_SIZE = 8\n",
    "NUM_EPOCHS = 4\n",
    "VALID_SPLIT = 0.1\n",
    "\n",
    "history = cls_model.fit(\n",
    "    train_inputs,\n",
    "    train_labels,\n",
    "    epochs=NUM_EPOCHS,\n",
    "    batch_size=BATCH_SIZE,\n",
    "    validation_split = VALID_SPLIT,\n",
    "    #callbacks=[cp_callback]\n",
    ")"
   ]
  },
  {
   "cell_type": "markdown",
   "metadata": {},
   "source": [
    "# 모델 결과 그래프"
   ]
  },
  {
   "cell_type": "code",
   "execution_count": 23,
   "metadata": {},
   "outputs": [
    {
     "data": {
      "image/png": "[encoded data removed]",
      "text/plain": [
       "<Figure size 432x288 with 1 Axes>"
      ]
     },
     "metadata": {
      "needs_background": "light"
     },
     "output_type": "display_data"
    }
   ],
   "source": [
    "plot_graphs(history, 'loss')"
   ]
  },
  {
   "cell_type": "code",
   "execution_count": 24,
   "metadata": {},
   "outputs": [
    {
     "data": {
      "image/png": "[encoded data removed]",
      "text/plain": [
       "<Figure size 432x288 with 1 Axes>"
      ]
     },
     "metadata": {
      "needs_background": "light"
     },
     "output_type": "display_data"
    }
   ],
   "source": [
    "plot_graphs(history, 'accuracy')"
   ]
  },
  {
   "cell_type": "markdown",
   "metadata": {},
   "source": [
    "# 모델 가중치 저장"
   ]
  },
  {
   "cell_type": "code",
   "execution_count": 25,
   "metadata": {},
   "outputs": [],
   "source": [
    "cls_model.save_weights('weights', save_format='h5')"
   ]
  },
  {
   "cell_type": "markdown",
   "metadata": {},
   "source": [
    "# 모델 가중치 불러와서 적용 시도"
   ]
  },
  {
   "cell_type": "code",
   "execution_count": null,
   "metadata": {},
   "outputs": [],
   "source": [
    "new_model = TFBertClassifier(model_name='bert-base-multilingual-cased',\n",
    "                             dir_path='bert_ckpt',\n",
    "                             num_class=2)\n",
    "\n",
    "optimizer = tf.keras.optimizers.Adam()\n",
    "loss = tf.keras.losses.SparseCategoricalCrossentropy(from_logits=True) # ==> 정수형태로 정답 출력 (원-핫 형태는 CategoricalCrossentropy)\n",
    "metric = tf.keras.metrics.SparseCategoricalAccuracy('accuracy')\n",
    "\n",
    "new_model.compile(optimizer=optimizer,\n",
    "                  loss=loss,\n",
    "                  metrics=[metric])\n",
    "\n",
    "BATCH_SIZE = 8\n",
    "NUM_EPOCHS = 3\n",
    "VALID_SPLIT = 0.1\n",
    "\n",
    "new_history = new_model.fit(\n",
    "    train_inputs,\n",
    "    train_labels,\n",
    "    epochs=NUM_EPOCHS,\n",
    "    batch_size=BATCH_SIZE,\n",
    "    validation_split = VALID_SPLIT,\n",
    "    #callbacks=[cp_callback]\n",
    ")\n",
    "new_model.load_weights('weights.h5')"
   ]
  },
  {
   "cell_type": "code",
   "execution_count": 32,
   "metadata": {},
   "outputs": [
    {
     "name": "stdout",
     "output_type": "stream",
     "text": [
      "9/9 [==============================] - 101s 11s/step - loss: 0.5925 - accuracy: 0.7778 - val_loss: 0.4098 - val_accuracy: 0.8750\n"
     ]
    }
   ],
   "source": [
    "new_history = new_model.fit(\n",
    "    train_inputs,\n",
    "    train_labels,\n",
    "    epochs=NUM_EPOCHS,\n",
    "    batch_size=BATCH_SIZE,\n",
    "    validation_split = VALID_SPLIT,\n",
    "    #callbacks=[cp_callback]\n",
    ")"
   ]
  },
  {
   "cell_type": "code",
   "execution_count": 35,
   "metadata": {},
   "outputs": [
    {
     "data": {
      "text/plain": [
       "{'loss': [0.5925184488296509],\n",
       " 'accuracy': [0.7777777910232544],\n",
       " 'val_loss': [0.4097636640071869],\n",
       " 'val_accuracy': [0.875]}"
      ]
     },
     "execution_count": 35,
     "metadata": {},
     "output_type": "execute_result"
    }
   ],
   "source": [
    "new_history.history"
   ]
  }
 ],
 "metadata": {
  "interpreter": {
   "hash": "0f3c52753c42cd8692596791eb5ab2e74ad6b17bf2e040d0bab9ceb4941ef977"
  },
  "kernelspec": {
   "display_name": "Python 3.9.7 64-bit",
   "language": "python",
   "name": "python3"
  },
  "language_info": {
   "codemirror_mode": {
    "name": "ipython",
    "version": 3
   },
   "file_extension": ".py",
   "mimetype": "text/x-python",
   "name": "python",
   "nbconvert_exporter": "python",
   "pygments_lexer": "ipython3",
   "version": "3.9.7"
  },
  "orig_nbformat": 4
 },
 "nbformat": 4,
 "nbformat_minor": 2
}
