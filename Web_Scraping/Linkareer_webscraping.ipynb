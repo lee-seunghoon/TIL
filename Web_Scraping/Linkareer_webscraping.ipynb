{
 "cells": [
  {
   "cell_type": "code",
   "execution_count": 2,
   "metadata": {},
   "outputs": [],
   "source": [
    "from selenium import webdriver\n",
    "import time\n",
    "from bs4 import BeautifulSoup"
   ]
  },
  {
   "cell_type": "code",
   "execution_count": 8,
   "metadata": {},
   "outputs": [
    {
     "name": "stderr",
     "output_type": "stream",
     "text": [
      "<ipython-input-8-352483b00f1e>:8: DeprecationWarning: find_element_by_* commands are deprecated. Please use find_element() instead\n",
      "  browser.find_element_by_css_selector('#gtm-header-coverletter > span').click()\n"
     ]
    },
    {
     "name": "stdout",
     "output_type": "stream",
     "text": [
      "지원동기\n",
      "\n",
      "저는 대학교 1학년 때, 아울렛에 있는 한 의류매장에서 알바를 하게 되었습니다. 평소 사람들을 대하는 데에 관심이 많기도 했고, 옷을 좋아하던 터라 여러 종류의 옷을 판매한다는 점에 흥미를 느껴 시작하게 되었습니다. 제가 일하는 매장은 스파 브랜드여서 남녀노소 다양한 연령층이 방문하셨습니다. 그중, 유행에 민감한 제 또래의 학생\n"
     ]
    }
   ],
   "source": [
    "browser = webdriver.Chrome()\n",
    "browser.maximize_window()\n",
    "\n",
    "url = 'https://linkareer.com/'\n",
    "\n",
    "browser.get(url)\n",
    "\n",
    "browser.find_element_by_css_selector('#gtm-header-coverletter > span').click()\n",
    "\n",
    "time.sleep(3)\n",
    "\n",
    "soup = BeautifulSoup(browser.page_source, 'lxml')\n",
    "\n",
    "#test = soup.select('#__next > div.MuiBox-root.jss708 > div > div.MuiContainer-root.jss717.jss706.MuiContainer-disableGutters > div.MuiBox-root.jss859.jss853 > div > div.MuiBox-root.jss870.jss857 > div.MuiContainer-root.jss855.MuiContainer-disableGutters.MuiContainer-maxWidthLg > div.MuiBox-root.jss1156.jss1148.jss1149 > div.jss1155 > a')\n",
    "\n",
    "#test2 = test[0].select('div > div > p.MuiTypography-root.jss1159.jss1166.jss1160.MuiTypography-body1')\n",
    "#print(test2[0].get_text()) # text\n",
    "# print(test[0].get('href')) # link\n",
    "\n",
    "aTagList = soup.select('#__next > div.MuiBox-root.jss708 > div > div.MuiContainer-root.jss717.jss706.MuiContainer-disableGutters > div.MuiBox-root.jss859.jss853 > div > div.MuiBox-root.jss870.jss857 > div.MuiContainer-root.jss855.MuiContainer-disableGutters.MuiContainer-maxWidthLg > div:nth-child(1) > div.jss1155 > a.jss1167')\n",
    "print(aTagList)\n",
    "\n",
    "\n",
    "# print(browser.find_element_by_class_name('jss1167'))\n",
    "\n",
    "# browser.quit()"
   ]
  },
  {
   "cell_type": "code",
   "execution_count": 4,
   "metadata": {},
   "outputs": [
    {
     "name": "stderr",
     "output_type": "stream",
     "text": [
      "<ipython-input-4-1b7932d57edb>:1: DeprecationWarning: find_element_by_* commands are deprecated. Please use find_element() instead\n",
      "  browser.find_element_by_css_selector('#gtm-header-coverletter > span')\n"
     ]
    },
    {
     "data": {
      "text/plain": [
       "<selenium.webdriver.remote.webelement.WebElement (session=\"5a3c9726f61a338165720f1b98c46d78\", element=\"84d5ac31-c760-488d-884f-f3b4f4c98909\")>"
      ]
     },
     "execution_count": 4,
     "metadata": {},
     "output_type": "execute_result"
    }
   ],
   "source": []
  }
 ],
 "metadata": {
  "interpreter": {
   "hash": "e9ac6c096094207bc2d8717289e29194efa0a9ca38178f105ef07f8209e7d24c"
  },
  "kernelspec": {
   "display_name": "Python 3.8.8 64-bit ('base': conda)",
   "name": "python3"
  },
  "language_info": {
   "codemirror_mode": {
    "name": "ipython",
    "version": 3
   },
   "file_extension": ".py",
   "mimetype": "text/x-python",
   "name": "python",
   "nbconvert_exporter": "python",
   "pygments_lexer": "ipython3",
   "version": "3.8.8"
  },
  "orig_nbformat": 4
 },
 "nbformat": 4,
 "nbformat_minor": 2
}
