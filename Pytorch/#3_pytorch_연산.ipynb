{
 "cells": [
  {
   "cell_type": "code",
   "execution_count": 1,
   "metadata": {},
   "outputs": [
    {
     "name": "stderr",
     "output_type": "stream",
     "text": [
      "c:\\Users\\dad04\\anaconda3\\envs\\dev_py37\\lib\\site-packages\\tqdm\\auto.py:22: TqdmWarning: IProgress not found. Please update jupyter and ipywidgets. See https://ipywidgets.readthedocs.io/en/stable/user_install.html\n",
      "  from .autonotebook import tqdm as notebook_tqdm\n"
     ]
    },
    {
     "name": "stdout",
     "output_type": "stream",
     "text": [
      "tensor([[-1.4341,  0.6692, -0.3575],\n",
      "        [-0.6242, -1.3584,  0.3057]])\n",
      "tensor([[1.4341, 0.6692, 0.3575],\n",
      "        [0.6242, 1.3584, 0.3057]])\n",
      "tensor([[-1.,  1., -0.],\n",
      "        [-0., -1.,  1.]])\n",
      "tensor([[-2.,  0., -1.],\n",
      "        [-1., -2.,  0.]])\n",
      "tensor([[-0.5000,  0.5000, -0.3575],\n",
      "        [-0.5000, -0.5000,  0.3057]])\n"
     ]
    }
   ],
   "source": [
    "import torch, math\n",
    "\n",
    "# 2 X 3 짜리 랜덤값의 tensor 생성\n",
    "x = torch.randn(2,3)\n",
    "\n",
    "# 2를 곱한 후 -1\n",
    "new_x = x * 2 - 1\n",
    "\n",
    "# 연산 값 확인\n",
    "print(new_x)\n",
    "# 절대값 확인\n",
    "print(torch.abs(new_x))\n",
    "# 실수 값에서 올림하여 정수 반환\n",
    "print(torch.ceil(new_x))\n",
    "# 실수 값에서 내림하여 정수 반환\n",
    "print(torch.floor(new_x))\n",
    "# 특정 범위의 값 안에서만 값이 나올 수 있도록\n",
    "# 최소값보다 낮으면 최소값으로, 최대값보다 높으면 최대값으로 변환\n",
    "print(torch.clamp(new_x, -0.5, 0.5))"
   ]
  },
  {
   "cell_type": "code",
   "execution_count": 2,
   "metadata": {},
   "outputs": [
    {
     "name": "stdout",
     "output_type": "stream",
     "text": [
      "tensor([[-1.4341,  0.6692, -0.3575],\n",
      "        [-0.6242, -1.3584,  0.3057]])\n",
      "tensor(-1.4341)\n",
      "tensor(0.6692)\n"
     ]
    }
   ],
   "source": [
    "print(new_x)\n",
    "# torch 최소값\n",
    "print(torch.min(new_x))\n",
    "# torch 최대값\n",
    "print(torch.max(new_x))"
   ]
  }
 ],
 "metadata": {
  "kernelspec": {
   "display_name": "dev_py37",
   "language": "python",
   "name": "python3"
  },
  "language_info": {
   "codemirror_mode": {
    "name": "ipython",
    "version": 3
   },
   "file_extension": ".py",
   "mimetype": "text/x-python",
   "name": "python",
   "nbconvert_exporter": "python",
   "pygments_lexer": "ipython3",
   "version": "3.7.13"
  },
  "orig_nbformat": 4,
  "vscode": {
   "interpreter": {
    "hash": "973ddc9752859e6954fa17c3e276113d7093dfebcd10c28b2eed171c6c65f0e8"
   }
  }
 },
 "nbformat": 4,
 "nbformat_minor": 2
}
