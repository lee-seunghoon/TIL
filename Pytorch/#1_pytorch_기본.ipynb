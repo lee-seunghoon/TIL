{
 "cells": [
  {
   "attachments": {},
   "cell_type": "markdown",
   "metadata": {},
   "source": [
    "### Tensor 초기화"
   ]
  },
  {
   "cell_type": "code",
   "execution_count": null,
   "metadata": {},
   "outputs": [],
   "source": [
    "# pytorch 버전 확인\n",
    "import torch\n",
    "torch.__version__"
   ]
  },
  {
   "cell_type": "code",
   "execution_count": null,
   "metadata": {},
   "outputs": [],
   "source": [
    "# 초기화 되지 않은 tensor 생성 (3,3) 2차원 matrix\n",
    "non_init_tensor = torch.empty(3,3)\n",
    "print(non_init_tensor)\n",
    "\"\"\"\n",
    "tensor([[1.0286e-38, 1.0653e-38, 1.0194e-38],\n",
    "        [8.4490e-39, 1.0469e-38, 9.3674e-39],\n",
    "        [9.9184e-39, 8.7245e-39, 9.2755e-39]])\n",
    "\"\"\""
   ]
  },
  {
   "cell_type": "code",
   "execution_count": null,
   "metadata": {},
   "outputs": [],
   "source": [
    "# random(무작위)으로 초기화된 tensor\n",
    "init_random_torch=torch.rand(4,2)\n",
    "\n",
    "\"\"\"\n",
    "tensor([[0.8102, 0.2902],\n",
    "        [0.7740, 0.6910],\n",
    "        [0.5866, 0.2347],\n",
    "        [0.6740, 0.8726]])\n",
    "\"\"\""
   ]
  },
  {
   "cell_type": "code",
   "execution_count": null,
   "metadata": {},
   "outputs": [],
   "source": [
    "# 데이터 타입이 long type이면서 0으로 채워진 텐서\n",
    "x = torch.zeros(4,2, dtype=torch.long)\n",
    "\"\"\"\n",
    "tensor([[0, 0],\n",
    "        [0, 0],\n",
    "        [0, 0],\n",
    "        [0, 0]])\n",
    "\"\"\""
   ]
  },
  {
   "cell_type": "code",
   "execution_count": null,
   "metadata": {},
   "outputs": [],
   "source": [
    "# 사용자 정의 입력값 tensor 초기화\n",
    "x = torch.tensor([3, 2.3])\n",
    "\"\"\"\n",
    "tensor([7.0000, 4.1000])\n",
    "\"\"\""
   ]
  },
  {
   "cell_type": "code",
   "execution_count": null,
   "metadata": {},
   "outputs": [],
   "source": [
    "# 4 x 2 크기의 double 타입으로 1이 채워진 tensor\n",
    "# 기존 만들어진 tensor를 변경\n",
    "x = x.new_ones(4, 2, dtype=torch.double)\n",
    "\"\"\"\n",
    "tensor([[1., 1.],\n",
    "        [1., 1.],\n",
    "        [1., 1.],\n",
    "        [1., 1.]], dtype=torch.float64)\n",
    "\"\"\""
   ]
  },
  {
   "cell_type": "code",
   "execution_count": null,
   "metadata": {},
   "outputs": [],
   "source": [
    "# 이전 tensor의 크기로, 무작위 tensor 생성, 데이터 타입은 float\n",
    "new_x = torch.randn_like(x, dtype=torch.float)\n",
    "\"\"\"\n",
    "tensor([[-2.3465, -2.2080],\n",
    "        [-0.2785,  0.6612],\n",
    "        [-1.4324,  0.8104],\n",
    "        [ 1.1557, -1.0430]])\n",
    "\"\"\""
   ]
  },
  {
   "cell_type": "code",
   "execution_count": null,
   "metadata": {},
   "outputs": [],
   "source": [
    "# 텐서 사이즈 확인\n",
    "x.size()\n",
    "\"\"\"\n",
    "torch.Size([4, 2])\n",
    "\"\"\""
   ]
  },
  {
   "attachments": {},
   "cell_type": "markdown",
   "metadata": {},
   "source": [
    "### 데이터 타입 확인"
   ]
  },
  {
   "cell_type": "code",
   "execution_count": null,
   "metadata": {},
   "outputs": [],
   "source": [
    "# floattensor로 데이터타입 지정\n",
    "ft = torch.FloatTensor([3,6,2])\n",
    "print(ft)\n",
    "print(ft.dtype)\n",
    "\"\"\"\n",
    "tensor([3., 6., 2.])\n",
    "torch.float32  # ==> 기본이 32bit\n",
    "\"\"\""
   ]
  },
  {
   "cell_type": "code",
   "execution_count": null,
   "metadata": {},
   "outputs": [],
   "source": [
    "# tensor 데이터 타입 casting\n",
    "print(ft.short())\n",
    "print(ft.int())\n",
    "print(ft.long())\n",
    "\"\"\"\n",
    "tensor([3, 6, 2], dtype=torch.int16)      # ==> int 16bit\n",
    "tensor([3, 6, 2], dtype=torch.int32)    # ==> int의 default도 32bit\n",
    "tensor([3, 6, 2])                        # ==> 64 bit\n",
    "\"\"\""
   ]
  },
  {
   "cell_type": "code",
   "execution_count": null,
   "metadata": {},
   "outputs": [],
   "source": [
    "# IntTensor 확인\n",
    "it = torch.IntTensor([4,6,9])\n",
    "print(it)\n",
    "print(it.dtype)\n",
    "\"\"\"\n",
    "tensor([4, 6, 9], dtype=torch.int32)\n",
    "torch.int32\n",
    "\"\"\""
   ]
  },
  {
   "cell_type": "code",
   "execution_count": null,
   "metadata": {},
   "outputs": [],
   "source": [
    "# IntTensor를 Type Casting\n",
    "print(it.float())\n",
    "print(it.double())\n",
    "print(it.half())\n",
    "\"\"\"\n",
    "tensor([4., 6., 9.])\n",
    "tensor([4., 6., 9.], dtype=torch.float64)\n",
    "tensor([4., 6., 9.], dtype=torch.float16)\n",
    "\"\"\""
   ]
  },
  {
   "cell_type": "code",
   "execution_count": null,
   "metadata": {},
   "outputs": [],
   "source": [
    "# 실제 데이터 값 확인\n",
    "x = torch.randn(1)\n",
    "print(x.item())\n",
    "print(x.dtype)\n",
    "\"\"\"\n",
    "-0.4453190863132477\n",
    "torch.float32\n",
    "\"\"\""
   ]
  },
  {
   "cell_type": "code",
   "execution_count": null,
   "metadata": {},
   "outputs": [],
   "source": [
    "# tensor 연산 device setting\n",
    "\n",
    "# device setting\n",
    "device = torch.device('cuda' if torch.cuda.is_available() else 'cpu')\n",
    "print(device)\n",
    "\n",
    "# 위에서 만든 x와 같은 size로 1 값이 tensor 생성하고, device 부여\n",
    "y = torch.ones_like(x, device=device)\n",
    "print(y)\n",
    "\n",
    "# x 또한 device 부여 (to 메서드 사용)\n",
    "x = x.to(device)\n",
    "print(x)\n",
    "\n",
    "# 연산\n",
    "z = x + y\n",
    "print(z)\n",
    "\n",
    "# 위 연산된 결과 값을 cpu로 이동, dtype은 double로\n",
    "z.to('cpu', dtype=torch.double)\n",
    "print(z)"
   ]
  }
 ],
 "metadata": {
  "kernelspec": {
   "display_name": "base",
   "language": "python",
   "name": "python3"
  },
  "language_info": {
   "name": "python",
   "version": "3.9.12 (main, Apr  4 2022, 05:22:27) [MSC v.1916 64 bit (AMD64)]"
  },
  "orig_nbformat": 4,
  "vscode": {
   "interpreter": {
    "hash": "06ccf4058b2585dd0823f5da140e8b5a4edf0d7842768d8182469844a7e16b01"
   }
  }
 },
 "nbformat": 4,
 "nbformat_minor": 2
}
