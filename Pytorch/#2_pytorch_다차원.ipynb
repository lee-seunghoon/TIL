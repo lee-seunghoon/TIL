{
 "cells": [
  {
   "cell_type": "code",
   "execution_count": null,
   "metadata": {},
   "outputs": [],
   "source": [
    "import torch"
   ]
  },
  {
   "attachments": {},
   "cell_type": "markdown",
   "metadata": {},
   "source": [
    "### 0차원 tensor\n",
    "-   scalar 로 표현\n",
    "-   하나의 숫자로 표현돼 있고, dimention과 shape가 없는 tensor"
   ]
  },
  {
   "cell_type": "code",
   "execution_count": 4,
   "metadata": {},
   "outputs": [
    {
     "name": "stdout",
     "output_type": "stream",
     "text": [
      "0\n",
      "torch.Size([])\n",
      "tensor(0)\n"
     ]
    }
   ],
   "source": [
    "t_zero = torch.tensor(0)\n",
    "print(t_zero.ndim)\n",
    "print(t_zero.shape)\n",
    "print(t_zero)"
   ]
  },
  {
   "attachments": {},
   "cell_type": "markdown",
   "metadata": {},
   "source": [
    "### 1차원 tensor\n",
    "-   하나의 dimention이 존재하며, 리스트와 유사한 형태\n",
    "-   vector로 표현"
   ]
  },
  {
   "cell_type": "code",
   "execution_count": 5,
   "metadata": {},
   "outputs": [
    {
     "name": "stdout",
     "output_type": "stream",
     "text": [
      "1\n",
      "torch.Size([4])\n",
      "tensor([3, 7, 8, 9])\n"
     ]
    }
   ],
   "source": [
    "t_one = torch.tensor([3,7,8,9])\n",
    "print(t_one.ndim)\n",
    "print(t_one.shape)\n",
    "print(t_one)"
   ]
  },
  {
   "attachments": {},
   "cell_type": "markdown",
   "metadata": {},
   "source": [
    "### 2차원 tensor\n",
    "-   2개의 dimention을 가지며, 일반 행렬과 비슷한 자료구조 형태\n",
    "-   수치, 통계 데이터셋에 주로 사용\n",
    "-   주로 row는 sample을 의미하고, column 값은 feature를 의미함"
   ]
  },
  {
   "cell_type": "code",
   "execution_count": 6,
   "metadata": {},
   "outputs": [
    {
     "name": "stdout",
     "output_type": "stream",
     "text": [
      "2\n",
      "torch.Size([3, 3])\n",
      "tensor([[ 2, 34,  6],\n",
      "        [ 6,  3, 46],\n",
      "        [16, 38, 73]])\n"
     ]
    }
   ],
   "source": [
    "t_matrix = torch.tensor([[2,34,6],\n",
    "                         [6,3,46],\n",
    "                         [16,38,73]])\n",
    "print(t_matrix.ndim)\n",
    "print(t_matrix.shape)\n",
    "print(t_matrix)"
   ]
  },
  {
   "attachments": {},
   "cell_type": "markdown",
   "metadata": {},
   "source": [
    "### 3차원 tensor\n",
    "-\t데이터가 연속된 시퀀스 데이터, 시계열 데이터의 차원으로 주로 사용됨\n",
    "-\t큐브 모양의 3개의 축으로 shape 구성\n",
    "-\t3차원 tensor의 예시 데이터 \n",
    "\t-\t자연어\n",
    "    -\t주식 데이터\n",
    "    -\t시간에 따른 질병 데이터\n",
    "-\t3차원의 특성은 주로, Sample, Timesteps, Feature 로 구성을 이룸"
   ]
  },
  {
   "cell_type": "code",
   "execution_count": 3,
   "metadata": {},
   "outputs": [
    {
     "name": "stdout",
     "output_type": "stream",
     "text": [
      "3\n",
      "torch.Size([3, 3, 3])\n",
      "tensor([[[ 2, 34,  6],\n",
      "         [ 6,  3, 46],\n",
      "         [16, 38, 73]],\n",
      "\n",
      "        [[ 2, 34,  6],\n",
      "         [ 6,  3, 46],\n",
      "         [16,  9,  6]],\n",
      "\n",
      "        [[ 2,  1,  6],\n",
      "         [ 6,  3,  4],\n",
      "         [16,  2,  7]]])\n"
     ]
    }
   ],
   "source": [
    "t_cube = torch.tensor([[[2,34,6],\n",
    "                       [6,3,46],\n",
    "                       [16,38,73]],\n",
    "                      [[2,34,6],\n",
    "                       [6,3,46],\n",
    "                       [16,9,6]],\n",
    "                      [[2,1,6],\n",
    "                       [6,3,4],\n",
    "                       [16,2,7]]])\n",
    "print(t_cube.ndim)\n",
    "print(t_cube.shape)\n",
    "print(t_cube)"
   ]
  }
 ],
 "metadata": {
  "kernelspec": {
   "display_name": "dev_py37",
   "language": "python",
   "name": "python3"
  },
  "language_info": {
   "codemirror_mode": {
    "name": "ipython",
    "version": 3
   },
   "file_extension": ".py",
   "mimetype": "text/x-python",
   "name": "python",
   "nbconvert_exporter": "python",
   "pygments_lexer": "ipython3",
   "version": "3.7.13"
  },
  "orig_nbformat": 4,
  "vscode": {
   "interpreter": {
    "hash": "973ddc9752859e6954fa17c3e276113d7093dfebcd10c28b2eed171c6c65f0e8"
   }
  }
 },
 "nbformat": 4,
 "nbformat_minor": 2
}
