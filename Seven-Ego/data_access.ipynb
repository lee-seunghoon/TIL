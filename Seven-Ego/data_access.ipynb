{
 "cells": [
  {
   "cell_type": "markdown",
   "metadata": {},
   "source": [
    "## 키움 OpenAPI+ 사용 전제 조건\n",
    "\n",
    "- 모의투자 신청, OpenAPI+ 모듈 다운, KoAStudio 다운\n",
    "- Window 환경\n",
    "- python 32bit 버전 (금융권 api 대부분이 32비트 요구)"
   ]
  },
  {
   "cell_type": "markdown",
   "metadata": {},
   "source": [
    "### 로그인"
   ]
  },
  {
   "cell_type": "code",
   "execution_count": 1,
   "metadata": {},
   "outputs": [
    {
     "name": "stdout",
     "output_type": "stream",
     "text": [
      "블로킹 로그인 완료\n"
     ]
    }
   ],
   "source": [
    "from pykiwoom.kiwoom import *\n",
    "\n",
    "kiwoom = Kiwoom()\n",
    "kiwoom.CommConnect(block=True)\n",
    "print('블로킹 로그인 완료')"
   ]
  },
  {
   "cell_type": "markdown",
   "metadata": {},
   "source": [
    "### 사용자 정보 얻기"
   ]
  },
  {
   "cell_type": "code",
   "execution_count": 4,
   "metadata": {},
   "outputs": [
    {
     "name": "stdout",
     "output_type": "stream",
     "text": [
      "전체 계좌 수 : 1\n",
      "전체 계좌 리스트 ['8058987811']\n",
      "사용자 ID : dad0439\n",
      "사용자명 : dad0439\n",
      "키보드 보안 해지여부 : 0\n",
      "방화벽 설정 여부 : 0\n"
     ]
    }
   ],
   "source": [
    "account_num = kiwoom.GetLoginInfo(\"ACCOUNT_CNT\")    # 전체 계좌수\n",
    "accounts = kiwoom.GetLoginInfo(\"ACCNO\")             # 전체 계좌 리스트\n",
    "user_id = kiwoom.GetLoginInfo(\"USER_ID\")            # 사용자 ID\n",
    "user_name = kiwoom.GetLoginInfo(\"USER_NAME\")        # 사용자명\n",
    "keyboard = kiwoom.GetLoginInfo(\"KEY_BSECGB\")        # 키보드 보안 해지여부\n",
    "firewall = kiwoom.GetLoginInfo(\"FIREW_SECGB\")       # 방화벽 설정 여부\n",
    "\n",
    "print(\"전체 계좌 수 :\", account_num)\n",
    "print(\"전체 계좌 리스트\", accounts)\n",
    "print(\"사용자 ID :\", user_id)\n",
    "print(\"사용자명 :\", user_id)\n",
    "print(\"키보드 보안 해지여부 :\", keyboard)\n",
    "print(\"방화벽 설정 여부 :\", firewall)"
   ]
  },
  {
   "cell_type": "markdown",
   "metadata": {},
   "source": [
    "### 각 시장 종목코드 얻기\n",
    "\n",
    "##### 각 시장 종목코드 파라미터\n",
    "- 코스피 : \"0\"\n",
    "- 코스탁 : \"10\"\n",
    "- ELW : \"3\"\n",
    "- 뮤추얼펀드 : \"4\"\n",
    "- 신주인수권 : \"5\"\n",
    "- 리츠 : \"6\"\n",
    "- ETF : \"8\"\n",
    "- 하이얼펀드 : \"9\"\n",
    "- K-OCT : \"30\"\n",
    "- 코넥스 : \"50\""
   ]
  },
  {
   "cell_type": "code",
   "execution_count": 6,
   "metadata": {},
   "outputs": [
    {
     "name": "stdout",
     "output_type": "stream",
     "text": [
      "코스피 종목 개수 : 2093\n",
      "코스닥 종목 개수 : 1674\n",
      "ETF 종목 개수 : 766\n"
     ]
    }
   ],
   "source": [
    "kospi = kiwoom.GetCodeListByMarket(\"0\")\n",
    "kosdaq = kiwoom.GetCodeListByMarket(\"10\")\n",
    "etf = kiwoom.GetCodeListByMarket(\"8\")\n",
    "\n",
    "print(\"코스피 종목 개수 :\", len(kospi))\n",
    "print(\"코스닥 종목 개수 :\", len(kosdaq))\n",
    "print(\"ETF 종목 개수 :\", len(etf))"
   ]
  },
  {
   "cell_type": "markdown",
   "metadata": {},
   "source": [
    "### 시장의 종목코드로 종목 이름 확인"
   ]
  },
  {
   "cell_type": "code",
   "execution_count": 11,
   "metadata": {},
   "outputs": [
    {
     "name": "stdout",
     "output_type": "stream",
     "text": [
      "삼성전자 종목 코드 : 005930\n"
     ]
    }
   ],
   "source": [
    "# 삼성전자 코드 == 005930\n",
    "\n",
    "samsung_idx = kospi.index(\"005930\")\n",
    "samsung_code = kospi[samsung_idx]\n",
    "name = kiwoom.GetMasterCodeName(samsung_code)\n",
    "\n",
    "print(f\"{name} 종목 코드 : {samsung_code}\")"
   ]
  },
  {
   "cell_type": "markdown",
   "metadata": {},
   "source": [
    "### 키움 OpenAPI+ 연결 상태 확인"
   ]
  },
  {
   "cell_type": "code",
   "execution_count": 9,
   "metadata": {},
   "outputs": [
    {
     "name": "stdout",
     "output_type": "stream",
     "text": [
      "연결\n"
     ]
    }
   ],
   "source": [
    "state = kiwoom.GetConnectState()\n",
    "if state == 0:\n",
    "    print(\"미연결\")\n",
    "elif state == 1:\n",
    "    print(\"연결\")\n",
    "else:\n",
    "    print(\"ERROR\")"
   ]
  },
  {
   "cell_type": "markdown",
   "metadata": {},
   "source": [
    "### 상장 주식수"
   ]
  },
  {
   "cell_type": "code",
   "execution_count": 12,
   "metadata": {},
   "outputs": [
    {
     "name": "stdout",
     "output_type": "stream",
     "text": [
      "삼성전자 주식 수 : 2147483647\n"
     ]
    }
   ],
   "source": [
    "# 주식수 21억개 이상을 표현 X 버그 존재\n",
    "# 삼성전자 상장주식수가 59억이 넘지만 21억까지만...\n",
    "samsung_stock_cnt = kiwoom.GetMasterListedStockCnt(samsung_code)\n",
    "print(\"삼성전자 주식 수 :\", samsung_stock_cnt)"
   ]
  },
  {
   "cell_type": "markdown",
   "metadata": {},
   "source": [
    "### 감리구분\n",
    "- 정상\n",
    "- 투자주의\n",
    "- 투자경고\n",
    "- 투자위험\n",
    "- 투자주의환기종목"
   ]
  },
  {
   "cell_type": "code",
   "execution_count": 13,
   "metadata": {},
   "outputs": [
    {
     "name": "stdout",
     "output_type": "stream",
     "text": [
      "삼성전자 감리구분 : 정상\n"
     ]
    }
   ],
   "source": [
    "standard = kiwoom.GetMasterConstruction(samsung_code)\n",
    "print(\"삼성전자 감리구분 :\", standard)"
   ]
  }
 ],
 "metadata": {
  "kernelspec": {
   "display_name": "data_env_tf2",
   "language": "python",
   "name": "python3"
  },
  "language_info": {
   "codemirror_mode": {
    "name": "ipython",
    "version": 3
   },
   "file_extension": ".py",
   "mimetype": "text/x-python",
   "name": "python",
   "nbconvert_exporter": "python",
   "pygments_lexer": "ipython3",
   "version": "3.7.9"
  },
  "orig_nbformat": 4
 },
 "nbformat": 4,
 "nbformat_minor": 2
}
